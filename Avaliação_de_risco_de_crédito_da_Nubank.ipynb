{
  "nbformat": 4,
  "nbformat_minor": 0,
  "metadata": {
    "colab": {
      "provenance": [],
      "toc_visible": true,
      "authorship_tag": "ABX9TyPEA+SfHG2hykhLKdicGTrd",
      "include_colab_link": true
    },
    "kernelspec": {
      "name": "python3",
      "display_name": "Python 3"
    },
    "language_info": {
      "name": "python"
    }
  },
  "cells": [
    {
      "cell_type": "markdown",
      "metadata": {
        "id": "view-in-github",
        "colab_type": "text"
      },
      "source": [
        "<a href=\"https://colab.research.google.com/github/prof-Thiago-Nunes/Projetos-data-science-/blob/main/Avalia%C3%A7%C3%A3o_de_risco_de_cr%C3%A9dito_da_Nubank.ipynb\" target=\"_parent\"><img src=\"https://colab.research.google.com/assets/colab-badge.svg\" alt=\"Open In Colab\"/></a>"
      ]
    },
    {
      "cell_type": "markdown",
      "source": [
        "\n",
        "*by Professor Thiago Nunes*\n",
        "\n",
        "---"
      ],
      "metadata": {
        "id": "dAFsa9wP_xMg"
      }
    },
    {
      "cell_type": "markdown",
      "source": [
        "# Avaliação de Risco de Crédito da Nubank"
      ],
      "metadata": {
        "id": "_k2iJsK3_4Kl"
      }
    },
    {
      "cell_type": "markdown",
      "source": [
        "## Introdução\n",
        "A análise de risco de crédito é um dos mais importantes processos financeiros para qualquer empresa. É uma forma essencial de avaliar os possíveis riscos envolvidos na concessão de crédito a clientes e fornecedores, permitindo que as organizações tomem decisões bem fundamentadas sobre quem receberá ou não financiamento.\n",
        "\n",
        "Uma das principais vantagens da análise do risco de crédito é que ela oferece às empresas informações detalhadas sobre seus potenciais clientes e fornecedores, permitindo que elas façam escolhas baseadas nas melhores práticas disponíveis. A análise permite também identificar fatores como a saúde financeira atual, histórico creditício e outras características específicas relacionadas à solvabilidade do tomador. Esta informação pode ser usada para determinar qual o limite ideal para cada transação ou contrato realizado com um cliente ou fornecedor particular. Além disso, pode ser usada com sucesso para prever eventuais perdas decorrentes deste tipo de operação financeira.\n",
        "\n",
        "Outra grande vantagem da análise do risco de crédito é que ela permite às organizações controlarem melhor seus custos operacionais associados a este tipo específico de transacionalidade financeira. Isso acontece porque as entidades conseguem estabelecer limites precisos quantitativamente e qualitativamente nos valores concedidos aos seus clientes e fornecedores. Desta forma, elas evitam perdas desnecessárias que poderiam ser causadas por erros na concessão de crédito ou pelos riscos associados a este tipo de transacionalidade financeira.\n",
        "\n",
        "<p align=center>\n",
        "  <img src=\"https://mir-s3-cdn-cf.behance.net/projects/404/f4b317145922057.Y3JvcCw4MDgsNjMyLDAsMA.png\" width=\"50%\">\n",
        "</p>\n",
        " \n",
        "Grandes bancos e Fintechs têm apostado cada vez mais em modelos de *Machine Learning* para previnir a inadimplência de alguns clientes.\n",
        "\n",
        "Dentre as principais instituições financeira, o [Nubank](https://nubank.com.br/sobre-nos) é uma das que mais tem se destacado no uso de Inteligência Artificial e times de *Data Science*.\n",
        "\n",
        "O conjunto de dados a ser utilizado neste Projeto de *Data Science* parte de uma competição realizada pela Startup [Nubank](https://nubank.com.br/sobre-nos) a fim de revelar talentos e potenciais contratações pela Fintech.\n",
        "\n",
        "## Contextualização do Problema\n",
        "\n",
        "\n",
        "Nubank é uma empresa brasileira de tecnologia financeira que foi fundada em 2013 por David Vélez e seus três sócios. O objetivo da Nubank é oferecer serviços financeiros modernos, inovadores e acessíveis para os consumidores brasileiros. A Nubank tem como principal produto um cartão de crédito sem anuidade que pode ser controlado inteiramente pelo smartphone do usuário. Além disso, a empresa também oferece conta corrente digital, linhas de crédito e financiamentos. \n",
        "\n",
        "Atualmente, a Nubank já possui mais de 8 milhões de clientes ativos no Brasil e está presente nos Estados Unidos, Colômbia e México.\n",
        "\n",
        "O objetivo deste projeto é prever qual a probabilidade de um cliente da Startup Nubank não coumprir com suas obrigações financeiras e deixar de pagar a sua fatura do Cartão de Crédito.\n",
        "\n",
        "<p align=center>\n",
        "  <img src=\"https://mir-s3-cdn-cf.behance.net/projects/404/8f4254128126513.Y3JvcCwxMDcxLDgzOCwwLDA.png\" width=\"50%\">\n",
        "</p>\n",
        "  \n",
        "Vale ressaltar que essa avaliação deve ser realizada no momento em que o cliente solicita o cartão (normalmente no primeiro contato com a instituição).\n",
        "\n",
        "\n",
        "\n",
        "> OBJETIVO: Criar um modelo que forneça a probabilidade de um cliente virar inadimplente.\n",
        "\n",
        "\n",
        "Espera-se que um modelo seja capaz de minimizar as perdas financeiras do Nubank, porém minimizando também os falsos positivos.\n",
        "\n",
        "### Hipóteses Iniciais\n",
        "\n",
        "* Score baixo pode ser sinal de possível inadiplência \n",
        "\n",
        "* Solicitar empréstimos pode mostrar um panorâma financeiro do cliente"
      ],
      "metadata": {
        "id": "cwh4vLHp_WOO"
      }
    },
    {
      "cell_type": "markdown",
      "source": [
        "### Importando as bibliotecas necessárias"
      ],
      "metadata": {
        "id": "sr8sFGbHADVj"
      }
    },
    {
      "cell_type": "code",
      "source": [
        "!pip install scikit-plot -q\n",
        "!pip install category_encoders -q"
      ],
      "metadata": {
        "id": "kQKEVxGGAjM7"
      },
      "execution_count": 74,
      "outputs": []
    },
    {
      "cell_type": "code",
      "source": [
        "# importar os pacotes necessários\n",
        "import matplotlib.pyplot as plt \n",
        "import seaborn as sns\n",
        "import numpy as np\n",
        "import pandas as pd\n",
        "import scikitplot as skplt\n",
        "from sklearn.model_selection import cross_val_score\n",
        "from sklearn.model_selection import train_test_split\n",
        "from sklearn.model_selection import StratifiedKFold\n",
        "from sklearn.model_selection import RepeatedStratifiedKFold\n",
        "from sklearn.metrics import roc_curve, roc_auc_score, precision_recall_curve, auc, make_scorer, recall_score, accuracy_score, f1_score, precision_score, confusion_matrix, classification_report\n",
        "from sklearn.pipeline import make_pipeline\n",
        "from sklearn.metrics import precision_recall_curve\n",
        "from sklearn.metrics import precision_score, recall_score\n",
        "from sklearn.model_selection import cross_val_predict\n",
        "from imblearn.combine import SMOTETomek\n",
        "from imblearn.under_sampling import RandomUnderSampler\n",
        "import category_encoders as ce\n",
        "from sklearn.preprocessing import StandardScaler, MinMaxScaler, LabelEncoder\n",
        "from sklearn.model_selection import GridSearchCV\n",
        "from sklearn.ensemble import VotingClassifier\n",
        "from sklearn.tree import DecisionTreeClassifier\n",
        "from sklearn.linear_model import LogisticRegression\n",
        "from sklearn.ensemble import RandomForestClassifier\n",
        "from sklearn.svm import SVC\n",
        "from xgboost import XGBClassifier\n",
        "from scikitplot.metrics import plot_confusion_matrix, plot_roc\n",
        "\n",
        "# Importando o método SimpleImputer para preencher valores ausentes\n",
        "from sklearn.impute import SimpleImputer\n",
        "\n",
        "# random seed\n",
        "np.random.seed(42)\n",
        "\n",
        "# definir o estilo do seaborn para os plots\n",
        "sns.set_style()\n",
        "\n",
        "# filtrar mensagens de warning\n",
        "import warnings\n",
        "warnings.filterwarnings('ignore')\n",
        "\n",
        "# Mostrar todas as colunas\n",
        "pd.set_option('display.max_columns', None)"
      ],
      "metadata": {
        "id": "mj-mZtLTALkE"
      },
      "execution_count": 125,
      "outputs": []
    },
    {
      "cell_type": "code",
      "source": [
        "#Configurando o estilo gráfico dos plots \n",
        "plt.rcParams[\"font.family\"] = \"Arial\"\n",
        "plt.rcParams[\"font.size\"] = \"11\"\n",
        "plt.rcParams[\"text.color\"] = \"#515151\"\n",
        "cinza_texto=\"#515151\"\n",
        "sns.set_style(\"white\")"
      ],
      "metadata": {
        "id": "tGWI9Z4wAyvG"
      },
      "execution_count": 76,
      "outputs": []
    },
    {
      "cell_type": "code",
      "source": [
        "# Cores padrão a ser usadas nos gráficos\n",
        "cores = {\n",
        "    'cinza' : '#9E9E9E',\n",
        "    'nubank' : '#5f249f',\n",
        "    'texto' : '#515151'\n",
        "}"
      ],
      "metadata": {
        "id": "7iR7ApEVFMHM"
      },
      "execution_count": 77,
      "outputs": []
    },
    {
      "cell_type": "markdown",
      "source": [
        "## 1. Importar os Dados\n",
        "\n",
        "Os dados que serão utilizados nesta análise estão disponíveis para download por meio [deste link](http://dl.dropboxusercontent.com/s/xn2a4kzf0zer0xu/acquisition_train.csv?dl=0). Consiste basicamente em um arquivo `csv` contendo 45.000 entradas e 43 colunas.\n",
        "\n",
        "Este arquivo será importando para uma estrutura *DataFrame* utilizando a biblioteca `pandas` a fim de possibilitar sua manipulação e análise."
      ],
      "metadata": {
        "id": "9hQO-LE4BhDV"
      }
    },
    {
      "cell_type": "code",
      "source": [
        "# importar os dados\n",
        "dados = \"http://dl.dropboxusercontent.com/s/xn2a4kzf0zer0xu/acquisition_train.csv?dl=0\"\n",
        "df = pd.read_csv(dados)"
      ],
      "metadata": {
        "id": "cK3pz9ztBmNk"
      },
      "execution_count": 78,
      "outputs": []
    },
    {
      "cell_type": "markdown",
      "source": [
        "## Análise exploratória\n",
        "\n",
        "A Análise Exploratória dos Dados (EDA) é uma das etapas mais importantes do processo de análise de dados. Ela permite que os cientistas de dados entendam melhor o conjunto de dados, identifiquem tendências e padrões nos dados, descubram relações entre variáveis ​​e até mesmo detectem erros nas amostras.\n",
        "\n",
        "O objetivo da EDA é explorar os dados para obter insights sobre a natureza dos dados e tornar possível desenvolver hipóteses interessantes sobre como os fatores podem estar correlacionados uns com os outros. A EDA pode ser usada para responder perguntas específicas sobre um determinado conjunto de dados ou simplesmente para identificar novos tópicos para pesquisa adicional.\n",
        "\n",
        "Nesta etapa faremos uma análise profunda acerca dos dados da Nubank com a seguinte sequência:\n",
        "* 2.1 Visualizar as 5 primeiras entradas\n",
        "* 2.2 Visualizar a quantidade de amostras\n",
        "* 2.3 Verificar o tipo dos dados do Dataset\n",
        "* 2.4 Verificar a porcentagem de valores ausentes\n",
        "* 2.5 Visualizar os valores ausentes por coluna\n",
        "* 2.6 Visualizar valores únicos por coluna\n",
        "* 2.7 Visualizar o Resumo geral dos dados;\n",
        "* 2.8 Visualizar o resumo estatístico do dataframe;\n",
        "* 2.9 Identificar a variável alvo e verificar o balanceamento."
      ],
      "metadata": {
        "id": "rsLER229CKPz"
      }
    },
    {
      "cell_type": "markdown",
      "source": [
        "### 2.1 Visualizar as 5 primeias entradas"
      ],
      "metadata": {
        "id": "cVes0-VhCvTr"
      }
    },
    {
      "cell_type": "code",
      "source": [
        "# visualizar as 5 primeiras entradas\n",
        "df.head(2)"
      ],
      "metadata": {
        "colab": {
          "base_uri": "https://localhost:8080/",
          "height": 350
        },
        "id": "AAjoPPhCCF46",
        "outputId": "1de47dc1-a72e-437e-8303-e1eca8eab8a1"
      },
      "execution_count": 79,
      "outputs": [
        {
          "output_type": "execute_result",
          "data": {
            "text/plain": [
              "                                    ids target_default  \\\n",
              "0  343b7e7b-2cf8-e508-b8fd-0a0285af30aa          False   \n",
              "1  bc2c7502-bbad-0f8c-39c3-94e881967124          False   \n",
              "\n",
              "                    score_1                   score_2  score_3     score_4  \\\n",
              "0  1Rk8w4Ucd5yR3KcqZzLdow==  IOVu8au3ISbo6+zmfnYwMg==    350.0  101.800832   \n",
              "1  DGCQep2AE5QRkNCshIAlFQ==  SaamrHMo23l/3TwXOWgVzw==    370.0   97.062615   \n",
              "\n",
              "    score_5     score_6  risk_rate  last_amount_borrowed  \\\n",
              "0  0.259555  108.427273       0.40              25033.92   \n",
              "1  0.942655   92.002546       0.24                   NaN   \n",
              "\n",
              "   last_borrowed_in_months  credit_limit  \\\n",
              "0                     36.0           0.0   \n",
              "1                      NaN       39726.0   \n",
              "\n",
              "                                              reason     income  \\\n",
              "0  mLVIVxoGY7TUDJ1FyFoSIZi1SFcaBmO01AydRchaEiGYtU...   65014.12   \n",
              "1  mLVIVxoGY7TUDJ1FyFoSIZi1SFcaBmO01AydRchaEiGYtU...  100018.91   \n",
              "\n",
              "  facebook_profile                     state                       zip  \\\n",
              "0             True  sjJbkqJS7cXalHLBFA+EOQ==  Ernn+uVXCMq/6ARrBCcd+A==   \n",
              "1            False  xsd3ZdsI3356I3xMxZeiqQ==  rlWIXTBO+VOa34+SpGyhlQ==   \n",
              "\n",
              "                    channel  \\\n",
              "0  NCqL3QBx0pscDnx3ixKwXg==   \n",
              "1  NCqL3QBx0pscDnx3ixKwXg==   \n",
              "\n",
              "                                            job_name  \\\n",
              "0  mLVIVxoGY7TUDJ1FyFoSIZi1SFcaBmO01AydRchaEiGYtU...   \n",
              "1  mLVIVxoGY7TUDJ1FyFoSIZi1SFcaBmO01AydRchaEiGYtU...   \n",
              "\n",
              "                 real_state  ok_since  n_bankruptcies  n_defaulted_loans  \\\n",
              "0  N5/CE7lSkAfB04hVFFwllw==       NaN             0.0                0.0   \n",
              "1  N5/CE7lSkAfB04hVFFwllw==      50.0             0.0                0.0   \n",
              "\n",
              "   n_accounts  n_issues application_time_applied  application_time_in_funnel  \\\n",
              "0        18.0      18.0                 07:52:34                         444   \n",
              "1        14.0      14.0                 02:34:29                         346   \n",
              "\n",
              "         email  external_data_provider_credit_checks_last_2_year  \\\n",
              "0  outlook.com                                               NaN   \n",
              "1    gmail.com                                               0.0   \n",
              "\n",
              "   external_data_provider_credit_checks_last_month  \\\n",
              "0                                                2   \n",
              "1                                                1   \n",
              "\n",
              "   external_data_provider_credit_checks_last_year  \\\n",
              "0                                             0.0   \n",
              "1                                             0.0   \n",
              "\n",
              "   external_data_provider_email_seen_before external_data_provider_first_name  \\\n",
              "0                                      51.0                        leidelaura   \n",
              "1                                      17.0                          diocezio   \n",
              "\n",
              "   external_data_provider_fraud_score  \\\n",
              "0                                 645   \n",
              "1                                 243   \n",
              "\n",
              "                                     lat_lon marketing_channel  \\\n",
              "0   (-29.151545708122246, -51.1386461804385)      Invite-email   \n",
              "1  (-19.687710705798963, -47.94151536525154)  Radio-commercial   \n",
              "\n",
              "  profile_phone_number  reported_income shipping_state  shipping_zip_code  \\\n",
              "0          514-9840782          57849.0          BR-MT              17528   \n",
              "1          251-3659293           4902.0          BR-RS              40933   \n",
              "\n",
              "                    profile_tags  \\\n",
              "0        {'tags': ['n19', 'n8']}   \n",
              "1  {'tags': ['n6', 'n7', 'nim']}   \n",
              "\n",
              "                                          user_agent target_fraud  \n",
              "0  Mozilla/5.0 (Linux; Android 6.0.1; SGP771 Buil...          NaN  \n",
              "1  Mozilla/5.0 (Linux; Android 5.0.2; SAMSUNG SM-...          NaN  "
            ],
            "text/html": [
              "\n",
              "  <div id=\"df-c698c253-5bfa-4546-8a93-debd987e7421\">\n",
              "    <div class=\"colab-df-container\">\n",
              "      <div>\n",
              "<style scoped>\n",
              "    .dataframe tbody tr th:only-of-type {\n",
              "        vertical-align: middle;\n",
              "    }\n",
              "\n",
              "    .dataframe tbody tr th {\n",
              "        vertical-align: top;\n",
              "    }\n",
              "\n",
              "    .dataframe thead th {\n",
              "        text-align: right;\n",
              "    }\n",
              "</style>\n",
              "<table border=\"1\" class=\"dataframe\">\n",
              "  <thead>\n",
              "    <tr style=\"text-align: right;\">\n",
              "      <th></th>\n",
              "      <th>ids</th>\n",
              "      <th>target_default</th>\n",
              "      <th>score_1</th>\n",
              "      <th>score_2</th>\n",
              "      <th>score_3</th>\n",
              "      <th>score_4</th>\n",
              "      <th>score_5</th>\n",
              "      <th>score_6</th>\n",
              "      <th>risk_rate</th>\n",
              "      <th>last_amount_borrowed</th>\n",
              "      <th>last_borrowed_in_months</th>\n",
              "      <th>credit_limit</th>\n",
              "      <th>reason</th>\n",
              "      <th>income</th>\n",
              "      <th>facebook_profile</th>\n",
              "      <th>state</th>\n",
              "      <th>zip</th>\n",
              "      <th>channel</th>\n",
              "      <th>job_name</th>\n",
              "      <th>real_state</th>\n",
              "      <th>ok_since</th>\n",
              "      <th>n_bankruptcies</th>\n",
              "      <th>n_defaulted_loans</th>\n",
              "      <th>n_accounts</th>\n",
              "      <th>n_issues</th>\n",
              "      <th>application_time_applied</th>\n",
              "      <th>application_time_in_funnel</th>\n",
              "      <th>email</th>\n",
              "      <th>external_data_provider_credit_checks_last_2_year</th>\n",
              "      <th>external_data_provider_credit_checks_last_month</th>\n",
              "      <th>external_data_provider_credit_checks_last_year</th>\n",
              "      <th>external_data_provider_email_seen_before</th>\n",
              "      <th>external_data_provider_first_name</th>\n",
              "      <th>external_data_provider_fraud_score</th>\n",
              "      <th>lat_lon</th>\n",
              "      <th>marketing_channel</th>\n",
              "      <th>profile_phone_number</th>\n",
              "      <th>reported_income</th>\n",
              "      <th>shipping_state</th>\n",
              "      <th>shipping_zip_code</th>\n",
              "      <th>profile_tags</th>\n",
              "      <th>user_agent</th>\n",
              "      <th>target_fraud</th>\n",
              "    </tr>\n",
              "  </thead>\n",
              "  <tbody>\n",
              "    <tr>\n",
              "      <th>0</th>\n",
              "      <td>343b7e7b-2cf8-e508-b8fd-0a0285af30aa</td>\n",
              "      <td>False</td>\n",
              "      <td>1Rk8w4Ucd5yR3KcqZzLdow==</td>\n",
              "      <td>IOVu8au3ISbo6+zmfnYwMg==</td>\n",
              "      <td>350.0</td>\n",
              "      <td>101.800832</td>\n",
              "      <td>0.259555</td>\n",
              "      <td>108.427273</td>\n",
              "      <td>0.40</td>\n",
              "      <td>25033.92</td>\n",
              "      <td>36.0</td>\n",
              "      <td>0.0</td>\n",
              "      <td>mLVIVxoGY7TUDJ1FyFoSIZi1SFcaBmO01AydRchaEiGYtU...</td>\n",
              "      <td>65014.12</td>\n",
              "      <td>True</td>\n",
              "      <td>sjJbkqJS7cXalHLBFA+EOQ==</td>\n",
              "      <td>Ernn+uVXCMq/6ARrBCcd+A==</td>\n",
              "      <td>NCqL3QBx0pscDnx3ixKwXg==</td>\n",
              "      <td>mLVIVxoGY7TUDJ1FyFoSIZi1SFcaBmO01AydRchaEiGYtU...</td>\n",
              "      <td>N5/CE7lSkAfB04hVFFwllw==</td>\n",
              "      <td>NaN</td>\n",
              "      <td>0.0</td>\n",
              "      <td>0.0</td>\n",
              "      <td>18.0</td>\n",
              "      <td>18.0</td>\n",
              "      <td>07:52:34</td>\n",
              "      <td>444</td>\n",
              "      <td>outlook.com</td>\n",
              "      <td>NaN</td>\n",
              "      <td>2</td>\n",
              "      <td>0.0</td>\n",
              "      <td>51.0</td>\n",
              "      <td>leidelaura</td>\n",
              "      <td>645</td>\n",
              "      <td>(-29.151545708122246, -51.1386461804385)</td>\n",
              "      <td>Invite-email</td>\n",
              "      <td>514-9840782</td>\n",
              "      <td>57849.0</td>\n",
              "      <td>BR-MT</td>\n",
              "      <td>17528</td>\n",
              "      <td>{'tags': ['n19', 'n8']}</td>\n",
              "      <td>Mozilla/5.0 (Linux; Android 6.0.1; SGP771 Buil...</td>\n",
              "      <td>NaN</td>\n",
              "    </tr>\n",
              "    <tr>\n",
              "      <th>1</th>\n",
              "      <td>bc2c7502-bbad-0f8c-39c3-94e881967124</td>\n",
              "      <td>False</td>\n",
              "      <td>DGCQep2AE5QRkNCshIAlFQ==</td>\n",
              "      <td>SaamrHMo23l/3TwXOWgVzw==</td>\n",
              "      <td>370.0</td>\n",
              "      <td>97.062615</td>\n",
              "      <td>0.942655</td>\n",
              "      <td>92.002546</td>\n",
              "      <td>0.24</td>\n",
              "      <td>NaN</td>\n",
              "      <td>NaN</td>\n",
              "      <td>39726.0</td>\n",
              "      <td>mLVIVxoGY7TUDJ1FyFoSIZi1SFcaBmO01AydRchaEiGYtU...</td>\n",
              "      <td>100018.91</td>\n",
              "      <td>False</td>\n",
              "      <td>xsd3ZdsI3356I3xMxZeiqQ==</td>\n",
              "      <td>rlWIXTBO+VOa34+SpGyhlQ==</td>\n",
              "      <td>NCqL3QBx0pscDnx3ixKwXg==</td>\n",
              "      <td>mLVIVxoGY7TUDJ1FyFoSIZi1SFcaBmO01AydRchaEiGYtU...</td>\n",
              "      <td>N5/CE7lSkAfB04hVFFwllw==</td>\n",
              "      <td>50.0</td>\n",
              "      <td>0.0</td>\n",
              "      <td>0.0</td>\n",
              "      <td>14.0</td>\n",
              "      <td>14.0</td>\n",
              "      <td>02:34:29</td>\n",
              "      <td>346</td>\n",
              "      <td>gmail.com</td>\n",
              "      <td>0.0</td>\n",
              "      <td>1</td>\n",
              "      <td>0.0</td>\n",
              "      <td>17.0</td>\n",
              "      <td>diocezio</td>\n",
              "      <td>243</td>\n",
              "      <td>(-19.687710705798963, -47.94151536525154)</td>\n",
              "      <td>Radio-commercial</td>\n",
              "      <td>251-3659293</td>\n",
              "      <td>4902.0</td>\n",
              "      <td>BR-RS</td>\n",
              "      <td>40933</td>\n",
              "      <td>{'tags': ['n6', 'n7', 'nim']}</td>\n",
              "      <td>Mozilla/5.0 (Linux; Android 5.0.2; SAMSUNG SM-...</td>\n",
              "      <td>NaN</td>\n",
              "    </tr>\n",
              "  </tbody>\n",
              "</table>\n",
              "</div>\n",
              "      <button class=\"colab-df-convert\" onclick=\"convertToInteractive('df-c698c253-5bfa-4546-8a93-debd987e7421')\"\n",
              "              title=\"Convert this dataframe to an interactive table.\"\n",
              "              style=\"display:none;\">\n",
              "        \n",
              "  <svg xmlns=\"http://www.w3.org/2000/svg\" height=\"24px\"viewBox=\"0 0 24 24\"\n",
              "       width=\"24px\">\n",
              "    <path d=\"M0 0h24v24H0V0z\" fill=\"none\"/>\n",
              "    <path d=\"M18.56 5.44l.94 2.06.94-2.06 2.06-.94-2.06-.94-.94-2.06-.94 2.06-2.06.94zm-11 1L8.5 8.5l.94-2.06 2.06-.94-2.06-.94L8.5 2.5l-.94 2.06-2.06.94zm10 10l.94 2.06.94-2.06 2.06-.94-2.06-.94-.94-2.06-.94 2.06-2.06.94z\"/><path d=\"M17.41 7.96l-1.37-1.37c-.4-.4-.92-.59-1.43-.59-.52 0-1.04.2-1.43.59L10.3 9.45l-7.72 7.72c-.78.78-.78 2.05 0 2.83L4 21.41c.39.39.9.59 1.41.59.51 0 1.02-.2 1.41-.59l7.78-7.78 2.81-2.81c.8-.78.8-2.07 0-2.86zM5.41 20L4 18.59l7.72-7.72 1.47 1.35L5.41 20z\"/>\n",
              "  </svg>\n",
              "      </button>\n",
              "      \n",
              "  <style>\n",
              "    .colab-df-container {\n",
              "      display:flex;\n",
              "      flex-wrap:wrap;\n",
              "      gap: 12px;\n",
              "    }\n",
              "\n",
              "    .colab-df-convert {\n",
              "      background-color: #E8F0FE;\n",
              "      border: none;\n",
              "      border-radius: 50%;\n",
              "      cursor: pointer;\n",
              "      display: none;\n",
              "      fill: #1967D2;\n",
              "      height: 32px;\n",
              "      padding: 0 0 0 0;\n",
              "      width: 32px;\n",
              "    }\n",
              "\n",
              "    .colab-df-convert:hover {\n",
              "      background-color: #E2EBFA;\n",
              "      box-shadow: 0px 1px 2px rgba(60, 64, 67, 0.3), 0px 1px 3px 1px rgba(60, 64, 67, 0.15);\n",
              "      fill: #174EA6;\n",
              "    }\n",
              "\n",
              "    [theme=dark] .colab-df-convert {\n",
              "      background-color: #3B4455;\n",
              "      fill: #D2E3FC;\n",
              "    }\n",
              "\n",
              "    [theme=dark] .colab-df-convert:hover {\n",
              "      background-color: #434B5C;\n",
              "      box-shadow: 0px 1px 3px 1px rgba(0, 0, 0, 0.15);\n",
              "      filter: drop-shadow(0px 1px 2px rgba(0, 0, 0, 0.3));\n",
              "      fill: #FFFFFF;\n",
              "    }\n",
              "  </style>\n",
              "\n",
              "      <script>\n",
              "        const buttonEl =\n",
              "          document.querySelector('#df-c698c253-5bfa-4546-8a93-debd987e7421 button.colab-df-convert');\n",
              "        buttonEl.style.display =\n",
              "          google.colab.kernel.accessAllowed ? 'block' : 'none';\n",
              "\n",
              "        async function convertToInteractive(key) {\n",
              "          const element = document.querySelector('#df-c698c253-5bfa-4546-8a93-debd987e7421');\n",
              "          const dataTable =\n",
              "            await google.colab.kernel.invokeFunction('convertToInteractive',\n",
              "                                                     [key], {});\n",
              "          if (!dataTable) return;\n",
              "\n",
              "          const docLinkHtml = 'Like what you see? Visit the ' +\n",
              "            '<a target=\"_blank\" href=https://colab.research.google.com/notebooks/data_table.ipynb>data table notebook</a>'\n",
              "            + ' to learn more about interactive tables.';\n",
              "          element.innerHTML = '';\n",
              "          dataTable['output_type'] = 'display_data';\n",
              "          await google.colab.output.renderOutput(dataTable, element);\n",
              "          const docLink = document.createElement('div');\n",
              "          docLink.innerHTML = docLinkHtml;\n",
              "          element.appendChild(docLink);\n",
              "        }\n",
              "      </script>\n",
              "    </div>\n",
              "  </div>\n",
              "  "
            ]
          },
          "metadata": {},
          "execution_count": 79
        }
      ]
    },
    {
      "cell_type": "markdown",
      "source": [
        "### 2.2 Visualizar o tamanho de amostras e classes"
      ],
      "metadata": {
        "id": "okWhxbrMC4kb"
      }
    },
    {
      "cell_type": "code",
      "source": [
        "print(f'O dataset possui: \\t{df.shape[0]} amostras')\n",
        "print(f'O dataset possui: \\t{df.shape[1]} classes')"
      ],
      "metadata": {
        "colab": {
          "base_uri": "https://localhost:8080/"
        },
        "id": "SCglWfNRC5q_",
        "outputId": "dfeab8b4-08a9-4e60-8054-054fa0017be8"
      },
      "execution_count": 80,
      "outputs": [
        {
          "output_type": "stream",
          "name": "stdout",
          "text": [
            "O dataset possui: \t45000 amostras\n",
            "O dataset possui: \t43 classes\n"
          ]
        }
      ]
    },
    {
      "cell_type": "markdown",
      "source": [
        "### 2.3 Verificar o tipo dos dados do Dataset"
      ],
      "metadata": {
        "id": "iDeaTtf4C97C"
      }
    },
    {
      "cell_type": "code",
      "source": [
        "# Verificando o tipo dos dados do Dataset \n",
        "\n",
        "for i in dict(df.dtypes).items():\n",
        "  variavel = i[0]\n",
        "  caracteres = '_'*(30 - len(variavel))\n",
        "  tipo = i[1]\n",
        "  print(f'A variável [{variavel}]{caracteres} é do tipo {tipo}')"
      ],
      "metadata": {
        "colab": {
          "base_uri": "https://localhost:8080/"
        },
        "id": "SevvIz1DDBFy",
        "outputId": "9cbe7081-e863-4e21-8d99-337cc2ae8f98"
      },
      "execution_count": 81,
      "outputs": [
        {
          "output_type": "stream",
          "name": "stdout",
          "text": [
            "A variável [ids]___________________________ é do tipo object\n",
            "A variável [target_default]________________ é do tipo object\n",
            "A variável [score_1]_______________________ é do tipo object\n",
            "A variável [score_2]_______________________ é do tipo object\n",
            "A variável [score_3]_______________________ é do tipo float64\n",
            "A variável [score_4]_______________________ é do tipo float64\n",
            "A variável [score_5]_______________________ é do tipo float64\n",
            "A variável [score_6]_______________________ é do tipo float64\n",
            "A variável [risk_rate]_____________________ é do tipo float64\n",
            "A variável [last_amount_borrowed]__________ é do tipo float64\n",
            "A variável [last_borrowed_in_months]_______ é do tipo float64\n",
            "A variável [credit_limit]__________________ é do tipo float64\n",
            "A variável [reason]________________________ é do tipo object\n",
            "A variável [income]________________________ é do tipo float64\n",
            "A variável [facebook_profile]______________ é do tipo object\n",
            "A variável [state]_________________________ é do tipo object\n",
            "A variável [zip]___________________________ é do tipo object\n",
            "A variável [channel]_______________________ é do tipo object\n",
            "A variável [job_name]______________________ é do tipo object\n",
            "A variável [real_state]____________________ é do tipo object\n",
            "A variável [ok_since]______________________ é do tipo float64\n",
            "A variável [n_bankruptcies]________________ é do tipo float64\n",
            "A variável [n_defaulted_loans]_____________ é do tipo float64\n",
            "A variável [n_accounts]____________________ é do tipo float64\n",
            "A variável [n_issues]______________________ é do tipo float64\n",
            "A variável [application_time_applied]______ é do tipo object\n",
            "A variável [application_time_in_funnel]____ é do tipo int64\n",
            "A variável [email]_________________________ é do tipo object\n",
            "A variável [external_data_provider_credit_checks_last_2_year] é do tipo float64\n",
            "A variável [external_data_provider_credit_checks_last_month] é do tipo int64\n",
            "A variável [external_data_provider_credit_checks_last_year] é do tipo float64\n",
            "A variável [external_data_provider_email_seen_before] é do tipo float64\n",
            "A variável [external_data_provider_first_name] é do tipo object\n",
            "A variável [external_data_provider_fraud_score] é do tipo int64\n",
            "A variável [lat_lon]_______________________ é do tipo object\n",
            "A variável [marketing_channel]_____________ é do tipo object\n",
            "A variável [profile_phone_number]__________ é do tipo object\n",
            "A variável [reported_income]_______________ é do tipo float64\n",
            "A variável [shipping_state]________________ é do tipo object\n",
            "A variável [shipping_zip_code]_____________ é do tipo int64\n",
            "A variável [profile_tags]__________________ é do tipo object\n",
            "A variável [user_agent]____________________ é do tipo object\n",
            "A variável [target_fraud]__________________ é do tipo object\n"
          ]
        }
      ]
    },
    {
      "cell_type": "markdown",
      "source": [
        "###  2.4 Verificar a porcentagem de valores ausentes"
      ],
      "metadata": {
        "id": "2wgavHvHDHjy"
      }
    },
    {
      "cell_type": "code",
      "source": [
        "print(f\"Dados ausentes (total):\\t{df.isnull().sum().values.sum()}\\n\")"
      ],
      "metadata": {
        "colab": {
          "base_uri": "https://localhost:8080/"
        },
        "id": "JXtgphpTDL-l",
        "outputId": "cfae46d3-3c28-4c01-d2a9-d8b5af8f394d"
      },
      "execution_count": 82,
      "outputs": [
        {
          "output_type": "stream",
          "name": "stdout",
          "text": [
            "Dados ausentes (total):\t219437\n",
            "\n"
          ]
        }
      ]
    },
    {
      "cell_type": "markdown",
      "source": [
        "Podemos verificar que existe uma grande quatidade de valores ausentes, será necessário um tratamento nestes valores."
      ],
      "metadata": {
        "id": "PYjW0EzUDO10"
      }
    },
    {
      "cell_type": "markdown",
      "source": [
        "### 2.5 Visualizar os valores ausentes por coluna"
      ],
      "metadata": {
        "id": "Ps8SAZ_qDaot"
      }
    },
    {
      "cell_type": "code",
      "source": [
        "for i in dict(round((df.isnull().sum() / df.shape[0])*100,3)).items():\n",
        "  variavel = i[0]\n",
        "  caracteres = '_'*(30 - len(variavel))\n",
        "  tipo = i[1]\n",
        "  print(f'A variável [{variavel}]{caracteres} possui {tipo} % de valores ausentes.')"
      ],
      "metadata": {
        "colab": {
          "base_uri": "https://localhost:8080/"
        },
        "id": "6RRh8C__DYfO",
        "outputId": "73bd62ea-5046-4494-db55-b9f762b2da1b"
      },
      "execution_count": 83,
      "outputs": [
        {
          "output_type": "stream",
          "name": "stdout",
          "text": [
            "A variável [ids]___________________________ possui 0.0 % de valores ausentes.\n",
            "A variável [target_default]________________ possui 7.242 % de valores ausentes.\n",
            "A variável [score_1]_______________________ possui 1.249 % de valores ausentes.\n",
            "A variável [score_2]_______________________ possui 1.249 % de valores ausentes.\n",
            "A variável [score_3]_______________________ possui 1.249 % de valores ausentes.\n",
            "A variável [score_4]_______________________ possui 0.0 % de valores ausentes.\n",
            "A variável [score_5]_______________________ possui 0.0 % de valores ausentes.\n",
            "A variável [score_6]_______________________ possui 0.0 % de valores ausentes.\n",
            "A variável [risk_rate]_____________________ possui 1.249 % de valores ausentes.\n",
            "A variável [last_amount_borrowed]__________ possui 66.569 % de valores ausentes.\n",
            "A variável [last_borrowed_in_months]_______ possui 66.569 % de valores ausentes.\n",
            "A variável [credit_limit]__________________ possui 30.667 % de valores ausentes.\n",
            "A variável [reason]________________________ possui 1.258 % de valores ausentes.\n",
            "A variável [income]________________________ possui 1.249 % de valores ausentes.\n",
            "A variável [facebook_profile]______________ possui 9.907 % de valores ausentes.\n",
            "A variável [state]_________________________ possui 1.249 % de valores ausentes.\n",
            "A variável [zip]___________________________ possui 1.249 % de valores ausentes.\n",
            "A variável [channel]_______________________ possui 1.249 % de valores ausentes.\n",
            "A variável [job_name]______________________ possui 7.413 % de valores ausentes.\n",
            "A variável [real_state]____________________ possui 1.249 % de valores ausentes.\n",
            "A variável [ok_since]______________________ possui 58.989 % de valores ausentes.\n",
            "A variável [n_bankruptcies]________________ possui 1.549 % de valores ausentes.\n",
            "A variável [n_defaulted_loans]_____________ possui 1.276 % de valores ausentes.\n",
            "A variável [n_accounts]____________________ possui 1.249 % de valores ausentes.\n",
            "A variável [n_issues]______________________ possui 25.653 % de valores ausentes.\n",
            "A variável [application_time_applied]______ possui 0.0 % de valores ausentes.\n",
            "A variável [application_time_in_funnel]____ possui 0.0 % de valores ausentes.\n",
            "A variável [email]_________________________ possui 0.0 % de valores ausentes.\n",
            "A variável [external_data_provider_credit_checks_last_2_year] possui 50.284 % de valores ausentes.\n",
            "A variável [external_data_provider_credit_checks_last_month] possui 0.0 % de valores ausentes.\n",
            "A variável [external_data_provider_credit_checks_last_year] possui 33.609 % de valores ausentes.\n",
            "A variável [external_data_provider_email_seen_before] possui 4.962 % de valores ausentes.\n",
            "A variável [external_data_provider_first_name] possui 0.0 % de valores ausentes.\n",
            "A variável [external_data_provider_fraud_score] possui 0.0 % de valores ausentes.\n",
            "A variável [lat_lon]_______________________ possui 3.029 % de valores ausentes.\n",
            "A variável [marketing_channel]_____________ possui 7.951 % de valores ausentes.\n",
            "A variável [profile_phone_number]__________ possui 0.0 % de valores ausentes.\n",
            "A variável [reported_income]_______________ possui 0.0 % de valores ausentes.\n",
            "A variável [shipping_state]________________ possui 0.0 % de valores ausentes.\n",
            "A variável [shipping_zip_code]_____________ possui 0.0 % de valores ausentes.\n",
            "A variável [profile_tags]__________________ possui 0.0 % de valores ausentes.\n",
            "A variável [user_agent]____________________ possui 1.604 % de valores ausentes.\n",
            "A variável [target_fraud]__________________ possui 96.618 % de valores ausentes.\n"
          ]
        }
      ]
    },
    {
      "cell_type": "markdown",
      "source": [
        "Existem vari[aveis com uma quatidade significativa de valores ausentes, como estamos falando da Nubank, uma empresa sólida e séria, comparando também as características de algumas variáveis como `target_fraud` (a grande maioria não sofre com fraudes no cartão, não é uma variável importante nesta análise) e `credit_limit` (nem todos tem o perfil para possuir crédito no banco). Podemos partir da premissa que podem ser substituidos por zero, pode haver outras variáveis com as mesmas características.\n",
        "\n",
        "Em relação à porcentagem de valores ausentes identificados neste dataset:\n",
        "\n",
        "* Diversas variáveis como ['target_fraud', 'last_amount_borrowed' 'last_borrowed_in_months', 'ok_since' 'external_data_provider_credit_checks_last_2_year'] possuem mais da metade dos valores ausentes.\n",
        "\n",
        "* As variáves ['external_data_provider_credit_checks_last_year','credit_limit', 'n_issues'] possuem entre 25-35% do seus valores ausentes.\n",
        "\n",
        "* A variável alvo `target_default` contém valores nulos que serão eliminados do dataset.\n",
        "\n",
        "Neste projeto, o caso mais extremo (target_fraud) não representa um problema, pois é uma variável alvo que não interessa para a análise de risco de inadimplência. Já as demais features deverão ser usadas com o devido cuidado.\n",
        "\n",
        "Uma outra análise interessante de se fazer diz respeito à contagem de valores únicos por features. Muitas vezes, variáveis numéricas podem esconder classes/categorias que melhor representariam uma feature, ou revelar uma quantidade elevada de classes para \"variáveis categóricas\"."
      ],
      "metadata": {
        "id": "zM09t5RtDqrI"
      }
    },
    {
      "cell_type": "markdown",
      "source": [
        "### 2.6 Verificar os valores únicos por coluna"
      ],
      "metadata": {
        "id": "aTkJcInSD2Ma"
      }
    },
    {
      "cell_type": "code",
      "source": [
        "# Verificar os valores únicos\n",
        "for i in dict(df.nunique()).items():\n",
        "  variavel = i[0]\n",
        "  caracteres = '_'*(30 - len(variavel))\n",
        "\n",
        "  tipo = i[1]\n",
        "  print(f'A variável [{variavel}]{caracteres} possui {tipo} valores únicos.')"
      ],
      "metadata": {
        "colab": {
          "base_uri": "https://localhost:8080/"
        },
        "id": "QItjscn-DUtS",
        "outputId": "4c39efc2-e87c-4ebd-a1dc-3d512c9fad47"
      },
      "execution_count": 84,
      "outputs": [
        {
          "output_type": "stream",
          "name": "stdout",
          "text": [
            "A variável [ids]___________________________ possui 45000 valores únicos.\n",
            "A variável [target_default]________________ possui 2 valores únicos.\n",
            "A variável [score_1]_______________________ possui 7 valores únicos.\n",
            "A variável [score_2]_______________________ possui 35 valores únicos.\n",
            "A variável [score_3]_______________________ possui 88 valores únicos.\n",
            "A variável [score_4]_______________________ possui 45000 valores únicos.\n",
            "A variável [score_5]_______________________ possui 45000 valores únicos.\n",
            "A variável [score_6]_______________________ possui 45000 valores únicos.\n",
            "A variável [risk_rate]_____________________ possui 82 valores únicos.\n",
            "A variável [last_amount_borrowed]__________ possui 14325 valores únicos.\n",
            "A variável [last_borrowed_in_months]_______ possui 2 valores únicos.\n",
            "A variável [credit_limit]__________________ possui 20928 valores únicos.\n",
            "A variável [reason]________________________ possui 14874 valores únicos.\n",
            "A variável [income]________________________ possui 41211 valores únicos.\n",
            "A variável [facebook_profile]______________ possui 2 valores únicos.\n",
            "A variável [state]_________________________ possui 50 valores únicos.\n",
            "A variável [zip]___________________________ possui 823 valores únicos.\n",
            "A variável [channel]_______________________ possui 1 valores únicos.\n",
            "A variável [job_name]______________________ possui 32265 valores únicos.\n",
            "A variável [real_state]____________________ possui 5 valores únicos.\n",
            "A variável [ok_since]______________________ possui 100 valores únicos.\n",
            "A variável [n_bankruptcies]________________ possui 6 valores únicos.\n",
            "A variável [n_defaulted_loans]_____________ possui 5 valores únicos.\n",
            "A variável [n_accounts]____________________ possui 44 valores únicos.\n",
            "A variável [n_issues]______________________ possui 44 valores únicos.\n",
            "A variável [application_time_applied]______ possui 35543 valores únicos.\n",
            "A variável [application_time_in_funnel]____ possui 501 valores únicos.\n",
            "A variável [email]_________________________ possui 6 valores únicos.\n",
            "A variável [external_data_provider_credit_checks_last_2_year] possui 1 valores únicos.\n",
            "A variável [external_data_provider_credit_checks_last_month] possui 4 valores únicos.\n",
            "A variável [external_data_provider_credit_checks_last_year] possui 2 valores únicos.\n",
            "A variável [external_data_provider_email_seen_before] possui 62 valores únicos.\n",
            "A variável [external_data_provider_first_name] possui 32886 valores únicos.\n",
            "A variável [external_data_provider_fraud_score] possui 1001 valores únicos.\n",
            "A variável [lat_lon]_______________________ possui 22412 valores únicos.\n",
            "A variável [marketing_channel]_____________ possui 9 valores únicos.\n",
            "A variável [profile_phone_number]__________ possui 45000 valores únicos.\n",
            "A variável [reported_income]_______________ possui 40025 valores únicos.\n",
            "A variável [shipping_state]________________ possui 25 valores únicos.\n",
            "A variável [shipping_zip_code]_____________ possui 28263 valores únicos.\n",
            "A variável [profile_tags]__________________ possui 26131 valores únicos.\n",
            "A variável [user_agent]____________________ possui 297 valores únicos.\n",
            "A variável [target_fraud]__________________ possui 2 valores únicos.\n"
          ]
        }
      ]
    },
    {
      "cell_type": "markdown",
      "source": [
        "A contagem de valores únicos mostra que as colunas `external_data_provider_credit_checks_last_2_year` e `channel` apresentam um único valor possível. Como não ha maiores informações sobre cada *feature* iremos descartar as duas colunas para o modelo de *Machine Learning*.\n",
        "\n",
        "Também se percebe que `profile_phone_number` possui 45 mil valores únicos, não trazendo provavelmente nenhuma informação que possa contribuir para a análise."
      ],
      "metadata": {
        "id": "WR62oF2HD-30"
      }
    },
    {
      "cell_type": "markdown",
      "source": [
        "### 2.7 Resumo geral dos dados"
      ],
      "metadata": {
        "id": "hc01oUEIEIhY"
      }
    },
    {
      "cell_type": "code",
      "source": [
        "def Map_Var_DF (features, df):\n",
        "  #Criando um dicionário para receber as variáveis\n",
        "  dict_var = {\"feature\": [],\n",
        "              \"Tipo\": [],\n",
        "              \"Categórico\": [],\n",
        "              \"Binário\": [],\n",
        "              \"Qtd var unico\": [],\n",
        "              \"Min\": [],\n",
        "              \"Max\": [],\n",
        "              \"% Qtd de Nulos\": []}\n",
        "\n",
        "  #Criando um loop a partir das features\n",
        "  for feature in features:\n",
        "\n",
        "    #Armazenando o nome da feature\n",
        "    dict_var['feature'].append(feature)\n",
        "\n",
        "    #Armazenando o tipo da variável\n",
        "    dict_var['Tipo'].append(df[feature].dtypes)\n",
        "\n",
        "    #Armazenando a quantidade de valores nulos\n",
        "    dict_var['% Qtd de Nulos'].append((round(df[feature].isnull().sum() / df.shape[0],4))*100)\n",
        "\n",
        "    if ((df[feature].dtype == \"O\")):\n",
        "\n",
        "      #Atribuindo o valor 1 se a variável for categórica\n",
        "      dict_var['Categórico'].append(1)\n",
        "\n",
        "      #Armazenando a quantidade de valores únicos\n",
        "      dict_var['Qtd var unico'].append(df[feature].nunique())\n",
        "\n",
        "      #Armazenando os valores mínimos\n",
        "      dict_var['Min'].append(\"N/A\")\n",
        "\n",
        "      #Armazenando os valores máximos\n",
        "      dict_var['Max'].append(\"N/A\")\n",
        "\n",
        "      if (df[feature].nunique() == 2):\n",
        "\n",
        "        #Atribuindo o valor 1 se a variável for binária\n",
        "        dict_var['Binário'].append(1)\n",
        "        \n",
        "      else:\n",
        "\n",
        "        #Atribuindo o valor 0 se a variável não for binária\n",
        "        dict_var['Binário'].append(0)\n",
        "\n",
        "    else:\n",
        "\n",
        "      #Atribuindo o valor 0 se a variável não for categórica\n",
        "      dict_var['Categórico'].append(0)\n",
        "\n",
        "      #Armazenando a quantidade de valores únicos\n",
        "      dict_var['Qtd var unico'].append(df[feature].nunique())\n",
        "\n",
        "      #Atribuindo o valor 0 se a variável não for binária\n",
        "      dict_var['Binário'].append(0)\n",
        "\n",
        "      #Armazenando os valores mínimos\n",
        "      dict_var['Min'].append(df[feature].min())\n",
        "\n",
        "      #Armazenando os valores máximos\n",
        "      dict_var['Max'].append(df[feature].max())\n",
        "      \n",
        "  #Transformando o dicionário em dataframe\n",
        "  df_var = pd.DataFrame.from_dict(data = dict_var)\n",
        "\n",
        "  #Imprimindo o dataframe\n",
        "  return df_var"
      ],
      "metadata": {
        "id": "folIicq8EHW4"
      },
      "execution_count": 85,
      "outputs": []
    },
    {
      "cell_type": "code",
      "source": [
        "#Armazenando as features\n",
        "features = df.columns.to_list()\n",
        "\n",
        "#Armazenando as informações das variáveis\n",
        "df_var = Map_Var_DF(features = features, df = df)\n",
        "\n",
        "#Imprimindo o dataframe\n",
        "df_var"
      ],
      "metadata": {
        "colab": {
          "base_uri": "https://localhost:8080/",
          "height": 1000
        },
        "id": "EP2VIU4xEoed",
        "outputId": "b1102624-ba54-42eb-e839-1b1ff26a65c7"
      },
      "execution_count": 86,
      "outputs": [
        {
          "output_type": "execute_result",
          "data": {
            "text/plain": [
              "                                             feature     Tipo  Categórico  \\\n",
              "0                                                ids   object           1   \n",
              "1                                     target_default   object           1   \n",
              "2                                            score_1   object           1   \n",
              "3                                            score_2   object           1   \n",
              "4                                            score_3  float64           0   \n",
              "5                                            score_4  float64           0   \n",
              "6                                            score_5  float64           0   \n",
              "7                                            score_6  float64           0   \n",
              "8                                          risk_rate  float64           0   \n",
              "9                               last_amount_borrowed  float64           0   \n",
              "10                           last_borrowed_in_months  float64           0   \n",
              "11                                      credit_limit  float64           0   \n",
              "12                                            reason   object           1   \n",
              "13                                            income  float64           0   \n",
              "14                                  facebook_profile   object           1   \n",
              "15                                             state   object           1   \n",
              "16                                               zip   object           1   \n",
              "17                                           channel   object           1   \n",
              "18                                          job_name   object           1   \n",
              "19                                        real_state   object           1   \n",
              "20                                          ok_since  float64           0   \n",
              "21                                    n_bankruptcies  float64           0   \n",
              "22                                 n_defaulted_loans  float64           0   \n",
              "23                                        n_accounts  float64           0   \n",
              "24                                          n_issues  float64           0   \n",
              "25                          application_time_applied   object           1   \n",
              "26                        application_time_in_funnel    int64           0   \n",
              "27                                             email   object           1   \n",
              "28  external_data_provider_credit_checks_last_2_year  float64           0   \n",
              "29   external_data_provider_credit_checks_last_month    int64           0   \n",
              "30    external_data_provider_credit_checks_last_year  float64           0   \n",
              "31          external_data_provider_email_seen_before  float64           0   \n",
              "32                 external_data_provider_first_name   object           1   \n",
              "33                external_data_provider_fraud_score    int64           0   \n",
              "34                                           lat_lon   object           1   \n",
              "35                                 marketing_channel   object           1   \n",
              "36                              profile_phone_number   object           1   \n",
              "37                                   reported_income  float64           0   \n",
              "38                                    shipping_state   object           1   \n",
              "39                                 shipping_zip_code    int64           0   \n",
              "40                                      profile_tags   object           1   \n",
              "41                                        user_agent   object           1   \n",
              "42                                      target_fraud   object           1   \n",
              "\n",
              "    Binário  Qtd var unico        Min         Max  % Qtd de Nulos  \n",
              "0         0          45000        N/A         N/A            0.00  \n",
              "1         1              2        N/A         N/A            7.24  \n",
              "2         0              7        N/A         N/A            1.25  \n",
              "3         0             35        N/A         N/A            1.25  \n",
              "4         0             88        0.0       990.0            1.25  \n",
              "5         0          45000  86.191572  113.978234            0.00  \n",
              "6         0          45000   0.000035    0.999973            0.00  \n",
              "7         0          45000  60.663039    142.1924            0.00  \n",
              "8         0             82        0.0         0.9            1.25  \n",
              "9         0          14325    1005.18     35059.6           66.57  \n",
              "10        0              2       36.0        60.0           66.57  \n",
              "11        0          20928        0.0    448269.0           30.67  \n",
              "12        0          14874        N/A         N/A            1.26  \n",
              "13        0          41211    4821.18  5000027.83            1.25  \n",
              "14        1              2        N/A         N/A            9.91  \n",
              "15        0             50        N/A         N/A            1.25  \n",
              "16        0            823        N/A         N/A            1.25  \n",
              "17        0              1        N/A         N/A            1.25  \n",
              "18        0          32265        N/A         N/A            7.41  \n",
              "19        0              5        N/A         N/A            1.25  \n",
              "20        0            100        0.0       141.0           58.99  \n",
              "21        0              6        0.0         5.0            1.55  \n",
              "22        0              5        0.0         5.0            1.28  \n",
              "23        0             44        0.0        49.0            1.25  \n",
              "24        0             44        0.0        49.0           25.65  \n",
              "25        0          35543        N/A         N/A            0.00  \n",
              "26        0            501          0         500            0.00  \n",
              "27        0              6        N/A         N/A            0.00  \n",
              "28        0              1        0.0         0.0           50.28  \n",
              "29        0              4          0           3            0.00  \n",
              "30        0              2        0.0         1.0           33.61  \n",
              "31        0             62     -999.0        59.0            4.96  \n",
              "32        0          32886        N/A         N/A            0.00  \n",
              "33        0           1001          0        1000            0.00  \n",
              "34        0          22412        N/A         N/A            3.03  \n",
              "35        0              9        N/A         N/A            7.95  \n",
              "36        0          45000        N/A         N/A            0.00  \n",
              "37        0          40025      403.0         inf            0.00  \n",
              "38        0             25        N/A         N/A            0.00  \n",
              "39        0          28263      12001       56000            0.00  \n",
              "40        0          26131        N/A         N/A            0.00  \n",
              "41        0            297        N/A         N/A            1.60  \n",
              "42        1              2        N/A         N/A           96.62  "
            ],
            "text/html": [
              "\n",
              "  <div id=\"df-24302418-6571-4bec-99a0-2872bbe1df5f\">\n",
              "    <div class=\"colab-df-container\">\n",
              "      <div>\n",
              "<style scoped>\n",
              "    .dataframe tbody tr th:only-of-type {\n",
              "        vertical-align: middle;\n",
              "    }\n",
              "\n",
              "    .dataframe tbody tr th {\n",
              "        vertical-align: top;\n",
              "    }\n",
              "\n",
              "    .dataframe thead th {\n",
              "        text-align: right;\n",
              "    }\n",
              "</style>\n",
              "<table border=\"1\" class=\"dataframe\">\n",
              "  <thead>\n",
              "    <tr style=\"text-align: right;\">\n",
              "      <th></th>\n",
              "      <th>feature</th>\n",
              "      <th>Tipo</th>\n",
              "      <th>Categórico</th>\n",
              "      <th>Binário</th>\n",
              "      <th>Qtd var unico</th>\n",
              "      <th>Min</th>\n",
              "      <th>Max</th>\n",
              "      <th>% Qtd de Nulos</th>\n",
              "    </tr>\n",
              "  </thead>\n",
              "  <tbody>\n",
              "    <tr>\n",
              "      <th>0</th>\n",
              "      <td>ids</td>\n",
              "      <td>object</td>\n",
              "      <td>1</td>\n",
              "      <td>0</td>\n",
              "      <td>45000</td>\n",
              "      <td>N/A</td>\n",
              "      <td>N/A</td>\n",
              "      <td>0.00</td>\n",
              "    </tr>\n",
              "    <tr>\n",
              "      <th>1</th>\n",
              "      <td>target_default</td>\n",
              "      <td>object</td>\n",
              "      <td>1</td>\n",
              "      <td>1</td>\n",
              "      <td>2</td>\n",
              "      <td>N/A</td>\n",
              "      <td>N/A</td>\n",
              "      <td>7.24</td>\n",
              "    </tr>\n",
              "    <tr>\n",
              "      <th>2</th>\n",
              "      <td>score_1</td>\n",
              "      <td>object</td>\n",
              "      <td>1</td>\n",
              "      <td>0</td>\n",
              "      <td>7</td>\n",
              "      <td>N/A</td>\n",
              "      <td>N/A</td>\n",
              "      <td>1.25</td>\n",
              "    </tr>\n",
              "    <tr>\n",
              "      <th>3</th>\n",
              "      <td>score_2</td>\n",
              "      <td>object</td>\n",
              "      <td>1</td>\n",
              "      <td>0</td>\n",
              "      <td>35</td>\n",
              "      <td>N/A</td>\n",
              "      <td>N/A</td>\n",
              "      <td>1.25</td>\n",
              "    </tr>\n",
              "    <tr>\n",
              "      <th>4</th>\n",
              "      <td>score_3</td>\n",
              "      <td>float64</td>\n",
              "      <td>0</td>\n",
              "      <td>0</td>\n",
              "      <td>88</td>\n",
              "      <td>0.0</td>\n",
              "      <td>990.0</td>\n",
              "      <td>1.25</td>\n",
              "    </tr>\n",
              "    <tr>\n",
              "      <th>5</th>\n",
              "      <td>score_4</td>\n",
              "      <td>float64</td>\n",
              "      <td>0</td>\n",
              "      <td>0</td>\n",
              "      <td>45000</td>\n",
              "      <td>86.191572</td>\n",
              "      <td>113.978234</td>\n",
              "      <td>0.00</td>\n",
              "    </tr>\n",
              "    <tr>\n",
              "      <th>6</th>\n",
              "      <td>score_5</td>\n",
              "      <td>float64</td>\n",
              "      <td>0</td>\n",
              "      <td>0</td>\n",
              "      <td>45000</td>\n",
              "      <td>0.000035</td>\n",
              "      <td>0.999973</td>\n",
              "      <td>0.00</td>\n",
              "    </tr>\n",
              "    <tr>\n",
              "      <th>7</th>\n",
              "      <td>score_6</td>\n",
              "      <td>float64</td>\n",
              "      <td>0</td>\n",
              "      <td>0</td>\n",
              "      <td>45000</td>\n",
              "      <td>60.663039</td>\n",
              "      <td>142.1924</td>\n",
              "      <td>0.00</td>\n",
              "    </tr>\n",
              "    <tr>\n",
              "      <th>8</th>\n",
              "      <td>risk_rate</td>\n",
              "      <td>float64</td>\n",
              "      <td>0</td>\n",
              "      <td>0</td>\n",
              "      <td>82</td>\n",
              "      <td>0.0</td>\n",
              "      <td>0.9</td>\n",
              "      <td>1.25</td>\n",
              "    </tr>\n",
              "    <tr>\n",
              "      <th>9</th>\n",
              "      <td>last_amount_borrowed</td>\n",
              "      <td>float64</td>\n",
              "      <td>0</td>\n",
              "      <td>0</td>\n",
              "      <td>14325</td>\n",
              "      <td>1005.18</td>\n",
              "      <td>35059.6</td>\n",
              "      <td>66.57</td>\n",
              "    </tr>\n",
              "    <tr>\n",
              "      <th>10</th>\n",
              "      <td>last_borrowed_in_months</td>\n",
              "      <td>float64</td>\n",
              "      <td>0</td>\n",
              "      <td>0</td>\n",
              "      <td>2</td>\n",
              "      <td>36.0</td>\n",
              "      <td>60.0</td>\n",
              "      <td>66.57</td>\n",
              "    </tr>\n",
              "    <tr>\n",
              "      <th>11</th>\n",
              "      <td>credit_limit</td>\n",
              "      <td>float64</td>\n",
              "      <td>0</td>\n",
              "      <td>0</td>\n",
              "      <td>20928</td>\n",
              "      <td>0.0</td>\n",
              "      <td>448269.0</td>\n",
              "      <td>30.67</td>\n",
              "    </tr>\n",
              "    <tr>\n",
              "      <th>12</th>\n",
              "      <td>reason</td>\n",
              "      <td>object</td>\n",
              "      <td>1</td>\n",
              "      <td>0</td>\n",
              "      <td>14874</td>\n",
              "      <td>N/A</td>\n",
              "      <td>N/A</td>\n",
              "      <td>1.26</td>\n",
              "    </tr>\n",
              "    <tr>\n",
              "      <th>13</th>\n",
              "      <td>income</td>\n",
              "      <td>float64</td>\n",
              "      <td>0</td>\n",
              "      <td>0</td>\n",
              "      <td>41211</td>\n",
              "      <td>4821.18</td>\n",
              "      <td>5000027.83</td>\n",
              "      <td>1.25</td>\n",
              "    </tr>\n",
              "    <tr>\n",
              "      <th>14</th>\n",
              "      <td>facebook_profile</td>\n",
              "      <td>object</td>\n",
              "      <td>1</td>\n",
              "      <td>1</td>\n",
              "      <td>2</td>\n",
              "      <td>N/A</td>\n",
              "      <td>N/A</td>\n",
              "      <td>9.91</td>\n",
              "    </tr>\n",
              "    <tr>\n",
              "      <th>15</th>\n",
              "      <td>state</td>\n",
              "      <td>object</td>\n",
              "      <td>1</td>\n",
              "      <td>0</td>\n",
              "      <td>50</td>\n",
              "      <td>N/A</td>\n",
              "      <td>N/A</td>\n",
              "      <td>1.25</td>\n",
              "    </tr>\n",
              "    <tr>\n",
              "      <th>16</th>\n",
              "      <td>zip</td>\n",
              "      <td>object</td>\n",
              "      <td>1</td>\n",
              "      <td>0</td>\n",
              "      <td>823</td>\n",
              "      <td>N/A</td>\n",
              "      <td>N/A</td>\n",
              "      <td>1.25</td>\n",
              "    </tr>\n",
              "    <tr>\n",
              "      <th>17</th>\n",
              "      <td>channel</td>\n",
              "      <td>object</td>\n",
              "      <td>1</td>\n",
              "      <td>0</td>\n",
              "      <td>1</td>\n",
              "      <td>N/A</td>\n",
              "      <td>N/A</td>\n",
              "      <td>1.25</td>\n",
              "    </tr>\n",
              "    <tr>\n",
              "      <th>18</th>\n",
              "      <td>job_name</td>\n",
              "      <td>object</td>\n",
              "      <td>1</td>\n",
              "      <td>0</td>\n",
              "      <td>32265</td>\n",
              "      <td>N/A</td>\n",
              "      <td>N/A</td>\n",
              "      <td>7.41</td>\n",
              "    </tr>\n",
              "    <tr>\n",
              "      <th>19</th>\n",
              "      <td>real_state</td>\n",
              "      <td>object</td>\n",
              "      <td>1</td>\n",
              "      <td>0</td>\n",
              "      <td>5</td>\n",
              "      <td>N/A</td>\n",
              "      <td>N/A</td>\n",
              "      <td>1.25</td>\n",
              "    </tr>\n",
              "    <tr>\n",
              "      <th>20</th>\n",
              "      <td>ok_since</td>\n",
              "      <td>float64</td>\n",
              "      <td>0</td>\n",
              "      <td>0</td>\n",
              "      <td>100</td>\n",
              "      <td>0.0</td>\n",
              "      <td>141.0</td>\n",
              "      <td>58.99</td>\n",
              "    </tr>\n",
              "    <tr>\n",
              "      <th>21</th>\n",
              "      <td>n_bankruptcies</td>\n",
              "      <td>float64</td>\n",
              "      <td>0</td>\n",
              "      <td>0</td>\n",
              "      <td>6</td>\n",
              "      <td>0.0</td>\n",
              "      <td>5.0</td>\n",
              "      <td>1.55</td>\n",
              "    </tr>\n",
              "    <tr>\n",
              "      <th>22</th>\n",
              "      <td>n_defaulted_loans</td>\n",
              "      <td>float64</td>\n",
              "      <td>0</td>\n",
              "      <td>0</td>\n",
              "      <td>5</td>\n",
              "      <td>0.0</td>\n",
              "      <td>5.0</td>\n",
              "      <td>1.28</td>\n",
              "    </tr>\n",
              "    <tr>\n",
              "      <th>23</th>\n",
              "      <td>n_accounts</td>\n",
              "      <td>float64</td>\n",
              "      <td>0</td>\n",
              "      <td>0</td>\n",
              "      <td>44</td>\n",
              "      <td>0.0</td>\n",
              "      <td>49.0</td>\n",
              "      <td>1.25</td>\n",
              "    </tr>\n",
              "    <tr>\n",
              "      <th>24</th>\n",
              "      <td>n_issues</td>\n",
              "      <td>float64</td>\n",
              "      <td>0</td>\n",
              "      <td>0</td>\n",
              "      <td>44</td>\n",
              "      <td>0.0</td>\n",
              "      <td>49.0</td>\n",
              "      <td>25.65</td>\n",
              "    </tr>\n",
              "    <tr>\n",
              "      <th>25</th>\n",
              "      <td>application_time_applied</td>\n",
              "      <td>object</td>\n",
              "      <td>1</td>\n",
              "      <td>0</td>\n",
              "      <td>35543</td>\n",
              "      <td>N/A</td>\n",
              "      <td>N/A</td>\n",
              "      <td>0.00</td>\n",
              "    </tr>\n",
              "    <tr>\n",
              "      <th>26</th>\n",
              "      <td>application_time_in_funnel</td>\n",
              "      <td>int64</td>\n",
              "      <td>0</td>\n",
              "      <td>0</td>\n",
              "      <td>501</td>\n",
              "      <td>0</td>\n",
              "      <td>500</td>\n",
              "      <td>0.00</td>\n",
              "    </tr>\n",
              "    <tr>\n",
              "      <th>27</th>\n",
              "      <td>email</td>\n",
              "      <td>object</td>\n",
              "      <td>1</td>\n",
              "      <td>0</td>\n",
              "      <td>6</td>\n",
              "      <td>N/A</td>\n",
              "      <td>N/A</td>\n",
              "      <td>0.00</td>\n",
              "    </tr>\n",
              "    <tr>\n",
              "      <th>28</th>\n",
              "      <td>external_data_provider_credit_checks_last_2_year</td>\n",
              "      <td>float64</td>\n",
              "      <td>0</td>\n",
              "      <td>0</td>\n",
              "      <td>1</td>\n",
              "      <td>0.0</td>\n",
              "      <td>0.0</td>\n",
              "      <td>50.28</td>\n",
              "    </tr>\n",
              "    <tr>\n",
              "      <th>29</th>\n",
              "      <td>external_data_provider_credit_checks_last_month</td>\n",
              "      <td>int64</td>\n",
              "      <td>0</td>\n",
              "      <td>0</td>\n",
              "      <td>4</td>\n",
              "      <td>0</td>\n",
              "      <td>3</td>\n",
              "      <td>0.00</td>\n",
              "    </tr>\n",
              "    <tr>\n",
              "      <th>30</th>\n",
              "      <td>external_data_provider_credit_checks_last_year</td>\n",
              "      <td>float64</td>\n",
              "      <td>0</td>\n",
              "      <td>0</td>\n",
              "      <td>2</td>\n",
              "      <td>0.0</td>\n",
              "      <td>1.0</td>\n",
              "      <td>33.61</td>\n",
              "    </tr>\n",
              "    <tr>\n",
              "      <th>31</th>\n",
              "      <td>external_data_provider_email_seen_before</td>\n",
              "      <td>float64</td>\n",
              "      <td>0</td>\n",
              "      <td>0</td>\n",
              "      <td>62</td>\n",
              "      <td>-999.0</td>\n",
              "      <td>59.0</td>\n",
              "      <td>4.96</td>\n",
              "    </tr>\n",
              "    <tr>\n",
              "      <th>32</th>\n",
              "      <td>external_data_provider_first_name</td>\n",
              "      <td>object</td>\n",
              "      <td>1</td>\n",
              "      <td>0</td>\n",
              "      <td>32886</td>\n",
              "      <td>N/A</td>\n",
              "      <td>N/A</td>\n",
              "      <td>0.00</td>\n",
              "    </tr>\n",
              "    <tr>\n",
              "      <th>33</th>\n",
              "      <td>external_data_provider_fraud_score</td>\n",
              "      <td>int64</td>\n",
              "      <td>0</td>\n",
              "      <td>0</td>\n",
              "      <td>1001</td>\n",
              "      <td>0</td>\n",
              "      <td>1000</td>\n",
              "      <td>0.00</td>\n",
              "    </tr>\n",
              "    <tr>\n",
              "      <th>34</th>\n",
              "      <td>lat_lon</td>\n",
              "      <td>object</td>\n",
              "      <td>1</td>\n",
              "      <td>0</td>\n",
              "      <td>22412</td>\n",
              "      <td>N/A</td>\n",
              "      <td>N/A</td>\n",
              "      <td>3.03</td>\n",
              "    </tr>\n",
              "    <tr>\n",
              "      <th>35</th>\n",
              "      <td>marketing_channel</td>\n",
              "      <td>object</td>\n",
              "      <td>1</td>\n",
              "      <td>0</td>\n",
              "      <td>9</td>\n",
              "      <td>N/A</td>\n",
              "      <td>N/A</td>\n",
              "      <td>7.95</td>\n",
              "    </tr>\n",
              "    <tr>\n",
              "      <th>36</th>\n",
              "      <td>profile_phone_number</td>\n",
              "      <td>object</td>\n",
              "      <td>1</td>\n",
              "      <td>0</td>\n",
              "      <td>45000</td>\n",
              "      <td>N/A</td>\n",
              "      <td>N/A</td>\n",
              "      <td>0.00</td>\n",
              "    </tr>\n",
              "    <tr>\n",
              "      <th>37</th>\n",
              "      <td>reported_income</td>\n",
              "      <td>float64</td>\n",
              "      <td>0</td>\n",
              "      <td>0</td>\n",
              "      <td>40025</td>\n",
              "      <td>403.0</td>\n",
              "      <td>inf</td>\n",
              "      <td>0.00</td>\n",
              "    </tr>\n",
              "    <tr>\n",
              "      <th>38</th>\n",
              "      <td>shipping_state</td>\n",
              "      <td>object</td>\n",
              "      <td>1</td>\n",
              "      <td>0</td>\n",
              "      <td>25</td>\n",
              "      <td>N/A</td>\n",
              "      <td>N/A</td>\n",
              "      <td>0.00</td>\n",
              "    </tr>\n",
              "    <tr>\n",
              "      <th>39</th>\n",
              "      <td>shipping_zip_code</td>\n",
              "      <td>int64</td>\n",
              "      <td>0</td>\n",
              "      <td>0</td>\n",
              "      <td>28263</td>\n",
              "      <td>12001</td>\n",
              "      <td>56000</td>\n",
              "      <td>0.00</td>\n",
              "    </tr>\n",
              "    <tr>\n",
              "      <th>40</th>\n",
              "      <td>profile_tags</td>\n",
              "      <td>object</td>\n",
              "      <td>1</td>\n",
              "      <td>0</td>\n",
              "      <td>26131</td>\n",
              "      <td>N/A</td>\n",
              "      <td>N/A</td>\n",
              "      <td>0.00</td>\n",
              "    </tr>\n",
              "    <tr>\n",
              "      <th>41</th>\n",
              "      <td>user_agent</td>\n",
              "      <td>object</td>\n",
              "      <td>1</td>\n",
              "      <td>0</td>\n",
              "      <td>297</td>\n",
              "      <td>N/A</td>\n",
              "      <td>N/A</td>\n",
              "      <td>1.60</td>\n",
              "    </tr>\n",
              "    <tr>\n",
              "      <th>42</th>\n",
              "      <td>target_fraud</td>\n",
              "      <td>object</td>\n",
              "      <td>1</td>\n",
              "      <td>1</td>\n",
              "      <td>2</td>\n",
              "      <td>N/A</td>\n",
              "      <td>N/A</td>\n",
              "      <td>96.62</td>\n",
              "    </tr>\n",
              "  </tbody>\n",
              "</table>\n",
              "</div>\n",
              "      <button class=\"colab-df-convert\" onclick=\"convertToInteractive('df-24302418-6571-4bec-99a0-2872bbe1df5f')\"\n",
              "              title=\"Convert this dataframe to an interactive table.\"\n",
              "              style=\"display:none;\">\n",
              "        \n",
              "  <svg xmlns=\"http://www.w3.org/2000/svg\" height=\"24px\"viewBox=\"0 0 24 24\"\n",
              "       width=\"24px\">\n",
              "    <path d=\"M0 0h24v24H0V0z\" fill=\"none\"/>\n",
              "    <path d=\"M18.56 5.44l.94 2.06.94-2.06 2.06-.94-2.06-.94-.94-2.06-.94 2.06-2.06.94zm-11 1L8.5 8.5l.94-2.06 2.06-.94-2.06-.94L8.5 2.5l-.94 2.06-2.06.94zm10 10l.94 2.06.94-2.06 2.06-.94-2.06-.94-.94-2.06-.94 2.06-2.06.94z\"/><path d=\"M17.41 7.96l-1.37-1.37c-.4-.4-.92-.59-1.43-.59-.52 0-1.04.2-1.43.59L10.3 9.45l-7.72 7.72c-.78.78-.78 2.05 0 2.83L4 21.41c.39.39.9.59 1.41.59.51 0 1.02-.2 1.41-.59l7.78-7.78 2.81-2.81c.8-.78.8-2.07 0-2.86zM5.41 20L4 18.59l7.72-7.72 1.47 1.35L5.41 20z\"/>\n",
              "  </svg>\n",
              "      </button>\n",
              "      \n",
              "  <style>\n",
              "    .colab-df-container {\n",
              "      display:flex;\n",
              "      flex-wrap:wrap;\n",
              "      gap: 12px;\n",
              "    }\n",
              "\n",
              "    .colab-df-convert {\n",
              "      background-color: #E8F0FE;\n",
              "      border: none;\n",
              "      border-radius: 50%;\n",
              "      cursor: pointer;\n",
              "      display: none;\n",
              "      fill: #1967D2;\n",
              "      height: 32px;\n",
              "      padding: 0 0 0 0;\n",
              "      width: 32px;\n",
              "    }\n",
              "\n",
              "    .colab-df-convert:hover {\n",
              "      background-color: #E2EBFA;\n",
              "      box-shadow: 0px 1px 2px rgba(60, 64, 67, 0.3), 0px 1px 3px 1px rgba(60, 64, 67, 0.15);\n",
              "      fill: #174EA6;\n",
              "    }\n",
              "\n",
              "    [theme=dark] .colab-df-convert {\n",
              "      background-color: #3B4455;\n",
              "      fill: #D2E3FC;\n",
              "    }\n",
              "\n",
              "    [theme=dark] .colab-df-convert:hover {\n",
              "      background-color: #434B5C;\n",
              "      box-shadow: 0px 1px 3px 1px rgba(0, 0, 0, 0.15);\n",
              "      filter: drop-shadow(0px 1px 2px rgba(0, 0, 0, 0.3));\n",
              "      fill: #FFFFFF;\n",
              "    }\n",
              "  </style>\n",
              "\n",
              "      <script>\n",
              "        const buttonEl =\n",
              "          document.querySelector('#df-24302418-6571-4bec-99a0-2872bbe1df5f button.colab-df-convert');\n",
              "        buttonEl.style.display =\n",
              "          google.colab.kernel.accessAllowed ? 'block' : 'none';\n",
              "\n",
              "        async function convertToInteractive(key) {\n",
              "          const element = document.querySelector('#df-24302418-6571-4bec-99a0-2872bbe1df5f');\n",
              "          const dataTable =\n",
              "            await google.colab.kernel.invokeFunction('convertToInteractive',\n",
              "                                                     [key], {});\n",
              "          if (!dataTable) return;\n",
              "\n",
              "          const docLinkHtml = 'Like what you see? Visit the ' +\n",
              "            '<a target=\"_blank\" href=https://colab.research.google.com/notebooks/data_table.ipynb>data table notebook</a>'\n",
              "            + ' to learn more about interactive tables.';\n",
              "          element.innerHTML = '';\n",
              "          dataTable['output_type'] = 'display_data';\n",
              "          await google.colab.output.renderOutput(dataTable, element);\n",
              "          const docLink = document.createElement('div');\n",
              "          docLink.innerHTML = docLinkHtml;\n",
              "          element.appendChild(docLink);\n",
              "        }\n",
              "      </script>\n",
              "    </div>\n",
              "  </div>\n",
              "  "
            ]
          },
          "metadata": {},
          "execution_count": 86
        }
      ]
    },
    {
      "cell_type": "markdown",
      "source": [
        "A partir do dataframe das features é possível concluir que:\n",
        "\n",
        "* A coluna `target_default` é a variável alvo do problema. Vale destacar que possui alguns valores ausentes que deverão ser excluídos do dataset;\n",
        "* A coluna `target_fraud` é uma variável alvo destinada para avaliar a possibilidade de fraude no cartão de crédito. Como não é objeto deste estudo, esta coluna será excluída do dataset;\n",
        "* As variáveis `last_amount_borrowed`, `last_borrowed_in_months`, `ok_since` e `external_data_provider_credit_checks_last_2_year` possuem mais de 50% do dataset de valores ausentes, sendo difícil substituir tais valores, podendo gerar erros durante a predição. Portanto, estas colunas serão excluídas;\n",
        "* As variáveis `job_name`, `external_data_provider_first_name`, `profile_phone_number` e `zip` são do tipo string e possuem muitos valores categóricos distintos, difíceis de serem agrupados, portanto estas colunas serão excluídas;\n",
        "* A variável `external_data_provider_email_seen_before` possui um valor mínimo em -999, provavelmente este campo recebeu este valor, porque o sistema de cadastro não permitia valores nulos para preenchimento. Portanto, estes valores serão considerados como NaN;\n",
        "* A variável `reported_income` possui um valor máximo de infinito, portanto, este valor será substituído por NaN;\n",
        "* A variável credit_limit possui um mínimo de 0 reais, não é uma prática do mercado de cartão de crédito liberar apenas 0 reais de limite. Portanto, este valor será substituído por NaN;\n",
        "* Criaremos uma variável de agrupamento por região do Brasil, utilizando a variável `shipping_state`;\n",
        "* A variável `ids` serve para identificar um determinado cliente, portanto, não agrega valor no objetivo proposto e esta coluna será excluída;\n",
        "* A variável `channel` apenas tem um valor único, portanto, não agrega valor a análise e será excluída;\n",
        "* As variáveis `lat_lon` e `shipping_zip_code` serão excluídas do dataset para simplificar a modelagem.\n",
        "* O próximo passo é excluir os valores ausentes da variável alvo `target_default` e as colunas mencionadas na análise anterior. Além disso, vamos substituir por NaN, os valores negativos, infinitos e 0 das variáveis `external_data_provider_email_seen_before`, `reported_income` e `credit_limit`, `respectivamente`.\n"
      ],
      "metadata": {
        "id": "3QTI7d3bE1KX"
      }
    },
    {
      "cell_type": "markdown",
      "source": [
        "### 2.8 Visualizar o resumo estatístico do dataset"
      ],
      "metadata": {
        "id": "e4deTGqoFBZ2"
      }
    },
    {
      "cell_type": "code",
      "source": [
        "df.describe()"
      ],
      "metadata": {
        "colab": {
          "base_uri": "https://localhost:8080/",
          "height": 364
        },
        "id": "h89HGxENE_x2",
        "outputId": "e4e8b651-9377-47aa-b977-9d8e1883d564"
      },
      "execution_count": 87,
      "outputs": [
        {
          "output_type": "execute_result",
          "data": {
            "text/plain": [
              "            score_3       score_4       score_5       score_6     risk_rate  \\\n",
              "count  44438.000000  45000.000000  45000.000000  45000.000000  44438.000000   \n",
              "mean     347.983258    100.006797      0.500037     99.925228      0.296717   \n",
              "std      110.429165      3.178080      0.288326     10.016549      0.101933   \n",
              "min        0.000000     86.191572      0.000035     60.663039      0.000000   \n",
              "25%      270.000000     97.867036      0.252150     93.198353      0.220000   \n",
              "50%      340.000000    100.018900      0.500753     99.974796      0.290000   \n",
              "75%      420.000000    102.141797      0.748816    106.640275      0.360000   \n",
              "max      990.000000    113.978234      0.999973    142.192400      0.900000   \n",
              "\n",
              "       last_amount_borrowed  last_borrowed_in_months   credit_limit  \\\n",
              "count          15044.000000             15044.000000   31200.000000   \n",
              "mean           13782.341991                41.763893   34381.951154   \n",
              "std             8077.571933                10.252705   36586.982218   \n",
              "min             1005.180000                36.000000       0.000000   \n",
              "25%             7519.502500                36.000000   10000.000000   \n",
              "50%            12023.465000                36.000000   25647.000000   \n",
              "75%            19220.270000                36.000000   47086.750000   \n",
              "max            35059.600000                60.000000  448269.000000   \n",
              "\n",
              "             income      ok_since  n_bankruptcies  n_defaulted_loans  \\\n",
              "count  4.443800e+04  18455.000000    44303.000000       44426.000000   \n",
              "mean   7.160739e+04     35.069737        0.076270           0.004569   \n",
              "std    5.185897e+04     21.663194        0.274052           0.079400   \n",
              "min    4.821180e+03      0.000000        0.000000           0.000000   \n",
              "25%    4.501078e+04     17.000000        0.000000           0.000000   \n",
              "50%    6.126676e+04     32.000000        0.000000           0.000000   \n",
              "75%    8.601923e+04     50.000000        0.000000           0.000000   \n",
              "max    5.000028e+06    141.000000        5.000000           5.000000   \n",
              "\n",
              "         n_accounts      n_issues  application_time_in_funnel  \\\n",
              "count  44438.000000  33456.000000                45000.000000   \n",
              "mean      10.696701     11.068119                  247.537000   \n",
              "std        4.592463      4.595501                  146.118398   \n",
              "min        0.000000      0.000000                    0.000000   \n",
              "25%        7.000000      8.000000                  120.000000   \n",
              "50%       10.000000     10.000000                  248.000000   \n",
              "75%       13.000000     14.000000                  375.000000   \n",
              "max       49.000000     49.000000                  500.000000   \n",
              "\n",
              "       external_data_provider_credit_checks_last_2_year  \\\n",
              "count                                           22372.0   \n",
              "mean                                                0.0   \n",
              "std                                                 0.0   \n",
              "min                                                 0.0   \n",
              "25%                                                 0.0   \n",
              "50%                                                 0.0   \n",
              "75%                                                 0.0   \n",
              "max                                                 0.0   \n",
              "\n",
              "       external_data_provider_credit_checks_last_month  \\\n",
              "count                                     45000.000000   \n",
              "mean                                          1.501067   \n",
              "std                                           1.114941   \n",
              "min                                           0.000000   \n",
              "25%                                           1.000000   \n",
              "50%                                           2.000000   \n",
              "75%                                           2.000000   \n",
              "max                                           3.000000   \n",
              "\n",
              "       external_data_provider_credit_checks_last_year  \\\n",
              "count                                    29876.000000   \n",
              "mean                                         0.503381   \n",
              "std                                          0.499997   \n",
              "min                                          0.000000   \n",
              "25%                                          0.000000   \n",
              "50%                                          1.000000   \n",
              "75%                                          1.000000   \n",
              "max                                          1.000000   \n",
              "\n",
              "       external_data_provider_email_seen_before  \\\n",
              "count                              42767.000000   \n",
              "mean                                  12.534781   \n",
              "std                                  126.530487   \n",
              "min                                 -999.000000   \n",
              "25%                                   11.000000   \n",
              "50%                                   27.000000   \n",
              "75%                                   43.000000   \n",
              "max                                   59.000000   \n",
              "\n",
              "       external_data_provider_fraud_score  reported_income  shipping_zip_code  \n",
              "count                        45000.000000         45000.00       45000.000000  \n",
              "mean                           500.399800              inf       33923.514844  \n",
              "std                            287.968873              NaN       12692.406382  \n",
              "min                              0.000000           403.00       12001.000000  \n",
              "25%                            252.000000         50948.25       22937.000000  \n",
              "50%                            503.000000        101779.00       33896.000000  \n",
              "75%                            747.000000        151337.25       44910.000000  \n",
              "max                           1000.000000              inf       56000.000000  "
            ],
            "text/html": [
              "\n",
              "  <div id=\"df-82222649-aab1-48b0-9bfc-49b1b19c84f3\">\n",
              "    <div class=\"colab-df-container\">\n",
              "      <div>\n",
              "<style scoped>\n",
              "    .dataframe tbody tr th:only-of-type {\n",
              "        vertical-align: middle;\n",
              "    }\n",
              "\n",
              "    .dataframe tbody tr th {\n",
              "        vertical-align: top;\n",
              "    }\n",
              "\n",
              "    .dataframe thead th {\n",
              "        text-align: right;\n",
              "    }\n",
              "</style>\n",
              "<table border=\"1\" class=\"dataframe\">\n",
              "  <thead>\n",
              "    <tr style=\"text-align: right;\">\n",
              "      <th></th>\n",
              "      <th>score_3</th>\n",
              "      <th>score_4</th>\n",
              "      <th>score_5</th>\n",
              "      <th>score_6</th>\n",
              "      <th>risk_rate</th>\n",
              "      <th>last_amount_borrowed</th>\n",
              "      <th>last_borrowed_in_months</th>\n",
              "      <th>credit_limit</th>\n",
              "      <th>income</th>\n",
              "      <th>ok_since</th>\n",
              "      <th>n_bankruptcies</th>\n",
              "      <th>n_defaulted_loans</th>\n",
              "      <th>n_accounts</th>\n",
              "      <th>n_issues</th>\n",
              "      <th>application_time_in_funnel</th>\n",
              "      <th>external_data_provider_credit_checks_last_2_year</th>\n",
              "      <th>external_data_provider_credit_checks_last_month</th>\n",
              "      <th>external_data_provider_credit_checks_last_year</th>\n",
              "      <th>external_data_provider_email_seen_before</th>\n",
              "      <th>external_data_provider_fraud_score</th>\n",
              "      <th>reported_income</th>\n",
              "      <th>shipping_zip_code</th>\n",
              "    </tr>\n",
              "  </thead>\n",
              "  <tbody>\n",
              "    <tr>\n",
              "      <th>count</th>\n",
              "      <td>44438.000000</td>\n",
              "      <td>45000.000000</td>\n",
              "      <td>45000.000000</td>\n",
              "      <td>45000.000000</td>\n",
              "      <td>44438.000000</td>\n",
              "      <td>15044.000000</td>\n",
              "      <td>15044.000000</td>\n",
              "      <td>31200.000000</td>\n",
              "      <td>4.443800e+04</td>\n",
              "      <td>18455.000000</td>\n",
              "      <td>44303.000000</td>\n",
              "      <td>44426.000000</td>\n",
              "      <td>44438.000000</td>\n",
              "      <td>33456.000000</td>\n",
              "      <td>45000.000000</td>\n",
              "      <td>22372.0</td>\n",
              "      <td>45000.000000</td>\n",
              "      <td>29876.000000</td>\n",
              "      <td>42767.000000</td>\n",
              "      <td>45000.000000</td>\n",
              "      <td>45000.00</td>\n",
              "      <td>45000.000000</td>\n",
              "    </tr>\n",
              "    <tr>\n",
              "      <th>mean</th>\n",
              "      <td>347.983258</td>\n",
              "      <td>100.006797</td>\n",
              "      <td>0.500037</td>\n",
              "      <td>99.925228</td>\n",
              "      <td>0.296717</td>\n",
              "      <td>13782.341991</td>\n",
              "      <td>41.763893</td>\n",
              "      <td>34381.951154</td>\n",
              "      <td>7.160739e+04</td>\n",
              "      <td>35.069737</td>\n",
              "      <td>0.076270</td>\n",
              "      <td>0.004569</td>\n",
              "      <td>10.696701</td>\n",
              "      <td>11.068119</td>\n",
              "      <td>247.537000</td>\n",
              "      <td>0.0</td>\n",
              "      <td>1.501067</td>\n",
              "      <td>0.503381</td>\n",
              "      <td>12.534781</td>\n",
              "      <td>500.399800</td>\n",
              "      <td>inf</td>\n",
              "      <td>33923.514844</td>\n",
              "    </tr>\n",
              "    <tr>\n",
              "      <th>std</th>\n",
              "      <td>110.429165</td>\n",
              "      <td>3.178080</td>\n",
              "      <td>0.288326</td>\n",
              "      <td>10.016549</td>\n",
              "      <td>0.101933</td>\n",
              "      <td>8077.571933</td>\n",
              "      <td>10.252705</td>\n",
              "      <td>36586.982218</td>\n",
              "      <td>5.185897e+04</td>\n",
              "      <td>21.663194</td>\n",
              "      <td>0.274052</td>\n",
              "      <td>0.079400</td>\n",
              "      <td>4.592463</td>\n",
              "      <td>4.595501</td>\n",
              "      <td>146.118398</td>\n",
              "      <td>0.0</td>\n",
              "      <td>1.114941</td>\n",
              "      <td>0.499997</td>\n",
              "      <td>126.530487</td>\n",
              "      <td>287.968873</td>\n",
              "      <td>NaN</td>\n",
              "      <td>12692.406382</td>\n",
              "    </tr>\n",
              "    <tr>\n",
              "      <th>min</th>\n",
              "      <td>0.000000</td>\n",
              "      <td>86.191572</td>\n",
              "      <td>0.000035</td>\n",
              "      <td>60.663039</td>\n",
              "      <td>0.000000</td>\n",
              "      <td>1005.180000</td>\n",
              "      <td>36.000000</td>\n",
              "      <td>0.000000</td>\n",
              "      <td>4.821180e+03</td>\n",
              "      <td>0.000000</td>\n",
              "      <td>0.000000</td>\n",
              "      <td>0.000000</td>\n",
              "      <td>0.000000</td>\n",
              "      <td>0.000000</td>\n",
              "      <td>0.000000</td>\n",
              "      <td>0.0</td>\n",
              "      <td>0.000000</td>\n",
              "      <td>0.000000</td>\n",
              "      <td>-999.000000</td>\n",
              "      <td>0.000000</td>\n",
              "      <td>403.00</td>\n",
              "      <td>12001.000000</td>\n",
              "    </tr>\n",
              "    <tr>\n",
              "      <th>25%</th>\n",
              "      <td>270.000000</td>\n",
              "      <td>97.867036</td>\n",
              "      <td>0.252150</td>\n",
              "      <td>93.198353</td>\n",
              "      <td>0.220000</td>\n",
              "      <td>7519.502500</td>\n",
              "      <td>36.000000</td>\n",
              "      <td>10000.000000</td>\n",
              "      <td>4.501078e+04</td>\n",
              "      <td>17.000000</td>\n",
              "      <td>0.000000</td>\n",
              "      <td>0.000000</td>\n",
              "      <td>7.000000</td>\n",
              "      <td>8.000000</td>\n",
              "      <td>120.000000</td>\n",
              "      <td>0.0</td>\n",
              "      <td>1.000000</td>\n",
              "      <td>0.000000</td>\n",
              "      <td>11.000000</td>\n",
              "      <td>252.000000</td>\n",
              "      <td>50948.25</td>\n",
              "      <td>22937.000000</td>\n",
              "    </tr>\n",
              "    <tr>\n",
              "      <th>50%</th>\n",
              "      <td>340.000000</td>\n",
              "      <td>100.018900</td>\n",
              "      <td>0.500753</td>\n",
              "      <td>99.974796</td>\n",
              "      <td>0.290000</td>\n",
              "      <td>12023.465000</td>\n",
              "      <td>36.000000</td>\n",
              "      <td>25647.000000</td>\n",
              "      <td>6.126676e+04</td>\n",
              "      <td>32.000000</td>\n",
              "      <td>0.000000</td>\n",
              "      <td>0.000000</td>\n",
              "      <td>10.000000</td>\n",
              "      <td>10.000000</td>\n",
              "      <td>248.000000</td>\n",
              "      <td>0.0</td>\n",
              "      <td>2.000000</td>\n",
              "      <td>1.000000</td>\n",
              "      <td>27.000000</td>\n",
              "      <td>503.000000</td>\n",
              "      <td>101779.00</td>\n",
              "      <td>33896.000000</td>\n",
              "    </tr>\n",
              "    <tr>\n",
              "      <th>75%</th>\n",
              "      <td>420.000000</td>\n",
              "      <td>102.141797</td>\n",
              "      <td>0.748816</td>\n",
              "      <td>106.640275</td>\n",
              "      <td>0.360000</td>\n",
              "      <td>19220.270000</td>\n",
              "      <td>36.000000</td>\n",
              "      <td>47086.750000</td>\n",
              "      <td>8.601923e+04</td>\n",
              "      <td>50.000000</td>\n",
              "      <td>0.000000</td>\n",
              "      <td>0.000000</td>\n",
              "      <td>13.000000</td>\n",
              "      <td>14.000000</td>\n",
              "      <td>375.000000</td>\n",
              "      <td>0.0</td>\n",
              "      <td>2.000000</td>\n",
              "      <td>1.000000</td>\n",
              "      <td>43.000000</td>\n",
              "      <td>747.000000</td>\n",
              "      <td>151337.25</td>\n",
              "      <td>44910.000000</td>\n",
              "    </tr>\n",
              "    <tr>\n",
              "      <th>max</th>\n",
              "      <td>990.000000</td>\n",
              "      <td>113.978234</td>\n",
              "      <td>0.999973</td>\n",
              "      <td>142.192400</td>\n",
              "      <td>0.900000</td>\n",
              "      <td>35059.600000</td>\n",
              "      <td>60.000000</td>\n",
              "      <td>448269.000000</td>\n",
              "      <td>5.000028e+06</td>\n",
              "      <td>141.000000</td>\n",
              "      <td>5.000000</td>\n",
              "      <td>5.000000</td>\n",
              "      <td>49.000000</td>\n",
              "      <td>49.000000</td>\n",
              "      <td>500.000000</td>\n",
              "      <td>0.0</td>\n",
              "      <td>3.000000</td>\n",
              "      <td>1.000000</td>\n",
              "      <td>59.000000</td>\n",
              "      <td>1000.000000</td>\n",
              "      <td>inf</td>\n",
              "      <td>56000.000000</td>\n",
              "    </tr>\n",
              "  </tbody>\n",
              "</table>\n",
              "</div>\n",
              "      <button class=\"colab-df-convert\" onclick=\"convertToInteractive('df-82222649-aab1-48b0-9bfc-49b1b19c84f3')\"\n",
              "              title=\"Convert this dataframe to an interactive table.\"\n",
              "              style=\"display:none;\">\n",
              "        \n",
              "  <svg xmlns=\"http://www.w3.org/2000/svg\" height=\"24px\"viewBox=\"0 0 24 24\"\n",
              "       width=\"24px\">\n",
              "    <path d=\"M0 0h24v24H0V0z\" fill=\"none\"/>\n",
              "    <path d=\"M18.56 5.44l.94 2.06.94-2.06 2.06-.94-2.06-.94-.94-2.06-.94 2.06-2.06.94zm-11 1L8.5 8.5l.94-2.06 2.06-.94-2.06-.94L8.5 2.5l-.94 2.06-2.06.94zm10 10l.94 2.06.94-2.06 2.06-.94-2.06-.94-.94-2.06-.94 2.06-2.06.94z\"/><path d=\"M17.41 7.96l-1.37-1.37c-.4-.4-.92-.59-1.43-.59-.52 0-1.04.2-1.43.59L10.3 9.45l-7.72 7.72c-.78.78-.78 2.05 0 2.83L4 21.41c.39.39.9.59 1.41.59.51 0 1.02-.2 1.41-.59l7.78-7.78 2.81-2.81c.8-.78.8-2.07 0-2.86zM5.41 20L4 18.59l7.72-7.72 1.47 1.35L5.41 20z\"/>\n",
              "  </svg>\n",
              "      </button>\n",
              "      \n",
              "  <style>\n",
              "    .colab-df-container {\n",
              "      display:flex;\n",
              "      flex-wrap:wrap;\n",
              "      gap: 12px;\n",
              "    }\n",
              "\n",
              "    .colab-df-convert {\n",
              "      background-color: #E8F0FE;\n",
              "      border: none;\n",
              "      border-radius: 50%;\n",
              "      cursor: pointer;\n",
              "      display: none;\n",
              "      fill: #1967D2;\n",
              "      height: 32px;\n",
              "      padding: 0 0 0 0;\n",
              "      width: 32px;\n",
              "    }\n",
              "\n",
              "    .colab-df-convert:hover {\n",
              "      background-color: #E2EBFA;\n",
              "      box-shadow: 0px 1px 2px rgba(60, 64, 67, 0.3), 0px 1px 3px 1px rgba(60, 64, 67, 0.15);\n",
              "      fill: #174EA6;\n",
              "    }\n",
              "\n",
              "    [theme=dark] .colab-df-convert {\n",
              "      background-color: #3B4455;\n",
              "      fill: #D2E3FC;\n",
              "    }\n",
              "\n",
              "    [theme=dark] .colab-df-convert:hover {\n",
              "      background-color: #434B5C;\n",
              "      box-shadow: 0px 1px 3px 1px rgba(0, 0, 0, 0.15);\n",
              "      filter: drop-shadow(0px 1px 2px rgba(0, 0, 0, 0.3));\n",
              "      fill: #FFFFFF;\n",
              "    }\n",
              "  </style>\n",
              "\n",
              "      <script>\n",
              "        const buttonEl =\n",
              "          document.querySelector('#df-82222649-aab1-48b0-9bfc-49b1b19c84f3 button.colab-df-convert');\n",
              "        buttonEl.style.display =\n",
              "          google.colab.kernel.accessAllowed ? 'block' : 'none';\n",
              "\n",
              "        async function convertToInteractive(key) {\n",
              "          const element = document.querySelector('#df-82222649-aab1-48b0-9bfc-49b1b19c84f3');\n",
              "          const dataTable =\n",
              "            await google.colab.kernel.invokeFunction('convertToInteractive',\n",
              "                                                     [key], {});\n",
              "          if (!dataTable) return;\n",
              "\n",
              "          const docLinkHtml = 'Like what you see? Visit the ' +\n",
              "            '<a target=\"_blank\" href=https://colab.research.google.com/notebooks/data_table.ipynb>data table notebook</a>'\n",
              "            + ' to learn more about interactive tables.';\n",
              "          element.innerHTML = '';\n",
              "          dataTable['output_type'] = 'display_data';\n",
              "          await google.colab.output.renderOutput(dataTable, element);\n",
              "          const docLink = document.createElement('div');\n",
              "          docLink.innerHTML = docLinkHtml;\n",
              "          element.appendChild(docLink);\n",
              "        }\n",
              "      </script>\n",
              "    </div>\n",
              "  </div>\n",
              "  "
            ]
          },
          "metadata": {},
          "execution_count": 87
        }
      ]
    },
    {
      "cell_type": "markdown",
      "source": [
        "### 2.9 Verificando o balanceamento dos dados da variável alvo"
      ],
      "metadata": {
        "id": "Px404j1TFfOU"
      }
    },
    {
      "cell_type": "code",
      "source": [
        "# criando o gráfico\n",
        "fig, ax = plt.subplots(figsize=(10, 8))\n",
        "sns.countplot(df['target_default'], ax=ax, palette=['#9E9E9E','#5f249f'])\n",
        "ax.set_title('Quantidade de clientes inadimplentes', loc='left', pad=40, fontdict={'fontsize':20}, color='#3f3f4e');\n",
        "ax.set_frame_on(False)\n",
        "ax.set_xticklabels(['Adimplentes','Inadimplentes'])\n",
        "ax.tick_params(axis='x', length=0, labelsize=17, colors='dimgrey')\n",
        "ax.set_xlabel(' ')\n",
        "ax.get_yaxis().set_visible(False)\n",
        "\n",
        "#incluindo os rótulos\n",
        "for retangulo in ax.patches:\n",
        "  ax.text(retangulo.get_x() + retangulo.get_width() / 2,\n",
        "          retangulo.get_height() + 100,\n",
        "          '{:,}'.format(int(retangulo.get_height())).replace(',','.'),\n",
        "          ha = 'center',\n",
        "          fontsize=18, color='grey')\n",
        "\n",
        "# Rodapé\n",
        "ax.text(\n",
        "    -0.46,\n",
        "    -6000,\n",
        "    \"Fonte: Gráfico construído pelo Professor Thiago Nunes\"\n",
        ")\n",
        "\n",
        "#plotando o gráfico\n",
        "plt.show()"
      ],
      "metadata": {
        "colab": {
          "base_uri": "https://localhost:8080/",
          "height": 594
        },
        "id": "ap3KU94fFeLa",
        "outputId": "dc45ce8d-31c8-4b4a-c918-7b396a69b0bc"
      },
      "execution_count": 88,
      "outputs": [
        {
          "output_type": "display_data",
          "data": {
            "text/plain": [
              "<Figure size 720x576 with 1 Axes>"
            ],
            "image/png": "[encoded data removed]"
          },
          "metadata": {}
        }
      ]
    },
    {
      "cell_type": "markdown",
      "source": [
        "Como os inadimplentes são uma minoria na empresa, provavelmente realizaremos um balanceamento dos dados para não criarmos um viés."
      ],
      "metadata": {
        "id": "4WX-RbrQF0yA"
      }
    },
    {
      "cell_type": "markdown",
      "source": [
        "## 3. Preparação dos dados\n",
        "\n",
        "\n",
        "A preparação dos dados é uma etapa extremamente importante na implementação de modelos de Machine Learning, pois ela pode alterar significativamente o desempenho do modelo. \n",
        "\n",
        "A preparação dos dados envolve a análise e limpeza da base de dados para que os valores sejam adequados para alimentar o modelo com informações relevantes. É necessário verificar se existem valores ausentes, outliers, variáveis irrelevantes e outros fatores que possam afetar negativamente o desempenho do modelo. Ao realizarmos essas tarefas antes de treinar um modelo, poderemos obter resultados mais precisos e melhorias no resultado final.\n",
        "\n",
        "Nesta etapa faremos a preparação dos dados da Nubank com a seguinte sequência:\n",
        "* 3.1 Removendo as features irrelevantes;\n",
        "* 3.2 Substituindo os valores por Nan;\n",
        "* 3.3 Tratando dados ausentes;\n",
        "* 3.4 Tratando Outliers;\n",
        "* 3.5 Separando as variáveis categóricas e numéricas;\n",
        "    * 3.5.1 Label Encoding para as variáveis binárias;\n",
        "    * 3.5.2 Label Encoding para as variáveis com mais de 2 classes;\n",
        "* Extrair e codificar as colunas categóricas.\n",
        "\n"
      ],
      "metadata": {
        "id": "gFEM2ePiGLnY"
      }
    },
    {
      "cell_type": "markdown",
      "source": [
        "### 3.1 Removendo as features irrelevantes"
      ],
      "metadata": {
        "id": "7KgLlpm2GmcT"
      }
    },
    {
      "cell_type": "code",
      "source": [
        "# Copiando o DataFrame inicial para um novo DataFrame em que será removido as variáveis irrelevantes\n",
        "df_clean = df.copy()\n",
        "\n",
        "# Removendo as variáveis irrelevantes\n",
        "drop_df_clean = ['ids','external_data_provider_credit_checks_last_2_year',\n",
        "            'channel','external_data_provider_first_name','profile_phone_number',\n",
        "            'target_fraud','lat_lon','application_time_applied']\n",
        "df_clean.drop(labels=drop_df_clean, axis=1, inplace=True)\n",
        "\n",
        "# Checando o novo DataFrame sem as variáveis selecionadas\n",
        "df_clean.head()\n"
      ],
      "metadata": {
        "colab": {
          "base_uri": "https://localhost:8080/",
          "height": 669
        },
        "id": "pXHXyv5NF0CI",
        "outputId": "bd0f0afc-afa6-46a0-9270-ad4e75befe1a"
      },
      "execution_count": 89,
      "outputs": [
        {
          "output_type": "execute_result",
          "data": {
            "text/plain": [
              "  target_default                   score_1                   score_2  score_3  \\\n",
              "0          False  1Rk8w4Ucd5yR3KcqZzLdow==  IOVu8au3ISbo6+zmfnYwMg==    350.0   \n",
              "1          False  DGCQep2AE5QRkNCshIAlFQ==  SaamrHMo23l/3TwXOWgVzw==    370.0   \n",
              "2           True  DGCQep2AE5QRkNCshIAlFQ==  Fv28Bz0YRTVAT5kl1bAV6g==    360.0   \n",
              "3          False  1Rk8w4Ucd5yR3KcqZzLdow==  dCm9hFKfdRm7ej3jW+gyxw==    510.0   \n",
              "4          False  8k8UDR4Yx0qasAjkGrUZLw==  +CxEO4w7jv3QPI/BQbyqAA==    500.0   \n",
              "\n",
              "      score_4   score_5     score_6  risk_rate  last_amount_borrowed  \\\n",
              "0  101.800832  0.259555  108.427273       0.40              25033.92   \n",
              "1   97.062615  0.942655   92.002546       0.24                   NaN   \n",
              "2  100.027073  0.351918  112.892453       0.29               7207.92   \n",
              "3  101.599485  0.987673   94.902491       0.32                   NaN   \n",
              "4   98.474289  0.532539  118.126207       0.18                   NaN   \n",
              "\n",
              "   last_borrowed_in_months  credit_limit  \\\n",
              "0                     36.0           0.0   \n",
              "1                      NaN       39726.0   \n",
              "2                     36.0           NaN   \n",
              "3                      NaN       54591.0   \n",
              "4                      NaN           NaN   \n",
              "\n",
              "                                              reason     income  \\\n",
              "0  mLVIVxoGY7TUDJ1FyFoSIZi1SFcaBmO01AydRchaEiGYtU...   65014.12   \n",
              "1  mLVIVxoGY7TUDJ1FyFoSIZi1SFcaBmO01AydRchaEiGYtU...  100018.91   \n",
              "2  mLVIVxoGY7TUDJ1FyFoSIZi1SFcaBmO01AydRchaEiGYtU...   65023.65   \n",
              "3  mLVIVxoGY7TUDJ1FyFoSIZi1SFcaBmO01AydRchaEiGYtU...   68830.01   \n",
              "4  mLVIVxoGY7TUDJ1FyFoSIZi1SFcaBmO01AydRchaEiGYtU...   60011.29   \n",
              "\n",
              "  facebook_profile                     state                       zip  \\\n",
              "0             True  sjJbkqJS7cXalHLBFA+EOQ==  Ernn+uVXCMq/6ARrBCcd+A==   \n",
              "1            False  xsd3ZdsI3356I3xMxZeiqQ==  rlWIXTBO+VOa34+SpGyhlQ==   \n",
              "2              NaN  Ygq6MsM98oC8yceExr69Ig==  PjTIDfJsK0DKL9fO7vuW2g==   \n",
              "3            False  KET/Pmr6rHp1RJ/P9ymztw==  Cc/kWDLQH3dpHv5HU+pLVA==   \n",
              "4             True  xsd3ZdsI3356I3xMxZeiqQ==  i036nmJ7rfxo+3EvCD7Jnw==   \n",
              "\n",
              "                                            job_name  \\\n",
              "0  mLVIVxoGY7TUDJ1FyFoSIZi1SFcaBmO01AydRchaEiGYtU...   \n",
              "1  mLVIVxoGY7TUDJ1FyFoSIZi1SFcaBmO01AydRchaEiGYtU...   \n",
              "2  mLVIVxoGY7TUDJ1FyFoSIZi1SFcaBmO01AydRchaEiGYtU...   \n",
              "3  mLVIVxoGY7TUDJ1FyFoSIZi1SFcaBmO01AydRchaEiE56f...   \n",
              "4  mLVIVxoGY7TUDJ1FyFoSIZi1SFcaBmO01AydRchaEiGYtU...   \n",
              "\n",
              "                 real_state  ok_since  n_bankruptcies  n_defaulted_loans  \\\n",
              "0  N5/CE7lSkAfB04hVFFwllw==       NaN             0.0                0.0   \n",
              "1  N5/CE7lSkAfB04hVFFwllw==      50.0             0.0                0.0   \n",
              "2  n+xK9CfX0bCn77lClTWviw==       NaN             0.0                0.0   \n",
              "3  n+xK9CfX0bCn77lClTWviw==       NaN             1.0                0.0   \n",
              "4  n+xK9CfX0bCn77lClTWviw==       NaN             0.0                0.0   \n",
              "\n",
              "   n_accounts  n_issues  application_time_in_funnel        email  \\\n",
              "0        18.0      18.0                         444  outlook.com   \n",
              "1        14.0      14.0                         346    gmail.com   \n",
              "2        10.0       NaN                           6    gmail.com   \n",
              "3        19.0      19.0                         406    spgov.com   \n",
              "4        11.0       NaN                         240    gmail.com   \n",
              "\n",
              "   external_data_provider_credit_checks_last_month  \\\n",
              "0                                                2   \n",
              "1                                                1   \n",
              "2                                                2   \n",
              "3                                                3   \n",
              "4                                                2   \n",
              "\n",
              "   external_data_provider_credit_checks_last_year  \\\n",
              "0                                             0.0   \n",
              "1                                             0.0   \n",
              "2                                             NaN   \n",
              "3                                             NaN   \n",
              "4                                             1.0   \n",
              "\n",
              "   external_data_provider_email_seen_before  \\\n",
              "0                                      51.0   \n",
              "1                                      17.0   \n",
              "2                                       9.0   \n",
              "3                                      38.0   \n",
              "4                                      46.0   \n",
              "\n",
              "   external_data_provider_fraud_score marketing_channel  reported_income  \\\n",
              "0                                 645      Invite-email          57849.0   \n",
              "1                                 243  Radio-commercial           4902.0   \n",
              "2                                  65      Waiting-list         163679.0   \n",
              "3                                 815      Waiting-list           1086.0   \n",
              "4                                 320      Invite-email         198618.0   \n",
              "\n",
              "  shipping_state  shipping_zip_code  \\\n",
              "0          BR-MT              17528   \n",
              "1          BR-RS              40933   \n",
              "2          BR-RR              50985   \n",
              "3          BR-RN              37825   \n",
              "4          BR-MT              52827   \n",
              "\n",
              "                                profile_tags  \\\n",
              "0                    {'tags': ['n19', 'n8']}   \n",
              "1              {'tags': ['n6', 'n7', 'nim']}   \n",
              "2       {'tags': ['n0', 'n17', 'nim', 'da']}   \n",
              "3                           {'tags': ['n4']}   \n",
              "4  {'tags': ['pro+aty', 'n19', 'da', 'b19']}   \n",
              "\n",
              "                                          user_agent  \n",
              "0  Mozilla/5.0 (Linux; Android 6.0.1; SGP771 Buil...  \n",
              "1  Mozilla/5.0 (Linux; Android 5.0.2; SAMSUNG SM-...  \n",
              "2  Mozilla/5.0 (Linux; Android 6.0.1; SGP771 Buil...  \n",
              "3  Mozilla/5.0 (Linux; Android 6.0; HTC One X10 B...  \n",
              "4  Mozilla/5.0 (Linux; Android 7.0; Pixel C Build...  "
            ],
            "text/html": [
              "\n",
              "  <div id=\"df-44d93c46-6dab-4cdb-b605-b27e6594470c\">\n",
              "    <div class=\"colab-df-container\">\n",
              "      <div>\n",
              "<style scoped>\n",
              "    .dataframe tbody tr th:only-of-type {\n",
              "        vertical-align: middle;\n",
              "    }\n",
              "\n",
              "    .dataframe tbody tr th {\n",
              "        vertical-align: top;\n",
              "    }\n",
              "\n",
              "    .dataframe thead th {\n",
              "        text-align: right;\n",
              "    }\n",
              "</style>\n",
              "<table border=\"1\" class=\"dataframe\">\n",
              "  <thead>\n",
              "    <tr style=\"text-align: right;\">\n",
              "      <th></th>\n",
              "      <th>target_default</th>\n",
              "      <th>score_1</th>\n",
              "      <th>score_2</th>\n",
              "      <th>score_3</th>\n",
              "      <th>score_4</th>\n",
              "      <th>score_5</th>\n",
              "      <th>score_6</th>\n",
              "      <th>risk_rate</th>\n",
              "      <th>last_amount_borrowed</th>\n",
              "      <th>last_borrowed_in_months</th>\n",
              "      <th>credit_limit</th>\n",
              "      <th>reason</th>\n",
              "      <th>income</th>\n",
              "      <th>facebook_profile</th>\n",
              "      <th>state</th>\n",
              "      <th>zip</th>\n",
              "      <th>job_name</th>\n",
              "      <th>real_state</th>\n",
              "      <th>ok_since</th>\n",
              "      <th>n_bankruptcies</th>\n",
              "      <th>n_defaulted_loans</th>\n",
              "      <th>n_accounts</th>\n",
              "      <th>n_issues</th>\n",
              "      <th>application_time_in_funnel</th>\n",
              "      <th>email</th>\n",
              "      <th>external_data_provider_credit_checks_last_month</th>\n",
              "      <th>external_data_provider_credit_checks_last_year</th>\n",
              "      <th>external_data_provider_email_seen_before</th>\n",
              "      <th>external_data_provider_fraud_score</th>\n",
              "      <th>marketing_channel</th>\n",
              "      <th>reported_income</th>\n",
              "      <th>shipping_state</th>\n",
              "      <th>shipping_zip_code</th>\n",
              "      <th>profile_tags</th>\n",
              "      <th>user_agent</th>\n",
              "    </tr>\n",
              "  </thead>\n",
              "  <tbody>\n",
              "    <tr>\n",
              "      <th>0</th>\n",
              "      <td>False</td>\n",
              "      <td>1Rk8w4Ucd5yR3KcqZzLdow==</td>\n",
              "      <td>IOVu8au3ISbo6+zmfnYwMg==</td>\n",
              "      <td>350.0</td>\n",
              "      <td>101.800832</td>\n",
              "      <td>0.259555</td>\n",
              "      <td>108.427273</td>\n",
              "      <td>0.40</td>\n",
              "      <td>25033.92</td>\n",
              "      <td>36.0</td>\n",
              "      <td>0.0</td>\n",
              "      <td>mLVIVxoGY7TUDJ1FyFoSIZi1SFcaBmO01AydRchaEiGYtU...</td>\n",
              "      <td>65014.12</td>\n",
              "      <td>True</td>\n",
              "      <td>sjJbkqJS7cXalHLBFA+EOQ==</td>\n",
              "      <td>Ernn+uVXCMq/6ARrBCcd+A==</td>\n",
              "      <td>mLVIVxoGY7TUDJ1FyFoSIZi1SFcaBmO01AydRchaEiGYtU...</td>\n",
              "      <td>N5/CE7lSkAfB04hVFFwllw==</td>\n",
              "      <td>NaN</td>\n",
              "      <td>0.0</td>\n",
              "      <td>0.0</td>\n",
              "      <td>18.0</td>\n",
              "      <td>18.0</td>\n",
              "      <td>444</td>\n",
              "      <td>outlook.com</td>\n",
              "      <td>2</td>\n",
              "      <td>0.0</td>\n",
              "      <td>51.0</td>\n",
              "      <td>645</td>\n",
              "      <td>Invite-email</td>\n",
              "      <td>57849.0</td>\n",
              "      <td>BR-MT</td>\n",
              "      <td>17528</td>\n",
              "      <td>{'tags': ['n19', 'n8']}</td>\n",
              "      <td>Mozilla/5.0 (Linux; Android 6.0.1; SGP771 Buil...</td>\n",
              "    </tr>\n",
              "    <tr>\n",
              "      <th>1</th>\n",
              "      <td>False</td>\n",
              "      <td>DGCQep2AE5QRkNCshIAlFQ==</td>\n",
              "      <td>SaamrHMo23l/3TwXOWgVzw==</td>\n",
              "      <td>370.0</td>\n",
              "      <td>97.062615</td>\n",
              "      <td>0.942655</td>\n",
              "      <td>92.002546</td>\n",
              "      <td>0.24</td>\n",
              "      <td>NaN</td>\n",
              "      <td>NaN</td>\n",
              "      <td>39726.0</td>\n",
              "      <td>mLVIVxoGY7TUDJ1FyFoSIZi1SFcaBmO01AydRchaEiGYtU...</td>\n",
              "      <td>100018.91</td>\n",
              "      <td>False</td>\n",
              "      <td>xsd3ZdsI3356I3xMxZeiqQ==</td>\n",
              "      <td>rlWIXTBO+VOa34+SpGyhlQ==</td>\n",
              "      <td>mLVIVxoGY7TUDJ1FyFoSIZi1SFcaBmO01AydRchaEiGYtU...</td>\n",
              "      <td>N5/CE7lSkAfB04hVFFwllw==</td>\n",
              "      <td>50.0</td>\n",
              "      <td>0.0</td>\n",
              "      <td>0.0</td>\n",
              "      <td>14.0</td>\n",
              "      <td>14.0</td>\n",
              "      <td>346</td>\n",
              "      <td>gmail.com</td>\n",
              "      <td>1</td>\n",
              "      <td>0.0</td>\n",
              "      <td>17.0</td>\n",
              "      <td>243</td>\n",
              "      <td>Radio-commercial</td>\n",
              "      <td>4902.0</td>\n",
              "      <td>BR-RS</td>\n",
              "      <td>40933</td>\n",
              "      <td>{'tags': ['n6', 'n7', 'nim']}</td>\n",
              "      <td>Mozilla/5.0 (Linux; Android 5.0.2; SAMSUNG SM-...</td>\n",
              "    </tr>\n",
              "    <tr>\n",
              "      <th>2</th>\n",
              "      <td>True</td>\n",
              "      <td>DGCQep2AE5QRkNCshIAlFQ==</td>\n",
              "      <td>Fv28Bz0YRTVAT5kl1bAV6g==</td>\n",
              "      <td>360.0</td>\n",
              "      <td>100.027073</td>\n",
              "      <td>0.351918</td>\n",
              "      <td>112.892453</td>\n",
              "      <td>0.29</td>\n",
              "      <td>7207.92</td>\n",
              "      <td>36.0</td>\n",
              "      <td>NaN</td>\n",
              "      <td>mLVIVxoGY7TUDJ1FyFoSIZi1SFcaBmO01AydRchaEiGYtU...</td>\n",
              "      <td>65023.65</td>\n",
              "      <td>NaN</td>\n",
              "      <td>Ygq6MsM98oC8yceExr69Ig==</td>\n",
              "      <td>PjTIDfJsK0DKL9fO7vuW2g==</td>\n",
              "      <td>mLVIVxoGY7TUDJ1FyFoSIZi1SFcaBmO01AydRchaEiGYtU...</td>\n",
              "      <td>n+xK9CfX0bCn77lClTWviw==</td>\n",
              "      <td>NaN</td>\n",
              "      <td>0.0</td>\n",
              "      <td>0.0</td>\n",
              "      <td>10.0</td>\n",
              "      <td>NaN</td>\n",
              "      <td>6</td>\n",
              "      <td>gmail.com</td>\n",
              "      <td>2</td>\n",
              "      <td>NaN</td>\n",
              "      <td>9.0</td>\n",
              "      <td>65</td>\n",
              "      <td>Waiting-list</td>\n",
              "      <td>163679.0</td>\n",
              "      <td>BR-RR</td>\n",
              "      <td>50985</td>\n",
              "      <td>{'tags': ['n0', 'n17', 'nim', 'da']}</td>\n",
              "      <td>Mozilla/5.0 (Linux; Android 6.0.1; SGP771 Buil...</td>\n",
              "    </tr>\n",
              "    <tr>\n",
              "      <th>3</th>\n",
              "      <td>False</td>\n",
              "      <td>1Rk8w4Ucd5yR3KcqZzLdow==</td>\n",
              "      <td>dCm9hFKfdRm7ej3jW+gyxw==</td>\n",
              "      <td>510.0</td>\n",
              "      <td>101.599485</td>\n",
              "      <td>0.987673</td>\n",
              "      <td>94.902491</td>\n",
              "      <td>0.32</td>\n",
              "      <td>NaN</td>\n",
              "      <td>NaN</td>\n",
              "      <td>54591.0</td>\n",
              "      <td>mLVIVxoGY7TUDJ1FyFoSIZi1SFcaBmO01AydRchaEiGYtU...</td>\n",
              "      <td>68830.01</td>\n",
              "      <td>False</td>\n",
              "      <td>KET/Pmr6rHp1RJ/P9ymztw==</td>\n",
              "      <td>Cc/kWDLQH3dpHv5HU+pLVA==</td>\n",
              "      <td>mLVIVxoGY7TUDJ1FyFoSIZi1SFcaBmO01AydRchaEiE56f...</td>\n",
              "      <td>n+xK9CfX0bCn77lClTWviw==</td>\n",
              "      <td>NaN</td>\n",
              "      <td>1.0</td>\n",
              "      <td>0.0</td>\n",
              "      <td>19.0</td>\n",
              "      <td>19.0</td>\n",
              "      <td>406</td>\n",
              "      <td>spgov.com</td>\n",
              "      <td>3</td>\n",
              "      <td>NaN</td>\n",
              "      <td>38.0</td>\n",
              "      <td>815</td>\n",
              "      <td>Waiting-list</td>\n",
              "      <td>1086.0</td>\n",
              "      <td>BR-RN</td>\n",
              "      <td>37825</td>\n",
              "      <td>{'tags': ['n4']}</td>\n",
              "      <td>Mozilla/5.0 (Linux; Android 6.0; HTC One X10 B...</td>\n",
              "    </tr>\n",
              "    <tr>\n",
              "      <th>4</th>\n",
              "      <td>False</td>\n",
              "      <td>8k8UDR4Yx0qasAjkGrUZLw==</td>\n",
              "      <td>+CxEO4w7jv3QPI/BQbyqAA==</td>\n",
              "      <td>500.0</td>\n",
              "      <td>98.474289</td>\n",
              "      <td>0.532539</td>\n",
              "      <td>118.126207</td>\n",
              "      <td>0.18</td>\n",
              "      <td>NaN</td>\n",
              "      <td>NaN</td>\n",
              "      <td>NaN</td>\n",
              "      <td>mLVIVxoGY7TUDJ1FyFoSIZi1SFcaBmO01AydRchaEiGYtU...</td>\n",
              "      <td>60011.29</td>\n",
              "      <td>True</td>\n",
              "      <td>xsd3ZdsI3356I3xMxZeiqQ==</td>\n",
              "      <td>i036nmJ7rfxo+3EvCD7Jnw==</td>\n",
              "      <td>mLVIVxoGY7TUDJ1FyFoSIZi1SFcaBmO01AydRchaEiGYtU...</td>\n",
              "      <td>n+xK9CfX0bCn77lClTWviw==</td>\n",
              "      <td>NaN</td>\n",
              "      <td>0.0</td>\n",
              "      <td>0.0</td>\n",
              "      <td>11.0</td>\n",
              "      <td>NaN</td>\n",
              "      <td>240</td>\n",
              "      <td>gmail.com</td>\n",
              "      <td>2</td>\n",
              "      <td>1.0</td>\n",
              "      <td>46.0</td>\n",
              "      <td>320</td>\n",
              "      <td>Invite-email</td>\n",
              "      <td>198618.0</td>\n",
              "      <td>BR-MT</td>\n",
              "      <td>52827</td>\n",
              "      <td>{'tags': ['pro+aty', 'n19', 'da', 'b19']}</td>\n",
              "      <td>Mozilla/5.0 (Linux; Android 7.0; Pixel C Build...</td>\n",
              "    </tr>\n",
              "  </tbody>\n",
              "</table>\n",
              "</div>\n",
              "      <button class=\"colab-df-convert\" onclick=\"convertToInteractive('df-44d93c46-6dab-4cdb-b605-b27e6594470c')\"\n",
              "              title=\"Convert this dataframe to an interactive table.\"\n",
              "              style=\"display:none;\">\n",
              "        \n",
              "  <svg xmlns=\"http://www.w3.org/2000/svg\" height=\"24px\"viewBox=\"0 0 24 24\"\n",
              "       width=\"24px\">\n",
              "    <path d=\"M0 0h24v24H0V0z\" fill=\"none\"/>\n",
              "    <path d=\"M18.56 5.44l.94 2.06.94-2.06 2.06-.94-2.06-.94-.94-2.06-.94 2.06-2.06.94zm-11 1L8.5 8.5l.94-2.06 2.06-.94-2.06-.94L8.5 2.5l-.94 2.06-2.06.94zm10 10l.94 2.06.94-2.06 2.06-.94-2.06-.94-.94-2.06-.94 2.06-2.06.94z\"/><path d=\"M17.41 7.96l-1.37-1.37c-.4-.4-.92-.59-1.43-.59-.52 0-1.04.2-1.43.59L10.3 9.45l-7.72 7.72c-.78.78-.78 2.05 0 2.83L4 21.41c.39.39.9.59 1.41.59.51 0 1.02-.2 1.41-.59l7.78-7.78 2.81-2.81c.8-.78.8-2.07 0-2.86zM5.41 20L4 18.59l7.72-7.72 1.47 1.35L5.41 20z\"/>\n",
              "  </svg>\n",
              "      </button>\n",
              "      \n",
              "  <style>\n",
              "    .colab-df-container {\n",
              "      display:flex;\n",
              "      flex-wrap:wrap;\n",
              "      gap: 12px;\n",
              "    }\n",
              "\n",
              "    .colab-df-convert {\n",
              "      background-color: #E8F0FE;\n",
              "      border: none;\n",
              "      border-radius: 50%;\n",
              "      cursor: pointer;\n",
              "      display: none;\n",
              "      fill: #1967D2;\n",
              "      height: 32px;\n",
              "      padding: 0 0 0 0;\n",
              "      width: 32px;\n",
              "    }\n",
              "\n",
              "    .colab-df-convert:hover {\n",
              "      background-color: #E2EBFA;\n",
              "      box-shadow: 0px 1px 2px rgba(60, 64, 67, 0.3), 0px 1px 3px 1px rgba(60, 64, 67, 0.15);\n",
              "      fill: #174EA6;\n",
              "    }\n",
              "\n",
              "    [theme=dark] .colab-df-convert {\n",
              "      background-color: #3B4455;\n",
              "      fill: #D2E3FC;\n",
              "    }\n",
              "\n",
              "    [theme=dark] .colab-df-convert:hover {\n",
              "      background-color: #434B5C;\n",
              "      box-shadow: 0px 1px 3px 1px rgba(0, 0, 0, 0.15);\n",
              "      filter: drop-shadow(0px 1px 2px rgba(0, 0, 0, 0.3));\n",
              "      fill: #FFFFFF;\n",
              "    }\n",
              "  </style>\n",
              "\n",
              "      <script>\n",
              "        const buttonEl =\n",
              "          document.querySelector('#df-44d93c46-6dab-4cdb-b605-b27e6594470c button.colab-df-convert');\n",
              "        buttonEl.style.display =\n",
              "          google.colab.kernel.accessAllowed ? 'block' : 'none';\n",
              "\n",
              "        async function convertToInteractive(key) {\n",
              "          const element = document.querySelector('#df-44d93c46-6dab-4cdb-b605-b27e6594470c');\n",
              "          const dataTable =\n",
              "            await google.colab.kernel.invokeFunction('convertToInteractive',\n",
              "                                                     [key], {});\n",
              "          if (!dataTable) return;\n",
              "\n",
              "          const docLinkHtml = 'Like what you see? Visit the ' +\n",
              "            '<a target=\"_blank\" href=https://colab.research.google.com/notebooks/data_table.ipynb>data table notebook</a>'\n",
              "            + ' to learn more about interactive tables.';\n",
              "          element.innerHTML = '';\n",
              "          dataTable['output_type'] = 'display_data';\n",
              "          await google.colab.output.renderOutput(dataTable, element);\n",
              "          const docLink = document.createElement('div');\n",
              "          docLink.innerHTML = docLinkHtml;\n",
              "          element.appendChild(docLink);\n",
              "        }\n",
              "      </script>\n",
              "    </div>\n",
              "  </div>\n",
              "  "
            ]
          },
          "metadata": {},
          "execution_count": 89
        }
      ]
    },
    {
      "cell_type": "markdown",
      "source": [
        "A remoção de variáveis irrelevantes é uma etapa importante no processo de análise de dados. Esta etapa ajuda a melhorar o desempenho dos modelos, reduzindo o ruído e evitando sobreajustes. Além disso, pode simplificar os resultados da análise tornando-os mais fáceis de interpretar.\n",
        "\n",
        "Quando se trata das variáveis irrelevantes na ciência de dados, elas são definidas como aquelas que não têm qualquer valor para a análise em questão. Isso acontece porque elas não contribuem para a previsão ou explicação dos resultados, e podem até mesmo interferir na precisão das estimativas."
      ],
      "metadata": {
        "id": "LXcZ6Yj8HtJi"
      }
    },
    {
      "cell_type": "markdown",
      "source": [
        "### 3.2 Substituindo valores discrepantes por NaN\n",
        "Como vimos, existem variáveis que possuem valores semelhantes a dados ausentes, como é o caso de valores mínimos negativos (-999) e valores do tipo `inf`, então vamos convertê-los em `NaN` e na próxima etapa fazer o tratamento desses dados ausentes."
      ],
      "metadata": {
        "id": "zWDaQ14DH3uj"
      }
    },
    {
      "cell_type": "code",
      "source": [
        "# Substituindo os valores inf por NaN na variável reported_income\n",
        "df_clean['reported_income'] = df_clean['reported_income'].replace(np.inf, np.nan)\n",
        "\n",
        "# Substituindo os valores negativos -999 por NaN na variável external_data_provider_email_seen_before\n",
        "df_clean.loc[df_clean['external_data_provider_email_seen_before'] == -999.0,\n",
        "           'external_data_provider_email_seen_before'] = np.nan\n",
        "\n",
        "# Checando o resumo estatístico da variável reported_income\n",
        "df_clean['reported_income'].describe()"
      ],
      "metadata": {
        "colab": {
          "base_uri": "https://localhost:8080/"
        },
        "id": "3bpML35oIALq",
        "outputId": "30ae11ec-b314-4501-a297-82edabf57e45"
      },
      "execution_count": 90,
      "outputs": [
        {
          "output_type": "execute_result",
          "data": {
            "text/plain": [
              "count    4.493300e+04\n",
              "mean     1.032542e+13\n",
              "std      2.559648e+14\n",
              "min      4.030000e+02\n",
              "25%      5.085600e+04\n",
              "50%      1.016300e+05\n",
              "75%      1.511870e+05\n",
              "max      6.355500e+15\n",
              "Name: reported_income, dtype: float64"
            ]
          },
          "metadata": {},
          "execution_count": 90
        }
      ]
    },
    {
      "cell_type": "code",
      "source": [
        "# Checando o resumo estatístico da variável external_data_provider_email_seen_before\n",
        "df_clean['external_data_provider_email_seen_before'].describe()"
      ],
      "metadata": {
        "colab": {
          "base_uri": "https://localhost:8080/"
        },
        "id": "g2AagQGiIk0u",
        "outputId": "0c1b5d55-2c85-4354-a8ce-2f0136036b70"
      },
      "execution_count": 91,
      "outputs": [
        {
          "output_type": "execute_result",
          "data": {
            "text/plain": [
              "count    42121.000000\n",
              "mean        28.048456\n",
              "std         17.939836\n",
              "min         -1.000000\n",
              "25%         12.000000\n",
              "50%         28.000000\n",
              "75%         44.000000\n",
              "max         59.000000\n",
              "Name: external_data_provider_email_seen_before, dtype: float64"
            ]
          },
          "metadata": {},
          "execution_count": 91
        }
      ]
    },
    {
      "cell_type": "markdown",
      "source": [
        "### 3.3 Tratando os dados ausentes (`NaN`)\n",
        "\n",
        "Tratar valores ausentes é uma parte essencial da ciência de dados. Os dados são um dos principais insumos para qualquer análise e, portanto, não podem conter lacunas ou inconsistências que afetem os resultados finais. \n",
        "\n",
        "Como visto anteriormente no tópico 2.5:\n",
        "\n",
        "* A variável alvo para este projeto, `target_default`: possui 7% de dados ausentes, como substituir esses valores pode influenciar a decisão do modelo, vamos optar por remover estes dados, uma vez que são poucos dados ausentes;\n",
        "\n",
        "* Para variáveis numéricas vamos substituir os valores ausentes pela mediana, que não sofre muita influência de outliers, as variáveis são:\n",
        " \n",
        "\n",
        "* Para variáveis categóricas, substituiremos pelo valor mais frequente, que são as variáveis:\n",
        " \n",
        "\n",
        " Para substituir os valores ausentes vamos utilizar o método `SimpleImputer`:\n",
        " "
      ],
      "metadata": {
        "id": "wIhPoQdZIs2T"
      }
    },
    {
      "cell_type": "code",
      "source": [
        "# Remover os valores ausentes da variável alvo \n",
        "df_clean.dropna(subset=['target_default'], inplace=True)\n",
        "\n",
        "# Substituir os valores nas variáveis numéricas\n",
        "num_var = df_clean.select_dtypes(exclude='object').columns\n",
        "\n",
        "imputer_num = SimpleImputer(missing_values=np.nan, strategy='median')\n",
        "imputer_num = imputer_num.fit(df_clean.loc[:,num_var])\n",
        "df_clean.loc[:,num_var] = imputer_num.transform(df_clean.loc[:,num_var])\n",
        "\n",
        "# Substituir os valores nas variáveis categóricas\n",
        "cat_var = df_clean.select_dtypes(include='object').columns\n",
        "\n",
        "imputer_cat = SimpleImputer(missing_values=np.nan, strategy='most_frequent')\n",
        "imputer_cat = imputer_cat.fit(df_clean.loc[:,cat_var])\n",
        "df_clean.loc[:,cat_var] = imputer_cat.transform(df_clean.loc[:,cat_var])"
      ],
      "metadata": {
        "id": "F8BH_LdqJLEI"
      },
      "execution_count": 92,
      "outputs": []
    },
    {
      "cell_type": "markdown",
      "source": [
        "Verificando se os valores ausentes foram trocados\n",
        "\n"
      ],
      "metadata": {
        "id": "qZak6On4JbWx"
      }
    },
    {
      "cell_type": "code",
      "source": [
        "# Checando se os dados foram preenchidos\n",
        "print(f' O dataset possui: {df_clean.isnull().sum().max()} valores ausentes')"
      ],
      "metadata": {
        "colab": {
          "base_uri": "https://localhost:8080/"
        },
        "id": "WOtRxsZXJd-s",
        "outputId": "9714c7e4-7279-4adc-de4a-acda6bdc2a56"
      },
      "execution_count": 93,
      "outputs": [
        {
          "output_type": "stream",
          "name": "stdout",
          "text": [
            " O dataset possui: 0 valores ausentes\n"
          ]
        }
      ]
    },
    {
      "cell_type": "markdown",
      "source": [
        "O tratamento adequado dos valores ausentes nos dados é essencial para obter resultados precisos, pois os algoritmos usados ​​para análise de dados são sensíveis à presença desse tipo de informação incompleta. "
      ],
      "metadata": {
        "id": "XehCYBbnJ83l"
      }
    },
    {
      "cell_type": "markdown",
      "source": [
        "### 3.4 Tratando os Outliers\n",
        "\n",
        "Outliers são valores extremos presentes em um conjunto de dados, podendo ocorrer tanto para valores superiores e inferiores ao padrão. Eles podem ser resultado de erros na coleta dos dados, falhas nos processos, entre outras possíveis causas. Os outliers interferem diretamente nas análises realizadas com os dados, sendo necessário identificar seus motivos e corrigir esses problemas antes da realização desses estudos. Além disso, é importante tomar cuidado ao trabalhar com dados que possuam outliers, pois eles podem distorcer as conclusões obtidas. Por exemplo, um outlier alto pode levar a uma estimativa incorreta da média dos dados.\n",
        "\n",
        "Algumas das variáveis que aparentavam possuir outliers são:\n",
        "* `score_3`\n",
        "* `score_6`\n",
        "* `credit_limit`\n",
        "\n",
        "Analisando o boxplot delas e caso seja confirmado a presença de outliers, será necessário analisar com bastante atenção o impacto delas no nosso modelo."
      ],
      "metadata": {
        "id": "9_8FKzGtKEK6"
      }
    },
    {
      "cell_type": "code",
      "source": [
        "fig, ax = plt.subplots(nrows=1, ncols=2, figsize=(12, 4))\n",
        "\n",
        "# Setando as cores padrão\n",
        "sns.set_palette(cores.values())\n",
        "\n",
        "# Criando o BOXPLOT\n",
        "sns.boxplot(df_clean['score_3'], ax=ax[0], color= '#5f249f') \n",
        "sns.boxplot(df_clean['credit_limit'], ax=ax[1],  color= '#5f249f') # Limite de crédito\n",
        "\n",
        "# Remover spines da direira e superior\n",
        "\n",
        "# score_3\n",
        "ax[0].spines['right'].set_visible(False)\n",
        "ax[0].spines['top'].set_visible(False)\n",
        "\n",
        "# credit_limit\n",
        "ax[1].spines['right'].set_visible(False)\n",
        "ax[1].spines['top'].set_visible(False)\n",
        "\n",
        "\n",
        "ax[0].set_title('Verificando os Outliers', loc='left', pad=40, fontdict={'fontsize':20}, color= '#3f3f4e');\n",
        "\n",
        "# Colocando as legendas\n",
        "\n",
        "# score_3\n",
        "ax[0].set_xlabel('Score_3')\n",
        "ax[0].set_ylabel(' ')\n",
        "\n",
        "# credit_limit\n",
        "ax[1].set_xlabel('Credit_limit')\n",
        "ax[1].set_ylabel(' ')\n",
        "\n",
        "# Plotando o gráfico\n",
        "plt.tight_layout();"
      ],
      "metadata": {
        "colab": {
          "base_uri": "https://localhost:8080/",
          "height": 295
        },
        "id": "Qrx9bnybKDeK",
        "outputId": "df135b08-9571-46ad-9122-1a8c682b54d0"
      },
      "execution_count": 94,
      "outputs": [
        {
          "output_type": "display_data",
          "data": {
            "text/plain": [
              "<Figure size 864x288 with 2 Axes>"
            ],
            "image/png": "[encoded data removed]"
          },
          "metadata": {}
        }
      ]
    },
    {
      "cell_type": "markdown",
      "source": [
        "Os boxplots comprovam a existência de outliers, onde cada ponto além dos limites do boxplot representam as outliers.\n",
        "\n",
        "Como confirmado a presença de outliers, vamos avançar para a etapa de tratamento.\n",
        "\n",
        "Primeiramente iremos calcular os limites superiores e inferiores de cada variável com a regra do IQR Score:"
      ],
      "metadata": {
        "id": "WY2I6f11Kb7K"
      }
    },
    {
      "cell_type": "code",
      "source": [
        "# Definindo a função para o limite superior\n",
        "def limite_sup(x):\n",
        "  # Calculando o IQR Score\n",
        "  q1 = x.quantile(.25) # Primeiro Quartil(25%)\n",
        "  q3 = x.quantile(.75) # Terceiro Quartil(75%)\n",
        "  IQR_Score = q3 - q1\n",
        "\n",
        "  # Definindo os limites superiores\n",
        "  superior = q3 + 1.5 * IQR_Score\n",
        " \n",
        "  return superior\n",
        "\n",
        "# Definindo a função para o limite inferior\n",
        "def limite_inf(x):\n",
        "  # Calculando o IQR Score\n",
        "  q1 = x.quantile(.25) # Primeiro Quartil(25%)\n",
        "  q3 = x.quantile(.75) # Terceiro Quartil(75%)\n",
        "  IQR_Score = q3 - q1\n",
        "\n",
        "  # Definindo os limites inferiores\n",
        "  inferior = q1 - 1.5 * IQR_Score\n",
        " \n",
        "  return inferior"
      ],
      "metadata": {
        "id": "3MjVCi-_Kjh3"
      },
      "execution_count": 95,
      "outputs": []
    },
    {
      "cell_type": "markdown",
      "source": [
        "#### 3.4.1 Substituindo outliers\n",
        "\n",
        "Vamos converter as outliers pelos valores dos limites superiores e inferiores obtidos pelo método IQR Score:"
      ],
      "metadata": {
        "id": "s8GadpCpK3_1"
      }
    },
    {
      "cell_type": "code",
      "source": [
        "# Define a função lambda para substituir valores no intervalo do limite superior e inferior\n",
        "replace_lambda = replace_outliers = lambda x: np.where(x > limite_sup(x), limite_sup(x), np.where(x < limite_inf(x), limite_inf(x), x))"
      ],
      "metadata": {
        "id": "Q2OndPrILDtx"
      },
      "execution_count": 96,
      "outputs": []
    },
    {
      "cell_type": "code",
      "source": [
        "# Aplica a função lambda a todas as variáveis numéricas do DataFrame usando apply\n",
        "df_clean[df_clean.select_dtypes(include=['number']).columns] = df_clean.select_dtypes(include=['number']).apply(replace_lambda)"
      ],
      "metadata": {
        "id": "s4c5zwoILGCE"
      },
      "execution_count": 97,
      "outputs": []
    },
    {
      "cell_type": "code",
      "source": [
        "# Verificando a substituição de outliers\n",
        "fig, ax = plt.subplots(nrows=1, ncols=2, figsize=(12, 4))\n",
        "\n",
        "# Setando as cores padrão\n",
        "sns.set_palette(cores.values())\n",
        "\n",
        "# Criando o BOXPLOT\n",
        "sns.boxplot(df_clean['score_3'], ax=ax[0], color= '#5f249f') \n",
        "sns.boxplot(df_clean['credit_limit'], ax=ax[1],  color= '#5f249f') # Limite de crédito\n",
        "\n",
        "# Remover spines da direira e superior\n",
        "\n",
        "# score_3\n",
        "ax[0].spines['right'].set_visible(False)\n",
        "ax[0].spines['top'].set_visible(False)\n",
        "\n",
        "# credit_limit\n",
        "ax[1].spines['right'].set_visible(False)\n",
        "ax[1].spines['top'].set_visible(False)\n",
        "\n",
        "\n",
        "ax[0].set_title('Verificando os Outliers', loc='left', pad=40, fontdict={'fontsize':20}, color= '#3f3f4e');\n",
        "\n",
        "# Colocando as legendas\n",
        "\n",
        "# score_3\n",
        "ax[0].set_xlabel('Score_3')\n",
        "ax[0].set_ylabel(' ')\n",
        "\n",
        "# credit_limit\n",
        "ax[1].set_xlabel('Credit_limit')\n",
        "ax[1].set_ylabel(' ')\n",
        "\n",
        "# Visualizando\n",
        "plt.show()\n"
      ],
      "metadata": {
        "colab": {
          "base_uri": "https://localhost:8080/",
          "height": 335
        },
        "id": "ZPym6Fg-LoDm",
        "outputId": "6dc43e1e-857f-4b3d-8e94-40414296680a"
      },
      "execution_count": 98,
      "outputs": [
        {
          "output_type": "display_data",
          "data": {
            "text/plain": [
              "<Figure size 864x288 with 2 Axes>"
            ],
            "image/png": "[encoded data removed]"
          },
          "metadata": {}
        }
      ]
    },
    {
      "cell_type": "markdown",
      "source": [
        "#### 3.4.2 Verificando perdas na substituição\n",
        "Os valores foram convertidos com sucesso, mas ainda é necessário mais uma análise, dessa vez, vamos checar se houve perdas de informação:"
      ],
      "metadata": {
        "id": "AqVVslwbL5wM"
      }
    },
    {
      "cell_type": "code",
      "source": [
        "print('Quantidade de entradas antes das substituições: ', df.shape[0])\n",
        "print('Quantidade de entradas depois das substituições: ', df_clean.shape[0])"
      ],
      "metadata": {
        "colab": {
          "base_uri": "https://localhost:8080/"
        },
        "id": "fmzTJfLWMP7r",
        "outputId": "a5bf7820-f07f-45cc-f272-6b0c45263c9f"
      },
      "execution_count": 99,
      "outputs": [
        {
          "output_type": "stream",
          "name": "stdout",
          "text": [
            "Quantidade de entradas antes das substituições:  45000\n",
            "Quantidade de entradas depois das substituições:  41741\n"
          ]
        }
      ]
    },
    {
      "cell_type": "markdown",
      "source": [
        "Tivemos uma perda de dados mas não por causa do método IQR score, mas pelo fato da remoção de features irelevantes no item 3.1."
      ],
      "metadata": {
        "id": "br72eObdNUFr"
      }
    },
    {
      "cell_type": "markdown",
      "source": [
        "### 3.5 Separando as variáveis categóricas das numéricas do dataset"
      ],
      "metadata": {
        "id": "OmwavkQMOGum"
      }
    },
    {
      "cell_type": "code",
      "source": [
        "# Separando as variáveis binárias do dataset\n",
        "variavel_binaria = df_clean.nunique()[df_clean.nunique() == 2].keys().tolist()\n",
        "\n",
        "# Agrupando as variáveis numéricas\n",
        "variavel_numerica = [col for col in df_clean.select_dtypes(['int', 'float']).columns.tolist() if col not in variavel_binaria]\n",
        "\n",
        "# Agrupando as variáveis categóricas\n",
        "variavel_categorica = [col for col in df_clean.columns.tolist() if col not in variavel_binaria + variavel_numerica]\n"
      ],
      "metadata": {
        "id": "EA_LPeFWOI3T"
      },
      "execution_count": 100,
      "outputs": []
    },
    {
      "cell_type": "markdown",
      "source": [
        "#### 3.5.1 Label Encoding para as variáveis binárias\n",
        "Um conjunto de dados pode conter vários tipos de valores, às vezes consiste em valores categóricos. Então, para usar esses valores categóricos para programação eficientemente criamos variáveis falsas. Uma variável fictícia é uma variável binária que indica se uma variável categórica separada assume um valor específico.\n",
        "\n",
        "transformaremos os dados em binários, 0 ou 1"
      ],
      "metadata": {
        "id": "7a9o2KM2OfbH"
      }
    },
    {
      "cell_type": "code",
      "source": [
        "# Label Encoding para as variáveis binárias\n",
        "label_encoding = LabelEncoder()\n",
        "for i in variavel_binaria:\n",
        "  df_clean[i] = label_encoding.fit_transform(df_clean[i])"
      ],
      "metadata": {
        "id": "9YRpz4XcNkVX"
      },
      "execution_count": 101,
      "outputs": []
    },
    {
      "cell_type": "markdown",
      "source": [
        "#### 3.5.2 Label Encoding para as variáveis com mais de 2 classes\n",
        "\n",
        "Para as variáveis categóricas, temos que analisar mais profundamente e buscar entender como estão distribuídos os dados, para então decidirmos a melhor maneira de tratá-las.\n",
        "\n",
        "Sabendo disso, vamos identificar as variáveis categóricas do nosso dataset:\n"
      ],
      "metadata": {
        "id": "A40ACQ-POwRP"
      }
    },
    {
      "cell_type": "code",
      "source": [
        "df_clean.select_dtypes('object').columns"
      ],
      "metadata": {
        "colab": {
          "base_uri": "https://localhost:8080/"
        },
        "id": "xwd33eshO2B8",
        "outputId": "ebf428a7-1e07-42f6-ed12-f8df6d2c35f7"
      },
      "execution_count": 102,
      "outputs": [
        {
          "output_type": "execute_result",
          "data": {
            "text/plain": [
              "Index(['score_1', 'score_2', 'reason', 'state', 'zip', 'job_name',\n",
              "       'real_state', 'email', 'marketing_channel', 'shipping_state',\n",
              "       'profile_tags', 'user_agent'],\n",
              "      dtype='object')"
            ]
          },
          "metadata": {},
          "execution_count": 102
        }
      ]
    },
    {
      "cell_type": "markdown",
      "source": [
        "As variáveis categóricas são:\n",
        "* `score_1`;\n",
        "* `score_2`;\n",
        "* `reason`;\n",
        "* `state`;\n",
        "* `real_state`;\n",
        "* `email`;\n",
        "* `marketing_channel`;\n",
        "* `shipping_state`.\n",
        "\n",
        "Como não temos nenhuma documentação sobre essas variáveis, irei assumir que em nenhuma delas existe uma correlação dos valores, ou seja, irei adotar todas essas variáveis categóricas como nominais.\n",
        "\n",
        "Adotando-as como nominais, vamos checar a quantidade de valores únicos que existem em cada uma:\n"
      ],
      "metadata": {
        "id": "PshFXTIiPQmA"
      }
    },
    {
      "cell_type": "code",
      "source": [
        "# Checando a quantidade de valores únicos para as variáveis categóricas\n",
        "\n",
        "for i in dict(df_clean.select_dtypes('object').nunique()).items():\n",
        "  variavel = i[0]\n",
        "  caracteres = '_'*(30 - len(variavel))\n",
        "\n",
        "  tipo = i[1]\n",
        "  print(f'A variável [{variavel}]{caracteres} possui {tipo} valores únicos.')"
      ],
      "metadata": {
        "colab": {
          "base_uri": "https://localhost:8080/"
        },
        "id": "2-ywKmnlPNwk",
        "outputId": "2872bcaf-0ca2-4aef-8297-c883fcb59e7d"
      },
      "execution_count": 103,
      "outputs": [
        {
          "output_type": "stream",
          "name": "stdout",
          "text": [
            "A variável [score_1]_______________________ possui 7 valores únicos.\n",
            "A variável [score_2]_______________________ possui 35 valores únicos.\n",
            "A variável [reason]________________________ possui 14260 valores únicos.\n",
            "A variável [state]_________________________ possui 50 valores únicos.\n",
            "A variável [zip]___________________________ possui 823 valores únicos.\n",
            "A variável [job_name]______________________ possui 30543 valores únicos.\n",
            "A variável [real_state]____________________ possui 5 valores únicos.\n",
            "A variável [email]_________________________ possui 6 valores únicos.\n",
            "A variável [marketing_channel]_____________ possui 9 valores únicos.\n",
            "A variável [shipping_state]________________ possui 25 valores únicos.\n",
            "A variável [profile_tags]__________________ possui 24458 valores únicos.\n",
            "A variável [user_agent]____________________ possui 297 valores únicos.\n"
          ]
        }
      ]
    },
    {
      "cell_type": "markdown",
      "source": [
        "### 3.6 Extrair e codificar as colunas categóricas"
      ],
      "metadata": {
        "id": "h07-1Xl-lxA5"
      }
    },
    {
      "cell_type": "code",
      "source": [
        "# extrair as colunas categóricas\n",
        "cat_cols = df_clean.select_dtypes('object').columns\n",
        "\n",
        "# codificar cada coluna categórica\n",
        "for col in cat_cols:\n",
        "  df_clean[col+'_encoded'] = LabelEncoder().fit_transform(df_clean[col])\n",
        "  df_clean.drop(col, axis=1, inplace=True)"
      ],
      "metadata": {
        "id": "3n-zgIUuk6up"
      },
      "execution_count": 104,
      "outputs": []
    },
    {
      "cell_type": "markdown",
      "source": [
        "## 4. Construindo, treinando e avaliando o modelo\n",
        "\n",
        "* 4.1 Criando uma cópia do dataframe;\n",
        "* 4.2 Separando a variável alvo;\n",
        "* 4.3 Dividindo os dados de treino e teste;\n",
        "* 4.4 Criando um Cross-validation e uma baseline;\n",
        "* 4.5 Feature Scaling - Padronização;\n",
        "* 4.6 Balanceando os dados;\n",
        "* 4.7 Otimizando os hiperparâmetros com Grid Search;\n",
        "* 4.8 Verificando o desempenho do modelo"
      ],
      "metadata": {
        "id": "3xE4pbO2YJ4C"
      }
    },
    {
      "cell_type": "markdown",
      "source": [
        "### 4.1 Criando uma cópia do dataframe"
      ],
      "metadata": {
        "id": "nsu2CoVycaAm"
      }
    },
    {
      "cell_type": "code",
      "source": [
        "# Criando uma cópia do dataframe\n",
        "df_copia = df_clean.copy()"
      ],
      "metadata": {
        "id": "_mz0F3-Tcvsi"
      },
      "execution_count": 105,
      "outputs": []
    },
    {
      "cell_type": "markdown",
      "source": [
        "### 4.2 Separar a variável alvo\n",
        "Nesta etapa é necessário separar a variável alvo \"target_default\", essa é a variável que faremos a predição."
      ],
      "metadata": {
        "id": "1xKAsqzWZLa3"
      }
    },
    {
      "cell_type": "code",
      "source": [
        "# Separando a variável alvo\n",
        "\n",
        "X = df_copia.drop('target_default', axis = 1)\n",
        "y = df_copia['target_default']"
      ],
      "metadata": {
        "id": "9q0pGC8hX_Km"
      },
      "execution_count": 106,
      "outputs": []
    },
    {
      "cell_type": "markdown",
      "source": [
        "### 4.3 Dividindo os dados em treino e teste\n",
        "\n",
        "Para agrupar os dados de treino e teste, vamos dividir os dados, sendo 70% para treino e 30% para teste."
      ],
      "metadata": {
        "id": "RhM3-1dqeRVf"
      }
    },
    {
      "cell_type": "code",
      "source": [
        "# dividir o dataset entre treino e teste\n",
        "X_train, X_test, y_train, y_test = train_test_split(X, y, test_size=0.3)"
      ],
      "metadata": {
        "id": "465KE-HkeUkI"
      },
      "execution_count": 107,
      "outputs": []
    },
    {
      "cell_type": "markdown",
      "source": [
        "### 4.4 Criando um Cross-validation e uma baseline\n",
        "\n",
        "Cross-Validation (CV) é uma técnica usada para avaliar um modelo de aprendizado de máquina e testar seu desempenho (ou precisão). Envolve reservar uma amostra específica de um conjunto de dados no qual o modelo não é treinado. Posteriormente, o modelo é testado nesta amostra para avaliá-lo.\n",
        "\n",
        "A validação cruzada é usada para proteger um modelo de superequipar, especialmente se a quantidade de dados disponíveis for limitada. Também é conhecido como estimativa de rotação ou teste fora da amostra e é usado principalmente em configurações onde o alvo do modelo é a previsão.\n",
        "\n",
        "obs:  Um modelo é considerado \"superequipado\" se modelar os dados de treinamento tão bem que afeta negativamente seu desempenho em novos dados.\n",
        "\n",
        "Este procedimento de reamostragem também é usado para comparar diferentes modelos de aprendizado de máquina e determinar o quão bem eles funcionam para resolver um determinado problema. Em outras palavras, a validação cruzada é um método usado para avaliar a habilidade dos modelos de aprendizagem de máquina."
      ],
      "metadata": {
        "id": "Mv7JfkNMc9Pv"
      }
    },
    {
      "cell_type": "code",
      "source": [
        "# construindo função de avaliação do baseline\n",
        "def val_model(X, y, clf, quite=False):\n",
        "    \"\"\"\n",
        "    Realiza cross-validation com os dados de treino para determinado modelo.\n",
        "\n",
        "    # Arguments\n",
        "        X: DataFrame, contém as variáveis independetes.\n",
        "        y: Series, vetor contendo a variável alvo.\n",
        "        clf: modelo classificador do Scikit-learn.\n",
        "        quite: bool, indicando se a função deve imprimir os resultados ou não.\n",
        "\n",
        "    # Returns\n",
        "        float, média dos scores da cross-validation.\n",
        "    \"\"\"\n",
        "    \n",
        "    X = np.array(X)\n",
        "    y = np.array(y)\n",
        "\n",
        "    pipeline = make_pipeline(StandardScaler(), clf)\n",
        "    scores = cross_val_score(pipeline, X, y, scoring='accuracy')\n",
        "\n",
        "    if quite == False:\n",
        "        print(\"Acurácia: {:.4f} (+/- {:.2f})\".format(scores.mean(), scores.std()))\n",
        "    \n",
        "    return scores.mean()\n",
        "\n",
        "# criar baseline e ver desempenho\n",
        "rf = RandomForestClassifier()\n",
        "score_baseline = val_model(X_train, y_train, rf)\n"
      ],
      "metadata": {
        "colab": {
          "base_uri": "https://localhost:8080/"
        },
        "id": "a57ZMUObdUf7",
        "outputId": "d7a09b38-4b9a-447f-a099-669111d6cb7b"
      },
      "execution_count": 108,
      "outputs": [
        {
          "output_type": "stream",
          "name": "stdout",
          "text": [
            "Acurácia: 0.8375 (+/- 0.00)\n"
          ]
        }
      ]
    },
    {
      "cell_type": "markdown",
      "source": [
        "### 4.5 Feature Scaling\n",
        "É um passo importante para padronizar os recursos independentes presentes no conjunto de dados. Padronizando, queremos dimensionar os recursos para trazê-los na mesma faixa. Existem várias técnicas para realizar o dimensionamento de recursos. Mas, primeiro, vamos entender por que é importante fazê-lo.\n",
        "\n",
        "Em um cenário geral, cada característica no conjunto de dados tem algumas unidades e magnitude. Suponha que tenhamos duas características : Idade e Salário. O modelo de machine learning dará alta importância a características que têm alta magnitude e baixa importância para características de baixa magnitude, independentemente da unidade dos valores, isso prejudica o nosso modelo de ML."
      ],
      "metadata": {
        "id": "hA5V8kp1mNII"
      }
    },
    {
      "cell_type": "markdown",
      "source": [
        "4.7.1 Padronizando os dados\n",
        "\n",
        "Padronização é quando as features sofrem uma mudança de escala, e passa a ter as propriedades de uma distribuição normal com média $\\mu = 0$ e desvio padrão $\\sigma = 1$.\n",
        "\n",
        "Na padronização, os z-scores são calculados da seguinte maneira:\n",
        "\n",
        "\\begin{align}\n",
        "  z = \\frac{x-\\mu}{\\sigma}   \\space onde:\\space  \\space \\sigma = \\sqrt{\\frac{(x-\\mu)^2}{n}}\n",
        "\\end{align}\n",
        "<br>\n",
        "<center><img src = \"http://saylordotorg.github.io/text_introductory-statistics/section_09/e7a042db29b39bb94416c06789301faa.jpg\" width=40%></center><br>\n",
        "\n",
        "  Onde:\n",
        "\n",
        "> <ul type=\"None\">\n",
        "> <li>$z$: Z-Score</li>\n",
        "> <li>$x$: Dados retirados do dataset</li>\n",
        "> <li>$\\mu$: média dos dados</li>\n",
        "> <li>$\\sigma$: Desvio padrão dos dados</li>\n",
        "> <li>$n$: Número de observações"
      ],
      "metadata": {
        "id": "dp_JddIJmdQ8"
      }
    },
    {
      "cell_type": "code",
      "source": [
        "#  padronizar os  dados,\n",
        "scaler = StandardScaler().fit(X_train)\n",
        "X_train = scaler.transform(X_train)"
      ],
      "metadata": {
        "id": "pHJTPP3XmcZz"
      },
      "execution_count": 109,
      "outputs": []
    },
    {
      "cell_type": "markdown",
      "source": [
        "### 4.6 Balanceando os dados\n",
        "\n",
        "Dados Desbalanceados podem ser definidos pela pequena incidência de uma categoria dentro de um dataset (classe minoritária) em comparação com as demais categorias (classes majoritárias). Na maioria dos casos, isso faz com que tenhamos muitas informações a respeito das categorias mais incidentes, e menos das minoritárias, o que pode, em muito casos, interferir no modelo de Machine Learning."
      ],
      "metadata": {
        "id": "qqT6_tSRnhOW"
      }
    },
    {
      "cell_type": "code",
      "source": [
        "# Balanceando os dados\n",
        "rus = RandomUnderSampler(random_state=11)\n",
        "X_train_rus, y_train_rus = rus.fit_resample(X_train, y_train)"
      ],
      "metadata": {
        "id": "5m73KAbjnjx4"
      },
      "execution_count": 110,
      "outputs": []
    },
    {
      "cell_type": "code",
      "source": [
        "# plotar gráfico de barras para as Classes\n",
        "fig, ax = plt.subplots(figsize=(10, 6), dpi = 72)\n",
        "\n",
        "# plotar a nova distribuição da variável Churn\n",
        "sns.countplot(y_train_rus)\n",
        "\n",
        "# Configurações dos gráficos\n",
        "# ax.set_frame_on(False)\n",
        "ax.set_title('Dados balanceados para a variável target_default', loc='left', pad=40, fontdict={'fontsize':20}, color='#515151');\n",
        "\n",
        "# Limite do eixo y\n",
        "plt.ylim()\n",
        "\n",
        "# ax.get_yaxis().set_visible(False)\n",
        "ax.set_xlabel(' ')\n",
        "ax.set_ylabel(' ')\n",
        "\n",
        "ax.spines['right'].set_visible(False)\n",
        "ax.spines['top'].set_visible(False)\n",
        "\n",
        "\n",
        "# Colocando as legendas\n",
        "plt.xticks([0, 1], ['Não', 'Sim'], fontsize = 20)\n",
        "\n",
        "# mostrar grafico e subplots\n",
        "plt.tight_layout();"
      ],
      "metadata": {
        "colab": {
          "base_uri": "https://localhost:8080/",
          "height": 439
        },
        "id": "lRKVD7lcnsY9",
        "outputId": "5961ea1a-19fe-4a51-9450-9d4f84604e1e"
      },
      "execution_count": 112,
      "outputs": [
        {
          "output_type": "display_data",
          "data": {
            "text/plain": [
              "<Figure size 720x432 with 1 Axes>"
            ],
            "image/png": "[encoded data removed]"
          },
          "metadata": {}
        }
      ]
    },
    {
      "cell_type": "markdown",
      "source": [
        "### 4.6 Aplicando o cross-validation em alguns modelos\n",
        "\n",
        "Aplicando a validação cruzada a vários modelos, a fim de identificar o seu desempenho e escolher o(s) melhor(es). Novamente, serão utilizados apenas dados de treino. Os modelos escolhidos são:\n",
        "\n",
        "* Random Forest\n",
        "* Decision Tree\n",
        "* Stochastic Gradient Descent\n",
        "* SVC\n",
        "* Regressão Logística\n",
        "* XGBClassifier\n",
        "* LightGBM"
      ],
      "metadata": {
        "id": "Ng7aN0RsoCPZ"
      }
    },
    {
      "cell_type": "code",
      "source": [
        "# instanciar=ndo os modelos\n",
        "\n",
        "rf = RandomForestClassifier()\n",
        "dt = DecisionTreeClassifier()\n",
        "svc = SVC()\n",
        "lr = LogisticRegression()\n",
        "xgb = XGBClassifier()\n",
        "model = []\n",
        "recall = []\n",
        "# avaliar o desempenho (recall)\n",
        "for clf in (rf, dt, svc, lr, xgb):\n",
        "    model.append(clf.__class__.__name__)\n",
        "    recall.append(val_model(X_train_rus, y_train_rus, clf, quite=True))\n",
        "\n",
        "pd.DataFrame(data=recall, index=model, columns=['Recall'])"
      ],
      "metadata": {
        "colab": {
          "base_uri": "https://localhost:8080/",
          "height": 206
        },
        "id": "Fed_TuPkoEsA",
        "outputId": "21b84237-f1b9-4e74-8700-fccb8dde8405"
      },
      "execution_count": 115,
      "outputs": [
        {
          "output_type": "execute_result",
          "data": {
            "text/plain": [
              "                          Recall\n",
              "RandomForestClassifier  0.639357\n",
              "DecisionTreeClassifier  0.559106\n",
              "SVC                     0.623160\n",
              "LogisticRegression      0.621794\n",
              "XGBClassifier           0.633781"
            ],
            "text/html": [
              "\n",
              "  <div id=\"df-ae02f985-f11c-4e46-b8bb-a3722728e078\">\n",
              "    <div class=\"colab-df-container\">\n",
              "      <div>\n",
              "<style scoped>\n",
              "    .dataframe tbody tr th:only-of-type {\n",
              "        vertical-align: middle;\n",
              "    }\n",
              "\n",
              "    .dataframe tbody tr th {\n",
              "        vertical-align: top;\n",
              "    }\n",
              "\n",
              "    .dataframe thead th {\n",
              "        text-align: right;\n",
              "    }\n",
              "</style>\n",
              "<table border=\"1\" class=\"dataframe\">\n",
              "  <thead>\n",
              "    <tr style=\"text-align: right;\">\n",
              "      <th></th>\n",
              "      <th>Recall</th>\n",
              "    </tr>\n",
              "  </thead>\n",
              "  <tbody>\n",
              "    <tr>\n",
              "      <th>RandomForestClassifier</th>\n",
              "      <td>0.639357</td>\n",
              "    </tr>\n",
              "    <tr>\n",
              "      <th>DecisionTreeClassifier</th>\n",
              "      <td>0.559106</td>\n",
              "    </tr>\n",
              "    <tr>\n",
              "      <th>SVC</th>\n",
              "      <td>0.623160</td>\n",
              "    </tr>\n",
              "    <tr>\n",
              "      <th>LogisticRegression</th>\n",
              "      <td>0.621794</td>\n",
              "    </tr>\n",
              "    <tr>\n",
              "      <th>XGBClassifier</th>\n",
              "      <td>0.633781</td>\n",
              "    </tr>\n",
              "  </tbody>\n",
              "</table>\n",
              "</div>\n",
              "      <button class=\"colab-df-convert\" onclick=\"convertToInteractive('df-ae02f985-f11c-4e46-b8bb-a3722728e078')\"\n",
              "              title=\"Convert this dataframe to an interactive table.\"\n",
              "              style=\"display:none;\">\n",
              "        \n",
              "  <svg xmlns=\"http://www.w3.org/2000/svg\" height=\"24px\"viewBox=\"0 0 24 24\"\n",
              "       width=\"24px\">\n",
              "    <path d=\"M0 0h24v24H0V0z\" fill=\"none\"/>\n",
              "    <path d=\"M18.56 5.44l.94 2.06.94-2.06 2.06-.94-2.06-.94-.94-2.06-.94 2.06-2.06.94zm-11 1L8.5 8.5l.94-2.06 2.06-.94-2.06-.94L8.5 2.5l-.94 2.06-2.06.94zm10 10l.94 2.06.94-2.06 2.06-.94-2.06-.94-.94-2.06-.94 2.06-2.06.94z\"/><path d=\"M17.41 7.96l-1.37-1.37c-.4-.4-.92-.59-1.43-.59-.52 0-1.04.2-1.43.59L10.3 9.45l-7.72 7.72c-.78.78-.78 2.05 0 2.83L4 21.41c.39.39.9.59 1.41.59.51 0 1.02-.2 1.41-.59l7.78-7.78 2.81-2.81c.8-.78.8-2.07 0-2.86zM5.41 20L4 18.59l7.72-7.72 1.47 1.35L5.41 20z\"/>\n",
              "  </svg>\n",
              "      </button>\n",
              "      \n",
              "  <style>\n",
              "    .colab-df-container {\n",
              "      display:flex;\n",
              "      flex-wrap:wrap;\n",
              "      gap: 12px;\n",
              "    }\n",
              "\n",
              "    .colab-df-convert {\n",
              "      background-color: #E8F0FE;\n",
              "      border: none;\n",
              "      border-radius: 50%;\n",
              "      cursor: pointer;\n",
              "      display: none;\n",
              "      fill: #1967D2;\n",
              "      height: 32px;\n",
              "      padding: 0 0 0 0;\n",
              "      width: 32px;\n",
              "    }\n",
              "\n",
              "    .colab-df-convert:hover {\n",
              "      background-color: #E2EBFA;\n",
              "      box-shadow: 0px 1px 2px rgba(60, 64, 67, 0.3), 0px 1px 3px 1px rgba(60, 64, 67, 0.15);\n",
              "      fill: #174EA6;\n",
              "    }\n",
              "\n",
              "    [theme=dark] .colab-df-convert {\n",
              "      background-color: #3B4455;\n",
              "      fill: #D2E3FC;\n",
              "    }\n",
              "\n",
              "    [theme=dark] .colab-df-convert:hover {\n",
              "      background-color: #434B5C;\n",
              "      box-shadow: 0px 1px 3px 1px rgba(0, 0, 0, 0.15);\n",
              "      filter: drop-shadow(0px 1px 2px rgba(0, 0, 0, 0.3));\n",
              "      fill: #FFFFFF;\n",
              "    }\n",
              "  </style>\n",
              "\n",
              "      <script>\n",
              "        const buttonEl =\n",
              "          document.querySelector('#df-ae02f985-f11c-4e46-b8bb-a3722728e078 button.colab-df-convert');\n",
              "        buttonEl.style.display =\n",
              "          google.colab.kernel.accessAllowed ? 'block' : 'none';\n",
              "\n",
              "        async function convertToInteractive(key) {\n",
              "          const element = document.querySelector('#df-ae02f985-f11c-4e46-b8bb-a3722728e078');\n",
              "          const dataTable =\n",
              "            await google.colab.kernel.invokeFunction('convertToInteractive',\n",
              "                                                     [key], {});\n",
              "          if (!dataTable) return;\n",
              "\n",
              "          const docLinkHtml = 'Like what you see? Visit the ' +\n",
              "            '<a target=\"_blank\" href=https://colab.research.google.com/notebooks/data_table.ipynb>data table notebook</a>'\n",
              "            + ' to learn more about interactive tables.';\n",
              "          element.innerHTML = '';\n",
              "          dataTable['output_type'] = 'display_data';\n",
              "          await google.colab.output.renderOutput(dataTable, element);\n",
              "          const docLink = document.createElement('div');\n",
              "          docLink.innerHTML = docLinkHtml;\n",
              "          element.appendChild(docLink);\n",
              "        }\n",
              "      </script>\n",
              "    </div>\n",
              "  </div>\n",
              "  "
            ]
          },
          "metadata": {},
          "execution_count": 115
        }
      ]
    },
    {
      "cell_type": "markdown",
      "source": [
        "### 4.7 Otimização dos hiperparâmetros com Grid Search\n",
        "\n",
        "O XGBoost tem muitos parâmetros. Alguns têm mais impacto na qualidade do modelo, outros menos. Uma boa prática é definir a taxa de aprendizado e o número de estimadores, ajustar outros parâmetros e, finalmente, verificar outras taxas de aprendizado.\n",
        "\n",
        "Abaixo, ajustando o número de estimadores. O modelo é instanciado com \"learning_rate=0.1\"."
      ],
      "metadata": {
        "id": "-l9ez-9ApICr"
      }
    },
    {
      "cell_type": "code",
      "source": [
        "xgb = XGBClassifier(learning_rate=0.1)\n",
        "\n",
        "param_grid = {\n",
        " 'n_estimators':range(0,1000,50),\n",
        "}\n",
        "\n",
        "# identificar melhor parâmetro\n",
        "kfold = StratifiedKFold(n_splits=10, shuffle=True)\n",
        "grid_search = GridSearchCV(xgb, param_grid, scoring=\"recall\", n_jobs=-1, cv=kfold)\n",
        "grid_result = grid_search.fit(X_train_rus, y_train_rus)\n",
        "\n",
        "# ver resultados\n",
        "print(f\"Melhor: {grid_result.best_score_} para {grid_result.best_params_}\")"
      ],
      "metadata": {
        "colab": {
          "base_uri": "https://localhost:8080/"
        },
        "id": "7Fgnj916pOme",
        "outputId": "f38a3d3d-8048-4812-c443-66a17a9e5968"
      },
      "execution_count": 116,
      "outputs": [
        {
          "output_type": "stream",
          "name": "stdout",
          "text": [
            "Melhor: 0.642203449800973 para {'n_estimators': 200}\n"
          ]
        }
      ]
    },
    {
      "cell_type": "markdown",
      "source": [
        "Para o número de estimadores igual a 50, faremos a busca pelos parâmtros max_depth e min_child_weight."
      ],
      "metadata": {
        "id": "1H3nnLIppTv9"
      }
    },
    {
      "cell_type": "code",
      "source": [
        "xgb = XGBClassifier(learning_rate=0.1, n_estimators=50)\n",
        "\n",
        "param_grid = {\n",
        " 'max_depth':range(1,8,1),\n",
        " 'min_child_weight':range(1,5,1)\n",
        "}\n",
        "\n",
        "# identificar melhor parâmetro\n",
        "kfold = StratifiedKFold(n_splits=10, shuffle=True)\n",
        "grid_search = GridSearchCV(xgb, param_grid, scoring=\"recall\", n_jobs=-1, cv=kfold)\n",
        "grid_result = grid_search.fit(X_train_rus, y_train_rus)\n",
        "\n",
        "# ver resultados\n",
        "print(f\"Melhor: {grid_result.best_score_} para {grid_result.best_params_}\")"
      ],
      "metadata": {
        "colab": {
          "base_uri": "https://localhost:8080/"
        },
        "id": "hakJFscQpbY4",
        "outputId": "972d7bb6-7ebd-4415-d060-d067ce8e8b3d"
      },
      "execution_count": 117,
      "outputs": [
        {
          "output_type": "stream",
          "name": "stdout",
          "text": [
            "Melhor: 0.6472339672711189 para {'max_depth': 5, 'min_child_weight': 1}\n"
          ]
        }
      ]
    },
    {
      "cell_type": "markdown",
      "source": [
        "Obtidos os valores de max_depth=1 e min_child_weight=1, será otimizado o parâmetro gamma."
      ],
      "metadata": {
        "id": "EvTHsu2lpi9t"
      }
    },
    {
      "cell_type": "code",
      "source": [
        "xgb = XGBClassifier(learning_rate=0.1, n_estimators=50, max_depth=1, min_child_weight=1)\n",
        "\n",
        "param_grid = {\n",
        " 'gamma':[i/10.0 for i in range(0,5)]\n",
        "}\n",
        "\n",
        "# identificar melhor parâmetro\n",
        "kfold = StratifiedKFold(n_splits=10, shuffle=True)\n",
        "grid_search = GridSearchCV(xgb, param_grid, scoring=\"recall\", n_jobs=-1, cv=kfold)\n",
        "grid_result = grid_search.fit(X_train_rus, y_train_rus)\n",
        "\n",
        "# ver resultados\n",
        "print(f\"Melhor: {grid_result.best_score_} para {grid_result.best_params_}\")"
      ],
      "metadata": {
        "colab": {
          "base_uri": "https://localhost:8080/"
        },
        "id": "7-rUr-Y3pkP1",
        "outputId": "2da9e2e5-d63d-450b-c62a-700de0e9a89d"
      },
      "execution_count": 118,
      "outputs": [
        {
          "output_type": "stream",
          "name": "stdout",
          "text": [
            "Melhor: 0.6032750995134896 para {'gamma': 0.0}\n"
          ]
        }
      ]
    },
    {
      "cell_type": "markdown",
      "source": [
        "Finalizando, obtido gamma=0, será realizado quatro testes para a learning_rate e ver qual destes testes oferece o melhor resultado."
      ],
      "metadata": {
        "id": "-WqZzpnFpsta"
      }
    },
    {
      "cell_type": "code",
      "source": [
        "xgb = XGBClassifier(n_estimators=50, max_depth=1, min_child_weight=1, gamma=0.0)\n",
        "\n",
        "param_grid = {\n",
        " 'learning_rate':[0.001, 0.01, 0.1, 1]\n",
        "}\n",
        "\n",
        "# identificar melhor parâmetro\n",
        "kfold = StratifiedKFold(n_splits=10, shuffle=True)\n",
        "grid_search = GridSearchCV(xgb, param_grid, scoring=\"recall\", n_jobs=-1, cv=kfold)\n",
        "grid_result = grid_search.fit(X_train_rus, y_train_rus)\n",
        "\n",
        "# ver resultados\n",
        "print(f\"Desempenho: {grid_result.best_score_} para {grid_result.best_params_}\")"
      ],
      "metadata": {
        "colab": {
          "base_uri": "https://localhost:8080/"
        },
        "id": "1cndk56YpzGC",
        "outputId": "507b1ed1-8f24-45af-a98a-614994982844"
      },
      "execution_count": 119,
      "outputs": [
        {
          "output_type": "stream",
          "name": "stdout",
          "text": [
            "Desempenho: 0.6390358248562582 para {'learning_rate': 1}\n"
          ]
        }
      ]
    },
    {
      "cell_type": "markdown",
      "source": [
        "Fato é que uma taxa de aprendizado menor, conseguiu melhorar o desempenho do modelo XGBoost, considerando recall como métrica. \n",
        "\n",
        "Agora, treina-se o modelo em cima do dataset de treino completo, e verifica-se o desempenho final em cima dos dados de teste, no seu primeiro contato com esse sub-conjunto que havia sido preservado."
      ],
      "metadata": {
        "id": "totlOSpHp4jJ"
      }
    },
    {
      "cell_type": "markdown",
      "source": [
        "### 4.8 Verificando o desempenho do modelo"
      ],
      "metadata": {
        "id": "kCibcPNGqBNg"
      }
    },
    {
      "cell_type": "code",
      "source": [
        "# modelo final\n",
        "xgb = XGBClassifier(learning_rate=0.001 , n_estimators=50, max_depth=1, min_child_weight=1, gamma=0.0)\n",
        "xgb.fit(X_train_rus, y_train_rus)\n",
        "\n",
        "# fazer a previsão\n",
        "X_test = scaler.transform(X_test)\n",
        "y_pred = xgb.predict(X_test)\n",
        "\n",
        "# Classification Report\n",
        "print(classification_report(y_test, y_pred))\n",
        "\n",
        "# imprimir a área sob a curva\n",
        "print(\"AUC: {:.4f}\\n\".format(roc_auc_score(y_test, y_pred)))\n",
        "\n",
        "# plotar matriz de confusão\n",
        "plot_confusion_matrix(y_test, y_pred, normalize=True)\n",
        "plt.show()"
      ],
      "metadata": {
        "colab": {
          "base_uri": "https://localhost:8080/",
          "height": 486
        },
        "id": "EorCXGaZqG-A",
        "outputId": "29fa6b3d-a3fd-47c9-c007-1fa2c4347e5b"
      },
      "execution_count": 126,
      "outputs": [
        {
          "output_type": "stream",
          "name": "stdout",
          "text": [
            "              precision    recall  f1-score   support\n",
            "\n",
            "           0       0.88      0.70      0.78     10616\n",
            "           1       0.22      0.48      0.30      1907\n",
            "\n",
            "    accuracy                           0.66     12523\n",
            "   macro avg       0.55      0.59      0.54     12523\n",
            "weighted avg       0.78      0.66      0.71     12523\n",
            "\n",
            "AUC: 0.5893\n",
            "\n"
          ]
        },
        {
          "output_type": "display_data",
          "data": {
            "text/plain": [
              "<Figure size 432x288 with 2 Axes>"
            ],
            "image/png": "[encoded data removed]"
          },
          "metadata": {}
        }
      ]
    },
    {
      "cell_type": "markdown",
      "source": [
        "Existem várias métricas que podem ser usadas para avaliar a performance de um modelo de machine learning para detecção de risco de crédito em um banco. Algumas das mais comuns são:\n",
        "\n",
        "* Acurácia (Accuracy): a proporção de previsões corretas em relação ao total de previsões. No entanto, a acurácia pode ser enganosa em problemas de desequilíbrio de classe, em que a classe de interesse (por exemplo, inadimplentes) é muito menor do que a classe majoritária (por exemplo, bons pagadores).\n",
        "\n",
        "* Precisão (Precision): a proporção de verdadeiros positivos (inadimplentes corretamente identificados) em relação ao total de exemplos classificados como inadimplentes (verdadeiros positivos + falsos positivos).\n",
        "\n",
        "* Revocação (Recall): a proporção de verdadeiros positivos em relação ao total de exemplos que realmente são inadimplentes (verdadeiros positivos + falsos negativos).\n",
        "\n",
        "* F1-score: a média harmônica entre precisão e revocação, que dá mais peso a valores baixos. É uma métrica que leva em consideração tanto a precisão quanto a revocação, e é uma boa escolha quando há um equilíbrio entre as classes.\n",
        "\n",
        "Em geral, a escolha da melhor métrica depende das necessidades do banco. Se o objetivo é minimizar o número de falsos positivos (classificar erroneamente um bom pagador como inadimplente), então a precisão pode ser mais importante. Se o objetivo é minimizar o número de falsos negativos (classificar erroneamente um inadimplente como bom pagador), então a revocação pode ser mais importante. Se houver um equilíbrio entre esses objetivos, o F1-score pode ser a melhor escolha."
      ],
      "metadata": {
        "id": "XT7VD8IV2c-S"
      }
    },
    {
      "cell_type": "markdown",
      "source": [
        "## 5. Considerações finais\n",
        "\n",
        "Por fim, é importante destacar que a análise do risco de crédito permite também às empresas fortalecerem sua imagem no mercado. Isso acontece porque as organizações passam a ter um processo transparente para avaliar os potenciais clientes e fornecedores com quem irão trabalhar. Esta prática contribui para mostrar que são tomadas medidas adequadas para garantir uma relacionamento saudável entre ambos os lados da transacionalidade financeira, o que melhora sua reputação junto à sociedade em geral.\n",
        "Tivemos boas metricas apesar da diminuição da acurácia, porém as métricas de precision e recall tiveram um aumento interessante.\n",
        "\n",
        "Fique a vontade para modificar este projeto!"
      ],
      "metadata": {
        "id": "W5y5RZis3tUU"
      }
    }
  ]
}