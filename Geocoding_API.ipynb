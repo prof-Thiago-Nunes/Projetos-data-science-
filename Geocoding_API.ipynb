{
  "nbformat": 4,
  "nbformat_minor": 0,
  "metadata": {
    "colab": {
      "provenance": [],
      "toc_visible": true,
      "authorship_tag": "ABX9TyNcu7UvHd+p8hgEjocni0+X",
      "include_colab_link": true
    },
    "kernelspec": {
      "name": "python3",
      "display_name": "Python 3"
    },
    "language_info": {
      "name": "python"
    }
  },
  "cells": [
    {
      "cell_type": "markdown",
      "metadata": {
        "id": "view-in-github",
        "colab_type": "text"
      },
      "source": [
        "<a href=\"https://colab.research.google.com/github/prof-Thiago-Nunes/Projetos-data-science-/blob/main/Geocoding_API.ipynb\" target=\"_parent\"><img src=\"https://colab.research.google.com/assets/colab-badge.svg\" alt=\"Open In Colab\"/></a>"
      ]
    },
    {
      "cell_type": "markdown",
      "source": [
        "# *Business Intelligence com GCP e Python*\n",
        "*by Professor Thiago Nunes*\n",
        "\n",
        "---\n",
        "\n",
        "*Introdução*\n",
        "O Google Cloud Platform (GCP) é uma plataforma de computação em nuvem fornecida pelo Google que permite aos usuários criar e executar aplicativos e serviços em uma infraestrutura de nuvem gerenciada. A plataforma oferece um conjunto de serviços de computação, armazenamento, banco de dados, análise, inteligência artificial e outros recursos que podem ser usados para construir, implantar e dimensionar aplicativos em nuvem.\n",
        "\n",
        "Alguns dos serviços oferecidos pelo Google Cloud Platform incluem o Google Compute Engine para máquinas virtuais, o Google Kubernetes Engine para orquestração de contêineres, o Google Cloud Storage para armazenamento em nuvem, o BigQuery para análise de dados em larga escala, o Cloud AI Platform para aprendizado de máquina e o Cloud Functions para computação sem servidor.\n",
        "\n",
        "<img src=\"https://nobug.com.br/wp-content/uploads/2023/02/gcp-google.jpg\">\n",
        "\n",
        "O GCP é usado por empresas e desenvolvedores para executar aplicativos e serviços em nuvem de forma escalável e segura, com alta disponibilidade e desempenho.\n",
        "\n",
        "Neste projeto utilizarei a API do GCP (DocumentAI) para extrair dados de uma planilha de Excell e um pdf escaneado (a pior situação possível), são dados de clientes de uma loja contendo algumas informações como por exemplo o endereço de cada cliente. Logo após, será feito o tratamento dos dados e construiremos um modelo que verifica a distância de cada cliente para o local de um possível evento realizado pela empresa, para fazer isto será necessário utilizar a API do Google Maps."
      ],
      "metadata": {
        "id": "lBWLh2LUuRYm"
      }
    },
    {
      "cell_type": "markdown",
      "source": [
        "## 1. ***📋 CHECKLIST* DO PROJETO**\n",
        "✅ Transformar o pdf da planilha escaneada (`enderecos.pdf`) contendo os endereços dos clientes, em um DataFrame.\n",
        "<br>✅ Obter as coordenadas (Latitude/Longitude) a partir dos endereços dos clientes.\n",
        "<br>✅ Unificar os endereços com os dados pessoais dos clientes (`clientes_dados.csv`), a partir da coluna `id_cliente`.\n",
        "<br>✅ Verificar a distância dos clientes até o local do evento, chamado \"Estádio da Fonte Luminosa\" de Araraquara.\n",
        "\n",
        "<br>\n",
        "\n",
        "Como será utilizado o Google Colab, é necessário criar uma pasta para os arquivos **dentro do seu Google Drive pessoal**.\n",
        "\n",
        "Também usarei a autenticação do Document AI por meio das chaves que foram geradas, é importante a criação de uma chave de altenticação no GCP para o script rodar.\n"
      ],
      "metadata": {
        "id": "Deb2aD-zfYWJ"
      }
    },
    {
      "cell_type": "markdown",
      "source": [
        "## 2. Instalação das bibliotecas e autenticação\n"
      ],
      "metadata": {
        "id": "_6ZEHldKggvs"
      }
    },
    {
      "cell_type": "code",
      "source": [
        "# instalar produtos do Google Cloud\n",
        "!pip install --upgrade google-cloud-documentai\n",
        "!pip install googlemaps"
      ],
      "metadata": {
        "colab": {
          "base_uri": "https://localhost:8080/"
        },
        "id": "3SCssQdXgnIL",
        "outputId": "e35a5073-5c35-4b9b-c9c6-dfe8dca82f54"
      },
      "execution_count": 63,
      "outputs": [
        {
          "output_type": "stream",
          "name": "stdout",
          "text": [
            "Looking in indexes: https://pypi.org/simple, https://us-python.pkg.dev/colab-wheels/public/simple/\n",
            "Requirement already satisfied: google-cloud-documentai in /usr/local/lib/python3.9/dist-packages (2.15.0)\n",
            "Requirement already satisfied: proto-plus<2.0.0dev,>=1.22.0 in /usr/local/lib/python3.9/dist-packages (from google-cloud-documentai) (1.22.2)\n",
            "Requirement already satisfied: protobuf!=3.20.0,!=3.20.1,!=4.21.0,!=4.21.1,!=4.21.2,!=4.21.3,!=4.21.4,!=4.21.5,<5.0.0dev,>=3.19.5 in /usr/local/lib/python3.9/dist-packages (from google-cloud-documentai) (3.19.6)\n",
            "Requirement already satisfied: google-api-core[grpc]!=2.0.*,!=2.1.*,!=2.10.*,!=2.2.*,!=2.3.*,!=2.4.*,!=2.5.*,!=2.6.*,!=2.7.*,!=2.8.*,!=2.9.*,<3.0.0dev,>=1.34.0 in /usr/local/lib/python3.9/dist-packages (from google-cloud-documentai) (2.11.0)\n",
            "Requirement already satisfied: requests<3.0.0dev,>=2.18.0 in /usr/local/lib/python3.9/dist-packages (from google-api-core[grpc]!=2.0.*,!=2.1.*,!=2.10.*,!=2.2.*,!=2.3.*,!=2.4.*,!=2.5.*,!=2.6.*,!=2.7.*,!=2.8.*,!=2.9.*,<3.0.0dev,>=1.34.0->google-cloud-documentai) (2.27.1)\n",
            "Requirement already satisfied: google-auth<3.0dev,>=2.14.1 in /usr/local/lib/python3.9/dist-packages (from google-api-core[grpc]!=2.0.*,!=2.1.*,!=2.10.*,!=2.2.*,!=2.3.*,!=2.4.*,!=2.5.*,!=2.6.*,!=2.7.*,!=2.8.*,!=2.9.*,<3.0.0dev,>=1.34.0->google-cloud-documentai) (2.16.2)\n",
            "Requirement already satisfied: googleapis-common-protos<2.0dev,>=1.56.2 in /usr/local/lib/python3.9/dist-packages (from google-api-core[grpc]!=2.0.*,!=2.1.*,!=2.10.*,!=2.2.*,!=2.3.*,!=2.4.*,!=2.5.*,!=2.6.*,!=2.7.*,!=2.8.*,!=2.9.*,<3.0.0dev,>=1.34.0->google-cloud-documentai) (1.59.0)\n",
            "Requirement already satisfied: grpcio-status<2.0dev,>=1.33.2 in /usr/local/lib/python3.9/dist-packages (from google-api-core[grpc]!=2.0.*,!=2.1.*,!=2.10.*,!=2.2.*,!=2.3.*,!=2.4.*,!=2.5.*,!=2.6.*,!=2.7.*,!=2.8.*,!=2.9.*,<3.0.0dev,>=1.34.0->google-cloud-documentai) (1.48.2)\n",
            "Requirement already satisfied: grpcio<2.0dev,>=1.33.2 in /usr/local/lib/python3.9/dist-packages (from google-api-core[grpc]!=2.0.*,!=2.1.*,!=2.10.*,!=2.2.*,!=2.3.*,!=2.4.*,!=2.5.*,!=2.6.*,!=2.7.*,!=2.8.*,!=2.9.*,<3.0.0dev,>=1.34.0->google-cloud-documentai) (1.51.3)\n",
            "Requirement already satisfied: cachetools<6.0,>=2.0.0 in /usr/local/lib/python3.9/dist-packages (from google-auth<3.0dev,>=2.14.1->google-api-core[grpc]!=2.0.*,!=2.1.*,!=2.10.*,!=2.2.*,!=2.3.*,!=2.4.*,!=2.5.*,!=2.6.*,!=2.7.*,!=2.8.*,!=2.9.*,<3.0.0dev,>=1.34.0->google-cloud-documentai) (5.3.0)\n",
            "Requirement already satisfied: rsa<5,>=3.1.4 in /usr/local/lib/python3.9/dist-packages (from google-auth<3.0dev,>=2.14.1->google-api-core[grpc]!=2.0.*,!=2.1.*,!=2.10.*,!=2.2.*,!=2.3.*,!=2.4.*,!=2.5.*,!=2.6.*,!=2.7.*,!=2.8.*,!=2.9.*,<3.0.0dev,>=1.34.0->google-cloud-documentai) (4.9)\n",
            "Requirement already satisfied: six>=1.9.0 in /usr/local/lib/python3.9/dist-packages (from google-auth<3.0dev,>=2.14.1->google-api-core[grpc]!=2.0.*,!=2.1.*,!=2.10.*,!=2.2.*,!=2.3.*,!=2.4.*,!=2.5.*,!=2.6.*,!=2.7.*,!=2.8.*,!=2.9.*,<3.0.0dev,>=1.34.0->google-cloud-documentai) (1.16.0)\n",
            "Requirement already satisfied: pyasn1-modules>=0.2.1 in /usr/local/lib/python3.9/dist-packages (from google-auth<3.0dev,>=2.14.1->google-api-core[grpc]!=2.0.*,!=2.1.*,!=2.10.*,!=2.2.*,!=2.3.*,!=2.4.*,!=2.5.*,!=2.6.*,!=2.7.*,!=2.8.*,!=2.9.*,<3.0.0dev,>=1.34.0->google-cloud-documentai) (0.2.8)\n",
            "Requirement already satisfied: certifi>=2017.4.17 in /usr/local/lib/python3.9/dist-packages (from requests<3.0.0dev,>=2.18.0->google-api-core[grpc]!=2.0.*,!=2.1.*,!=2.10.*,!=2.2.*,!=2.3.*,!=2.4.*,!=2.5.*,!=2.6.*,!=2.7.*,!=2.8.*,!=2.9.*,<3.0.0dev,>=1.34.0->google-cloud-documentai) (2022.12.7)\n",
            "Requirement already satisfied: idna<4,>=2.5 in /usr/local/lib/python3.9/dist-packages (from requests<3.0.0dev,>=2.18.0->google-api-core[grpc]!=2.0.*,!=2.1.*,!=2.10.*,!=2.2.*,!=2.3.*,!=2.4.*,!=2.5.*,!=2.6.*,!=2.7.*,!=2.8.*,!=2.9.*,<3.0.0dev,>=1.34.0->google-cloud-documentai) (3.4)\n",
            "Requirement already satisfied: urllib3<1.27,>=1.21.1 in /usr/local/lib/python3.9/dist-packages (from requests<3.0.0dev,>=2.18.0->google-api-core[grpc]!=2.0.*,!=2.1.*,!=2.10.*,!=2.2.*,!=2.3.*,!=2.4.*,!=2.5.*,!=2.6.*,!=2.7.*,!=2.8.*,!=2.9.*,<3.0.0dev,>=1.34.0->google-cloud-documentai) (1.26.15)\n",
            "Requirement already satisfied: charset-normalizer~=2.0.0 in /usr/local/lib/python3.9/dist-packages (from requests<3.0.0dev,>=2.18.0->google-api-core[grpc]!=2.0.*,!=2.1.*,!=2.10.*,!=2.2.*,!=2.3.*,!=2.4.*,!=2.5.*,!=2.6.*,!=2.7.*,!=2.8.*,!=2.9.*,<3.0.0dev,>=1.34.0->google-cloud-documentai) (2.0.12)\n",
            "Requirement already satisfied: pyasn1<0.5.0,>=0.4.6 in /usr/local/lib/python3.9/dist-packages (from pyasn1-modules>=0.2.1->google-auth<3.0dev,>=2.14.1->google-api-core[grpc]!=2.0.*,!=2.1.*,!=2.10.*,!=2.2.*,!=2.3.*,!=2.4.*,!=2.5.*,!=2.6.*,!=2.7.*,!=2.8.*,!=2.9.*,<3.0.0dev,>=1.34.0->google-cloud-documentai) (0.4.8)\n",
            "Looking in indexes: https://pypi.org/simple, https://us-python.pkg.dev/colab-wheels/public/simple/\n",
            "Requirement already satisfied: googlemaps in /usr/local/lib/python3.9/dist-packages (4.10.0)\n",
            "Requirement already satisfied: requests<3.0,>=2.20.0 in /usr/local/lib/python3.9/dist-packages (from googlemaps) (2.27.1)\n",
            "Requirement already satisfied: charset-normalizer~=2.0.0 in /usr/local/lib/python3.9/dist-packages (from requests<3.0,>=2.20.0->googlemaps) (2.0.12)\n",
            "Requirement already satisfied: idna<4,>=2.5 in /usr/local/lib/python3.9/dist-packages (from requests<3.0,>=2.20.0->googlemaps) (3.4)\n",
            "Requirement already satisfied: certifi>=2017.4.17 in /usr/local/lib/python3.9/dist-packages (from requests<3.0,>=2.20.0->googlemaps) (2022.12.7)\n",
            "Requirement already satisfied: urllib3<1.27,>=1.21.1 in /usr/local/lib/python3.9/dist-packages (from requests<3.0,>=2.20.0->googlemaps) (1.26.15)\n"
          ]
        }
      ]
    },
    {
      "cell_type": "code",
      "source": [
        "# Importar as bibliotecas necessárias\n",
        "from google.oauth2 import service_account\n",
        "from google.colab import drive\n",
        "from typing import List, Sequence\n",
        "import pandas as pd\n",
        "from google.api_core.client_options import ClientOptions\n",
        "from google.cloud import documentai_v1 as documentai\n",
        "import json\n",
        "import googlemaps\n",
        "from datetime import datetime\n",
        "import matplotlib.pyplot as plt"
      ],
      "metadata": {
        "id": "3_wX4yFugthh"
      },
      "execution_count": 64,
      "outputs": []
    },
    {
      "cell_type": "markdown",
      "source": [
        "## 3. Configurando os arquivos no Drive"
      ],
      "metadata": {
        "id": "rElAcQGvhzOL"
      }
    },
    {
      "cell_type": "code",
      "source": [
        "# Mount Google Drive\n",
        "drive.mount('/content/drive/')"
      ],
      "metadata": {
        "id": "gRdJBg_ftt-h",
        "colab": {
          "base_uri": "https://localhost:8080/"
        },
        "outputId": "57979801-c596-4fdd-955e-c77c56dec2d4"
      },
      "execution_count": 65,
      "outputs": [
        {
          "output_type": "stream",
          "name": "stdout",
          "text": [
            "Drive already mounted at /content/drive/; to attempt to forcibly remount, call drive.mount(\"/content/drive/\", force_remount=True).\n"
          ]
        }
      ]
    },
    {
      "cell_type": "code",
      "source": [
        "# Caminho até a sua pasta de projetos\n",
        "PROJECT_PATH = \"/content/drive/MyDrive/dados_empresa\""
      ],
      "metadata": {
        "id": "MQpwpz5ht03g"
      },
      "execution_count": 66,
      "outputs": []
    },
    {
      "cell_type": "code",
      "source": [
        "# Indicar o caminho até o arquivo JSON para autenticação\n",
        "key_path = 'coloque sua chave no formato JSON' \n"
      ],
      "metadata": {
        "id": "--DsPo6huGF5"
      },
      "execution_count": 67,
      "outputs": []
    },
    {
      "cell_type": "code",
      "source": [
        "# Inserir uma variável no ambiente\n",
        "%env GOOGLE_APPLICATION_CREDENTIALS=$key_path"
      ],
      "metadata": {
        "id": "d8zIwHHfuLXM"
      },
      "execution_count": null,
      "outputs": []
    },
    {
      "cell_type": "markdown",
      "source": [
        "O que a linha `%env GOOGLE_APPLICATION_CREDENTIALS=$key_path` fará é criar uma variável no ambiente do servidor, com referência ao arquivo *json* que contém os dados para o Colab autenticar junto aos produtos do seu projeto no Google Cloud.\n",
        "\n",
        "Obviamente estamos em um ambiente didático, mas fica o aviso: nunca compartilhe esse arquivo. Da mesma maneira, quando estiver lidando com *tokens* diretamente no *notebook*, tome cuidado para não publicar ou subir o arquivo em um repositório público.\n",
        "\n",
        "Qualquer pessoa que detenha essa informação, irá ter acesso aos produtos ativados - ou seja, a fatura poderá vir alta!"
      ],
      "metadata": {
        "id": "WC6SmNPxhPHw"
      }
    },
    {
      "cell_type": "markdown",
      "source": [
        "## 4. *Data Ingestion* e *Analytics*\n",
        "\n",
        "Para atender todas as atribuições do *checklist*, nós iremos cumprir uma sequência de passos intermediários:\n",
        "\n",
        "1. Converter o arquivo pdf contendo os endereços dos clientes (tabela do Excel impressa e escaneada) para uma estrutura de DataFrame, utilizando o Document AI (Form Parser).\n",
        "2. Ler o arquivo csv contendo os dados pessoais dos clientes para uma estrutura de DataFrame, utilizando o Pandas.\n",
        "3. Verificar a integridade dos dados e se os tipos são adequados a cada coluna.\n",
        "4. Combinar os dois DataFrames em uma única variável, usando a coluna `id_cliente` como referência.\n",
        "5. Obter as coordenadas geográficas de cada entrada do *dataset* unificado, por meio do Google Maps.\n",
        "6. Gerar um novo arquivo `dados_completos.csv` e deixá-lo salvo no diretório do projeto, no Google Drive.\n",
        "7. Obter a distância e tempo de deslocamento de cada cliente até o ponto marcante \"Estádio da Fonte Luminosa, Araraquara - SP\".\n",
        "8. Plotar gráfico da residencia do cliente em relação ao evento.\n"
      ],
      "metadata": {
        "id": "SFRGVZ8oiT89"
      }
    },
    {
      "cell_type": "markdown",
      "source": [
        "### 4.1 Converter *pdf* em *DataFrame*"
      ],
      "metadata": {
        "id": "cAjRTgcFjX0C"
      }
    },
    {
      "cell_type": "code",
      "source": [
        "\"\"\"\n",
        "Fazer uma requisição para processamento ao Document AI\n",
        "\"\"\"\n",
        "\n",
        "# Troque pelos seus dados\n",
        "project_id = 'Coloque o id do seu projeto no GCP'  # id do projeto \n",
        "location = 'local' # ex. us\n",
        "processor_id = 'coloque o processador no form parser' # O processador Form Parser\n",
        "file_path = '/content/drive/MyDrive/dados_empresa/enderecos.pdf'\n",
        "mime_type = 'application/pdf' \n",
        "\n",
        "\n",
        "def online_process(\n",
        "    project_id: str,\n",
        "    location: str,\n",
        "    processor_id: str,\n",
        "    file_path: str,\n",
        "    mime_type: str,\n",
        ") -> documentai.Document:\n",
        "    \"\"\"\n",
        "    Processes a document using the Document AI Online Processing API.\n",
        "    \"\"\"\n",
        "\n",
        "    # Instantiates a client\n",
        "    docai_client = documentai.DocumentProcessorServiceClient(\n",
        "        client_options=ClientOptions(\n",
        "            api_endpoint=f\"{location}-documentai.googleapis.com\"\n",
        "        )\n",
        "    )\n",
        "\n",
        "    # The full resource name of the processor, e.g.:\n",
        "    # projects/project-id/locations/location/processor/processor-id\n",
        "    # You must create new processors in the Cloud Console first\n",
        "    resource_name = docai_client.processor_path(project_id, location, processor_id)\n",
        "\n",
        "    # Read the file into memory\n",
        "    with open(file_path, \"rb\") as file:\n",
        "        file_content = file.read()\n",
        "\n",
        "    # Load Binary Data into Document AI RawDocument Object\n",
        "    raw_document = documentai.RawDocument(content=file_content, mime_type=mime_type)\n",
        "\n",
        "    # Configure the process request\n",
        "    request = documentai.ProcessRequest(name=resource_name, raw_document=raw_document)\n",
        "\n",
        "    # Use the Document AI client to process the sample form\n",
        "    result = docai_client.process_document(request=request)\n",
        "\n",
        "    return result.document\n",
        "\n",
        "\n",
        "def get_table_data(\n",
        "    rows: Sequence[documentai.Document.Page.Table.TableRow], text: str\n",
        ") -> List[List[str]]:\n",
        "    \"\"\"\n",
        "    Get Text data from table rows\n",
        "    \"\"\"\n",
        "    all_values: List[List[str]] = []\n",
        "    for row in rows:\n",
        "        current_row_values: List[str] = []\n",
        "        for cell in row.cells:\n",
        "            current_row_values.append(\n",
        "                text_anchor_to_text(cell.layout.text_anchor, text)\n",
        "            )\n",
        "        all_values.append(current_row_values)\n",
        "    return all_values\n",
        "\n",
        "\n",
        "def text_anchor_to_text(text_anchor: documentai.Document.TextAnchor, text: str) -> str:\n",
        "    \"\"\"\n",
        "    Document AI identifies table data by their offsets in the entirity of the\n",
        "    document's text. This function converts offsets to a string.\n",
        "    \"\"\"\n",
        "    response = \"\"\n",
        "    # If a text segment spans several lines, it will\n",
        "    # be stored in different text segments.\n",
        "    for segment in text_anchor.text_segments:\n",
        "        start_index = int(segment.start_index)\n",
        "        end_index = int(segment.end_index)\n",
        "        response += text[start_index:end_index]\n",
        "    return response.strip().replace(\"\\n\", \" \")\n",
        "\n",
        "\n",
        "# Fazer a requisição e enviar o pdf ao processador Form Parser\n",
        "document = online_process(\n",
        "    project_id,\n",
        "    location,\n",
        "    processor_id,\n",
        "    file_path,\n",
        "    mime_type\n",
        ")\n",
        "\n",
        "# Extrair cabeçalho e linhas da tabela\n",
        "header_row_values: List[List[str]] = []\n",
        "body_row_values: List[List[str]] = []\n",
        "\n",
        "# caso houvesse mais páginas no documento pdf\n",
        "for page in document.pages:\n",
        "    for table in page.tables:\n",
        "        header_row_values = get_table_data(table.header_rows, document.text)\n",
        "        body_row_values = get_table_data(table.body_rows, document.text)\n",
        "\n",
        "# criar um Pandas Dataframe para armazenar os valores em formato tabular\n",
        "df_enderecos = pd.DataFrame(\n",
        "    data=body_row_values,\n",
        "    columns=header_row_values[0],\n",
        ")"
      ],
      "metadata": {
        "id": "Dj8HXpGkjb4_"
      },
      "execution_count": 69,
      "outputs": []
    },
    {
      "cell_type": "code",
      "source": [
        "df_enderecos.head()"
      ],
      "metadata": {
        "colab": {
          "base_uri": "https://localhost:8080/",
          "height": 206
        },
        "id": "bds07N5q3bXJ",
        "outputId": "9c2396a0-c6cb-4975-f903-6727009713fa"
      },
      "execution_count": 70,
      "outputs": [
        {
          "output_type": "execute_result",
          "data": {
            "text/plain": [
              "  id_cliente                   logradouro                   numero bairro  \\\n",
              "0          1   Rua Bento de Miranda Mello  356 Residencial Olivio Benassi   \n",
              "1          2   Rua Ricardo Arruda Ribeiro                 745 Água Branca   \n",
              "2          3  Rua Dona Sylvia Finco Costa              870 Jardim Tapajós   \n",
              "3          4                  Rua Axicará         Vila Isolina Mazzei 433   \n",
              "4          5       Rua Diamantino Armando              Vila Esperança 245   \n",
              "\n",
              "         cep      cidade  uf  \n",
              "0  15993-037       Matão  SP  \n",
              "1  13425-100  Piracicaba  SP  \n",
              "2  12945-080     Atibaia  SP  \n",
              "3  02081-080   São Paulo  SP  \n",
              "4  18703-800       Avaré  SP  "
            ],
            "text/html": [
              "\n",
              "  <div id=\"df-3f1f082a-ee64-4756-9c3a-95f4e40bd0bf\">\n",
              "    <div class=\"colab-df-container\">\n",
              "      <div>\n",
              "<style scoped>\n",
              "    .dataframe tbody tr th:only-of-type {\n",
              "        vertical-align: middle;\n",
              "    }\n",
              "\n",
              "    .dataframe tbody tr th {\n",
              "        vertical-align: top;\n",
              "    }\n",
              "\n",
              "    .dataframe thead th {\n",
              "        text-align: right;\n",
              "    }\n",
              "</style>\n",
              "<table border=\"1\" class=\"dataframe\">\n",
              "  <thead>\n",
              "    <tr style=\"text-align: right;\">\n",
              "      <th></th>\n",
              "      <th>id_cliente</th>\n",
              "      <th>logradouro</th>\n",
              "      <th>numero bairro</th>\n",
              "      <th>cep</th>\n",
              "      <th>cidade</th>\n",
              "      <th>uf</th>\n",
              "    </tr>\n",
              "  </thead>\n",
              "  <tbody>\n",
              "    <tr>\n",
              "      <th>0</th>\n",
              "      <td>1</td>\n",
              "      <td>Rua Bento de Miranda Mello</td>\n",
              "      <td>356 Residencial Olivio Benassi</td>\n",
              "      <td>15993-037</td>\n",
              "      <td>Matão</td>\n",
              "      <td>SP</td>\n",
              "    </tr>\n",
              "    <tr>\n",
              "      <th>1</th>\n",
              "      <td>2</td>\n",
              "      <td>Rua Ricardo Arruda Ribeiro</td>\n",
              "      <td>745 Água Branca</td>\n",
              "      <td>13425-100</td>\n",
              "      <td>Piracicaba</td>\n",
              "      <td>SP</td>\n",
              "    </tr>\n",
              "    <tr>\n",
              "      <th>2</th>\n",
              "      <td>3</td>\n",
              "      <td>Rua Dona Sylvia Finco Costa</td>\n",
              "      <td>870 Jardim Tapajós</td>\n",
              "      <td>12945-080</td>\n",
              "      <td>Atibaia</td>\n",
              "      <td>SP</td>\n",
              "    </tr>\n",
              "    <tr>\n",
              "      <th>3</th>\n",
              "      <td>4</td>\n",
              "      <td>Rua Axicará</td>\n",
              "      <td>Vila Isolina Mazzei 433</td>\n",
              "      <td>02081-080</td>\n",
              "      <td>São Paulo</td>\n",
              "      <td>SP</td>\n",
              "    </tr>\n",
              "    <tr>\n",
              "      <th>4</th>\n",
              "      <td>5</td>\n",
              "      <td>Rua Diamantino Armando</td>\n",
              "      <td>Vila Esperança 245</td>\n",
              "      <td>18703-800</td>\n",
              "      <td>Avaré</td>\n",
              "      <td>SP</td>\n",
              "    </tr>\n",
              "  </tbody>\n",
              "</table>\n",
              "</div>\n",
              "      <button class=\"colab-df-convert\" onclick=\"convertToInteractive('df-3f1f082a-ee64-4756-9c3a-95f4e40bd0bf')\"\n",
              "              title=\"Convert this dataframe to an interactive table.\"\n",
              "              style=\"display:none;\">\n",
              "        \n",
              "  <svg xmlns=\"http://www.w3.org/2000/svg\" height=\"24px\"viewBox=\"0 0 24 24\"\n",
              "       width=\"24px\">\n",
              "    <path d=\"M0 0h24v24H0V0z\" fill=\"none\"/>\n",
              "    <path d=\"M18.56 5.44l.94 2.06.94-2.06 2.06-.94-2.06-.94-.94-2.06-.94 2.06-2.06.94zm-11 1L8.5 8.5l.94-2.06 2.06-.94-2.06-.94L8.5 2.5l-.94 2.06-2.06.94zm10 10l.94 2.06.94-2.06 2.06-.94-2.06-.94-.94-2.06-.94 2.06-2.06.94z\"/><path d=\"M17.41 7.96l-1.37-1.37c-.4-.4-.92-.59-1.43-.59-.52 0-1.04.2-1.43.59L10.3 9.45l-7.72 7.72c-.78.78-.78 2.05 0 2.83L4 21.41c.39.39.9.59 1.41.59.51 0 1.02-.2 1.41-.59l7.78-7.78 2.81-2.81c.8-.78.8-2.07 0-2.86zM5.41 20L4 18.59l7.72-7.72 1.47 1.35L5.41 20z\"/>\n",
              "  </svg>\n",
              "      </button>\n",
              "      \n",
              "  <style>\n",
              "    .colab-df-container {\n",
              "      display:flex;\n",
              "      flex-wrap:wrap;\n",
              "      gap: 12px;\n",
              "    }\n",
              "\n",
              "    .colab-df-convert {\n",
              "      background-color: #E8F0FE;\n",
              "      border: none;\n",
              "      border-radius: 50%;\n",
              "      cursor: pointer;\n",
              "      display: none;\n",
              "      fill: #1967D2;\n",
              "      height: 32px;\n",
              "      padding: 0 0 0 0;\n",
              "      width: 32px;\n",
              "    }\n",
              "\n",
              "    .colab-df-convert:hover {\n",
              "      background-color: #E2EBFA;\n",
              "      box-shadow: 0px 1px 2px rgba(60, 64, 67, 0.3), 0px 1px 3px 1px rgba(60, 64, 67, 0.15);\n",
              "      fill: #174EA6;\n",
              "    }\n",
              "\n",
              "    [theme=dark] .colab-df-convert {\n",
              "      background-color: #3B4455;\n",
              "      fill: #D2E3FC;\n",
              "    }\n",
              "\n",
              "    [theme=dark] .colab-df-convert:hover {\n",
              "      background-color: #434B5C;\n",
              "      box-shadow: 0px 1px 3px 1px rgba(0, 0, 0, 0.15);\n",
              "      filter: drop-shadow(0px 1px 2px rgba(0, 0, 0, 0.3));\n",
              "      fill: #FFFFFF;\n",
              "    }\n",
              "  </style>\n",
              "\n",
              "      <script>\n",
              "        const buttonEl =\n",
              "          document.querySelector('#df-3f1f082a-ee64-4756-9c3a-95f4e40bd0bf button.colab-df-convert');\n",
              "        buttonEl.style.display =\n",
              "          google.colab.kernel.accessAllowed ? 'block' : 'none';\n",
              "\n",
              "        async function convertToInteractive(key) {\n",
              "          const element = document.querySelector('#df-3f1f082a-ee64-4756-9c3a-95f4e40bd0bf');\n",
              "          const dataTable =\n",
              "            await google.colab.kernel.invokeFunction('convertToInteractive',\n",
              "                                                     [key], {});\n",
              "          if (!dataTable) return;\n",
              "\n",
              "          const docLinkHtml = 'Like what you see? Visit the ' +\n",
              "            '<a target=\"_blank\" href=https://colab.research.google.com/notebooks/data_table.ipynb>data table notebook</a>'\n",
              "            + ' to learn more about interactive tables.';\n",
              "          element.innerHTML = '';\n",
              "          dataTable['output_type'] = 'display_data';\n",
              "          await google.colab.output.renderOutput(dataTable, element);\n",
              "          const docLink = document.createElement('div');\n",
              "          docLink.innerHTML = docLinkHtml;\n",
              "          element.appendChild(docLink);\n",
              "        }\n",
              "      </script>\n",
              "    </div>\n",
              "  </div>\n",
              "  "
            ]
          },
          "metadata": {},
          "execution_count": 70
        }
      ]
    },
    {
      "cell_type": "markdown",
      "source": [
        "Utilizando a documentação do documentAI, foi realizada a trasformação de um documento escaneado no formato pdf para o formato dataframe. Essa ferramenta pode aumentar significativamente a produtividade na hora de organizar os dados."
      ],
      "metadata": {
        "id": "5KIiK_3x4aE7"
      }
    },
    {
      "cell_type": "markdown",
      "source": [
        "### 4.2 Carregar o outro arquivo *csv* em *DataFrame*"
      ],
      "metadata": {
        "id": "84RP4RJ85jcF"
      }
    },
    {
      "cell_type": "code",
      "source": [
        "df_dados = pd.read_csv('/content/drive/MyDrive/dados_empresa/clientes_dados.csv', sep = ';')"
      ],
      "metadata": {
        "id": "45rEBHb_h5kC"
      },
      "execution_count": 71,
      "outputs": []
    },
    {
      "cell_type": "code",
      "source": [
        "df_dados.head()"
      ],
      "metadata": {
        "colab": {
          "base_uri": "https://localhost:8080/",
          "height": 250
        },
        "id": "KLhfYA-5EaBn",
        "outputId": "44f2cf52-8e91-4e76-eb06-35335f52088d"
      },
      "execution_count": 72,
      "outputs": [
        {
          "output_type": "execute_result",
          "data": {
            "text/plain": [
              "   id_cliente                              nome  \\\n",
              "0           1           Sebastiana Tânia Mendes   \n",
              "1           2              Andrea Débora Campos   \n",
              "2           3          Rosa Jéssica Isis Barros   \n",
              "3           4  Vinicius Carlos Eduardo da Rocha   \n",
              "4           5       Cecília Milena Elisa Vieira   \n",
              "\n",
              "                                   email       sexo             cpf  \\\n",
              "0      sebastiana_tania_mendes@trbvm.com   Feminino  938.319.088-42   \n",
              "1            andrea-campos75@caporal.biz   Feminino  782.328.538-08   \n",
              "2     rosa.jessica.barros@optovac.com.br   Feminino  129.102.618-59   \n",
              "3  viniciuscarlosdarocha@carreira.com.br  Masculino  437.270.578-66   \n",
              "4          cecilia-vieira98@amure.com.br   Feminino  726.017.228-27   \n",
              "\n",
              "    data_nasc  \n",
              "0  06/01/1984  \n",
              "1  06/01/1943  \n",
              "2  04/02/1970  \n",
              "3  22/06/1969  \n",
              "4  07/09/1948  "
            ],
            "text/html": [
              "\n",
              "  <div id=\"df-556f852e-c946-42ba-b328-2735ce20297c\">\n",
              "    <div class=\"colab-df-container\">\n",
              "      <div>\n",
              "<style scoped>\n",
              "    .dataframe tbody tr th:only-of-type {\n",
              "        vertical-align: middle;\n",
              "    }\n",
              "\n",
              "    .dataframe tbody tr th {\n",
              "        vertical-align: top;\n",
              "    }\n",
              "\n",
              "    .dataframe thead th {\n",
              "        text-align: right;\n",
              "    }\n",
              "</style>\n",
              "<table border=\"1\" class=\"dataframe\">\n",
              "  <thead>\n",
              "    <tr style=\"text-align: right;\">\n",
              "      <th></th>\n",
              "      <th>id_cliente</th>\n",
              "      <th>nome</th>\n",
              "      <th>email</th>\n",
              "      <th>sexo</th>\n",
              "      <th>cpf</th>\n",
              "      <th>data_nasc</th>\n",
              "    </tr>\n",
              "  </thead>\n",
              "  <tbody>\n",
              "    <tr>\n",
              "      <th>0</th>\n",
              "      <td>1</td>\n",
              "      <td>Sebastiana Tânia Mendes</td>\n",
              "      <td>sebastiana_tania_mendes@trbvm.com</td>\n",
              "      <td>Feminino</td>\n",
              "      <td>938.319.088-42</td>\n",
              "      <td>06/01/1984</td>\n",
              "    </tr>\n",
              "    <tr>\n",
              "      <th>1</th>\n",
              "      <td>2</td>\n",
              "      <td>Andrea Débora Campos</td>\n",
              "      <td>andrea-campos75@caporal.biz</td>\n",
              "      <td>Feminino</td>\n",
              "      <td>782.328.538-08</td>\n",
              "      <td>06/01/1943</td>\n",
              "    </tr>\n",
              "    <tr>\n",
              "      <th>2</th>\n",
              "      <td>3</td>\n",
              "      <td>Rosa Jéssica Isis Barros</td>\n",
              "      <td>rosa.jessica.barros@optovac.com.br</td>\n",
              "      <td>Feminino</td>\n",
              "      <td>129.102.618-59</td>\n",
              "      <td>04/02/1970</td>\n",
              "    </tr>\n",
              "    <tr>\n",
              "      <th>3</th>\n",
              "      <td>4</td>\n",
              "      <td>Vinicius Carlos Eduardo da Rocha</td>\n",
              "      <td>viniciuscarlosdarocha@carreira.com.br</td>\n",
              "      <td>Masculino</td>\n",
              "      <td>437.270.578-66</td>\n",
              "      <td>22/06/1969</td>\n",
              "    </tr>\n",
              "    <tr>\n",
              "      <th>4</th>\n",
              "      <td>5</td>\n",
              "      <td>Cecília Milena Elisa Vieira</td>\n",
              "      <td>cecilia-vieira98@amure.com.br</td>\n",
              "      <td>Feminino</td>\n",
              "      <td>726.017.228-27</td>\n",
              "      <td>07/09/1948</td>\n",
              "    </tr>\n",
              "  </tbody>\n",
              "</table>\n",
              "</div>\n",
              "      <button class=\"colab-df-convert\" onclick=\"convertToInteractive('df-556f852e-c946-42ba-b328-2735ce20297c')\"\n",
              "              title=\"Convert this dataframe to an interactive table.\"\n",
              "              style=\"display:none;\">\n",
              "        \n",
              "  <svg xmlns=\"http://www.w3.org/2000/svg\" height=\"24px\"viewBox=\"0 0 24 24\"\n",
              "       width=\"24px\">\n",
              "    <path d=\"M0 0h24v24H0V0z\" fill=\"none\"/>\n",
              "    <path d=\"M18.56 5.44l.94 2.06.94-2.06 2.06-.94-2.06-.94-.94-2.06-.94 2.06-2.06.94zm-11 1L8.5 8.5l.94-2.06 2.06-.94-2.06-.94L8.5 2.5l-.94 2.06-2.06.94zm10 10l.94 2.06.94-2.06 2.06-.94-2.06-.94-.94-2.06-.94 2.06-2.06.94z\"/><path d=\"M17.41 7.96l-1.37-1.37c-.4-.4-.92-.59-1.43-.59-.52 0-1.04.2-1.43.59L10.3 9.45l-7.72 7.72c-.78.78-.78 2.05 0 2.83L4 21.41c.39.39.9.59 1.41.59.51 0 1.02-.2 1.41-.59l7.78-7.78 2.81-2.81c.8-.78.8-2.07 0-2.86zM5.41 20L4 18.59l7.72-7.72 1.47 1.35L5.41 20z\"/>\n",
              "  </svg>\n",
              "      </button>\n",
              "      \n",
              "  <style>\n",
              "    .colab-df-container {\n",
              "      display:flex;\n",
              "      flex-wrap:wrap;\n",
              "      gap: 12px;\n",
              "    }\n",
              "\n",
              "    .colab-df-convert {\n",
              "      background-color: #E8F0FE;\n",
              "      border: none;\n",
              "      border-radius: 50%;\n",
              "      cursor: pointer;\n",
              "      display: none;\n",
              "      fill: #1967D2;\n",
              "      height: 32px;\n",
              "      padding: 0 0 0 0;\n",
              "      width: 32px;\n",
              "    }\n",
              "\n",
              "    .colab-df-convert:hover {\n",
              "      background-color: #E2EBFA;\n",
              "      box-shadow: 0px 1px 2px rgba(60, 64, 67, 0.3), 0px 1px 3px 1px rgba(60, 64, 67, 0.15);\n",
              "      fill: #174EA6;\n",
              "    }\n",
              "\n",
              "    [theme=dark] .colab-df-convert {\n",
              "      background-color: #3B4455;\n",
              "      fill: #D2E3FC;\n",
              "    }\n",
              "\n",
              "    [theme=dark] .colab-df-convert:hover {\n",
              "      background-color: #434B5C;\n",
              "      box-shadow: 0px 1px 3px 1px rgba(0, 0, 0, 0.15);\n",
              "      filter: drop-shadow(0px 1px 2px rgba(0, 0, 0, 0.3));\n",
              "      fill: #FFFFFF;\n",
              "    }\n",
              "  </style>\n",
              "\n",
              "      <script>\n",
              "        const buttonEl =\n",
              "          document.querySelector('#df-556f852e-c946-42ba-b328-2735ce20297c button.colab-df-convert');\n",
              "        buttonEl.style.display =\n",
              "          google.colab.kernel.accessAllowed ? 'block' : 'none';\n",
              "\n",
              "        async function convertToInteractive(key) {\n",
              "          const element = document.querySelector('#df-556f852e-c946-42ba-b328-2735ce20297c');\n",
              "          const dataTable =\n",
              "            await google.colab.kernel.invokeFunction('convertToInteractive',\n",
              "                                                     [key], {});\n",
              "          if (!dataTable) return;\n",
              "\n",
              "          const docLinkHtml = 'Like what you see? Visit the ' +\n",
              "            '<a target=\"_blank\" href=https://colab.research.google.com/notebooks/data_table.ipynb>data table notebook</a>'\n",
              "            + ' to learn more about interactive tables.';\n",
              "          element.innerHTML = '';\n",
              "          dataTable['output_type'] = 'display_data';\n",
              "          await google.colab.output.renderOutput(dataTable, element);\n",
              "          const docLink = document.createElement('div');\n",
              "          docLink.innerHTML = docLinkHtml;\n",
              "          element.appendChild(docLink);\n",
              "        }\n",
              "      </script>\n",
              "    </div>\n",
              "  </div>\n",
              "  "
            ]
          },
          "metadata": {},
          "execution_count": 72
        }
      ]
    },
    {
      "cell_type": "markdown",
      "source": [
        "### 4.3 Tratamento dos dados\n"
      ],
      "metadata": {
        "id": "H2izQbbMEu0v"
      }
    },
    {
      "cell_type": "code",
      "source": [
        "# Verificando o tipo dos dados do Dataset para a variável df_dados\n",
        "\n",
        "for i in dict(df_dados.dtypes).items():\n",
        "  variavel = i[0]\n",
        "  caracteres = '_'*(30 - len(variavel))\n",
        "  tipo = i[1]\n",
        "  print(f'A variável [{variavel}]{caracteres} é do tipo {tipo}')"
      ],
      "metadata": {
        "colab": {
          "base_uri": "https://localhost:8080/"
        },
        "id": "AGt4ovZbGE6Y",
        "outputId": "f3d65827-e7d6-4543-81e7-8e193c6c0544"
      },
      "execution_count": 73,
      "outputs": [
        {
          "output_type": "stream",
          "name": "stdout",
          "text": [
            "A variável [id_cliente]____________________ é do tipo int64\n",
            "A variável [nome]__________________________ é do tipo object\n",
            "A variável [email]_________________________ é do tipo object\n",
            "A variável [sexo]__________________________ é do tipo object\n",
            "A variável [cpf]___________________________ é do tipo object\n",
            "A variável [data_nasc]_____________________ é do tipo object\n"
          ]
        }
      ]
    },
    {
      "cell_type": "markdown",
      "source": [
        "Será necessário transformar a data de nascimento para o formato datetime  %d/%m/%y"
      ],
      "metadata": {
        "id": "80ALOVTLGQtz"
      }
    },
    {
      "cell_type": "code",
      "source": [
        "# Verificando o tipo dos dados do Dataset para a variável df_dados\n",
        "\n",
        "for i in dict(df_enderecos.dtypes).items():\n",
        "  variavel = i[0]\n",
        "  caracteres = '_'*(30 - len(variavel))\n",
        "  tipo = i[1]\n",
        "  print(f'A variável [{variavel}]{caracteres} é do tipo {tipo}')"
      ],
      "metadata": {
        "colab": {
          "base_uri": "https://localhost:8080/"
        },
        "id": "WLVH3u5YGsUF",
        "outputId": "74f50cac-5f4e-4321-8b41-277835e1b365"
      },
      "execution_count": 74,
      "outputs": [
        {
          "output_type": "stream",
          "name": "stdout",
          "text": [
            "A variável [id_cliente]____________________ é do tipo object\n",
            "A variável [logradouro]____________________ é do tipo object\n",
            "A variável [numero bairro]_________________ é do tipo object\n",
            "A variável [cep]___________________________ é do tipo object\n",
            "A variável [cidade]________________________ é do tipo object\n",
            "A variável [uf]____________________________ é do tipo object\n"
          ]
        }
      ]
    },
    {
      "cell_type": "markdown",
      "source": [
        "Para melhorar a visualização, farei a junção dos dois datasets os quais são ligados pelo `id_cliente` através do método merge.\n",
        "\n",
        "Para isso as duas colunas `id_cliente` precisam ter o mesmo tipo de variável nos dois datasets.\n",
        "\n",
        "Será preciso transformar uma das colunas para conseguir juntar os dataframes."
      ],
      "metadata": {
        "id": "oyogcKK1HCcE"
      }
    },
    {
      "cell_type": "markdown",
      "source": [
        "#### 4.3.1 Transformando a coluna id_cliente\n"
      ],
      "metadata": {
        "id": "a_i9Ya4ZIlD0"
      }
    },
    {
      "cell_type": "code",
      "source": [
        "# Transformando a coluna id_cliente para o tipo inteiro\n",
        "df_enderecos['id_cliente'] = df_enderecos['id_cliente'].astype('int64')"
      ],
      "metadata": {
        "id": "tQ6BOWg0IHYA"
      },
      "execution_count": 75,
      "outputs": []
    },
    {
      "cell_type": "markdown",
      "source": [
        "#### 4.3.2 Transformando a coluna data_nasc"
      ],
      "metadata": {
        "id": "bn1TlgjuIvuk"
      }
    },
    {
      "cell_type": "code",
      "source": [
        "# Transformando a data de nascimento para o formato datetime\n",
        "df_dados['data_nasc'] = pd.to_datetime(df_dados['data_nasc'], format = '%d/%m/%Y')"
      ],
      "metadata": {
        "id": "NHuhxCJXI3tY"
      },
      "execution_count": 76,
      "outputs": []
    },
    {
      "cell_type": "markdown",
      "source": [
        "#### 4.3.3 Verificando o tratamento realizado"
      ],
      "metadata": {
        "id": "i56CZZcrJisy"
      }
    },
    {
      "cell_type": "code",
      "source": [
        "# Verificando o tipo dos dados do Dataset para a variável df_dados\n",
        "\n",
        "for i in dict(df_dados.dtypes).items():\n",
        "  variavel = i[0]\n",
        "  caracteres = '_'*(30 - len(variavel))\n",
        "  tipo = i[1]\n",
        "  print(f'A variável [{variavel}]{caracteres} é do tipo {tipo}')"
      ],
      "metadata": {
        "colab": {
          "base_uri": "https://localhost:8080/"
        },
        "id": "moW_BUz7JpuG",
        "outputId": "6a095451-7d5c-4f4a-9ec7-86825dfc3889"
      },
      "execution_count": 77,
      "outputs": [
        {
          "output_type": "stream",
          "name": "stdout",
          "text": [
            "A variável [id_cliente]____________________ é do tipo int64\n",
            "A variável [nome]__________________________ é do tipo object\n",
            "A variável [email]_________________________ é do tipo object\n",
            "A variável [sexo]__________________________ é do tipo object\n",
            "A variável [cpf]___________________________ é do tipo object\n",
            "A variável [data_nasc]_____________________ é do tipo datetime64[ns]\n"
          ]
        }
      ]
    },
    {
      "cell_type": "code",
      "source": [
        "# Verificando o tipo dos dados do Dataset para a variável df_dados\n",
        "\n",
        "for i in dict(df_enderecos.dtypes).items():\n",
        "  variavel = i[0]\n",
        "  caracteres = '_'*(30 - len(variavel))\n",
        "  tipo = i[1]\n",
        "  print(f'A variável [{variavel}]{caracteres} é do tipo {tipo}')"
      ],
      "metadata": {
        "colab": {
          "base_uri": "https://localhost:8080/"
        },
        "id": "JR0XfMeDJ0Uu",
        "outputId": "9d15eadb-c2ef-4fa2-88a9-43c3ab9e0f94"
      },
      "execution_count": 78,
      "outputs": [
        {
          "output_type": "stream",
          "name": "stdout",
          "text": [
            "A variável [id_cliente]____________________ é do tipo int64\n",
            "A variável [logradouro]____________________ é do tipo object\n",
            "A variável [numero bairro]_________________ é do tipo object\n",
            "A variável [cep]___________________________ é do tipo object\n",
            "A variável [cidade]________________________ é do tipo object\n",
            "A variável [uf]____________________________ é do tipo object\n"
          ]
        }
      ]
    },
    {
      "cell_type": "markdown",
      "source": [
        "Agora podemos realizar a junção correta do dataframe, essa junção servirá para melhorar a capacidade de visualzar os dados."
      ],
      "metadata": {
        "id": "fYMnCgJFJ3BO"
      }
    },
    {
      "cell_type": "markdown",
      "source": [
        "#### 4.3.4 Combinando em apenas um dataframe"
      ],
      "metadata": {
        "id": "0IMMywtTKGQ-"
      }
    },
    {
      "cell_type": "code",
      "source": [
        "# Combinando datasets \n",
        "df_completo = pd.merge(df_enderecos, df_dados, on = \"id_cliente\")"
      ],
      "metadata": {
        "id": "xXBwITKeKNyE"
      },
      "execution_count": 79,
      "outputs": []
    },
    {
      "cell_type": "code",
      "source": [
        "df_completo.head()"
      ],
      "metadata": {
        "colab": {
          "base_uri": "https://localhost:8080/",
          "height": 513
        },
        "id": "Pc_rXSIoKec4",
        "outputId": "3890c27b-7dfd-48f4-ec71-29566281c3df"
      },
      "execution_count": 80,
      "outputs": [
        {
          "output_type": "execute_result",
          "data": {
            "text/plain": [
              "   id_cliente                   logradouro                   numero bairro  \\\n",
              "0           1   Rua Bento de Miranda Mello  356 Residencial Olivio Benassi   \n",
              "1           2   Rua Ricardo Arruda Ribeiro                 745 Água Branca   \n",
              "2           3  Rua Dona Sylvia Finco Costa              870 Jardim Tapajós   \n",
              "3           4                  Rua Axicará         Vila Isolina Mazzei 433   \n",
              "4           5       Rua Diamantino Armando              Vila Esperança 245   \n",
              "\n",
              "         cep      cidade  uf                              nome  \\\n",
              "0  15993-037       Matão  SP           Sebastiana Tânia Mendes   \n",
              "1  13425-100  Piracicaba  SP              Andrea Débora Campos   \n",
              "2  12945-080     Atibaia  SP          Rosa Jéssica Isis Barros   \n",
              "3  02081-080   São Paulo  SP  Vinicius Carlos Eduardo da Rocha   \n",
              "4  18703-800       Avaré  SP       Cecília Milena Elisa Vieira   \n",
              "\n",
              "                                   email       sexo             cpf  data_nasc  \n",
              "0      sebastiana_tania_mendes@trbvm.com   Feminino  938.319.088-42 1984-01-06  \n",
              "1            andrea-campos75@caporal.biz   Feminino  782.328.538-08 1943-01-06  \n",
              "2     rosa.jessica.barros@optovac.com.br   Feminino  129.102.618-59 1970-02-04  \n",
              "3  viniciuscarlosdarocha@carreira.com.br  Masculino  437.270.578-66 1969-06-22  \n",
              "4          cecilia-vieira98@amure.com.br   Feminino  726.017.228-27 1948-09-07  "
            ],
            "text/html": [
              "\n",
              "  <div id=\"df-4d674dee-1b39-484a-83ee-11dfb90e3427\">\n",
              "    <div class=\"colab-df-container\">\n",
              "      <div>\n",
              "<style scoped>\n",
              "    .dataframe tbody tr th:only-of-type {\n",
              "        vertical-align: middle;\n",
              "    }\n",
              "\n",
              "    .dataframe tbody tr th {\n",
              "        vertical-align: top;\n",
              "    }\n",
              "\n",
              "    .dataframe thead th {\n",
              "        text-align: right;\n",
              "    }\n",
              "</style>\n",
              "<table border=\"1\" class=\"dataframe\">\n",
              "  <thead>\n",
              "    <tr style=\"text-align: right;\">\n",
              "      <th></th>\n",
              "      <th>id_cliente</th>\n",
              "      <th>logradouro</th>\n",
              "      <th>numero bairro</th>\n",
              "      <th>cep</th>\n",
              "      <th>cidade</th>\n",
              "      <th>uf</th>\n",
              "      <th>nome</th>\n",
              "      <th>email</th>\n",
              "      <th>sexo</th>\n",
              "      <th>cpf</th>\n",
              "      <th>data_nasc</th>\n",
              "    </tr>\n",
              "  </thead>\n",
              "  <tbody>\n",
              "    <tr>\n",
              "      <th>0</th>\n",
              "      <td>1</td>\n",
              "      <td>Rua Bento de Miranda Mello</td>\n",
              "      <td>356 Residencial Olivio Benassi</td>\n",
              "      <td>15993-037</td>\n",
              "      <td>Matão</td>\n",
              "      <td>SP</td>\n",
              "      <td>Sebastiana Tânia Mendes</td>\n",
              "      <td>sebastiana_tania_mendes@trbvm.com</td>\n",
              "      <td>Feminino</td>\n",
              "      <td>938.319.088-42</td>\n",
              "      <td>1984-01-06</td>\n",
              "    </tr>\n",
              "    <tr>\n",
              "      <th>1</th>\n",
              "      <td>2</td>\n",
              "      <td>Rua Ricardo Arruda Ribeiro</td>\n",
              "      <td>745 Água Branca</td>\n",
              "      <td>13425-100</td>\n",
              "      <td>Piracicaba</td>\n",
              "      <td>SP</td>\n",
              "      <td>Andrea Débora Campos</td>\n",
              "      <td>andrea-campos75@caporal.biz</td>\n",
              "      <td>Feminino</td>\n",
              "      <td>782.328.538-08</td>\n",
              "      <td>1943-01-06</td>\n",
              "    </tr>\n",
              "    <tr>\n",
              "      <th>2</th>\n",
              "      <td>3</td>\n",
              "      <td>Rua Dona Sylvia Finco Costa</td>\n",
              "      <td>870 Jardim Tapajós</td>\n",
              "      <td>12945-080</td>\n",
              "      <td>Atibaia</td>\n",
              "      <td>SP</td>\n",
              "      <td>Rosa Jéssica Isis Barros</td>\n",
              "      <td>rosa.jessica.barros@optovac.com.br</td>\n",
              "      <td>Feminino</td>\n",
              "      <td>129.102.618-59</td>\n",
              "      <td>1970-02-04</td>\n",
              "    </tr>\n",
              "    <tr>\n",
              "      <th>3</th>\n",
              "      <td>4</td>\n",
              "      <td>Rua Axicará</td>\n",
              "      <td>Vila Isolina Mazzei 433</td>\n",
              "      <td>02081-080</td>\n",
              "      <td>São Paulo</td>\n",
              "      <td>SP</td>\n",
              "      <td>Vinicius Carlos Eduardo da Rocha</td>\n",
              "      <td>viniciuscarlosdarocha@carreira.com.br</td>\n",
              "      <td>Masculino</td>\n",
              "      <td>437.270.578-66</td>\n",
              "      <td>1969-06-22</td>\n",
              "    </tr>\n",
              "    <tr>\n",
              "      <th>4</th>\n",
              "      <td>5</td>\n",
              "      <td>Rua Diamantino Armando</td>\n",
              "      <td>Vila Esperança 245</td>\n",
              "      <td>18703-800</td>\n",
              "      <td>Avaré</td>\n",
              "      <td>SP</td>\n",
              "      <td>Cecília Milena Elisa Vieira</td>\n",
              "      <td>cecilia-vieira98@amure.com.br</td>\n",
              "      <td>Feminino</td>\n",
              "      <td>726.017.228-27</td>\n",
              "      <td>1948-09-07</td>\n",
              "    </tr>\n",
              "  </tbody>\n",
              "</table>\n",
              "</div>\n",
              "      <button class=\"colab-df-convert\" onclick=\"convertToInteractive('df-4d674dee-1b39-484a-83ee-11dfb90e3427')\"\n",
              "              title=\"Convert this dataframe to an interactive table.\"\n",
              "              style=\"display:none;\">\n",
              "        \n",
              "  <svg xmlns=\"http://www.w3.org/2000/svg\" height=\"24px\"viewBox=\"0 0 24 24\"\n",
              "       width=\"24px\">\n",
              "    <path d=\"M0 0h24v24H0V0z\" fill=\"none\"/>\n",
              "    <path d=\"M18.56 5.44l.94 2.06.94-2.06 2.06-.94-2.06-.94-.94-2.06-.94 2.06-2.06.94zm-11 1L8.5 8.5l.94-2.06 2.06-.94-2.06-.94L8.5 2.5l-.94 2.06-2.06.94zm10 10l.94 2.06.94-2.06 2.06-.94-2.06-.94-.94-2.06-.94 2.06-2.06.94z\"/><path d=\"M17.41 7.96l-1.37-1.37c-.4-.4-.92-.59-1.43-.59-.52 0-1.04.2-1.43.59L10.3 9.45l-7.72 7.72c-.78.78-.78 2.05 0 2.83L4 21.41c.39.39.9.59 1.41.59.51 0 1.02-.2 1.41-.59l7.78-7.78 2.81-2.81c.8-.78.8-2.07 0-2.86zM5.41 20L4 18.59l7.72-7.72 1.47 1.35L5.41 20z\"/>\n",
              "  </svg>\n",
              "      </button>\n",
              "      \n",
              "  <style>\n",
              "    .colab-df-container {\n",
              "      display:flex;\n",
              "      flex-wrap:wrap;\n",
              "      gap: 12px;\n",
              "    }\n",
              "\n",
              "    .colab-df-convert {\n",
              "      background-color: #E8F0FE;\n",
              "      border: none;\n",
              "      border-radius: 50%;\n",
              "      cursor: pointer;\n",
              "      display: none;\n",
              "      fill: #1967D2;\n",
              "      height: 32px;\n",
              "      padding: 0 0 0 0;\n",
              "      width: 32px;\n",
              "    }\n",
              "\n",
              "    .colab-df-convert:hover {\n",
              "      background-color: #E2EBFA;\n",
              "      box-shadow: 0px 1px 2px rgba(60, 64, 67, 0.3), 0px 1px 3px 1px rgba(60, 64, 67, 0.15);\n",
              "      fill: #174EA6;\n",
              "    }\n",
              "\n",
              "    [theme=dark] .colab-df-convert {\n",
              "      background-color: #3B4455;\n",
              "      fill: #D2E3FC;\n",
              "    }\n",
              "\n",
              "    [theme=dark] .colab-df-convert:hover {\n",
              "      background-color: #434B5C;\n",
              "      box-shadow: 0px 1px 3px 1px rgba(0, 0, 0, 0.15);\n",
              "      filter: drop-shadow(0px 1px 2px rgba(0, 0, 0, 0.3));\n",
              "      fill: #FFFFFF;\n",
              "    }\n",
              "  </style>\n",
              "\n",
              "      <script>\n",
              "        const buttonEl =\n",
              "          document.querySelector('#df-4d674dee-1b39-484a-83ee-11dfb90e3427 button.colab-df-convert');\n",
              "        buttonEl.style.display =\n",
              "          google.colab.kernel.accessAllowed ? 'block' : 'none';\n",
              "\n",
              "        async function convertToInteractive(key) {\n",
              "          const element = document.querySelector('#df-4d674dee-1b39-484a-83ee-11dfb90e3427');\n",
              "          const dataTable =\n",
              "            await google.colab.kernel.invokeFunction('convertToInteractive',\n",
              "                                                     [key], {});\n",
              "          if (!dataTable) return;\n",
              "\n",
              "          const docLinkHtml = 'Like what you see? Visit the ' +\n",
              "            '<a target=\"_blank\" href=https://colab.research.google.com/notebooks/data_table.ipynb>data table notebook</a>'\n",
              "            + ' to learn more about interactive tables.';\n",
              "          element.innerHTML = '';\n",
              "          dataTable['output_type'] = 'display_data';\n",
              "          await google.colab.output.renderOutput(dataTable, element);\n",
              "          const docLink = document.createElement('div');\n",
              "          docLink.innerHTML = docLinkHtml;\n",
              "          element.appendChild(docLink);\n",
              "        }\n",
              "      </script>\n",
              "    </div>\n",
              "  </div>\n",
              "  "
            ]
          },
          "metadata": {},
          "execution_count": 80
        }
      ]
    },
    {
      "cell_type": "code",
      "source": [
        "# Ajeitando a variável id_cliente em uma só\n",
        "df_completo.set_index('id_cliente', inplace = True)"
      ],
      "metadata": {
        "id": "31rMyNc4KraY"
      },
      "execution_count": 81,
      "outputs": []
    },
    {
      "cell_type": "code",
      "source": [
        "# Verificando o Dataset novamente\n",
        "df_completo.head()"
      ],
      "metadata": {
        "colab": {
          "base_uri": "https://localhost:8080/",
          "height": 545
        },
        "id": "y2ovve_9LBhL",
        "outputId": "30fae98f-11b8-4539-c673-66ad0e0667f8"
      },
      "execution_count": 82,
      "outputs": [
        {
          "output_type": "execute_result",
          "data": {
            "text/plain": [
              "                             logradouro                   numero bairro  \\\n",
              "id_cliente                                                                \n",
              "1            Rua Bento de Miranda Mello  356 Residencial Olivio Benassi   \n",
              "2            Rua Ricardo Arruda Ribeiro                 745 Água Branca   \n",
              "3           Rua Dona Sylvia Finco Costa              870 Jardim Tapajós   \n",
              "4                           Rua Axicará         Vila Isolina Mazzei 433   \n",
              "5                Rua Diamantino Armando              Vila Esperança 245   \n",
              "\n",
              "                  cep      cidade  uf                              nome  \\\n",
              "id_cliente                                                                \n",
              "1           15993-037       Matão  SP           Sebastiana Tânia Mendes   \n",
              "2           13425-100  Piracicaba  SP              Andrea Débora Campos   \n",
              "3           12945-080     Atibaia  SP          Rosa Jéssica Isis Barros   \n",
              "4           02081-080   São Paulo  SP  Vinicius Carlos Eduardo da Rocha   \n",
              "5           18703-800       Avaré  SP       Cecília Milena Elisa Vieira   \n",
              "\n",
              "                                            email       sexo             cpf  \\\n",
              "id_cliente                                                                     \n",
              "1               sebastiana_tania_mendes@trbvm.com   Feminino  938.319.088-42   \n",
              "2                     andrea-campos75@caporal.biz   Feminino  782.328.538-08   \n",
              "3              rosa.jessica.barros@optovac.com.br   Feminino  129.102.618-59   \n",
              "4           viniciuscarlosdarocha@carreira.com.br  Masculino  437.270.578-66   \n",
              "5                   cecilia-vieira98@amure.com.br   Feminino  726.017.228-27   \n",
              "\n",
              "            data_nasc  \n",
              "id_cliente             \n",
              "1          1984-01-06  \n",
              "2          1943-01-06  \n",
              "3          1970-02-04  \n",
              "4          1969-06-22  \n",
              "5          1948-09-07  "
            ],
            "text/html": [
              "\n",
              "  <div id=\"df-e3e5005c-02b4-40e7-a592-759d51b8e4d9\">\n",
              "    <div class=\"colab-df-container\">\n",
              "      <div>\n",
              "<style scoped>\n",
              "    .dataframe tbody tr th:only-of-type {\n",
              "        vertical-align: middle;\n",
              "    }\n",
              "\n",
              "    .dataframe tbody tr th {\n",
              "        vertical-align: top;\n",
              "    }\n",
              "\n",
              "    .dataframe thead th {\n",
              "        text-align: right;\n",
              "    }\n",
              "</style>\n",
              "<table border=\"1\" class=\"dataframe\">\n",
              "  <thead>\n",
              "    <tr style=\"text-align: right;\">\n",
              "      <th></th>\n",
              "      <th>logradouro</th>\n",
              "      <th>numero bairro</th>\n",
              "      <th>cep</th>\n",
              "      <th>cidade</th>\n",
              "      <th>uf</th>\n",
              "      <th>nome</th>\n",
              "      <th>email</th>\n",
              "      <th>sexo</th>\n",
              "      <th>cpf</th>\n",
              "      <th>data_nasc</th>\n",
              "    </tr>\n",
              "    <tr>\n",
              "      <th>id_cliente</th>\n",
              "      <th></th>\n",
              "      <th></th>\n",
              "      <th></th>\n",
              "      <th></th>\n",
              "      <th></th>\n",
              "      <th></th>\n",
              "      <th></th>\n",
              "      <th></th>\n",
              "      <th></th>\n",
              "      <th></th>\n",
              "    </tr>\n",
              "  </thead>\n",
              "  <tbody>\n",
              "    <tr>\n",
              "      <th>1</th>\n",
              "      <td>Rua Bento de Miranda Mello</td>\n",
              "      <td>356 Residencial Olivio Benassi</td>\n",
              "      <td>15993-037</td>\n",
              "      <td>Matão</td>\n",
              "      <td>SP</td>\n",
              "      <td>Sebastiana Tânia Mendes</td>\n",
              "      <td>sebastiana_tania_mendes@trbvm.com</td>\n",
              "      <td>Feminino</td>\n",
              "      <td>938.319.088-42</td>\n",
              "      <td>1984-01-06</td>\n",
              "    </tr>\n",
              "    <tr>\n",
              "      <th>2</th>\n",
              "      <td>Rua Ricardo Arruda Ribeiro</td>\n",
              "      <td>745 Água Branca</td>\n",
              "      <td>13425-100</td>\n",
              "      <td>Piracicaba</td>\n",
              "      <td>SP</td>\n",
              "      <td>Andrea Débora Campos</td>\n",
              "      <td>andrea-campos75@caporal.biz</td>\n",
              "      <td>Feminino</td>\n",
              "      <td>782.328.538-08</td>\n",
              "      <td>1943-01-06</td>\n",
              "    </tr>\n",
              "    <tr>\n",
              "      <th>3</th>\n",
              "      <td>Rua Dona Sylvia Finco Costa</td>\n",
              "      <td>870 Jardim Tapajós</td>\n",
              "      <td>12945-080</td>\n",
              "      <td>Atibaia</td>\n",
              "      <td>SP</td>\n",
              "      <td>Rosa Jéssica Isis Barros</td>\n",
              "      <td>rosa.jessica.barros@optovac.com.br</td>\n",
              "      <td>Feminino</td>\n",
              "      <td>129.102.618-59</td>\n",
              "      <td>1970-02-04</td>\n",
              "    </tr>\n",
              "    <tr>\n",
              "      <th>4</th>\n",
              "      <td>Rua Axicará</td>\n",
              "      <td>Vila Isolina Mazzei 433</td>\n",
              "      <td>02081-080</td>\n",
              "      <td>São Paulo</td>\n",
              "      <td>SP</td>\n",
              "      <td>Vinicius Carlos Eduardo da Rocha</td>\n",
              "      <td>viniciuscarlosdarocha@carreira.com.br</td>\n",
              "      <td>Masculino</td>\n",
              "      <td>437.270.578-66</td>\n",
              "      <td>1969-06-22</td>\n",
              "    </tr>\n",
              "    <tr>\n",
              "      <th>5</th>\n",
              "      <td>Rua Diamantino Armando</td>\n",
              "      <td>Vila Esperança 245</td>\n",
              "      <td>18703-800</td>\n",
              "      <td>Avaré</td>\n",
              "      <td>SP</td>\n",
              "      <td>Cecília Milena Elisa Vieira</td>\n",
              "      <td>cecilia-vieira98@amure.com.br</td>\n",
              "      <td>Feminino</td>\n",
              "      <td>726.017.228-27</td>\n",
              "      <td>1948-09-07</td>\n",
              "    </tr>\n",
              "  </tbody>\n",
              "</table>\n",
              "</div>\n",
              "      <button class=\"colab-df-convert\" onclick=\"convertToInteractive('df-e3e5005c-02b4-40e7-a592-759d51b8e4d9')\"\n",
              "              title=\"Convert this dataframe to an interactive table.\"\n",
              "              style=\"display:none;\">\n",
              "        \n",
              "  <svg xmlns=\"http://www.w3.org/2000/svg\" height=\"24px\"viewBox=\"0 0 24 24\"\n",
              "       width=\"24px\">\n",
              "    <path d=\"M0 0h24v24H0V0z\" fill=\"none\"/>\n",
              "    <path d=\"M18.56 5.44l.94 2.06.94-2.06 2.06-.94-2.06-.94-.94-2.06-.94 2.06-2.06.94zm-11 1L8.5 8.5l.94-2.06 2.06-.94-2.06-.94L8.5 2.5l-.94 2.06-2.06.94zm10 10l.94 2.06.94-2.06 2.06-.94-2.06-.94-.94-2.06-.94 2.06-2.06.94z\"/><path d=\"M17.41 7.96l-1.37-1.37c-.4-.4-.92-.59-1.43-.59-.52 0-1.04.2-1.43.59L10.3 9.45l-7.72 7.72c-.78.78-.78 2.05 0 2.83L4 21.41c.39.39.9.59 1.41.59.51 0 1.02-.2 1.41-.59l7.78-7.78 2.81-2.81c.8-.78.8-2.07 0-2.86zM5.41 20L4 18.59l7.72-7.72 1.47 1.35L5.41 20z\"/>\n",
              "  </svg>\n",
              "      </button>\n",
              "      \n",
              "  <style>\n",
              "    .colab-df-container {\n",
              "      display:flex;\n",
              "      flex-wrap:wrap;\n",
              "      gap: 12px;\n",
              "    }\n",
              "\n",
              "    .colab-df-convert {\n",
              "      background-color: #E8F0FE;\n",
              "      border: none;\n",
              "      border-radius: 50%;\n",
              "      cursor: pointer;\n",
              "      display: none;\n",
              "      fill: #1967D2;\n",
              "      height: 32px;\n",
              "      padding: 0 0 0 0;\n",
              "      width: 32px;\n",
              "    }\n",
              "\n",
              "    .colab-df-convert:hover {\n",
              "      background-color: #E2EBFA;\n",
              "      box-shadow: 0px 1px 2px rgba(60, 64, 67, 0.3), 0px 1px 3px 1px rgba(60, 64, 67, 0.15);\n",
              "      fill: #174EA6;\n",
              "    }\n",
              "\n",
              "    [theme=dark] .colab-df-convert {\n",
              "      background-color: #3B4455;\n",
              "      fill: #D2E3FC;\n",
              "    }\n",
              "\n",
              "    [theme=dark] .colab-df-convert:hover {\n",
              "      background-color: #434B5C;\n",
              "      box-shadow: 0px 1px 3px 1px rgba(0, 0, 0, 0.15);\n",
              "      filter: drop-shadow(0px 1px 2px rgba(0, 0, 0, 0.3));\n",
              "      fill: #FFFFFF;\n",
              "    }\n",
              "  </style>\n",
              "\n",
              "      <script>\n",
              "        const buttonEl =\n",
              "          document.querySelector('#df-e3e5005c-02b4-40e7-a592-759d51b8e4d9 button.colab-df-convert');\n",
              "        buttonEl.style.display =\n",
              "          google.colab.kernel.accessAllowed ? 'block' : 'none';\n",
              "\n",
              "        async function convertToInteractive(key) {\n",
              "          const element = document.querySelector('#df-e3e5005c-02b4-40e7-a592-759d51b8e4d9');\n",
              "          const dataTable =\n",
              "            await google.colab.kernel.invokeFunction('convertToInteractive',\n",
              "                                                     [key], {});\n",
              "          if (!dataTable) return;\n",
              "\n",
              "          const docLinkHtml = 'Like what you see? Visit the ' +\n",
              "            '<a target=\"_blank\" href=https://colab.research.google.com/notebooks/data_table.ipynb>data table notebook</a>'\n",
              "            + ' to learn more about interactive tables.';\n",
              "          element.innerHTML = '';\n",
              "          dataTable['output_type'] = 'display_data';\n",
              "          await google.colab.output.renderOutput(dataTable, element);\n",
              "          const docLink = document.createElement('div');\n",
              "          docLink.innerHTML = docLinkHtml;\n",
              "          element.appendChild(docLink);\n",
              "        }\n",
              "      </script>\n",
              "    </div>\n",
              "  </div>\n",
              "  "
            ]
          },
          "metadata": {},
          "execution_count": 82
        }
      ]
    },
    {
      "cell_type": "markdown",
      "source": [
        "### 4.4. Obtendo as coordenadas geográficas pela API do Google Maps"
      ],
      "metadata": {
        "id": "OrDjJ31qMFk5"
      }
    },
    {
      "cell_type": "code",
      "source": [
        "# Acessando a API do google maps\n",
        "gmaps = googlemaps.Client(key = 'coloque sua chave API - Google Maps')"
      ],
      "metadata": {
        "id": "DBeA6Nh378l5"
      },
      "execution_count": 83,
      "outputs": []
    },
    {
      "cell_type": "code",
      "source": [
        "# Gerando uma coluna com endereços completos\n",
        "enderecos_completos = df_completo['logradouro'] + \" , \" + df_completo['numero bairro'] + \" - \" + df_completo['cidade'] + \" , \" + df_completo['uf']\n"
      ],
      "metadata": {
        "id": "Vcc6bmK18-1Y"
      },
      "execution_count": 85,
      "outputs": []
    },
    {
      "cell_type": "code",
      "source": [
        "# Exemplo de endereço completo\n",
        "enderecos_completos.iloc[0]"
      ],
      "metadata": {
        "id": "6DyyVPON_uzT",
        "colab": {
          "base_uri": "https://localhost:8080/",
          "height": 35
        },
        "outputId": "7e5b6823-f9bc-4ff5-f03d-8e45944ad4e0"
      },
      "execution_count": 86,
      "outputs": [
        {
          "output_type": "execute_result",
          "data": {
            "text/plain": [
              "'Rua Bento de Miranda Mello , 356 Residencial Olivio Benassi - Matão , SP'"
            ],
            "application/vnd.google.colaboratory.intrinsic+json": {
              "type": "string"
            }
          },
          "metadata": {},
          "execution_count": 86
        }
      ]
    },
    {
      "cell_type": "code",
      "source": [
        "# Obter coordenadas de maneira iterativa\n",
        "coordenadas = []\n",
        "\n",
        "# percorrer entradas individuais e fazer requisições individuais\n",
        "for i, j in enumerate(enderecos_completos):\n",
        "    geocode_obj = gmaps.geocode(j)\n",
        "\n",
        "    # extrair apenas lat/lon\n",
        "    lat = geocode_obj[0]['geometry']['location']['lat']\n",
        "    lon = geocode_obj[0]['geometry']['location']['lng']\n",
        "\n",
        "    # adicionar lat/lon à lista\n",
        "    coordenadas.append([lat, lon])"
      ],
      "metadata": {
        "id": "ouhudGwm_5UP"
      },
      "execution_count": 87,
      "outputs": []
    },
    {
      "cell_type": "code",
      "source": [
        "# Obtendo as coordenadas de maneira iterativa\n",
        "coordenadas = []\n",
        "\n",
        "# Percorrendo as entradas de forma individual, fazendo a requisição de forma individual\n",
        "for i, j in enumerate(enderecos_completos):\n",
        "  geocode_obj = gmaps.geocode(j)\n",
        "\n",
        "  # Extraindo latitude e longitude \n",
        "  lat = geocode_obj[0]['geometry']['location']['lat']\n",
        "  lon = geocode_obj[0]['geometry']['location']['lng']\n",
        "\n",
        "  # Adicionando latitude e longitude a lista de coordenadas\n",
        "  coordenadas.append([lat, lon])\n",
        "  "
      ],
      "metadata": {
        "id": "At6gS1DxAPJw"
      },
      "execution_count": 88,
      "outputs": []
    },
    {
      "cell_type": "code",
      "source": [
        "# Verificando a latitude e longitude\n",
        "geocode_obj[0]['geometry']['location']"
      ],
      "metadata": {
        "id": "nDszLh-nDeX6",
        "colab": {
          "base_uri": "https://localhost:8080/"
        },
        "outputId": "133c878f-142e-4a01-941b-834d3aaaf096"
      },
      "execution_count": 89,
      "outputs": [
        {
          "output_type": "execute_result",
          "data": {
            "text/plain": [
              "{'lat': -23.6826179, 'lng': -46.3587757}"
            ]
          },
          "metadata": {},
          "execution_count": 89
        }
      ]
    },
    {
      "cell_type": "code",
      "source": [
        "# converter para DataFrame\n",
        "df_coordenadas = pd.DataFrame(coordenadas, columns=['lat', 'lon'])\n",
        "\n",
        "# Obter mesmo índice que o dataframe completo\n",
        "df_coordenadas.set_index(df_coordenadas.index + 1, inplace=True)"
      ],
      "metadata": {
        "id": "5OPPuW3mD_fX"
      },
      "execution_count": 90,
      "outputs": []
    },
    {
      "cell_type": "markdown",
      "source": [
        "### 4.5. Exportar csv com os dados completos"
      ],
      "metadata": {
        "id": "pu03k2keFapQ"
      }
    },
    {
      "cell_type": "code",
      "source": [
        "# Combinar coordenadas encontradas os dados completos, em relação ao axis=1\n",
        "df_completo = pd.concat([df_completo, df_coordenadas], axis=1)"
      ],
      "metadata": {
        "id": "TVQ5GV1Ywd64"
      },
      "execution_count": 91,
      "outputs": []
    },
    {
      "cell_type": "code",
      "source": [
        "df_completo.head(1)"
      ],
      "metadata": {
        "colab": {
          "base_uri": "https://localhost:8080/",
          "height": 214
        },
        "id": "vIw3z8ao-W0n",
        "outputId": "85be4e3e-6230-4403-99de-c5476da9a7e8"
      },
      "execution_count": 94,
      "outputs": [
        {
          "output_type": "execute_result",
          "data": {
            "text/plain": [
              "                   logradouro                   numero bairro        cep  \\\n",
              "1  Rua Bento de Miranda Mello  356 Residencial Olivio Benassi  15993-037   \n",
              "\n",
              "  cidade  uf                     nome                              email  \\\n",
              "1  Matão  SP  Sebastiana Tânia Mendes  sebastiana_tania_mendes@trbvm.com   \n",
              "\n",
              "       sexo             cpf  data_nasc       lat        lon  \n",
              "1  Feminino  938.319.088-42 1984-01-06 -21.61915 -48.368234  "
            ],
            "text/html": [
              "\n",
              "  <div id=\"df-0f16b490-c6c2-4b3e-a93e-0ccef88b699e\">\n",
              "    <div class=\"colab-df-container\">\n",
              "      <div>\n",
              "<style scoped>\n",
              "    .dataframe tbody tr th:only-of-type {\n",
              "        vertical-align: middle;\n",
              "    }\n",
              "\n",
              "    .dataframe tbody tr th {\n",
              "        vertical-align: top;\n",
              "    }\n",
              "\n",
              "    .dataframe thead th {\n",
              "        text-align: right;\n",
              "    }\n",
              "</style>\n",
              "<table border=\"1\" class=\"dataframe\">\n",
              "  <thead>\n",
              "    <tr style=\"text-align: right;\">\n",
              "      <th></th>\n",
              "      <th>logradouro</th>\n",
              "      <th>numero bairro</th>\n",
              "      <th>cep</th>\n",
              "      <th>cidade</th>\n",
              "      <th>uf</th>\n",
              "      <th>nome</th>\n",
              "      <th>email</th>\n",
              "      <th>sexo</th>\n",
              "      <th>cpf</th>\n",
              "      <th>data_nasc</th>\n",
              "      <th>lat</th>\n",
              "      <th>lon</th>\n",
              "    </tr>\n",
              "  </thead>\n",
              "  <tbody>\n",
              "    <tr>\n",
              "      <th>1</th>\n",
              "      <td>Rua Bento de Miranda Mello</td>\n",
              "      <td>356 Residencial Olivio Benassi</td>\n",
              "      <td>15993-037</td>\n",
              "      <td>Matão</td>\n",
              "      <td>SP</td>\n",
              "      <td>Sebastiana Tânia Mendes</td>\n",
              "      <td>sebastiana_tania_mendes@trbvm.com</td>\n",
              "      <td>Feminino</td>\n",
              "      <td>938.319.088-42</td>\n",
              "      <td>1984-01-06</td>\n",
              "      <td>-21.61915</td>\n",
              "      <td>-48.368234</td>\n",
              "    </tr>\n",
              "  </tbody>\n",
              "</table>\n",
              "</div>\n",
              "      <button class=\"colab-df-convert\" onclick=\"convertToInteractive('df-0f16b490-c6c2-4b3e-a93e-0ccef88b699e')\"\n",
              "              title=\"Convert this dataframe to an interactive table.\"\n",
              "              style=\"display:none;\">\n",
              "        \n",
              "  <svg xmlns=\"http://www.w3.org/2000/svg\" height=\"24px\"viewBox=\"0 0 24 24\"\n",
              "       width=\"24px\">\n",
              "    <path d=\"M0 0h24v24H0V0z\" fill=\"none\"/>\n",
              "    <path d=\"M18.56 5.44l.94 2.06.94-2.06 2.06-.94-2.06-.94-.94-2.06-.94 2.06-2.06.94zm-11 1L8.5 8.5l.94-2.06 2.06-.94-2.06-.94L8.5 2.5l-.94 2.06-2.06.94zm10 10l.94 2.06.94-2.06 2.06-.94-2.06-.94-.94-2.06-.94 2.06-2.06.94z\"/><path d=\"M17.41 7.96l-1.37-1.37c-.4-.4-.92-.59-1.43-.59-.52 0-1.04.2-1.43.59L10.3 9.45l-7.72 7.72c-.78.78-.78 2.05 0 2.83L4 21.41c.39.39.9.59 1.41.59.51 0 1.02-.2 1.41-.59l7.78-7.78 2.81-2.81c.8-.78.8-2.07 0-2.86zM5.41 20L4 18.59l7.72-7.72 1.47 1.35L5.41 20z\"/>\n",
              "  </svg>\n",
              "      </button>\n",
              "      \n",
              "  <style>\n",
              "    .colab-df-container {\n",
              "      display:flex;\n",
              "      flex-wrap:wrap;\n",
              "      gap: 12px;\n",
              "    }\n",
              "\n",
              "    .colab-df-convert {\n",
              "      background-color: #E8F0FE;\n",
              "      border: none;\n",
              "      border-radius: 50%;\n",
              "      cursor: pointer;\n",
              "      display: none;\n",
              "      fill: #1967D2;\n",
              "      height: 32px;\n",
              "      padding: 0 0 0 0;\n",
              "      width: 32px;\n",
              "    }\n",
              "\n",
              "    .colab-df-convert:hover {\n",
              "      background-color: #E2EBFA;\n",
              "      box-shadow: 0px 1px 2px rgba(60, 64, 67, 0.3), 0px 1px 3px 1px rgba(60, 64, 67, 0.15);\n",
              "      fill: #174EA6;\n",
              "    }\n",
              "\n",
              "    [theme=dark] .colab-df-convert {\n",
              "      background-color: #3B4455;\n",
              "      fill: #D2E3FC;\n",
              "    }\n",
              "\n",
              "    [theme=dark] .colab-df-convert:hover {\n",
              "      background-color: #434B5C;\n",
              "      box-shadow: 0px 1px 3px 1px rgba(0, 0, 0, 0.15);\n",
              "      filter: drop-shadow(0px 1px 2px rgba(0, 0, 0, 0.3));\n",
              "      fill: #FFFFFF;\n",
              "    }\n",
              "  </style>\n",
              "\n",
              "      <script>\n",
              "        const buttonEl =\n",
              "          document.querySelector('#df-0f16b490-c6c2-4b3e-a93e-0ccef88b699e button.colab-df-convert');\n",
              "        buttonEl.style.display =\n",
              "          google.colab.kernel.accessAllowed ? 'block' : 'none';\n",
              "\n",
              "        async function convertToInteractive(key) {\n",
              "          const element = document.querySelector('#df-0f16b490-c6c2-4b3e-a93e-0ccef88b699e');\n",
              "          const dataTable =\n",
              "            await google.colab.kernel.invokeFunction('convertToInteractive',\n",
              "                                                     [key], {});\n",
              "          if (!dataTable) return;\n",
              "\n",
              "          const docLinkHtml = 'Like what you see? Visit the ' +\n",
              "            '<a target=\"_blank\" href=https://colab.research.google.com/notebooks/data_table.ipynb>data table notebook</a>'\n",
              "            + ' to learn more about interactive tables.';\n",
              "          element.innerHTML = '';\n",
              "          dataTable['output_type'] = 'display_data';\n",
              "          await google.colab.output.renderOutput(dataTable, element);\n",
              "          const docLink = document.createElement('div');\n",
              "          docLink.innerHTML = docLinkHtml;\n",
              "          element.appendChild(docLink);\n",
              "        }\n",
              "      </script>\n",
              "    </div>\n",
              "  </div>\n",
              "  "
            ]
          },
          "metadata": {},
          "execution_count": 94
        }
      ]
    },
    {
      "cell_type": "code",
      "source": [
        "# Verificando o tipo dos dados do Dataset para a variável df_dados\n",
        "\n",
        "for i in dict(df_completo.dtypes).items():\n",
        "  variavel = i[0]\n",
        "  caracteres = '_'*(30 - len(variavel))\n",
        "  tipo = i[1]\n",
        "  print(f'A variável [{variavel}]{caracteres} é do tipo {tipo}')"
      ],
      "metadata": {
        "colab": {
          "base_uri": "https://localhost:8080/"
        },
        "id": "-K49xJ1o0VSE",
        "outputId": "6e98c22b-8de1-45a7-8153-2050c7b87892"
      },
      "execution_count": 221,
      "outputs": [
        {
          "output_type": "stream",
          "name": "stdout",
          "text": [
            "A variável [logradouro]____________________ é do tipo object\n",
            "A variável [numero bairro]_________________ é do tipo object\n",
            "A variável [cep]___________________________ é do tipo object\n",
            "A variável [cidade]________________________ é do tipo object\n",
            "A variável [uf]____________________________ é do tipo object\n",
            "A variável [nome]__________________________ é do tipo object\n",
            "A variável [email]_________________________ é do tipo object\n",
            "A variável [sexo]__________________________ é do tipo object\n",
            "A variável [cpf]___________________________ é do tipo object\n",
            "A variável [data_nasc]_____________________ é do tipo datetime64[ns]\n",
            "A variável [lat]___________________________ é do tipo float64\n",
            "A variável [lon]___________________________ é do tipo float64\n",
            "A variável [idade]_________________________ é do tipo int64\n",
            "A variável [geometry]______________________ é do tipo geometry\n"
          ]
        }
      ]
    },
    {
      "cell_type": "markdown",
      "source": [
        "As coordenadas foram adicionadas junto aos seus respectivos endereços."
      ],
      "metadata": {
        "id": "EwwNuxCK-iDG"
      }
    },
    {
      "cell_type": "code",
      "source": [
        "# exportar para arquivo csv dentro do Google Drive (salvando no drive)\n",
        "df_completo.to_csv('/content/drive/MyDrive/dados_empresa/dados_completos.csv')"
      ],
      "metadata": {
        "id": "PRs9uG92xCg6"
      },
      "execution_count": 92,
      "outputs": []
    },
    {
      "cell_type": "markdown",
      "source": [
        "### 4.6 Calculando a distância até o evento"
      ],
      "metadata": {
        "id": "o3eVK-Jf-LZX"
      }
    },
    {
      "cell_type": "code",
      "source": [
        "local_do_evento = \"Estádio da Fonte Luminosa, Araraquara - SP\""
      ],
      "metadata": {
        "id": "a35oTEmf-5hb"
      },
      "execution_count": 95,
      "outputs": []
    },
    {
      "cell_type": "code",
      "source": [
        "# Obter informações sobre o local do evento\n",
        "gmaps.geocode(local_do_evento)"
      ],
      "metadata": {
        "colab": {
          "base_uri": "https://localhost:8080/"
        },
        "id": "ZBBVwr0m_-Tn",
        "outputId": "4faab95b-8114-4fbb-e913-378b050687be"
      },
      "execution_count": 96,
      "outputs": [
        {
          "output_type": "execute_result",
          "data": {
            "text/plain": [
              "[{'address_components': [{'long_name': 's/n',\n",
              "    'short_name': 's/n',\n",
              "    'types': ['street_number']},\n",
              "   {'long_name': 'Rua Mauro Pinheiro',\n",
              "    'short_name': 'R. Mauro Pinheiro',\n",
              "    'types': ['route']},\n",
              "   {'long_name': 'Jardim Primavera',\n",
              "    'short_name': 'Jardim Primavera',\n",
              "    'types': ['political', 'sublocality', 'sublocality_level_1']},\n",
              "   {'long_name': 'Araraquara',\n",
              "    'short_name': 'Araraquara',\n",
              "    'types': ['administrative_area_level_2', 'political']},\n",
              "   {'long_name': 'São Paulo',\n",
              "    'short_name': 'SP',\n",
              "    'types': ['administrative_area_level_1', 'political']},\n",
              "   {'long_name': 'Brazil',\n",
              "    'short_name': 'BR',\n",
              "    'types': ['country', 'political']},\n",
              "   {'long_name': '14802-355',\n",
              "    'short_name': '14802-355',\n",
              "    'types': ['postal_code']}],\n",
              "  'formatted_address': 'R. Mauro Pinheiro, s/n - Jardim Primavera, Araraquara - SP, 14802-355, Brazil',\n",
              "  'geometry': {'location': {'lat': -21.7752895, 'lng': -48.1702765},\n",
              "   'location_type': 'ROOFTOP',\n",
              "   'viewport': {'northeast': {'lat': -21.7741537197085,\n",
              "     'lng': -48.1690200197085},\n",
              "    'southwest': {'lat': -21.7768516802915, 'lng': -48.1717179802915}}},\n",
              "  'partial_match': True,\n",
              "  'place_id': 'ChIJD8xoplrxuJQRRGWOWj4Yvhg',\n",
              "  'plus_code': {'compound_code': '6RFH+VV Jardim Primavera, Araraquara - SP, Brazil',\n",
              "   'global_code': '58CH6RFH+VV'},\n",
              "  'types': ['establishment', 'point_of_interest', 'stadium']}]"
            ]
          },
          "metadata": {},
          "execution_count": 96
        }
      ]
    },
    {
      "cell_type": "code",
      "source": [
        "# Calculando a distância/tempo entre postos geográficos, com uma data específica\n",
        "dia_do_evento = datetime(2023, 12, 15)\n",
        "resultado_distancia = gmaps.directions(\"-21.620162, -48.366012\",\n",
        "                                       local_do_evento,\n",
        "                                       mode = \"driving\",\n",
        "                                       departure_time = dia_do_evento)"
      ],
      "metadata": {
        "id": "GYNx0L8sA16p"
      },
      "execution_count": 102,
      "outputs": []
    },
    {
      "cell_type": "code",
      "source": [
        "# Exemplo de distância\n",
        "print(f\"A distância deste cliente para o local do evento é de aproximadamente {int(resultado_distancia[0]['legs'][0]['distance']['value'] / 1000)} km\")"
      ],
      "metadata": {
        "colab": {
          "base_uri": "https://localhost:8080/"
        },
        "id": "LTL66behDJvJ",
        "outputId": "9f190658-988a-42e9-c67f-5f7107ea2866"
      },
      "execution_count": 103,
      "outputs": [
        {
          "output_type": "stream",
          "name": "stdout",
          "text": [
            "A distância deste cliente para o local do evento é de aproximadamente 32 km\n"
          ]
        }
      ]
    },
    {
      "cell_type": "code",
      "source": [
        "# Exemplo de tempo em minutos\n",
        "print(f\" O tempo gasto por este cliente para chegar ao evento é de aproximadamente:{round(resultado_distancia[0]['legs'][0]['duration']['value'] /60, 0)} minutos\")\n"
      ],
      "metadata": {
        "colab": {
          "base_uri": "https://localhost:8080/"
        },
        "id": "lVD-O1ALE3As",
        "outputId": "1d3a7bf4-ef5a-4725-c913-c9fb94590c4e"
      },
      "execution_count": 114,
      "outputs": [
        {
          "output_type": "stream",
          "name": "stdout",
          "text": [
            " O tempo gasto por este cliente para chegar ao evento é de aproximadamente:35.0 minutos\n"
          ]
        }
      ]
    },
    {
      "cell_type": "code",
      "source": [
        "# obter todas as distâncias e tempos de estrada\n",
        "lista_distancias = []\n",
        "dia_do_evento = datetime(2023, 12, 2)\n",
        "\n",
        "# percorrer entradas individuais e fazer requisições individuais\n",
        "for i, j in enumerate(enderecos_completos):\n",
        "    directions_result = gmaps.directions(j,\n",
        "                                     local_do_evento,\n",
        "                                     mode=\"driving\",\n",
        "                                     departure_time=dia_do_evento)\n",
        "\n",
        "    # adicionar às listas\n",
        "    distancia = directions_result[0]['legs'][0]['distance']['value']\n",
        "    tempo = directions_result[0]['legs'][0]['duration']['value'] / 60\n",
        "    lista_distancias.append([distancia, tempo])"
      ],
      "metadata": {
        "id": "MWnk64FNG1HD"
      },
      "execution_count": 133,
      "outputs": []
    },
    {
      "cell_type": "code",
      "source": [
        "# Obtendo todas as distâncias e e tempo na estrada\n",
        "\n",
        "lista_distancia = []\n",
        "dia_do_evento = datetime(2023, 12, 3)\n",
        "\n",
        "# Percorrendo entradas individuais e fazendo a requisição individual de cada cliente\n",
        "for i, j in enumerate(enderecos_completos):\n",
        "  resultado_distancia = gmaps.directions(j,\n",
        "                                         local_do_evento,\n",
        "                                         mode = 'driving',\n",
        "                                         departure_time = dia_do_evento)\n",
        "  \n",
        "  # Adicionando o resultado na lista vazia\n",
        "  distancia = round(resultado_distancia[0]['legs'][0]['distance']['value'] / 1000, 0)\n",
        "  tempo = round(resultado_distancia[0]['legs'][0]['duration']['value'] / 60, 0)\n",
        "  lista_distancia.append([distancia, tempo])\n"
      ],
      "metadata": {
        "id": "rlMC8jxPHgxv"
      },
      "execution_count": 124,
      "outputs": []
    },
    {
      "cell_type": "code",
      "source": [
        "# Convertendo a lista para o formato Dataframe\n",
        "df_distancias = pd.DataFrame(lista_distancia, columns = ['distancia', 'tempo'])\n",
        "\n",
        "# Colocando ao mesmo índice do dataframe original\n",
        "df_distancias.set_index(df_distancias.index + 1, inplace = True)\n"
      ],
      "metadata": {
        "id": "cO3Jo3WBKb0w"
      },
      "execution_count": 125,
      "outputs": []
    },
    {
      "cell_type": "code",
      "source": [
        "# Combinando coordenadas aos dados existentes, em relação ao axis = 1\n",
        "df_evento = pd.concat([df_completo['nome'], df_distancias], axis = 1)"
      ],
      "metadata": {
        "id": "debVqH5dLwfD"
      },
      "execution_count": 126,
      "outputs": []
    },
    {
      "cell_type": "code",
      "source": [
        "df_evento.head()"
      ],
      "metadata": {
        "colab": {
          "base_uri": "https://localhost:8080/",
          "height": 206
        },
        "id": "sBri8whoMCt_",
        "outputId": "93984f8e-9620-4b6d-f17a-153cfc3d3945"
      },
      "execution_count": 132,
      "outputs": [
        {
          "output_type": "execute_result",
          "data": {
            "text/plain": [
              "                               nome  distancia  tempo\n",
              "1           Sebastiana Tânia Mendes       33.0   36.0\n",
              "2              Andrea Débora Campos      145.0  116.0\n",
              "3          Rosa Jéssica Isis Barros      254.0  186.0\n",
              "4  Vinicius Carlos Eduardo da Rocha      279.0  208.0\n",
              "5       Cecília Milena Elisa Vieira      185.0  156.0"
            ],
            "text/html": [
              "\n",
              "  <div id=\"df-cbeb85e7-5981-48f5-a047-2291b938a586\">\n",
              "    <div class=\"colab-df-container\">\n",
              "      <div>\n",
              "<style scoped>\n",
              "    .dataframe tbody tr th:only-of-type {\n",
              "        vertical-align: middle;\n",
              "    }\n",
              "\n",
              "    .dataframe tbody tr th {\n",
              "        vertical-align: top;\n",
              "    }\n",
              "\n",
              "    .dataframe thead th {\n",
              "        text-align: right;\n",
              "    }\n",
              "</style>\n",
              "<table border=\"1\" class=\"dataframe\">\n",
              "  <thead>\n",
              "    <tr style=\"text-align: right;\">\n",
              "      <th></th>\n",
              "      <th>nome</th>\n",
              "      <th>distancia</th>\n",
              "      <th>tempo</th>\n",
              "    </tr>\n",
              "  </thead>\n",
              "  <tbody>\n",
              "    <tr>\n",
              "      <th>1</th>\n",
              "      <td>Sebastiana Tânia Mendes</td>\n",
              "      <td>33.0</td>\n",
              "      <td>36.0</td>\n",
              "    </tr>\n",
              "    <tr>\n",
              "      <th>2</th>\n",
              "      <td>Andrea Débora Campos</td>\n",
              "      <td>145.0</td>\n",
              "      <td>116.0</td>\n",
              "    </tr>\n",
              "    <tr>\n",
              "      <th>3</th>\n",
              "      <td>Rosa Jéssica Isis Barros</td>\n",
              "      <td>254.0</td>\n",
              "      <td>186.0</td>\n",
              "    </tr>\n",
              "    <tr>\n",
              "      <th>4</th>\n",
              "      <td>Vinicius Carlos Eduardo da Rocha</td>\n",
              "      <td>279.0</td>\n",
              "      <td>208.0</td>\n",
              "    </tr>\n",
              "    <tr>\n",
              "      <th>5</th>\n",
              "      <td>Cecília Milena Elisa Vieira</td>\n",
              "      <td>185.0</td>\n",
              "      <td>156.0</td>\n",
              "    </tr>\n",
              "  </tbody>\n",
              "</table>\n",
              "</div>\n",
              "      <button class=\"colab-df-convert\" onclick=\"convertToInteractive('df-cbeb85e7-5981-48f5-a047-2291b938a586')\"\n",
              "              title=\"Convert this dataframe to an interactive table.\"\n",
              "              style=\"display:none;\">\n",
              "        \n",
              "  <svg xmlns=\"http://www.w3.org/2000/svg\" height=\"24px\"viewBox=\"0 0 24 24\"\n",
              "       width=\"24px\">\n",
              "    <path d=\"M0 0h24v24H0V0z\" fill=\"none\"/>\n",
              "    <path d=\"M18.56 5.44l.94 2.06.94-2.06 2.06-.94-2.06-.94-.94-2.06-.94 2.06-2.06.94zm-11 1L8.5 8.5l.94-2.06 2.06-.94-2.06-.94L8.5 2.5l-.94 2.06-2.06.94zm10 10l.94 2.06.94-2.06 2.06-.94-2.06-.94-.94-2.06-.94 2.06-2.06.94z\"/><path d=\"M17.41 7.96l-1.37-1.37c-.4-.4-.92-.59-1.43-.59-.52 0-1.04.2-1.43.59L10.3 9.45l-7.72 7.72c-.78.78-.78 2.05 0 2.83L4 21.41c.39.39.9.59 1.41.59.51 0 1.02-.2 1.41-.59l7.78-7.78 2.81-2.81c.8-.78.8-2.07 0-2.86zM5.41 20L4 18.59l7.72-7.72 1.47 1.35L5.41 20z\"/>\n",
              "  </svg>\n",
              "      </button>\n",
              "      \n",
              "  <style>\n",
              "    .colab-df-container {\n",
              "      display:flex;\n",
              "      flex-wrap:wrap;\n",
              "      gap: 12px;\n",
              "    }\n",
              "\n",
              "    .colab-df-convert {\n",
              "      background-color: #E8F0FE;\n",
              "      border: none;\n",
              "      border-radius: 50%;\n",
              "      cursor: pointer;\n",
              "      display: none;\n",
              "      fill: #1967D2;\n",
              "      height: 32px;\n",
              "      padding: 0 0 0 0;\n",
              "      width: 32px;\n",
              "    }\n",
              "\n",
              "    .colab-df-convert:hover {\n",
              "      background-color: #E2EBFA;\n",
              "      box-shadow: 0px 1px 2px rgba(60, 64, 67, 0.3), 0px 1px 3px 1px rgba(60, 64, 67, 0.15);\n",
              "      fill: #174EA6;\n",
              "    }\n",
              "\n",
              "    [theme=dark] .colab-df-convert {\n",
              "      background-color: #3B4455;\n",
              "      fill: #D2E3FC;\n",
              "    }\n",
              "\n",
              "    [theme=dark] .colab-df-convert:hover {\n",
              "      background-color: #434B5C;\n",
              "      box-shadow: 0px 1px 3px 1px rgba(0, 0, 0, 0.15);\n",
              "      filter: drop-shadow(0px 1px 2px rgba(0, 0, 0, 0.3));\n",
              "      fill: #FFFFFF;\n",
              "    }\n",
              "  </style>\n",
              "\n",
              "      <script>\n",
              "        const buttonEl =\n",
              "          document.querySelector('#df-cbeb85e7-5981-48f5-a047-2291b938a586 button.colab-df-convert');\n",
              "        buttonEl.style.display =\n",
              "          google.colab.kernel.accessAllowed ? 'block' : 'none';\n",
              "\n",
              "        async function convertToInteractive(key) {\n",
              "          const element = document.querySelector('#df-cbeb85e7-5981-48f5-a047-2291b938a586');\n",
              "          const dataTable =\n",
              "            await google.colab.kernel.invokeFunction('convertToInteractive',\n",
              "                                                     [key], {});\n",
              "          if (!dataTable) return;\n",
              "\n",
              "          const docLinkHtml = 'Like what you see? Visit the ' +\n",
              "            '<a target=\"_blank\" href=https://colab.research.google.com/notebooks/data_table.ipynb>data table notebook</a>'\n",
              "            + ' to learn more about interactive tables.';\n",
              "          element.innerHTML = '';\n",
              "          dataTable['output_type'] = 'display_data';\n",
              "          await google.colab.output.renderOutput(dataTable, element);\n",
              "          const docLink = document.createElement('div');\n",
              "          docLink.innerHTML = docLinkHtml;\n",
              "          element.appendChild(docLink);\n",
              "        }\n",
              "      </script>\n",
              "    </div>\n",
              "  </div>\n",
              "  "
            ]
          },
          "metadata": {},
          "execution_count": 132
        }
      ]
    },
    {
      "cell_type": "markdown",
      "source": [
        "### 4.7. Calculando a idade média dos clientes\n"
      ],
      "metadata": {
        "id": "qT7g1FyONndO"
      }
    },
    {
      "cell_type": "code",
      "source": [
        "from dateutil.relativedelta import relativedelta\n",
        "\n",
        "# Calcule a idade\n",
        "hoje = datetime.today()\n",
        "df_completo['idade'] = df_completo['data_nasc'].apply(lambda x: relativedelta(hoje, x).years)\n",
        "\n",
        "df_completo.head()\n"
      ],
      "metadata": {
        "colab": {
          "base_uri": "https://localhost:8080/",
          "height": 513
        },
        "id": "iAd_wBaSSgDn",
        "outputId": "e01e334a-1ed3-47e0-916b-4e0b914d7023"
      },
      "execution_count": 141,
      "outputs": [
        {
          "output_type": "execute_result",
          "data": {
            "text/plain": [
              "                    logradouro                   numero bairro        cep  \\\n",
              "1   Rua Bento de Miranda Mello  356 Residencial Olivio Benassi  15993-037   \n",
              "2   Rua Ricardo Arruda Ribeiro                 745 Água Branca  13425-100   \n",
              "3  Rua Dona Sylvia Finco Costa              870 Jardim Tapajós  12945-080   \n",
              "4                  Rua Axicará         Vila Isolina Mazzei 433  02081-080   \n",
              "5       Rua Diamantino Armando              Vila Esperança 245  18703-800   \n",
              "\n",
              "       cidade  uf                              nome  \\\n",
              "1       Matão  SP           Sebastiana Tânia Mendes   \n",
              "2  Piracicaba  SP              Andrea Débora Campos   \n",
              "3     Atibaia  SP          Rosa Jéssica Isis Barros   \n",
              "4   São Paulo  SP  Vinicius Carlos Eduardo da Rocha   \n",
              "5       Avaré  SP       Cecília Milena Elisa Vieira   \n",
              "\n",
              "                                   email       sexo             cpf  \\\n",
              "1      sebastiana_tania_mendes@trbvm.com   Feminino  938.319.088-42   \n",
              "2            andrea-campos75@caporal.biz   Feminino  782.328.538-08   \n",
              "3     rosa.jessica.barros@optovac.com.br   Feminino  129.102.618-59   \n",
              "4  viniciuscarlosdarocha@carreira.com.br  Masculino  437.270.578-66   \n",
              "5          cecilia-vieira98@amure.com.br   Feminino  726.017.228-27   \n",
              "\n",
              "   data_nasc        lat        lon  idade  \n",
              "1 1984-01-06 -21.619150 -48.368234     39  \n",
              "2 1943-01-06 -22.748635 -47.630113     80  \n",
              "3 1970-02-04 -23.111416 -46.536782     53  \n",
              "4 1969-06-22 -23.495099 -46.602611     53  \n",
              "5 1948-09-07 -23.122264 -48.920483     74  "
            ],
            "text/html": [
              "\n",
              "  <div id=\"df-a14eecf1-190f-41d4-b05e-f93e870772c2\">\n",
              "    <div class=\"colab-df-container\">\n",
              "      <div>\n",
              "<style scoped>\n",
              "    .dataframe tbody tr th:only-of-type {\n",
              "        vertical-align: middle;\n",
              "    }\n",
              "\n",
              "    .dataframe tbody tr th {\n",
              "        vertical-align: top;\n",
              "    }\n",
              "\n",
              "    .dataframe thead th {\n",
              "        text-align: right;\n",
              "    }\n",
              "</style>\n",
              "<table border=\"1\" class=\"dataframe\">\n",
              "  <thead>\n",
              "    <tr style=\"text-align: right;\">\n",
              "      <th></th>\n",
              "      <th>logradouro</th>\n",
              "      <th>numero bairro</th>\n",
              "      <th>cep</th>\n",
              "      <th>cidade</th>\n",
              "      <th>uf</th>\n",
              "      <th>nome</th>\n",
              "      <th>email</th>\n",
              "      <th>sexo</th>\n",
              "      <th>cpf</th>\n",
              "      <th>data_nasc</th>\n",
              "      <th>lat</th>\n",
              "      <th>lon</th>\n",
              "      <th>idade</th>\n",
              "    </tr>\n",
              "  </thead>\n",
              "  <tbody>\n",
              "    <tr>\n",
              "      <th>1</th>\n",
              "      <td>Rua Bento de Miranda Mello</td>\n",
              "      <td>356 Residencial Olivio Benassi</td>\n",
              "      <td>15993-037</td>\n",
              "      <td>Matão</td>\n",
              "      <td>SP</td>\n",
              "      <td>Sebastiana Tânia Mendes</td>\n",
              "      <td>sebastiana_tania_mendes@trbvm.com</td>\n",
              "      <td>Feminino</td>\n",
              "      <td>938.319.088-42</td>\n",
              "      <td>1984-01-06</td>\n",
              "      <td>-21.619150</td>\n",
              "      <td>-48.368234</td>\n",
              "      <td>39</td>\n",
              "    </tr>\n",
              "    <tr>\n",
              "      <th>2</th>\n",
              "      <td>Rua Ricardo Arruda Ribeiro</td>\n",
              "      <td>745 Água Branca</td>\n",
              "      <td>13425-100</td>\n",
              "      <td>Piracicaba</td>\n",
              "      <td>SP</td>\n",
              "      <td>Andrea Débora Campos</td>\n",
              "      <td>andrea-campos75@caporal.biz</td>\n",
              "      <td>Feminino</td>\n",
              "      <td>782.328.538-08</td>\n",
              "      <td>1943-01-06</td>\n",
              "      <td>-22.748635</td>\n",
              "      <td>-47.630113</td>\n",
              "      <td>80</td>\n",
              "    </tr>\n",
              "    <tr>\n",
              "      <th>3</th>\n",
              "      <td>Rua Dona Sylvia Finco Costa</td>\n",
              "      <td>870 Jardim Tapajós</td>\n",
              "      <td>12945-080</td>\n",
              "      <td>Atibaia</td>\n",
              "      <td>SP</td>\n",
              "      <td>Rosa Jéssica Isis Barros</td>\n",
              "      <td>rosa.jessica.barros@optovac.com.br</td>\n",
              "      <td>Feminino</td>\n",
              "      <td>129.102.618-59</td>\n",
              "      <td>1970-02-04</td>\n",
              "      <td>-23.111416</td>\n",
              "      <td>-46.536782</td>\n",
              "      <td>53</td>\n",
              "    </tr>\n",
              "    <tr>\n",
              "      <th>4</th>\n",
              "      <td>Rua Axicará</td>\n",
              "      <td>Vila Isolina Mazzei 433</td>\n",
              "      <td>02081-080</td>\n",
              "      <td>São Paulo</td>\n",
              "      <td>SP</td>\n",
              "      <td>Vinicius Carlos Eduardo da Rocha</td>\n",
              "      <td>viniciuscarlosdarocha@carreira.com.br</td>\n",
              "      <td>Masculino</td>\n",
              "      <td>437.270.578-66</td>\n",
              "      <td>1969-06-22</td>\n",
              "      <td>-23.495099</td>\n",
              "      <td>-46.602611</td>\n",
              "      <td>53</td>\n",
              "    </tr>\n",
              "    <tr>\n",
              "      <th>5</th>\n",
              "      <td>Rua Diamantino Armando</td>\n",
              "      <td>Vila Esperança 245</td>\n",
              "      <td>18703-800</td>\n",
              "      <td>Avaré</td>\n",
              "      <td>SP</td>\n",
              "      <td>Cecília Milena Elisa Vieira</td>\n",
              "      <td>cecilia-vieira98@amure.com.br</td>\n",
              "      <td>Feminino</td>\n",
              "      <td>726.017.228-27</td>\n",
              "      <td>1948-09-07</td>\n",
              "      <td>-23.122264</td>\n",
              "      <td>-48.920483</td>\n",
              "      <td>74</td>\n",
              "    </tr>\n",
              "  </tbody>\n",
              "</table>\n",
              "</div>\n",
              "      <button class=\"colab-df-convert\" onclick=\"convertToInteractive('df-a14eecf1-190f-41d4-b05e-f93e870772c2')\"\n",
              "              title=\"Convert this dataframe to an interactive table.\"\n",
              "              style=\"display:none;\">\n",
              "        \n",
              "  <svg xmlns=\"http://www.w3.org/2000/svg\" height=\"24px\"viewBox=\"0 0 24 24\"\n",
              "       width=\"24px\">\n",
              "    <path d=\"M0 0h24v24H0V0z\" fill=\"none\"/>\n",
              "    <path d=\"M18.56 5.44l.94 2.06.94-2.06 2.06-.94-2.06-.94-.94-2.06-.94 2.06-2.06.94zm-11 1L8.5 8.5l.94-2.06 2.06-.94-2.06-.94L8.5 2.5l-.94 2.06-2.06.94zm10 10l.94 2.06.94-2.06 2.06-.94-2.06-.94-.94-2.06-.94 2.06-2.06.94z\"/><path d=\"M17.41 7.96l-1.37-1.37c-.4-.4-.92-.59-1.43-.59-.52 0-1.04.2-1.43.59L10.3 9.45l-7.72 7.72c-.78.78-.78 2.05 0 2.83L4 21.41c.39.39.9.59 1.41.59.51 0 1.02-.2 1.41-.59l7.78-7.78 2.81-2.81c.8-.78.8-2.07 0-2.86zM5.41 20L4 18.59l7.72-7.72 1.47 1.35L5.41 20z\"/>\n",
              "  </svg>\n",
              "      </button>\n",
              "      \n",
              "  <style>\n",
              "    .colab-df-container {\n",
              "      display:flex;\n",
              "      flex-wrap:wrap;\n",
              "      gap: 12px;\n",
              "    }\n",
              "\n",
              "    .colab-df-convert {\n",
              "      background-color: #E8F0FE;\n",
              "      border: none;\n",
              "      border-radius: 50%;\n",
              "      cursor: pointer;\n",
              "      display: none;\n",
              "      fill: #1967D2;\n",
              "      height: 32px;\n",
              "      padding: 0 0 0 0;\n",
              "      width: 32px;\n",
              "    }\n",
              "\n",
              "    .colab-df-convert:hover {\n",
              "      background-color: #E2EBFA;\n",
              "      box-shadow: 0px 1px 2px rgba(60, 64, 67, 0.3), 0px 1px 3px 1px rgba(60, 64, 67, 0.15);\n",
              "      fill: #174EA6;\n",
              "    }\n",
              "\n",
              "    [theme=dark] .colab-df-convert {\n",
              "      background-color: #3B4455;\n",
              "      fill: #D2E3FC;\n",
              "    }\n",
              "\n",
              "    [theme=dark] .colab-df-convert:hover {\n",
              "      background-color: #434B5C;\n",
              "      box-shadow: 0px 1px 3px 1px rgba(0, 0, 0, 0.15);\n",
              "      filter: drop-shadow(0px 1px 2px rgba(0, 0, 0, 0.3));\n",
              "      fill: #FFFFFF;\n",
              "    }\n",
              "  </style>\n",
              "\n",
              "      <script>\n",
              "        const buttonEl =\n",
              "          document.querySelector('#df-a14eecf1-190f-41d4-b05e-f93e870772c2 button.colab-df-convert');\n",
              "        buttonEl.style.display =\n",
              "          google.colab.kernel.accessAllowed ? 'block' : 'none';\n",
              "\n",
              "        async function convertToInteractive(key) {\n",
              "          const element = document.querySelector('#df-a14eecf1-190f-41d4-b05e-f93e870772c2');\n",
              "          const dataTable =\n",
              "            await google.colab.kernel.invokeFunction('convertToInteractive',\n",
              "                                                     [key], {});\n",
              "          if (!dataTable) return;\n",
              "\n",
              "          const docLinkHtml = 'Like what you see? Visit the ' +\n",
              "            '<a target=\"_blank\" href=https://colab.research.google.com/notebooks/data_table.ipynb>data table notebook</a>'\n",
              "            + ' to learn more about interactive tables.';\n",
              "          element.innerHTML = '';\n",
              "          dataTable['output_type'] = 'display_data';\n",
              "          await google.colab.output.renderOutput(dataTable, element);\n",
              "          const docLink = document.createElement('div');\n",
              "          docLink.innerHTML = docLinkHtml;\n",
              "          element.appendChild(docLink);\n",
              "        }\n",
              "      </script>\n",
              "    </div>\n",
              "  </div>\n",
              "  "
            ]
          },
          "metadata": {},
          "execution_count": 141
        }
      ]
    },
    {
      "cell_type": "code",
      "source": [
        "print(f\"A idade média dos clientes é de aproximadamente: {round(df_completo['idade'].mean(), 0)} anos\")"
      ],
      "metadata": {
        "colab": {
          "base_uri": "https://localhost:8080/"
        },
        "id": "WmEC-96PaMXE",
        "outputId": "98cd4d6a-b39f-403d-aae2-26350c92b994"
      },
      "execution_count": 146,
      "outputs": [
        {
          "output_type": "stream",
          "name": "stdout",
          "text": [
            "A idade média dos clientes é de aproximadamente: 56.0 anos\n"
          ]
        }
      ]
    },
    {
      "cell_type": "markdown",
      "source": [
        "### 4.8 Identificando o cliente que mora mais longe do local"
      ],
      "metadata": {
        "id": "2WZzme1wa9Lx"
      }
    },
    {
      "cell_type": "code",
      "source": [
        "# Calculando o cliente com a maior distância \n",
        "distancia_max = df_evento['distancia'].max()\n",
        "\n",
        "# Buscando atravéz do índice o cliente\n",
        "indice_max = df_evento['distancia'].idxmax()\n",
        "\n",
        "# Organizando as informações do cliente\n",
        "linha_max = df_evento.loc[indice_max]\n",
        "\n",
        "print(\"O maior valor na coluna é:\", distancia_max)\n",
        "print(\"O Cliente mais distânte chama-se:\")\n",
        "print(linha_max)\n"
      ],
      "metadata": {
        "colab": {
          "base_uri": "https://localhost:8080/"
        },
        "id": "dYW8Yn6fbHat",
        "outputId": "39725e7a-8202-4e32-c2d3-969078e8ece5"
      },
      "execution_count": 158,
      "outputs": [
        {
          "output_type": "stream",
          "name": "stdout",
          "text": [
            "O maior valor na coluna é: 371.0\n",
            "O Cliente mais distânte chama-se:\n",
            "nome         Renato Vicente Antonio Freitas\n",
            "distancia                             371.0\n",
            "tempo                                 281.0\n",
            "Name: 15, dtype: object\n"
          ]
        }
      ]
    },
    {
      "cell_type": "markdown",
      "source": [
        "### 4.9 Plotando um mapa da localização dos clientes em relação ao evento"
      ],
      "metadata": {
        "id": "gg89NJqY80bi"
      }
    },
    {
      "cell_type": "code",
      "source": [
        "!pip install geopandas -q\n",
        "!pip install folium -q\n"
      ],
      "metadata": {
        "id": "oPa6JO9TgP1g"
      },
      "execution_count": 177,
      "outputs": []
    },
    {
      "cell_type": "code",
      "source": [
        "# Importando os pacotes necessários\n",
        "import geopandas as gpd\n",
        "import folium\n",
        "from folium.map import Icon\n",
        "from folium import plugins\n",
        "from shapely.geometry import Point"
      ],
      "metadata": {
        "id": "cbyTKE0se-MV"
      },
      "execution_count": 252,
      "outputs": []
    },
    {
      "cell_type": "code",
      "source": [
        "# Separando as coordenadas do evento\n",
        "coordenadas = []\n",
        "\n",
        "for lat, lon in zip(df_completo.lat, df_completo.lon):\n",
        "  coordenadas.append([lat, lon])\n"
      ],
      "metadata": {
        "id": "z_jy5fgTwfUy"
      },
      "execution_count": 253,
      "outputs": []
    },
    {
      "cell_type": "markdown",
      "source": [
        "### 4.10 Plotando um mapa de ícones que marcam a região do cliente"
      ],
      "metadata": {
        "id": "zmVrogNuAB-f"
      }
    },
    {
      "cell_type": "code",
      "source": [
        "# Ajustando o mapa\n",
        "mapa_ponto = folium.Map(location = [-21.7752011,-48.1708143],\n",
        "                  zoom_start = 20)\n",
        "\n",
        "# Adicionando um marcador no local do evento\n",
        "folium.Marker(\n",
        "    [-21.7752011,-48.1708143],\n",
        "    popup = \"<i>Estádio da Fonte Luminosa, Araraquara - SP</i>\",\n",
        "    tooltip = \"Clique Aqui!\",\n",
        "    icon = folium.Icon(color = 'green'),\n",
        "    \n",
        ").add_to(mapa_ponto)\n",
        "\n",
        "# Plotando o mapa\n",
        "mapa_ponto.add_child(plugins.MarkerCluster(coordenadas))\n",
        "mapa_ponto"
      ],
      "metadata": {
        "colab": {
          "base_uri": "https://localhost:8080/",
          "height": 543
        },
        "id": "Vem7fIqY2ONv",
        "outputId": "755fcc12-33a7-4f37-a84d-86eff2883896"
      },
      "execution_count": 266,
      "outputs": [
        {
          "output_type": "execute_result",
          "data": {
            "text/plain": [
              "<folium.folium.Map at 0x7fd492bbcc40>"
            ],
            "text/html": [
              "<div style=\"width:100%;\"><div style=\"position:relative;width:100%;height:0;padding-bottom:60%;\"><span style=\"color:#565656\">Make this Notebook Trusted to load map: File -> Trust Notebook</span><iframe srcdoc=\"&lt;!DOCTYPE html&gt;\n",
              "&lt;html&gt;\n",
              "&lt;head&gt;\n",
              "    \n",
              "    &lt;meta http-equiv=&quot;content-type&quot; content=&quot;text/html; charset=UTF-8&quot; /&gt;\n",
              "    \n",
              "        &lt;script&gt;\n",
              "            L_NO_TOUCH = false;\n",
              "            L_DISABLE_3D = false;\n",
              "        &lt;/script&gt;\n",
              "    \n",
              "    &lt;style&gt;html, body {width: 100%;height: 100%;margin: 0;padding: 0;}&lt;/style&gt;\n",
              "    &lt;style&gt;#map {position:absolute;top:0;bottom:0;right:0;left:0;}&lt;/style&gt;\n",
              "    &lt;script src=&quot;https://cdn.jsdelivr.net/npm/leaflet@1.9.3/dist/leaflet.js&quot;&gt;&lt;/script&gt;\n",
              "    &lt;script src=&quot;https://code.jquery.com/jquery-1.12.4.min.js&quot;&gt;&lt;/script&gt;\n",
              "    &lt;script src=&quot;https://cdn.jsdelivr.net/npm/bootstrap@5.2.2/dist/js/bootstrap.bundle.min.js&quot;&gt;&lt;/script&gt;\n",
              "    &lt;script src=&quot;https://cdnjs.cloudflare.com/ajax/libs/Leaflet.awesome-markers/2.0.2/leaflet.awesome-markers.js&quot;&gt;&lt;/script&gt;\n",
              "    &lt;link rel=&quot;stylesheet&quot; href=&quot;https://cdn.jsdelivr.net/npm/leaflet@1.9.3/dist/leaflet.css&quot;/&gt;\n",
              "    &lt;link rel=&quot;stylesheet&quot; href=&quot;https://cdn.jsdelivr.net/npm/bootstrap@5.2.2/dist/css/bootstrap.min.css&quot;/&gt;\n",
              "    &lt;link rel=&quot;stylesheet&quot; href=&quot;https://netdna.bootstrapcdn.com/bootstrap/3.0.0/css/bootstrap.min.css&quot;/&gt;\n",
              "    &lt;link rel=&quot;stylesheet&quot; href=&quot;https://cdn.jsdelivr.net/npm/@fortawesome/fontawesome-free@6.2.0/css/all.min.css&quot;/&gt;\n",
              "    &lt;link rel=&quot;stylesheet&quot; href=&quot;https://cdnjs.cloudflare.com/ajax/libs/Leaflet.awesome-markers/2.0.2/leaflet.awesome-markers.css&quot;/&gt;\n",
              "    &lt;link rel=&quot;stylesheet&quot; href=&quot;https://cdn.jsdelivr.net/gh/python-visualization/folium/folium/templates/leaflet.awesome.rotate.min.css&quot;/&gt;\n",
              "    \n",
              "            &lt;meta name=&quot;viewport&quot; content=&quot;width=device-width,\n",
              "                initial-scale=1.0, maximum-scale=1.0, user-scalable=no&quot; /&gt;\n",
              "            &lt;style&gt;\n",
              "                #map_be13df0510efac86a79e569f7dc74818 {\n",
              "                    position: relative;\n",
              "                    width: 100.0%;\n",
              "                    height: 100.0%;\n",
              "                    left: 0.0%;\n",
              "                    top: 0.0%;\n",
              "                }\n",
              "                .leaflet-container { font-size: 1rem; }\n",
              "            &lt;/style&gt;\n",
              "        \n",
              "    &lt;script src=&quot;https://cdnjs.cloudflare.com/ajax/libs/leaflet.markercluster/1.1.0/leaflet.markercluster.js&quot;&gt;&lt;/script&gt;\n",
              "    &lt;link rel=&quot;stylesheet&quot; href=&quot;https://cdnjs.cloudflare.com/ajax/libs/leaflet.markercluster/1.1.0/MarkerCluster.css&quot;/&gt;\n",
              "    &lt;link rel=&quot;stylesheet&quot; href=&quot;https://cdnjs.cloudflare.com/ajax/libs/leaflet.markercluster/1.1.0/MarkerCluster.Default.css&quot;/&gt;\n",
              "&lt;/head&gt;\n",
              "&lt;body&gt;\n",
              "    \n",
              "    \n",
              "            &lt;div class=&quot;folium-map&quot; id=&quot;map_be13df0510efac86a79e569f7dc74818&quot; &gt;&lt;/div&gt;\n",
              "        \n",
              "&lt;/body&gt;\n",
              "&lt;script&gt;\n",
              "    \n",
              "    \n",
              "            var map_be13df0510efac86a79e569f7dc74818 = L.map(\n",
              "                &quot;map_be13df0510efac86a79e569f7dc74818&quot;,\n",
              "                {\n",
              "                    center: [-21.7752011, -48.1708143],\n",
              "                    crs: L.CRS.EPSG3857,\n",
              "                    zoom: 20,\n",
              "                    zoomControl: true,\n",
              "                    preferCanvas: false,\n",
              "                }\n",
              "            );\n",
              "\n",
              "            \n",
              "\n",
              "        \n",
              "    \n",
              "            var tile_layer_ff75c90f82f80dcaee23cb932167febb = L.tileLayer(\n",
              "                &quot;https://{s}.tile.openstreetmap.org/{z}/{x}/{y}.png&quot;,\n",
              "                {&quot;attribution&quot;: &quot;Data by \\u0026copy; \\u003ca target=\\&quot;_blank\\&quot; href=\\&quot;http://openstreetmap.org\\&quot;\\u003eOpenStreetMap\\u003c/a\\u003e, under \\u003ca target=\\&quot;_blank\\&quot; href=\\&quot;http://www.openstreetmap.org/copyright\\&quot;\\u003eODbL\\u003c/a\\u003e.&quot;, &quot;detectRetina&quot;: false, &quot;maxNativeZoom&quot;: 18, &quot;maxZoom&quot;: 18, &quot;minZoom&quot;: 0, &quot;noWrap&quot;: false, &quot;opacity&quot;: 1, &quot;subdomains&quot;: &quot;abc&quot;, &quot;tms&quot;: false}\n",
              "            ).addTo(map_be13df0510efac86a79e569f7dc74818);\n",
              "        \n",
              "    \n",
              "            var marker_620f2ed90d02df863307f0287a84263e = L.marker(\n",
              "                [-21.7752011, -48.1708143],\n",
              "                {}\n",
              "            ).addTo(map_be13df0510efac86a79e569f7dc74818);\n",
              "        \n",
              "    \n",
              "            var icon_b8e9c261bd4ebb8f10a6d827ab36d373 = L.AwesomeMarkers.icon(\n",
              "                {&quot;extraClasses&quot;: &quot;fa-rotate-0&quot;, &quot;icon&quot;: &quot;info-sign&quot;, &quot;iconColor&quot;: &quot;white&quot;, &quot;markerColor&quot;: &quot;green&quot;, &quot;prefix&quot;: &quot;glyphicon&quot;}\n",
              "            );\n",
              "            marker_620f2ed90d02df863307f0287a84263e.setIcon(icon_b8e9c261bd4ebb8f10a6d827ab36d373);\n",
              "        \n",
              "    \n",
              "        var popup_8cf82db077f758573f76e631bb5a71d8 = L.popup({&quot;maxWidth&quot;: &quot;100%&quot;});\n",
              "\n",
              "        \n",
              "            \n",
              "                var html_4db79bd255ba5305305d4f564ac9406a = $(`&lt;div id=&quot;html_4db79bd255ba5305305d4f564ac9406a&quot; style=&quot;width: 100.0%; height: 100.0%;&quot;&gt;&lt;i&gt;Estádio da Fonte Luminosa, Araraquara - SP&lt;/i&gt;&lt;/div&gt;`)[0];\n",
              "                popup_8cf82db077f758573f76e631bb5a71d8.setContent(html_4db79bd255ba5305305d4f564ac9406a);\n",
              "            \n",
              "        \n",
              "\n",
              "        marker_620f2ed90d02df863307f0287a84263e.bindPopup(popup_8cf82db077f758573f76e631bb5a71d8)\n",
              "        ;\n",
              "\n",
              "        \n",
              "    \n",
              "    \n",
              "            marker_620f2ed90d02df863307f0287a84263e.bindTooltip(\n",
              "                `&lt;div&gt;\n",
              "                     Clique Aqui!\n",
              "                 &lt;/div&gt;`,\n",
              "                {&quot;sticky&quot;: true}\n",
              "            );\n",
              "        \n",
              "    \n",
              "            var marker_cluster_4d5338141b286ea213c03d9941b672f5 = L.markerClusterGroup(\n",
              "                {}\n",
              "            );\n",
              "            map_be13df0510efac86a79e569f7dc74818.addLayer(marker_cluster_4d5338141b286ea213c03d9941b672f5);\n",
              "        \n",
              "    \n",
              "            var marker_1ab8144b3f12f4c416d16884dc526a69 = L.marker(\n",
              "                [-21.6191497, -48.3682341],\n",
              "                {}\n",
              "            ).addTo(marker_cluster_4d5338141b286ea213c03d9941b672f5);\n",
              "        \n",
              "    \n",
              "            var marker_786c813d473a8588cc00c7f7d851b79c = L.marker(\n",
              "                [-22.748635, -47.6301128],\n",
              "                {}\n",
              "            ).addTo(marker_cluster_4d5338141b286ea213c03d9941b672f5);\n",
              "        \n",
              "    \n",
              "            var marker_325190a37a645ca40a4678b007aaa14c = L.marker(\n",
              "                [-23.1114159, -46.5367816],\n",
              "                {}\n",
              "            ).addTo(marker_cluster_4d5338141b286ea213c03d9941b672f5);\n",
              "        \n",
              "    \n",
              "            var marker_59bbe1bb0e1474d7a15529443f0a32a4 = L.marker(\n",
              "                [-23.4950995, -46.6026109],\n",
              "                {}\n",
              "            ).addTo(marker_cluster_4d5338141b286ea213c03d9941b672f5);\n",
              "        \n",
              "    \n",
              "            var marker_d55d9064f08d4ffc78ab9569b76363d4 = L.marker(\n",
              "                [-23.1222636, -48.92048279999999],\n",
              "                {}\n",
              "            ).addTo(marker_cluster_4d5338141b286ea213c03d9941b672f5);\n",
              "        \n",
              "    \n",
              "            var marker_23592f08331b84f7fd10bd4096d82775 = L.marker(\n",
              "                [-23.5584985, -46.5479016],\n",
              "                {}\n",
              "            ).addTo(marker_cluster_4d5338141b286ea213c03d9941b672f5);\n",
              "        \n",
              "    \n",
              "            var marker_92ff0d5d718f0b5abf2d1f45e1199b98 = L.marker(\n",
              "                [-23.6965585, -46.5679649],\n",
              "                {}\n",
              "            ).addTo(marker_cluster_4d5338141b286ea213c03d9941b672f5);\n",
              "        \n",
              "    \n",
              "            var marker_8093ab815befbd6728518f55da464d5f = L.marker(\n",
              "                [-20.8295785, -49.3403786],\n",
              "                {}\n",
              "            ).addTo(marker_cluster_4d5338141b286ea213c03d9941b672f5);\n",
              "        \n",
              "    \n",
              "            var marker_35b6b44cba4c6d9d2f4024c407aebf8b = L.marker(\n",
              "                [-22.9578496, -49.8770141],\n",
              "                {}\n",
              "            ).addTo(marker_cluster_4d5338141b286ea213c03d9941b672f5);\n",
              "        \n",
              "    \n",
              "            var marker_e67080a7a6ae94c5ea662a77092e6edc = L.marker(\n",
              "                [-20.7640363, -49.4370422],\n",
              "                {}\n",
              "            ).addTo(marker_cluster_4d5338141b286ea213c03d9941b672f5);\n",
              "        \n",
              "    \n",
              "            var marker_ae53c8bc2faa8471d657d9aef5b7037e = L.marker(\n",
              "                [-21.9658584, -47.9397604],\n",
              "                {}\n",
              "            ).addTo(marker_cluster_4d5338141b286ea213c03d9941b672f5);\n",
              "        \n",
              "    \n",
              "            var marker_c33f51a35702ff7329e7ab5a7e09a645 = L.marker(\n",
              "                [-23.5036793, -46.5181548],\n",
              "                {}\n",
              "            ).addTo(marker_cluster_4d5338141b286ea213c03d9941b672f5);\n",
              "        \n",
              "    \n",
              "            var marker_0c88625b3fe3fa534ee226629f3337a0 = L.marker(\n",
              "                [-22.9080748, -47.0352374],\n",
              "                {}\n",
              "            ).addTo(marker_cluster_4d5338141b286ea213c03d9941b672f5);\n",
              "        \n",
              "    \n",
              "            var marker_a00f42dd967c2229d2bdf003735f6757 = L.marker(\n",
              "                [-23.4810407, -47.4450118],\n",
              "                {}\n",
              "            ).addTo(marker_cluster_4d5338141b286ea213c03d9941b672f5);\n",
              "        \n",
              "    \n",
              "            var marker_98a75804c591d1d48fe8a95508208a4e = L.marker(\n",
              "                [-23.9645261, -46.2542032],\n",
              "                {}\n",
              "            ).addTo(marker_cluster_4d5338141b286ea213c03d9941b672f5);\n",
              "        \n",
              "    \n",
              "            var marker_2d6ea3c1b518f25feb296c92e4e1f9ec = L.marker(\n",
              "                [-23.5091791, -46.7811777],\n",
              "                {}\n",
              "            ).addTo(marker_cluster_4d5338141b286ea213c03d9941b672f5);\n",
              "        \n",
              "    \n",
              "            var marker_90c250ddaf949ef09c8be71a59c71bd7 = L.marker(\n",
              "                [-23.6174135, -46.6791275],\n",
              "                {}\n",
              "            ).addTo(marker_cluster_4d5338141b286ea213c03d9941b672f5);\n",
              "        \n",
              "    \n",
              "            var marker_1931c8c12193f01f2430ce4f28d3006e = L.marker(\n",
              "                [-23.4590567, -47.4895877],\n",
              "                {}\n",
              "            ).addTo(marker_cluster_4d5338141b286ea213c03d9941b672f5);\n",
              "        \n",
              "    \n",
              "            var marker_49eba54a79304ce245ec97690de2f42b = L.marker(\n",
              "                [-23.6261691, -46.6859503],\n",
              "                {}\n",
              "            ).addTo(marker_cluster_4d5338141b286ea213c03d9941b672f5);\n",
              "        \n",
              "    \n",
              "            var marker_a0c3b9bfc082eda2ed3034c9c5113c5e = L.marker(\n",
              "                [-23.9702772, -48.8804415],\n",
              "                {}\n",
              "            ).addTo(marker_cluster_4d5338141b286ea213c03d9941b672f5);\n",
              "        \n",
              "    \n",
              "            var marker_614c8f1355d66110376fc3f165f25239 = L.marker(\n",
              "                [-22.7436158, -47.1697444],\n",
              "                {}\n",
              "            ).addTo(marker_cluster_4d5338141b286ea213c03d9941b672f5);\n",
              "        \n",
              "    \n",
              "            var marker_74b497b0291a9cd8f956395d91fd7d50 = L.marker(\n",
              "                [-23.614133, -46.97546939999999],\n",
              "                {}\n",
              "            ).addTo(marker_cluster_4d5338141b286ea213c03d9941b672f5);\n",
              "        \n",
              "    \n",
              "            var marker_f30405cd54c3326171a116e4e2af0f7e = L.marker(\n",
              "                [-23.4606532, -47.5093284],\n",
              "                {}\n",
              "            ).addTo(marker_cluster_4d5338141b286ea213c03d9941b672f5);\n",
              "        \n",
              "    \n",
              "            var marker_587df167caf1a3d51d0289f88d1227cf = L.marker(\n",
              "                [-23.4978583, -46.2803092],\n",
              "                {}\n",
              "            ).addTo(marker_cluster_4d5338141b286ea213c03d9941b672f5);\n",
              "        \n",
              "    \n",
              "            var marker_9cdde30a99bd5d9a3c964e8e98adb454 = L.marker(\n",
              "                [-23.6716194, -46.581534],\n",
              "                {}\n",
              "            ).addTo(marker_cluster_4d5338141b286ea213c03d9941b672f5);\n",
              "        \n",
              "    \n",
              "            var marker_62cec574980f1d2199d4abde97d62814 = L.marker(\n",
              "                [-23.7317012, -46.6848074],\n",
              "                {}\n",
              "            ).addTo(marker_cluster_4d5338141b286ea213c03d9941b672f5);\n",
              "        \n",
              "    \n",
              "            var marker_e57778508313ca244fac6dca4f8e7381 = L.marker(\n",
              "                [-23.405548, -46.42967220000001],\n",
              "                {}\n",
              "            ).addTo(marker_cluster_4d5338141b286ea213c03d9941b672f5);\n",
              "        \n",
              "    \n",
              "            var marker_a3c7093b9f8fb6de59f5195f50166929 = L.marker(\n",
              "                [-22.573712, -47.4365545],\n",
              "                {}\n",
              "            ).addTo(marker_cluster_4d5338141b286ea213c03d9941b672f5);\n",
              "        \n",
              "    \n",
              "            var marker_32840138cd72daa6a206f95a1f8e6038 = L.marker(\n",
              "                [-23.4157231, -46.7553734],\n",
              "                {}\n",
              "            ).addTo(marker_cluster_4d5338141b286ea213c03d9941b672f5);\n",
              "        \n",
              "    \n",
              "            var marker_6817a2dbdcf68054f2cb1942010693e2 = L.marker(\n",
              "                [-23.6826179, -46.3587757],\n",
              "                {}\n",
              "            ).addTo(marker_cluster_4d5338141b286ea213c03d9941b672f5);\n",
              "        \n",
              "&lt;/script&gt;\n",
              "&lt;/html&gt;\" style=\"position:absolute;width:100%;height:100%;left:0;top:0;border:none !important;\" allowfullscreen webkitallowfullscreen mozallowfullscreen></iframe></div></div>"
            ]
          },
          "metadata": {},
          "execution_count": 266
        }
      ]
    },
    {
      "cell_type": "markdown",
      "source": [
        "### 4.11 Plotando um mapa de calor da região dos clientes"
      ],
      "metadata": {
        "id": "adoWA3iLAShS"
      }
    },
    {
      "cell_type": "code",
      "source": [
        "# Ajustando o mapa de calor\n",
        "mapa_calor = folium.Map(location = [-21.7752011,-48.1708143],\n",
        "                  zoom_start = 20)\n",
        "\n",
        "# Adicionando um marcador no local do evento\n",
        "folium.Marker(\n",
        "    [-21.7752011,-48.1708143],\n",
        "    popup = \"<i>Estádio da Fonte Luminosa, Araraquara - SP</i>\",\n",
        "    tooltip = \"Clique Aqui!\",\n",
        "    icon = folium.Icon(color = 'green'),\n",
        "    \n",
        ").add_to(mapa_calor)\n",
        "\n",
        "# Plotando o mapa de calor\n",
        "mapa_calor.add_child(plugins.HeatMap(coordenadas))\n",
        "mapa_calor"
      ],
      "metadata": {
        "colab": {
          "base_uri": "https://localhost:8080/",
          "height": 543
        },
        "id": "zaAxwcczAYUU",
        "outputId": "fd08a330-bf1b-4c8d-c7ff-ff018855a36c"
      },
      "execution_count": 268,
      "outputs": [
        {
          "output_type": "execute_result",
          "data": {
            "text/plain": [
              "<folium.folium.Map at 0x7fd492b76460>"
            ],
            "text/html": [
              "<div style=\"width:100%;\"><div style=\"position:relative;width:100%;height:0;padding-bottom:60%;\"><span style=\"color:#565656\">Make this Notebook Trusted to load map: File -> Trust Notebook</span><iframe srcdoc=\"&lt;!DOCTYPE html&gt;\n",
              "&lt;html&gt;\n",
              "&lt;head&gt;\n",
              "    \n",
              "    &lt;meta http-equiv=&quot;content-type&quot; content=&quot;text/html; charset=UTF-8&quot; /&gt;\n",
              "    \n",
              "        &lt;script&gt;\n",
              "            L_NO_TOUCH = false;\n",
              "            L_DISABLE_3D = false;\n",
              "        &lt;/script&gt;\n",
              "    \n",
              "    &lt;style&gt;html, body {width: 100%;height: 100%;margin: 0;padding: 0;}&lt;/style&gt;\n",
              "    &lt;style&gt;#map {position:absolute;top:0;bottom:0;right:0;left:0;}&lt;/style&gt;\n",
              "    &lt;script src=&quot;https://cdn.jsdelivr.net/npm/leaflet@1.9.3/dist/leaflet.js&quot;&gt;&lt;/script&gt;\n",
              "    &lt;script src=&quot;https://code.jquery.com/jquery-1.12.4.min.js&quot;&gt;&lt;/script&gt;\n",
              "    &lt;script src=&quot;https://cdn.jsdelivr.net/npm/bootstrap@5.2.2/dist/js/bootstrap.bundle.min.js&quot;&gt;&lt;/script&gt;\n",
              "    &lt;script src=&quot;https://cdnjs.cloudflare.com/ajax/libs/Leaflet.awesome-markers/2.0.2/leaflet.awesome-markers.js&quot;&gt;&lt;/script&gt;\n",
              "    &lt;link rel=&quot;stylesheet&quot; href=&quot;https://cdn.jsdelivr.net/npm/leaflet@1.9.3/dist/leaflet.css&quot;/&gt;\n",
              "    &lt;link rel=&quot;stylesheet&quot; href=&quot;https://cdn.jsdelivr.net/npm/bootstrap@5.2.2/dist/css/bootstrap.min.css&quot;/&gt;\n",
              "    &lt;link rel=&quot;stylesheet&quot; href=&quot;https://netdna.bootstrapcdn.com/bootstrap/3.0.0/css/bootstrap.min.css&quot;/&gt;\n",
              "    &lt;link rel=&quot;stylesheet&quot; href=&quot;https://cdn.jsdelivr.net/npm/@fortawesome/fontawesome-free@6.2.0/css/all.min.css&quot;/&gt;\n",
              "    &lt;link rel=&quot;stylesheet&quot; href=&quot;https://cdnjs.cloudflare.com/ajax/libs/Leaflet.awesome-markers/2.0.2/leaflet.awesome-markers.css&quot;/&gt;\n",
              "    &lt;link rel=&quot;stylesheet&quot; href=&quot;https://cdn.jsdelivr.net/gh/python-visualization/folium/folium/templates/leaflet.awesome.rotate.min.css&quot;/&gt;\n",
              "    \n",
              "            &lt;meta name=&quot;viewport&quot; content=&quot;width=device-width,\n",
              "                initial-scale=1.0, maximum-scale=1.0, user-scalable=no&quot; /&gt;\n",
              "            &lt;style&gt;\n",
              "                #map_d617b44324c257d61e805b792d967bc2 {\n",
              "                    position: relative;\n",
              "                    width: 100.0%;\n",
              "                    height: 100.0%;\n",
              "                    left: 0.0%;\n",
              "                    top: 0.0%;\n",
              "                }\n",
              "                .leaflet-container { font-size: 1rem; }\n",
              "            &lt;/style&gt;\n",
              "        \n",
              "    &lt;script src=&quot;https://cdn.jsdelivr.net/gh/python-visualization/folium@main/folium/templates/leaflet_heat.min.js&quot;&gt;&lt;/script&gt;\n",
              "&lt;/head&gt;\n",
              "&lt;body&gt;\n",
              "    \n",
              "    \n",
              "            &lt;div class=&quot;folium-map&quot; id=&quot;map_d617b44324c257d61e805b792d967bc2&quot; &gt;&lt;/div&gt;\n",
              "        \n",
              "&lt;/body&gt;\n",
              "&lt;script&gt;\n",
              "    \n",
              "    \n",
              "            var map_d617b44324c257d61e805b792d967bc2 = L.map(\n",
              "                &quot;map_d617b44324c257d61e805b792d967bc2&quot;,\n",
              "                {\n",
              "                    center: [-21.7752011, -48.1708143],\n",
              "                    crs: L.CRS.EPSG3857,\n",
              "                    zoom: 20,\n",
              "                    zoomControl: true,\n",
              "                    preferCanvas: false,\n",
              "                }\n",
              "            );\n",
              "\n",
              "            \n",
              "\n",
              "        \n",
              "    \n",
              "            var tile_layer_7ddbb8dabffd887ff7e2fa7b3466d569 = L.tileLayer(\n",
              "                &quot;https://{s}.tile.openstreetmap.org/{z}/{x}/{y}.png&quot;,\n",
              "                {&quot;attribution&quot;: &quot;Data by \\u0026copy; \\u003ca target=\\&quot;_blank\\&quot; href=\\&quot;http://openstreetmap.org\\&quot;\\u003eOpenStreetMap\\u003c/a\\u003e, under \\u003ca target=\\&quot;_blank\\&quot; href=\\&quot;http://www.openstreetmap.org/copyright\\&quot;\\u003eODbL\\u003c/a\\u003e.&quot;, &quot;detectRetina&quot;: false, &quot;maxNativeZoom&quot;: 18, &quot;maxZoom&quot;: 18, &quot;minZoom&quot;: 0, &quot;noWrap&quot;: false, &quot;opacity&quot;: 1, &quot;subdomains&quot;: &quot;abc&quot;, &quot;tms&quot;: false}\n",
              "            ).addTo(map_d617b44324c257d61e805b792d967bc2);\n",
              "        \n",
              "    \n",
              "            var marker_d940682a0c76dbf7becf5508f8290564 = L.marker(\n",
              "                [-21.7752011, -48.1708143],\n",
              "                {}\n",
              "            ).addTo(map_d617b44324c257d61e805b792d967bc2);\n",
              "        \n",
              "    \n",
              "            var icon_3dbd6fb6724fd07db84e990d5b4de465 = L.AwesomeMarkers.icon(\n",
              "                {&quot;extraClasses&quot;: &quot;fa-rotate-0&quot;, &quot;icon&quot;: &quot;info-sign&quot;, &quot;iconColor&quot;: &quot;white&quot;, &quot;markerColor&quot;: &quot;green&quot;, &quot;prefix&quot;: &quot;glyphicon&quot;}\n",
              "            );\n",
              "            marker_d940682a0c76dbf7becf5508f8290564.setIcon(icon_3dbd6fb6724fd07db84e990d5b4de465);\n",
              "        \n",
              "    \n",
              "        var popup_f69d0a26b7674214f903b83ff6b3c4c2 = L.popup({&quot;maxWidth&quot;: &quot;100%&quot;});\n",
              "\n",
              "        \n",
              "            \n",
              "                var html_394ce43d5ebc13f2e1c7327bcc0de3f3 = $(`&lt;div id=&quot;html_394ce43d5ebc13f2e1c7327bcc0de3f3&quot; style=&quot;width: 100.0%; height: 100.0%;&quot;&gt;&lt;i&gt;Estádio da Fonte Luminosa, Araraquara - SP&lt;/i&gt;&lt;/div&gt;`)[0];\n",
              "                popup_f69d0a26b7674214f903b83ff6b3c4c2.setContent(html_394ce43d5ebc13f2e1c7327bcc0de3f3);\n",
              "            \n",
              "        \n",
              "\n",
              "        marker_d940682a0c76dbf7becf5508f8290564.bindPopup(popup_f69d0a26b7674214f903b83ff6b3c4c2)\n",
              "        ;\n",
              "\n",
              "        \n",
              "    \n",
              "    \n",
              "            marker_d940682a0c76dbf7becf5508f8290564.bindTooltip(\n",
              "                `&lt;div&gt;\n",
              "                     Clique Aqui!\n",
              "                 &lt;/div&gt;`,\n",
              "                {&quot;sticky&quot;: true}\n",
              "            );\n",
              "        \n",
              "    \n",
              "            var heat_map_b1de37244b12eb072f4f847900e010df = L.heatLayer(\n",
              "                [[-21.6191497, -48.3682341], [-22.748635, -47.6301128], [-23.1114159, -46.5367816], [-23.4950995, -46.6026109], [-23.1222636, -48.92048279999999], [-23.5584985, -46.5479016], [-23.6965585, -46.5679649], [-20.8295785, -49.3403786], [-22.9578496, -49.8770141], [-20.7640363, -49.4370422], [-21.9658584, -47.9397604], [-23.5036793, -46.5181548], [-22.9080748, -47.0352374], [-23.4810407, -47.4450118], [-23.9645261, -46.2542032], [-23.5091791, -46.7811777], [-23.6174135, -46.6791275], [-23.4590567, -47.4895877], [-23.6261691, -46.6859503], [-23.9702772, -48.8804415], [-22.7436158, -47.1697444], [-23.614133, -46.97546939999999], [-23.4606532, -47.5093284], [-23.4978583, -46.2803092], [-23.6716194, -46.581534], [-23.7317012, -46.6848074], [-23.405548, -46.42967220000001], [-22.573712, -47.4365545], [-23.4157231, -46.7553734], [-23.6826179, -46.3587757]],\n",
              "                {&quot;blur&quot;: 15, &quot;maxZoom&quot;: 18, &quot;minOpacity&quot;: 0.5, &quot;radius&quot;: 25}\n",
              "            ).addTo(map_d617b44324c257d61e805b792d967bc2);\n",
              "        \n",
              "&lt;/script&gt;\n",
              "&lt;/html&gt;\" style=\"position:absolute;width:100%;height:100%;left:0;top:0;border:none !important;\" allowfullscreen webkitallowfullscreen mozallowfullscreen></iframe></div></div>"
            ]
          },
          "metadata": {},
          "execution_count": 268
        }
      ]
    },
    {
      "cell_type": "markdown",
      "source": [
        "## 5. Considerações finais\n",
        "\n",
        "Business Intelligence (BI) é importante para as empresas por diversas razões. Em resumo, o BI é um conjunto de técnicas e ferramentas que ajudam as empresas a coletar, analisar e transformar dados em informações úteis para tomar decisões de negócios mais informadas e estratégicas.\n",
        "\n",
        "Em resumo, o BI é importante para as empresas porque ajuda a transformar dados em informações úteis que podem levar a decisões mais informadas, eficiência operacional e vantagem competitiva.\n",
        "\n",
        "Neste projeto transformamos dados coletados de forma irregular e transformamos em BI, utilizando as ferramentas da Google Cloud Platform. Por fim, utlizamos as ferramentas de visualização de mapas da biblioteca Geopandas para verificar a distância dos clientes até o evento em questão.\n",
        "\n",
        "Para segurança, retirei as chaves de API da minha conta GCP, Caso queira replicar será necessário criar chaves de API para o documentAI e e Google Maps."
      ],
      "metadata": {
        "id": "WLcg049DAuta"
      }
    }
  ]
}