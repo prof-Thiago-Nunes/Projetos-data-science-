{
  "nbformat": 4,
  "nbformat_minor": 0,
  "metadata": {
    "colab": {
      "name": "A importância da análise epidemiológica da COVID-19.ipynb",
      "provenance": [],
      "collapsed_sections": [],
      "include_colab_link": true
    },
    "kernelspec": {
      "name": "python3",
      "display_name": "Python 3"
    }
  },
  "cells": [
    {
      "cell_type": "markdown",
      "metadata": {
        "id": "view-in-github",
        "colab_type": "text"
      },
      "source": [
        "<a href=\"https://colab.research.google.com/github/prof-Thiago-Nunes/Projetos-data-science-/blob/main/A_import%C3%A2ncia_da_an%C3%A1lise_epidemiol%C3%B3gica_da_COVID_19.ipynb\" target=\"_parent\"><img src=\"https://colab.research.google.com/assets/colab-badge.svg\" alt=\"Open In Colab\"/></a>"
      ]
    },
    {
      "cell_type": "markdown",
      "metadata": {
        "id": "kLI0gJtzDGuQ"
      },
      "source": [
        "# A importância da análise epidemiológica da COVID-19\n",
        "A Covid-19, doença causada pelo vírus SARS-CoV-2, surgiu em 2019 e rapidamente se tornou uma pandemia com números impressionantes de casos e mortes. Nos últimos meses, a luta do Brasil contra a Covid-19 criou vários problemas e contradições, com o número de casos e mortes aumentando ao longo do tempo e a multiplicação do número de variantes do vírus, necessitando de uma ação conjunta de todas as unidades de saúde.\n",
        "\n",
        "A epidemiologia é fundamental neste momento, pois o controle e as estatísticas dos dados coletados nas linhas de frente são baseados em decisões tomadas por administrações de saúde, reguladores e governos. A composição do Boletim Epidemiológico ajuda as pessoas a compreender o comportamento da doença e é uma aliada na educação em saúde. Também ajuda as agências governamentais a tomar decisões sobre restrições, auxilia nas medidas de saneamento e outros requisitos em resposta à pandemia.\n",
        "\n",
        "<center><img alt=\"Colaboratory logo\" width=\"60%\" src=\"https://img.freepik.com/vetores-gratis/ilustracao-do-conceito-de-prevencao-de-recuperacao-de-epidemia_114360-3008.jpg?t=st=1649109697~exp=1649110297~hmac=0842a2eb841daa55c106e27d29c936c3413fedf1b9320ca9ec18de4311b3eb6e&w=740\"></center>\n",
        "\n",
        "A partir  do  avanço  do  SARS-CoV-2  no  contexto  brasileiro  e  mundial  e  a classificação deste como pandemia em março de 2020, foi constatada a necessidade de   acompanhamento   e   supervisão   de   dados   epidemiológicos   para   a   melhor compreensão da natureza deste novo tipo de vírus. Assim, verifica-se, por exemplo, desde de janeiro de 2020 a divulgação de informes epidemiológicos pela Organização Mundial de Saúde. Além disso, com 30 milhões de casos e mais de 600 mil mortes no Brasil, sendo que o primeiro caso de Covid-19 no Brasil foi confirmado dia 26 de fevereiro de 2020  na  cidade  de  São  Paulo.  A  divulgação  e  veiculação  de  informações  por intermédio  de  boletins  epidemiológicos  se  tornou  de  suma  importância  para  o  real acompanhamento da doença dentro do território brasileiro. A  prática  de  notificar  e  divulgar  informações  por  intermédio  de  boletins epidemiológicos de saúde está presente dentro das diretrizes do Ministério da Saúde e   da   Secretarias   de   Vigilância   em   Saúde   de   todos   os   municípios   brasileiros, comprovando a importância dos dados epidemiológicos evidenciados à população. O conteúdo de um boletim epidemiológico visa à detecção e o conhecimento da enfermidade   em   questão,   permitindo   prevenir   e   controlar   determinantes   e condicionantes  de  saúde  em  cada indivíduo.  Dessa  maneira,  com  o  propósito  de fornecer   diferentes   informações   técnico-científicas,   a   vigilância   epidemiológica proposta por esse tipo de material controla e supervisiona doenças transmissíveis, não transmissíveis e agravantes, detectando possíveis mudanças na transmissibilidade da enfermidade    ou    na    condição    do enfermo. \n",
        "\n",
        "<center><img alt=\"Colaboratory logo\" width=\"60%\" src=\"https://img.freepik.com/vetores-gratis/lutar-e-proteger-o-conceito-de-coronavirus-a-equipe-medica-luta-contra-o-escudo-protetor-contra-a-pandemia_90220-237.jpg?t=st=1649109909~exp=1649110509~hmac=0f702c2df4ec9a3082e174f6040c22547bec07593005fdb52897c41e288cf416&w=740\"></center>\n",
        "\n",
        "A    periodicidade    dos    boletins epidemiológicos   pode   ser   classificada   como   mensal,   semanal   ou   diária,   sendo disponibilizada de forma online ou de forma física. \n",
        "\n",
        "Este projeto visa mostrar a importância de fazer as análises epidemiológicas para a tomada de decisões a nível Municipal, Estadual, Federal e Mundial."
      ]
    },
    {
      "cell_type": "markdown",
      "source": [
        "## **Análise Geral**"
      ],
      "metadata": {
        "id": "LCQrsSY8kwCC"
      }
    },
    {
      "cell_type": "markdown",
      "source": [
        "Nesta etapa serão abordados os seguintes objetivos:\n",
        "* **Visualizar as dimensões do dataset;**\n",
        "* **Visualizar as 5 primeiras entradas;**\n",
        "* **Visualizar os tipos das variáveis presentes;**\n",
        "* **Disponibilizar um pequeno Dicionário das variáveis;**\n",
        "* **Tratar os dados.**"
      ],
      "metadata": {
        "id": "wcN0HKwhlCKd"
      }
    },
    {
      "cell_type": "markdown",
      "metadata": {
        "id": "0zxQHhIUDF_2"
      },
      "source": [
        "### **Obtenção dos Dados**\n",
        "\n",
        "Todos os dados utilizados nesse projeto foram obtidos no repositório da Our World in Data (Owid) no github (https://github.com/owid/covid-19-data/tree/master/public/data).\n",
        "\n",
        "A Owid é um projeto fundado pelo Dr. Max Roser com o intuito de tornar a informação, acerca dos grandes problemas mundiais, acessível e compreensível.\n",
        "\n",
        "A base de dados, até o momento de publicação deste projeto, é atualizada diariamente, compilando informações de diversas fonte, conforme explicitado no codebook do repositório (\"https://github.com/owid/covid-19-data/blob/master/public/data/owid-covid-codebook.csv).\n",
        "\n",
        "É importante salientar que os dados de infecção refletem eventos passados, uma vez que, por conta da natureza do vírus, existe um intervalo de tempo entre a contaminação, a manifestação e a detecção do Covid-19 no paciente.\n",
        "Será utilizado o formato `csv` neste projeto."
      ]
    },
    {
      "cell_type": "markdown",
      "source": [
        "### **Importando os dados**"
      ],
      "metadata": {
        "id": "62C8QyzBlaMT"
      }
    },
    {
      "cell_type": "code",
      "metadata": {
        "id": "lOtEJxe0DMEb",
        "colab": {
          "base_uri": "https://localhost:8080/"
        },
        "outputId": "03938502-ba0e-4a65-da50-605cdd88052d"
      },
      "source": [
        "# Importar as bibliotecas necessárias\n",
        "import pandas as pd\n",
        "import matplotlib.pyplot as plt\n",
        "import numpy as np\n",
        "import plotly.express as px\n",
        "#Instalar as bibliotecas faltantes\n",
        "!pip install bar_chart_race -q\n",
        "import bar_chart_race as bcr # Visualização gráfica dinâmica\n",
        "\n",
        "\n",
        "%matplotlib inline\n"
      ],
      "execution_count": 1,
      "outputs": [
        {
          "output_type": "stream",
          "name": "stdout",
          "text": [
            "\u001b[?25l\r\u001b[K     |██                              | 10 kB 27.7 MB/s eta 0:00:01\r\u001b[K     |████▏                           | 20 kB 32.6 MB/s eta 0:00:01\r\u001b[K     |██████▎                         | 30 kB 34.7 MB/s eta 0:00:01\r\u001b[K     |████████▍                       | 40 kB 38.2 MB/s eta 0:00:01\r\u001b[K     |██████████▌                     | 51 kB 31.9 MB/s eta 0:00:01\r\u001b[K     |████████████▌                   | 61 kB 35.3 MB/s eta 0:00:01\r\u001b[K     |██████████████▋                 | 71 kB 32.5 MB/s eta 0:00:01\r\u001b[K     |████████████████▊               | 81 kB 32.7 MB/s eta 0:00:01\r\u001b[K     |██████████████████▉             | 92 kB 34.8 MB/s eta 0:00:01\r\u001b[K     |█████████████████████           | 102 kB 31.0 MB/s eta 0:00:01\r\u001b[K     |███████████████████████         | 112 kB 31.0 MB/s eta 0:00:01\r\u001b[K     |█████████████████████████       | 122 kB 31.0 MB/s eta 0:00:01\r\u001b[K     |███████████████████████████▏    | 133 kB 31.0 MB/s eta 0:00:01\r\u001b[K     |█████████████████████████████▎  | 143 kB 31.0 MB/s eta 0:00:01\r\u001b[K     |███████████████████████████████▍| 153 kB 31.0 MB/s eta 0:00:01\r\u001b[K     |████████████████████████████████| 156 kB 31.0 MB/s \n",
            "\u001b[?25h"
          ]
        }
      ]
    },
    {
      "cell_type": "code",
      "source": [
        "# importar o dataset COVID-19 para um DataFrame\n",
        "data = \"https://raw.githubusercontent.com/owid/covid-19-data/master/public/data/owid-covid-data.csv\"\n",
        "df = pd.read_csv(data)"
      ],
      "metadata": {
        "id": "or2XMX3TVSK0"
      },
      "execution_count": 2,
      "outputs": []
    },
    {
      "cell_type": "markdown",
      "source": [
        "Vemos que esse dataset possui **161162 entradas** e **67 variáveis** diferentes."
      ],
      "metadata": {
        "id": "3BHm8VUmmvhh"
      }
    },
    {
      "cell_type": "markdown",
      "source": [
        "### **Dicionário de Variáveis**\n",
        "As variáveis apresentadas a seguir são as utilizadas neste projeto, para um panorama completo de todas as variáveis presentes no *dataset* o *codebook* do repositório da Owid deve ser consultado.\n",
        "\n",
        "*  `iso_code`\t- Código único de 3 letras que representa o país de acordo com a norma ISO 3166-1\n",
        "* `continent` - Continente em que o país se localiza\n",
        "* `location` - País \t\n",
        "* `date`\t- Data da entrada do dado no *dataset*\n",
        "* `total_cases` - Número de casos totais confirmados\n",
        "* `new_cases` - Número de novos casos confirmados desde a última atualização do *dataset*\t\n",
        "* `new_cases_smoothed`\t- Média móvel dos dados do número de novos casos confirmados (período de 7 dias de Média móvel)\n",
        "* `total_deaths`\t- Número total de óbitos confirmados em decorrência de Covid-19\n",
        "* `new_deaths` -\tNúmero total de óbitos confirmados em decorrência de Covid-19 desde a última atualização do *dataset*\n",
        "* `new_deaths_smoothed` - Média móvel dos dados do total de óbitos confirmados em decorrência de Covid-19 (período de 7 dias de Média móvel)\n",
        "* `total_cases_per_million` - Número de casos totais confirmados a cada 1.000.000 de pessoas\n",
        "* `new_cases_per_million` - Número de novos casos confirmados desde a última atualização do *dataset*\ta cada 1.000.000 de pessoas\n",
        "* `new_cases_smoothed_per_million` - Média móvel dos dados do número de novos casos confirmados a cada 1.000.000 de pessoas (período de 7 dias de Média móvel)\n",
        "* `total_deaths_per_million` -\tNúmero total de óbitos confirmados em decorrência de Covid-19 a cada 1.000.000 de pessoas\n",
        "* `new_deaths_per_million` -\tNúmero total de óbitos confirmados em decorrência de Covid-19 desde a última atualização do *dataset* a cada 1.000.000 de pessoas\n",
        "* `new_deaths_smoothed_per_million`\tMédia móvel dos dados do total de óbitos confirmados em decorrência de Covid-19 a cada 1.000.000 de pessoas (período de 7 dias de Média móvel)\n",
        "* `total_vaccinations` - Número total de vacinas aplicadas\t \n",
        "* `people_vaccinated` - Número total de pessoas que receberam pelo menos 1 dose da vacina\t \n",
        "* `people_fully_vaccinated` - Número total de pessoas totalmente vacinadas\n",
        "* `total_boosters` - Número total de reforços de vacina administrados\n",
        "* `new_vaccinations` -\tNúmero de novas vacinas aplicadas em relação ao dia anterior\n",
        "* `new_vaccinations_smoothed` - Média móvel dos dados (período de 7 dias) do número de novas vacinas aplicadas\n",
        "* `total_vaccinations_per_hundred` -\tNúmero total de vacinas aplicadas\ta cada 100 pessoas\n",
        "* `people_vaccinated_per_hundred` -\tNúmero total de pessoas que receberam pelo menos 1 dose da vacina a cada 100 pessoas \n",
        "* `people_fully_vaccinated_per_hundred` - Número total de pessoas totalmente vacinadas a cada 100 pessoas\n",
        "* `total_boosters_per_hundred` -\tNúmero total de reforços de vacina administrados a cada 100 pessoas\n",
        "* `new_vaccinations_smoothed_per_million` - Média móvel dos dados (período de 7 dias) do número de novas vacinas aplicadas a cada 1.000.000\n",
        "* `new_people_vaccinated_smoothed`- Média móvel (período de 7 dias) do número de pessoas que receberam a primeira dose da vacina \n",
        "* `new_people_vaccinated_smoothed_per_hundred` -\tMédia móvel dos dados(período de 7 dias) do número de pessoas a cada 100 que receberam a primeira dose da vacina \n",
        "* `gdp_per_capita` - Produto Interno Bruto (PIB) dos países.\n",
        "\n",
        "Obs: O ISO 3166-1 é parte da norma ISO 3166 que sugere códigos para os nomes de países e dependências.\n",
        "É um sistema de duas letras, que tem muitas aplicações, e mais propriamente para os domínios de topo da Internet."
      ],
      "metadata": {
        "id": "G5mMTVGnmeyC"
      }
    },
    {
      "cell_type": "code",
      "source": [
        "# para saber as dimensões do dataset\n",
        "print(df.shape)"
      ],
      "metadata": {
        "colab": {
          "base_uri": "https://localhost:8080/"
        },
        "id": "nVAizbJzoVy2",
        "outputId": "53610e6e-f0b7-435d-8c22-85879219314f"
      },
      "execution_count": 3,
      "outputs": [
        {
          "output_type": "stream",
          "name": "stdout",
          "text": [
            "(176687, 67)\n"
          ]
        }
      ]
    },
    {
      "cell_type": "markdown",
      "source": [
        "O dataset possui **176459 entradas** e **67 variáveis** diferentes."
      ],
      "metadata": {
        "id": "E1sADnzjoY4v"
      }
    },
    {
      "cell_type": "code",
      "source": [
        "# Visualizar as 5 primeiras entradas\n",
        "df.head()"
      ],
      "metadata": {
        "colab": {
          "base_uri": "https://localhost:8080/",
          "height": 386
        },
        "id": "Tyhw0nm_oaDG",
        "outputId": "e507f28c-5a82-4cbf-ef47-1684ec0c6211"
      },
      "execution_count": 4,
      "outputs": [
        {
          "output_type": "execute_result",
          "data": {
            "text/plain": [
              "  iso_code continent     location        date  total_cases  new_cases  \\\n",
              "0      AFG      Asia  Afghanistan  2020-02-24          5.0        5.0   \n",
              "1      AFG      Asia  Afghanistan  2020-02-25          5.0        0.0   \n",
              "2      AFG      Asia  Afghanistan  2020-02-26          5.0        0.0   \n",
              "3      AFG      Asia  Afghanistan  2020-02-27          5.0        0.0   \n",
              "4      AFG      Asia  Afghanistan  2020-02-28          5.0        0.0   \n",
              "\n",
              "   new_cases_smoothed  total_deaths  new_deaths  new_deaths_smoothed  ...  \\\n",
              "0                 NaN           NaN         NaN                  NaN  ...   \n",
              "1                 NaN           NaN         NaN                  NaN  ...   \n",
              "2                 NaN           NaN         NaN                  NaN  ...   \n",
              "3                 NaN           NaN         NaN                  NaN  ...   \n",
              "4                 NaN           NaN         NaN                  NaN  ...   \n",
              "\n",
              "   female_smokers  male_smokers  handwashing_facilities  \\\n",
              "0             NaN           NaN                  37.746   \n",
              "1             NaN           NaN                  37.746   \n",
              "2             NaN           NaN                  37.746   \n",
              "3             NaN           NaN                  37.746   \n",
              "4             NaN           NaN                  37.746   \n",
              "\n",
              "   hospital_beds_per_thousand  life_expectancy  human_development_index  \\\n",
              "0                         0.5            64.83                    0.511   \n",
              "1                         0.5            64.83                    0.511   \n",
              "2                         0.5            64.83                    0.511   \n",
              "3                         0.5            64.83                    0.511   \n",
              "4                         0.5            64.83                    0.511   \n",
              "\n",
              "   excess_mortality_cumulative_absolute  excess_mortality_cumulative  \\\n",
              "0                                   NaN                          NaN   \n",
              "1                                   NaN                          NaN   \n",
              "2                                   NaN                          NaN   \n",
              "3                                   NaN                          NaN   \n",
              "4                                   NaN                          NaN   \n",
              "\n",
              "   excess_mortality  excess_mortality_cumulative_per_million  \n",
              "0               NaN                                      NaN  \n",
              "1               NaN                                      NaN  \n",
              "2               NaN                                      NaN  \n",
              "3               NaN                                      NaN  \n",
              "4               NaN                                      NaN  \n",
              "\n",
              "[5 rows x 67 columns]"
            ],
            "text/html": [
              "\n",
              "  <div id=\"df-56153aa3-dddd-46e7-b0f6-d01606f86579\">\n",
              "    <div class=\"colab-df-container\">\n",
              "      <div>\n",
              "<style scoped>\n",
              "    .dataframe tbody tr th:only-of-type {\n",
              "        vertical-align: middle;\n",
              "    }\n",
              "\n",
              "    .dataframe tbody tr th {\n",
              "        vertical-align: top;\n",
              "    }\n",
              "\n",
              "    .dataframe thead th {\n",
              "        text-align: right;\n",
              "    }\n",
              "</style>\n",
              "<table border=\"1\" class=\"dataframe\">\n",
              "  <thead>\n",
              "    <tr style=\"text-align: right;\">\n",
              "      <th></th>\n",
              "      <th>iso_code</th>\n",
              "      <th>continent</th>\n",
              "      <th>location</th>\n",
              "      <th>date</th>\n",
              "      <th>total_cases</th>\n",
              "      <th>new_cases</th>\n",
              "      <th>new_cases_smoothed</th>\n",
              "      <th>total_deaths</th>\n",
              "      <th>new_deaths</th>\n",
              "      <th>new_deaths_smoothed</th>\n",
              "      <th>...</th>\n",
              "      <th>female_smokers</th>\n",
              "      <th>male_smokers</th>\n",
              "      <th>handwashing_facilities</th>\n",
              "      <th>hospital_beds_per_thousand</th>\n",
              "      <th>life_expectancy</th>\n",
              "      <th>human_development_index</th>\n",
              "      <th>excess_mortality_cumulative_absolute</th>\n",
              "      <th>excess_mortality_cumulative</th>\n",
              "      <th>excess_mortality</th>\n",
              "      <th>excess_mortality_cumulative_per_million</th>\n",
              "    </tr>\n",
              "  </thead>\n",
              "  <tbody>\n",
              "    <tr>\n",
              "      <th>0</th>\n",
              "      <td>AFG</td>\n",
              "      <td>Asia</td>\n",
              "      <td>Afghanistan</td>\n",
              "      <td>2020-02-24</td>\n",
              "      <td>5.0</td>\n",
              "      <td>5.0</td>\n",
              "      <td>NaN</td>\n",
              "      <td>NaN</td>\n",
              "      <td>NaN</td>\n",
              "      <td>NaN</td>\n",
              "      <td>...</td>\n",
              "      <td>NaN</td>\n",
              "      <td>NaN</td>\n",
              "      <td>37.746</td>\n",
              "      <td>0.5</td>\n",
              "      <td>64.83</td>\n",
              "      <td>0.511</td>\n",
              "      <td>NaN</td>\n",
              "      <td>NaN</td>\n",
              "      <td>NaN</td>\n",
              "      <td>NaN</td>\n",
              "    </tr>\n",
              "    <tr>\n",
              "      <th>1</th>\n",
              "      <td>AFG</td>\n",
              "      <td>Asia</td>\n",
              "      <td>Afghanistan</td>\n",
              "      <td>2020-02-25</td>\n",
              "      <td>5.0</td>\n",
              "      <td>0.0</td>\n",
              "      <td>NaN</td>\n",
              "      <td>NaN</td>\n",
              "      <td>NaN</td>\n",
              "      <td>NaN</td>\n",
              "      <td>...</td>\n",
              "      <td>NaN</td>\n",
              "      <td>NaN</td>\n",
              "      <td>37.746</td>\n",
              "      <td>0.5</td>\n",
              "      <td>64.83</td>\n",
              "      <td>0.511</td>\n",
              "      <td>NaN</td>\n",
              "      <td>NaN</td>\n",
              "      <td>NaN</td>\n",
              "      <td>NaN</td>\n",
              "    </tr>\n",
              "    <tr>\n",
              "      <th>2</th>\n",
              "      <td>AFG</td>\n",
              "      <td>Asia</td>\n",
              "      <td>Afghanistan</td>\n",
              "      <td>2020-02-26</td>\n",
              "      <td>5.0</td>\n",
              "      <td>0.0</td>\n",
              "      <td>NaN</td>\n",
              "      <td>NaN</td>\n",
              "      <td>NaN</td>\n",
              "      <td>NaN</td>\n",
              "      <td>...</td>\n",
              "      <td>NaN</td>\n",
              "      <td>NaN</td>\n",
              "      <td>37.746</td>\n",
              "      <td>0.5</td>\n",
              "      <td>64.83</td>\n",
              "      <td>0.511</td>\n",
              "      <td>NaN</td>\n",
              "      <td>NaN</td>\n",
              "      <td>NaN</td>\n",
              "      <td>NaN</td>\n",
              "    </tr>\n",
              "    <tr>\n",
              "      <th>3</th>\n",
              "      <td>AFG</td>\n",
              "      <td>Asia</td>\n",
              "      <td>Afghanistan</td>\n",
              "      <td>2020-02-27</td>\n",
              "      <td>5.0</td>\n",
              "      <td>0.0</td>\n",
              "      <td>NaN</td>\n",
              "      <td>NaN</td>\n",
              "      <td>NaN</td>\n",
              "      <td>NaN</td>\n",
              "      <td>...</td>\n",
              "      <td>NaN</td>\n",
              "      <td>NaN</td>\n",
              "      <td>37.746</td>\n",
              "      <td>0.5</td>\n",
              "      <td>64.83</td>\n",
              "      <td>0.511</td>\n",
              "      <td>NaN</td>\n",
              "      <td>NaN</td>\n",
              "      <td>NaN</td>\n",
              "      <td>NaN</td>\n",
              "    </tr>\n",
              "    <tr>\n",
              "      <th>4</th>\n",
              "      <td>AFG</td>\n",
              "      <td>Asia</td>\n",
              "      <td>Afghanistan</td>\n",
              "      <td>2020-02-28</td>\n",
              "      <td>5.0</td>\n",
              "      <td>0.0</td>\n",
              "      <td>NaN</td>\n",
              "      <td>NaN</td>\n",
              "      <td>NaN</td>\n",
              "      <td>NaN</td>\n",
              "      <td>...</td>\n",
              "      <td>NaN</td>\n",
              "      <td>NaN</td>\n",
              "      <td>37.746</td>\n",
              "      <td>0.5</td>\n",
              "      <td>64.83</td>\n",
              "      <td>0.511</td>\n",
              "      <td>NaN</td>\n",
              "      <td>NaN</td>\n",
              "      <td>NaN</td>\n",
              "      <td>NaN</td>\n",
              "    </tr>\n",
              "  </tbody>\n",
              "</table>\n",
              "<p>5 rows × 67 columns</p>\n",
              "</div>\n",
              "      <button class=\"colab-df-convert\" onclick=\"convertToInteractive('df-56153aa3-dddd-46e7-b0f6-d01606f86579')\"\n",
              "              title=\"Convert this dataframe to an interactive table.\"\n",
              "              style=\"display:none;\">\n",
              "        \n",
              "  <svg xmlns=\"http://www.w3.org/2000/svg\" height=\"24px\"viewBox=\"0 0 24 24\"\n",
              "       width=\"24px\">\n",
              "    <path d=\"M0 0h24v24H0V0z\" fill=\"none\"/>\n",
              "    <path d=\"M18.56 5.44l.94 2.06.94-2.06 2.06-.94-2.06-.94-.94-2.06-.94 2.06-2.06.94zm-11 1L8.5 8.5l.94-2.06 2.06-.94-2.06-.94L8.5 2.5l-.94 2.06-2.06.94zm10 10l.94 2.06.94-2.06 2.06-.94-2.06-.94-.94-2.06-.94 2.06-2.06.94z\"/><path d=\"M17.41 7.96l-1.37-1.37c-.4-.4-.92-.59-1.43-.59-.52 0-1.04.2-1.43.59L10.3 9.45l-7.72 7.72c-.78.78-.78 2.05 0 2.83L4 21.41c.39.39.9.59 1.41.59.51 0 1.02-.2 1.41-.59l7.78-7.78 2.81-2.81c.8-.78.8-2.07 0-2.86zM5.41 20L4 18.59l7.72-7.72 1.47 1.35L5.41 20z\"/>\n",
              "  </svg>\n",
              "      </button>\n",
              "      \n",
              "  <style>\n",
              "    .colab-df-container {\n",
              "      display:flex;\n",
              "      flex-wrap:wrap;\n",
              "      gap: 12px;\n",
              "    }\n",
              "\n",
              "    .colab-df-convert {\n",
              "      background-color: #E8F0FE;\n",
              "      border: none;\n",
              "      border-radius: 50%;\n",
              "      cursor: pointer;\n",
              "      display: none;\n",
              "      fill: #1967D2;\n",
              "      height: 32px;\n",
              "      padding: 0 0 0 0;\n",
              "      width: 32px;\n",
              "    }\n",
              "\n",
              "    .colab-df-convert:hover {\n",
              "      background-color: #E2EBFA;\n",
              "      box-shadow: 0px 1px 2px rgba(60, 64, 67, 0.3), 0px 1px 3px 1px rgba(60, 64, 67, 0.15);\n",
              "      fill: #174EA6;\n",
              "    }\n",
              "\n",
              "    [theme=dark] .colab-df-convert {\n",
              "      background-color: #3B4455;\n",
              "      fill: #D2E3FC;\n",
              "    }\n",
              "\n",
              "    [theme=dark] .colab-df-convert:hover {\n",
              "      background-color: #434B5C;\n",
              "      box-shadow: 0px 1px 3px 1px rgba(0, 0, 0, 0.15);\n",
              "      filter: drop-shadow(0px 1px 2px rgba(0, 0, 0, 0.3));\n",
              "      fill: #FFFFFF;\n",
              "    }\n",
              "  </style>\n",
              "\n",
              "      <script>\n",
              "        const buttonEl =\n",
              "          document.querySelector('#df-56153aa3-dddd-46e7-b0f6-d01606f86579 button.colab-df-convert');\n",
              "        buttonEl.style.display =\n",
              "          google.colab.kernel.accessAllowed ? 'block' : 'none';\n",
              "\n",
              "        async function convertToInteractive(key) {\n",
              "          const element = document.querySelector('#df-56153aa3-dddd-46e7-b0f6-d01606f86579');\n",
              "          const dataTable =\n",
              "            await google.colab.kernel.invokeFunction('convertToInteractive',\n",
              "                                                     [key], {});\n",
              "          if (!dataTable) return;\n",
              "\n",
              "          const docLinkHtml = 'Like what you see? Visit the ' +\n",
              "            '<a target=\"_blank\" href=https://colab.research.google.com/notebooks/data_table.ipynb>data table notebook</a>'\n",
              "            + ' to learn more about interactive tables.';\n",
              "          element.innerHTML = '';\n",
              "          dataTable['output_type'] = 'display_data';\n",
              "          await google.colab.output.renderOutput(dataTable, element);\n",
              "          const docLink = document.createElement('div');\n",
              "          docLink.innerHTML = docLinkHtml;\n",
              "          element.appendChild(docLink);\n",
              "        }\n",
              "      </script>\n",
              "    </div>\n",
              "  </div>\n",
              "  "
            ]
          },
          "metadata": {},
          "execution_count": 4
        }
      ]
    },
    {
      "cell_type": "code",
      "source": [
        "# Visualizar os tipos das variáveis\n",
        "df.dtypes"
      ],
      "metadata": {
        "colab": {
          "base_uri": "https://localhost:8080/"
        },
        "id": "3fACR0eUofme",
        "outputId": "c2b19a35-2388-4dcd-fb65-e0b1aa34a199"
      },
      "execution_count": 5,
      "outputs": [
        {
          "output_type": "execute_result",
          "data": {
            "text/plain": [
              "iso_code                                    object\n",
              "continent                                   object\n",
              "location                                    object\n",
              "date                                        object\n",
              "total_cases                                float64\n",
              "                                            ...   \n",
              "human_development_index                    float64\n",
              "excess_mortality_cumulative_absolute       float64\n",
              "excess_mortality_cumulative                float64\n",
              "excess_mortality                           float64\n",
              "excess_mortality_cumulative_per_million    float64\n",
              "Length: 67, dtype: object"
            ]
          },
          "metadata": {},
          "execution_count": 5
        }
      ]
    },
    {
      "cell_type": "markdown",
      "source": [
        "### **Tratamento de Dados**\n",
        "\n",
        "Essa é uma etapa primordial de qualquer projeto. Antes de iniciar a Análise Exploratória é importantíssimo tratar os dados para que a análise seja feita da forma mais confiável possível."
      ],
      "metadata": {
        "id": "OpTCIPdppY66"
      }
    },
    {
      "cell_type": "markdown",
      "source": [
        "#### **Transformação de Variáveis**\n",
        "\n",
        "Como foi observado acima, a variável date, que seria a data, está em formato de objeto. É necessário transforma-la em formato de data para facilitar as pesquisas que serão feitas baseadas na data."
      ],
      "metadata": {
        "id": "0Xp12aOXpvLU"
      }
    },
    {
      "cell_type": "code",
      "source": [
        "# transformar em data\n",
        "df.date = pd.to_datetime(df.date, format='%Y/%m/%d')"
      ],
      "metadata": {
        "id": "teYhcXdGpifZ"
      },
      "execution_count": 6,
      "outputs": []
    },
    {
      "cell_type": "markdown",
      "source": [
        "#### **Valores Nulos**\n",
        "\n",
        "Faz-se necessário descobrir a **porcentagem (%) de valores nulos** de cada variável e excluir ou tratar algumas variáveis."
      ],
      "metadata": {
        "id": "SkWSizSYp_3v"
      }
    },
    {
      "cell_type": "code",
      "source": [
        "# visualizando a quantidade de valores nulos\n",
        "print(f'{(df.isnull().sum() / df.shape[0]).sort_values(ascending=False) * 100}')"
      ],
      "metadata": {
        "colab": {
          "base_uri": "https://localhost:8080/"
        },
        "id": "H7KsiSC4qHq6",
        "outputId": "a83236d8-a2c8-43f3-97fb-39fd6272b6a1"
      },
      "execution_count": 8,
      "outputs": [
        {
          "output_type": "stream",
          "name": "stdout",
          "text": [
            "weekly_icu_admissions_per_million          96.754147\n",
            "weekly_icu_admissions                      96.754147\n",
            "excess_mortality_cumulative_per_million    96.560019\n",
            "excess_mortality                           96.560019\n",
            "excess_mortality_cumulative                96.560019\n",
            "                                             ...    \n",
            "total_cases                                 3.580343\n",
            "population                                  0.625966\n",
            "date                                        0.000000\n",
            "location                                    0.000000\n",
            "iso_code                                    0.000000\n",
            "Length: 67, dtype: float64\n"
          ]
        }
      ]
    },
    {
      "cell_type": "code",
      "source": [
        "# excluindoo variáveis\n",
        "df = df.drop(columns=['weekly_icu_admissions','weekly_icu_admissions_per_million','weekly_hosp_admissions_per_million',\n",
        "                      'weekly_hosp_admissions','excess_mortality','excess_mortality_cumulative_absolute','excess_mortality_cumulative',\n",
        "                      'total_boosters_per_hundred','total_boosters','excess_mortality_cumulative_per_million','icu_patients_per_million',\n",
        "                      'icu_patients','hosp_patients_per_million','hosp_patients'])"
      ],
      "metadata": {
        "id": "AH8NRSAhqyaz"
      },
      "execution_count": 9,
      "outputs": []
    },
    {
      "cell_type": "code",
      "source": [
        "# Excluir índices para melhor visualização gráfica\n",
        "dfp = df.drop(df.index[[147754,52967,168572, 52164, 117814, 9267, 94671,70207,52913, 117760, 94617, 147700,9213,168518,52110,70153,64655,\n",
        "                        94739,168734,9224,117966,147944,94793,168788,53036,9278,52232,70297,48549,153845,8614,49300,108530,87406,135124,1446,\n",
        "                        147890, 1499,70243, 52178, 117912, 52982,93988,1553,121236]])"
      ],
      "metadata": {
        "id": "Zynwubtaq5i5"
      },
      "execution_count": 64,
      "outputs": []
    },
    {
      "cell_type": "code",
      "source": [
        "print(df.shape)"
      ],
      "metadata": {
        "colab": {
          "base_uri": "https://localhost:8080/"
        },
        "id": "jSiTxvO9q-H7",
        "outputId": "ee4fef0c-e044-4673-9d8c-72edd08e9f4d"
      },
      "execution_count": 11,
      "outputs": [
        {
          "output_type": "stream",
          "name": "stdout",
          "text": [
            "(176687, 53)\n"
          ]
        }
      ]
    },
    {
      "cell_type": "markdown",
      "source": [
        "Após o Tratamento de Dados o dataset ficou com **53 variáveis** e está pronto para ser utilizado na próxima etapa."
      ],
      "metadata": {
        "id": "RWACSiRTrC8b"
      }
    },
    {
      "cell_type": "markdown",
      "source": [
        "## **Análise epidemiológica da Covid-19 no mundo** \n",
        "\n",
        "Nesta parte do projeto, serão analisados os seguintes casos:\n",
        "\n",
        "*   **Número de Casos**\n",
        "*   **Número de Mortes**\n",
        "*   **Andamento da Vacinação**\n",
        "*   **Análise do Brasil em relação ao mundo**\n",
        "\n",
        "\n"
      ],
      "metadata": {
        "id": "Kv_NYGSsrJ1_"
      }
    },
    {
      "cell_type": "markdown",
      "source": [
        "### **Casos**\n",
        "\n",
        "Nesta seção será realizada uma análise dos dados referentes ao número de casos da COVID-19 pelo mundo e também um ranking dos países com mais casos."
      ],
      "metadata": {
        "id": "2sG9fnlSrRvx"
      }
    },
    {
      "cell_type": "markdown",
      "source": [
        "#### **Visão Geral**"
      ],
      "metadata": {
        "id": "VQ90gHMUrwOU"
      }
    },
    {
      "cell_type": "code",
      "source": [
        "# buscando o número total de casos\n",
        "dfp.loc[dfp.date == '2022-04-04',['location','total_cases']].sort_values('total_cases', ascending=False)[:1]"
      ],
      "metadata": {
        "colab": {
          "base_uri": "https://localhost:8080/",
          "height": 81
        },
        "id": "Q9f6440SrvCk",
        "outputId": "3dcabbd6-bbe4-4874-8c48-1edd50dc02d4"
      },
      "execution_count": 98,
      "outputs": [
        {
          "output_type": "execute_result",
          "data": {
            "text/plain": [
              "       location  total_cases\n",
              "174463    World  492342018.0"
            ],
            "text/html": [
              "\n",
              "  <div id=\"df-16c5d40e-4bf0-4710-909a-2ae9004544e8\">\n",
              "    <div class=\"colab-df-container\">\n",
              "      <div>\n",
              "<style scoped>\n",
              "    .dataframe tbody tr th:only-of-type {\n",
              "        vertical-align: middle;\n",
              "    }\n",
              "\n",
              "    .dataframe tbody tr th {\n",
              "        vertical-align: top;\n",
              "    }\n",
              "\n",
              "    .dataframe thead th {\n",
              "        text-align: right;\n",
              "    }\n",
              "</style>\n",
              "<table border=\"1\" class=\"dataframe\">\n",
              "  <thead>\n",
              "    <tr style=\"text-align: right;\">\n",
              "      <th></th>\n",
              "      <th>location</th>\n",
              "      <th>total_cases</th>\n",
              "    </tr>\n",
              "  </thead>\n",
              "  <tbody>\n",
              "    <tr>\n",
              "      <th>174463</th>\n",
              "      <td>World</td>\n",
              "      <td>492342018.0</td>\n",
              "    </tr>\n",
              "  </tbody>\n",
              "</table>\n",
              "</div>\n",
              "      <button class=\"colab-df-convert\" onclick=\"convertToInteractive('df-16c5d40e-4bf0-4710-909a-2ae9004544e8')\"\n",
              "              title=\"Convert this dataframe to an interactive table.\"\n",
              "              style=\"display:none;\">\n",
              "        \n",
              "  <svg xmlns=\"http://www.w3.org/2000/svg\" height=\"24px\"viewBox=\"0 0 24 24\"\n",
              "       width=\"24px\">\n",
              "    <path d=\"M0 0h24v24H0V0z\" fill=\"none\"/>\n",
              "    <path d=\"M18.56 5.44l.94 2.06.94-2.06 2.06-.94-2.06-.94-.94-2.06-.94 2.06-2.06.94zm-11 1L8.5 8.5l.94-2.06 2.06-.94-2.06-.94L8.5 2.5l-.94 2.06-2.06.94zm10 10l.94 2.06.94-2.06 2.06-.94-2.06-.94-.94-2.06-.94 2.06-2.06.94z\"/><path d=\"M17.41 7.96l-1.37-1.37c-.4-.4-.92-.59-1.43-.59-.52 0-1.04.2-1.43.59L10.3 9.45l-7.72 7.72c-.78.78-.78 2.05 0 2.83L4 21.41c.39.39.9.59 1.41.59.51 0 1.02-.2 1.41-.59l7.78-7.78 2.81-2.81c.8-.78.8-2.07 0-2.86zM5.41 20L4 18.59l7.72-7.72 1.47 1.35L5.41 20z\"/>\n",
              "  </svg>\n",
              "      </button>\n",
              "      \n",
              "  <style>\n",
              "    .colab-df-container {\n",
              "      display:flex;\n",
              "      flex-wrap:wrap;\n",
              "      gap: 12px;\n",
              "    }\n",
              "\n",
              "    .colab-df-convert {\n",
              "      background-color: #E8F0FE;\n",
              "      border: none;\n",
              "      border-radius: 50%;\n",
              "      cursor: pointer;\n",
              "      display: none;\n",
              "      fill: #1967D2;\n",
              "      height: 32px;\n",
              "      padding: 0 0 0 0;\n",
              "      width: 32px;\n",
              "    }\n",
              "\n",
              "    .colab-df-convert:hover {\n",
              "      background-color: #E2EBFA;\n",
              "      box-shadow: 0px 1px 2px rgba(60, 64, 67, 0.3), 0px 1px 3px 1px rgba(60, 64, 67, 0.15);\n",
              "      fill: #174EA6;\n",
              "    }\n",
              "\n",
              "    [theme=dark] .colab-df-convert {\n",
              "      background-color: #3B4455;\n",
              "      fill: #D2E3FC;\n",
              "    }\n",
              "\n",
              "    [theme=dark] .colab-df-convert:hover {\n",
              "      background-color: #434B5C;\n",
              "      box-shadow: 0px 1px 3px 1px rgba(0, 0, 0, 0.15);\n",
              "      filter: drop-shadow(0px 1px 2px rgba(0, 0, 0, 0.3));\n",
              "      fill: #FFFFFF;\n",
              "    }\n",
              "  </style>\n",
              "\n",
              "      <script>\n",
              "        const buttonEl =\n",
              "          document.querySelector('#df-16c5d40e-4bf0-4710-909a-2ae9004544e8 button.colab-df-convert');\n",
              "        buttonEl.style.display =\n",
              "          google.colab.kernel.accessAllowed ? 'block' : 'none';\n",
              "\n",
              "        async function convertToInteractive(key) {\n",
              "          const element = document.querySelector('#df-16c5d40e-4bf0-4710-909a-2ae9004544e8');\n",
              "          const dataTable =\n",
              "            await google.colab.kernel.invokeFunction('convertToInteractive',\n",
              "                                                     [key], {});\n",
              "          if (!dataTable) return;\n",
              "\n",
              "          const docLinkHtml = 'Like what you see? Visit the ' +\n",
              "            '<a target=\"_blank\" href=https://colab.research.google.com/notebooks/data_table.ipynb>data table notebook</a>'\n",
              "            + ' to learn more about interactive tables.';\n",
              "          element.innerHTML = '';\n",
              "          dataTable['output_type'] = 'display_data';\n",
              "          await google.colab.output.renderOutput(dataTable, element);\n",
              "          const docLink = document.createElement('div');\n",
              "          docLink.innerHTML = docLinkHtml;\n",
              "          element.appendChild(docLink);\n",
              "        }\n",
              "      </script>\n",
              "    </div>\n",
              "  </div>\n",
              "  "
            ]
          },
          "metadata": {},
          "execution_count": 98
        }
      ]
    },
    {
      "cell_type": "markdown",
      "source": [
        "O total de casos até a respectiva data (04-04-2022) foi de aproximadamente **492 Milhões**."
      ],
      "metadata": {
        "id": "0EWNiiTKr-Qq"
      }
    },
    {
      "cell_type": "markdown",
      "source": [
        "#### **Países com Mais Casos**"
      ],
      "metadata": {
        "id": "uSCOxt7xsHhr"
      }
    },
    {
      "cell_type": "code",
      "source": [
        "# países com o maior numero de casos\n",
        "dfp.loc[dfp.date == '2022-04-04',['location','total_cases']].sort_values('total_cases', ascending=False)[1:6]"
      ],
      "metadata": {
        "colab": {
          "base_uri": "https://localhost:8080/",
          "height": 206
        },
        "id": "cnzkWHQ7rpS2",
        "outputId": "24ad45bf-242b-4db9-daea-920b749ea6f9"
      },
      "execution_count": 99,
      "outputs": [
        {
          "output_type": "execute_result",
          "data": {
            "text/plain": [
              "             location  total_cases\n",
              "167245  United States   80179289.0\n",
              "74186           India   43029839.0\n",
              "22971          Brazil   30015357.0\n",
              "56929          France   26083223.0\n",
              "60756         Germany   21706329.0"
            ],
            "text/html": [
              "\n",
              "  <div id=\"df-f3c44be9-da1f-44e3-a792-20400ac954c0\">\n",
              "    <div class=\"colab-df-container\">\n",
              "      <div>\n",
              "<style scoped>\n",
              "    .dataframe tbody tr th:only-of-type {\n",
              "        vertical-align: middle;\n",
              "    }\n",
              "\n",
              "    .dataframe tbody tr th {\n",
              "        vertical-align: top;\n",
              "    }\n",
              "\n",
              "    .dataframe thead th {\n",
              "        text-align: right;\n",
              "    }\n",
              "</style>\n",
              "<table border=\"1\" class=\"dataframe\">\n",
              "  <thead>\n",
              "    <tr style=\"text-align: right;\">\n",
              "      <th></th>\n",
              "      <th>location</th>\n",
              "      <th>total_cases</th>\n",
              "    </tr>\n",
              "  </thead>\n",
              "  <tbody>\n",
              "    <tr>\n",
              "      <th>167245</th>\n",
              "      <td>United States</td>\n",
              "      <td>80179289.0</td>\n",
              "    </tr>\n",
              "    <tr>\n",
              "      <th>74186</th>\n",
              "      <td>India</td>\n",
              "      <td>43029839.0</td>\n",
              "    </tr>\n",
              "    <tr>\n",
              "      <th>22971</th>\n",
              "      <td>Brazil</td>\n",
              "      <td>30015357.0</td>\n",
              "    </tr>\n",
              "    <tr>\n",
              "      <th>56929</th>\n",
              "      <td>France</td>\n",
              "      <td>26083223.0</td>\n",
              "    </tr>\n",
              "    <tr>\n",
              "      <th>60756</th>\n",
              "      <td>Germany</td>\n",
              "      <td>21706329.0</td>\n",
              "    </tr>\n",
              "  </tbody>\n",
              "</table>\n",
              "</div>\n",
              "      <button class=\"colab-df-convert\" onclick=\"convertToInteractive('df-f3c44be9-da1f-44e3-a792-20400ac954c0')\"\n",
              "              title=\"Convert this dataframe to an interactive table.\"\n",
              "              style=\"display:none;\">\n",
              "        \n",
              "  <svg xmlns=\"http://www.w3.org/2000/svg\" height=\"24px\"viewBox=\"0 0 24 24\"\n",
              "       width=\"24px\">\n",
              "    <path d=\"M0 0h24v24H0V0z\" fill=\"none\"/>\n",
              "    <path d=\"M18.56 5.44l.94 2.06.94-2.06 2.06-.94-2.06-.94-.94-2.06-.94 2.06-2.06.94zm-11 1L8.5 8.5l.94-2.06 2.06-.94-2.06-.94L8.5 2.5l-.94 2.06-2.06.94zm10 10l.94 2.06.94-2.06 2.06-.94-2.06-.94-.94-2.06-.94 2.06-2.06.94z\"/><path d=\"M17.41 7.96l-1.37-1.37c-.4-.4-.92-.59-1.43-.59-.52 0-1.04.2-1.43.59L10.3 9.45l-7.72 7.72c-.78.78-.78 2.05 0 2.83L4 21.41c.39.39.9.59 1.41.59.51 0 1.02-.2 1.41-.59l7.78-7.78 2.81-2.81c.8-.78.8-2.07 0-2.86zM5.41 20L4 18.59l7.72-7.72 1.47 1.35L5.41 20z\"/>\n",
              "  </svg>\n",
              "      </button>\n",
              "      \n",
              "  <style>\n",
              "    .colab-df-container {\n",
              "      display:flex;\n",
              "      flex-wrap:wrap;\n",
              "      gap: 12px;\n",
              "    }\n",
              "\n",
              "    .colab-df-convert {\n",
              "      background-color: #E8F0FE;\n",
              "      border: none;\n",
              "      border-radius: 50%;\n",
              "      cursor: pointer;\n",
              "      display: none;\n",
              "      fill: #1967D2;\n",
              "      height: 32px;\n",
              "      padding: 0 0 0 0;\n",
              "      width: 32px;\n",
              "    }\n",
              "\n",
              "    .colab-df-convert:hover {\n",
              "      background-color: #E2EBFA;\n",
              "      box-shadow: 0px 1px 2px rgba(60, 64, 67, 0.3), 0px 1px 3px 1px rgba(60, 64, 67, 0.15);\n",
              "      fill: #174EA6;\n",
              "    }\n",
              "\n",
              "    [theme=dark] .colab-df-convert {\n",
              "      background-color: #3B4455;\n",
              "      fill: #D2E3FC;\n",
              "    }\n",
              "\n",
              "    [theme=dark] .colab-df-convert:hover {\n",
              "      background-color: #434B5C;\n",
              "      box-shadow: 0px 1px 3px 1px rgba(0, 0, 0, 0.15);\n",
              "      filter: drop-shadow(0px 1px 2px rgba(0, 0, 0, 0.3));\n",
              "      fill: #FFFFFF;\n",
              "    }\n",
              "  </style>\n",
              "\n",
              "      <script>\n",
              "        const buttonEl =\n",
              "          document.querySelector('#df-f3c44be9-da1f-44e3-a792-20400ac954c0 button.colab-df-convert');\n",
              "        buttonEl.style.display =\n",
              "          google.colab.kernel.accessAllowed ? 'block' : 'none';\n",
              "\n",
              "        async function convertToInteractive(key) {\n",
              "          const element = document.querySelector('#df-f3c44be9-da1f-44e3-a792-20400ac954c0');\n",
              "          const dataTable =\n",
              "            await google.colab.kernel.invokeFunction('convertToInteractive',\n",
              "                                                     [key], {});\n",
              "          if (!dataTable) return;\n",
              "\n",
              "          const docLinkHtml = 'Like what you see? Visit the ' +\n",
              "            '<a target=\"_blank\" href=https://colab.research.google.com/notebooks/data_table.ipynb>data table notebook</a>'\n",
              "            + ' to learn more about interactive tables.';\n",
              "          element.innerHTML = '';\n",
              "          dataTable['output_type'] = 'display_data';\n",
              "          await google.colab.output.renderOutput(dataTable, element);\n",
              "          const docLink = document.createElement('div');\n",
              "          docLink.innerHTML = docLinkHtml;\n",
              "          element.appendChild(docLink);\n",
              "        }\n",
              "      </script>\n",
              "    </div>\n",
              "  </div>\n",
              "  "
            ]
          },
          "metadata": {},
          "execution_count": 99
        }
      ]
    },
    {
      "cell_type": "markdown",
      "source": [
        "acima, temos os **5 países com o maior número de casos do mundo.**Os Estados Unidos lideram essa lista com aproximadamente **80 Milhões** de casos, enquanto o Brasil possui **30 Milhões** de casos, ficando em terceiro lugar dessa lista até a respectiva data. "
      ],
      "metadata": {
        "id": "1ioXQbwktUZ7"
      }
    },
    {
      "cell_type": "code",
      "source": [
        "top_casos = dfp.loc[dfp.date == '2022-04-04',['location','total_cases']].sort_values('total_cases', ascending=False)[1:6]\n",
        "\n",
        "\n",
        "mycolor = ['#03045e','#023e8a','#023e8a','#023e8a','#023e8a']\n",
        "\n",
        "fig, ax = plt.subplots(figsize=(7,5), dpi=70)\n",
        "\n",
        "ax.spines['bottom'].set_visible(False)\n",
        "ax.spines['top'].set_visible(False)\n",
        "ax.spines['right'].set_visible(False)\n",
        "ax.spines['left'].set_visible(False)\n",
        "\n",
        "ax.set_yticklabels(labels=[], set_visible=False)\n",
        "ax.set_yticks(ticks=[])\n",
        "\n",
        "ax.bar('location', 'total_cases', data = top_casos, color=mycolor);\n",
        "\n",
        "ax.text(-0.45, 90000000,'Ranking de Casos',fontsize=20, fontweight='bold',color='#03045e')\n",
        "ax.text(-0.45, 85000000,'Países com maior numero de casos de COVID-19 no mundo.',fontsize=12, color='#03045e')\n",
        "\n",
        "ax.text(-0.25, 55000000,'80 Mi',fontsize=16, fontweight='bold', color='w')\n",
        "ax.text(0.825, 20000000,'43 Mi',fontsize=12, fontweight='semibold', color='w')\n",
        "ax.text(1.825, 11000000,'30 Mi',fontsize=12, fontweight='semibold', color='w')\n",
        "ax.text(2.825, 7500000,'26 Mi',fontsize=12, fontweight='semibold', color='w')\n",
        "ax.text(3.825, 6000000,'21 Mi',fontsize=12, fontweight='semibold', color='w')\n",
        "\n",
        "plt.tight_layout()"
      ],
      "metadata": {
        "colab": {
          "base_uri": "https://localhost:8080/",
          "height": 361
        },
        "id": "xCdroIHrs4RR",
        "outputId": "41ab4977-e71e-4b41-ab9c-e9e160671193"
      },
      "execution_count": 115,
      "outputs": [
        {
          "output_type": "display_data",
          "data": {
            "text/plain": [
              "<Figure size 490x350 with 1 Axes>"
            ],
            "image/png": "[encoded data removed]"
          },
          "metadata": {
            "needs_background": "light"
          }
        }
      ]
    },
    {
      "cell_type": "markdown",
      "source": [
        "#### **Países com Mais Casos em 7 dias**\n",
        "\n"
      ],
      "metadata": {
        "id": "3YdqMGhTwnqg"
      }
    },
    {
      "cell_type": "code",
      "source": [
        "# países com o maiores números de casos em 7 dias\n",
        "dfp.loc[dfp.date == '2022-04-04',['location','new_cases_smoothed']].sort_values('new_cases_smoothed', ascending=False)[1:6]"
      ],
      "metadata": {
        "colab": {
          "base_uri": "https://localhost:8080/",
          "height": 206
        },
        "id": "fDnjz7QOzo7t",
        "outputId": "84a9d06c-e89d-4874-c6ff-76268eb4910b"
      },
      "execution_count": 95,
      "outputs": [
        {
          "output_type": "execute_result",
          "data": {
            "text/plain": [
              "              location  new_cases_smoothed\n",
              "148749     South Korea          273853.286\n",
              "56929           France          138749.714\n",
              "173124         Vietnam           84599.429\n",
              "80375            Italy           68694.429\n",
              "166440  United Kingdom           65324.429"
            ],
            "text/html": [
              "\n",
              "  <div id=\"df-2d361775-3825-4b1f-9cec-1c39afbde76c\">\n",
              "    <div class=\"colab-df-container\">\n",
              "      <div>\n",
              "<style scoped>\n",
              "    .dataframe tbody tr th:only-of-type {\n",
              "        vertical-align: middle;\n",
              "    }\n",
              "\n",
              "    .dataframe tbody tr th {\n",
              "        vertical-align: top;\n",
              "    }\n",
              "\n",
              "    .dataframe thead th {\n",
              "        text-align: right;\n",
              "    }\n",
              "</style>\n",
              "<table border=\"1\" class=\"dataframe\">\n",
              "  <thead>\n",
              "    <tr style=\"text-align: right;\">\n",
              "      <th></th>\n",
              "      <th>location</th>\n",
              "      <th>new_cases_smoothed</th>\n",
              "    </tr>\n",
              "  </thead>\n",
              "  <tbody>\n",
              "    <tr>\n",
              "      <th>148749</th>\n",
              "      <td>South Korea</td>\n",
              "      <td>273853.286</td>\n",
              "    </tr>\n",
              "    <tr>\n",
              "      <th>56929</th>\n",
              "      <td>France</td>\n",
              "      <td>138749.714</td>\n",
              "    </tr>\n",
              "    <tr>\n",
              "      <th>173124</th>\n",
              "      <td>Vietnam</td>\n",
              "      <td>84599.429</td>\n",
              "    </tr>\n",
              "    <tr>\n",
              "      <th>80375</th>\n",
              "      <td>Italy</td>\n",
              "      <td>68694.429</td>\n",
              "    </tr>\n",
              "    <tr>\n",
              "      <th>166440</th>\n",
              "      <td>United Kingdom</td>\n",
              "      <td>65324.429</td>\n",
              "    </tr>\n",
              "  </tbody>\n",
              "</table>\n",
              "</div>\n",
              "      <button class=\"colab-df-convert\" onclick=\"convertToInteractive('df-2d361775-3825-4b1f-9cec-1c39afbde76c')\"\n",
              "              title=\"Convert this dataframe to an interactive table.\"\n",
              "              style=\"display:none;\">\n",
              "        \n",
              "  <svg xmlns=\"http://www.w3.org/2000/svg\" height=\"24px\"viewBox=\"0 0 24 24\"\n",
              "       width=\"24px\">\n",
              "    <path d=\"M0 0h24v24H0V0z\" fill=\"none\"/>\n",
              "    <path d=\"M18.56 5.44l.94 2.06.94-2.06 2.06-.94-2.06-.94-.94-2.06-.94 2.06-2.06.94zm-11 1L8.5 8.5l.94-2.06 2.06-.94-2.06-.94L8.5 2.5l-.94 2.06-2.06.94zm10 10l.94 2.06.94-2.06 2.06-.94-2.06-.94-.94-2.06-.94 2.06-2.06.94z\"/><path d=\"M17.41 7.96l-1.37-1.37c-.4-.4-.92-.59-1.43-.59-.52 0-1.04.2-1.43.59L10.3 9.45l-7.72 7.72c-.78.78-.78 2.05 0 2.83L4 21.41c.39.39.9.59 1.41.59.51 0 1.02-.2 1.41-.59l7.78-7.78 2.81-2.81c.8-.78.8-2.07 0-2.86zM5.41 20L4 18.59l7.72-7.72 1.47 1.35L5.41 20z\"/>\n",
              "  </svg>\n",
              "      </button>\n",
              "      \n",
              "  <style>\n",
              "    .colab-df-container {\n",
              "      display:flex;\n",
              "      flex-wrap:wrap;\n",
              "      gap: 12px;\n",
              "    }\n",
              "\n",
              "    .colab-df-convert {\n",
              "      background-color: #E8F0FE;\n",
              "      border: none;\n",
              "      border-radius: 50%;\n",
              "      cursor: pointer;\n",
              "      display: none;\n",
              "      fill: #1967D2;\n",
              "      height: 32px;\n",
              "      padding: 0 0 0 0;\n",
              "      width: 32px;\n",
              "    }\n",
              "\n",
              "    .colab-df-convert:hover {\n",
              "      background-color: #E2EBFA;\n",
              "      box-shadow: 0px 1px 2px rgba(60, 64, 67, 0.3), 0px 1px 3px 1px rgba(60, 64, 67, 0.15);\n",
              "      fill: #174EA6;\n",
              "    }\n",
              "\n",
              "    [theme=dark] .colab-df-convert {\n",
              "      background-color: #3B4455;\n",
              "      fill: #D2E3FC;\n",
              "    }\n",
              "\n",
              "    [theme=dark] .colab-df-convert:hover {\n",
              "      background-color: #434B5C;\n",
              "      box-shadow: 0px 1px 3px 1px rgba(0, 0, 0, 0.15);\n",
              "      filter: drop-shadow(0px 1px 2px rgba(0, 0, 0, 0.3));\n",
              "      fill: #FFFFFF;\n",
              "    }\n",
              "  </style>\n",
              "\n",
              "      <script>\n",
              "        const buttonEl =\n",
              "          document.querySelector('#df-2d361775-3825-4b1f-9cec-1c39afbde76c button.colab-df-convert');\n",
              "        buttonEl.style.display =\n",
              "          google.colab.kernel.accessAllowed ? 'block' : 'none';\n",
              "\n",
              "        async function convertToInteractive(key) {\n",
              "          const element = document.querySelector('#df-2d361775-3825-4b1f-9cec-1c39afbde76c');\n",
              "          const dataTable =\n",
              "            await google.colab.kernel.invokeFunction('convertToInteractive',\n",
              "                                                     [key], {});\n",
              "          if (!dataTable) return;\n",
              "\n",
              "          const docLinkHtml = 'Like what you see? Visit the ' +\n",
              "            '<a target=\"_blank\" href=https://colab.research.google.com/notebooks/data_table.ipynb>data table notebook</a>'\n",
              "            + ' to learn more about interactive tables.';\n",
              "          element.innerHTML = '';\n",
              "          dataTable['output_type'] = 'display_data';\n",
              "          await google.colab.output.renderOutput(dataTable, element);\n",
              "          const docLink = document.createElement('div');\n",
              "          docLink.innerHTML = docLinkHtml;\n",
              "          element.appendChild(docLink);\n",
              "        }\n",
              "      </script>\n",
              "    </div>\n",
              "  </div>\n",
              "  "
            ]
          },
          "metadata": {},
          "execution_count": 95
        }
      ]
    },
    {
      "cell_type": "code",
      "source": [
        "dev = pd.read_csv('https://covid.ourworldindata.org/data/owid-covid-data.csv', index_col=\"date\", parse_dates=True)\n",
        "\n",
        "df_kor = dev.loc[dev.location == 'South Korea'].sort_values(by=\"new_cases_smoothed\")\n",
        "df_fra = dev.loc[dev.location == 'France'].sort_values(by=\"new_cases_smoothed\")\n",
        "df_vie = dev.loc[dev.location == 'Vietnam'].sort_values(by=\"new_cases_smoothed\")\n",
        "\n",
        "fig, ax = plt.subplots(nrows=1, ncols=1, figsize=(18,6), dpi=72)\n",
        "df_kor.loc['2022-03-01':'2022-04-04',\"new_cases_smoothed\"].plot(kind=\"line\", ax=ax, label=\"KOR\",color=\"#03045e\", linewidth=2)\n",
        "df_fra.loc['2022-03-01':'2022-04-04',\"new_cases_smoothed\"].plot(kind='line', ax=ax, linewidth=2, label=\"FRA\",color=\"#0B5394\")\n",
        "df_vie.loc['2022-03-01':'2022-04-04',\"new_cases_smoothed\"].plot(kind='line', ax=ax,linewidth=2, label=\"VIE\",color=\"#88A3CE\")\n",
        "\n",
        "ax.set_xlabel(\"\")\n",
        "\n",
        "ax.spines['top'].set_visible(False)\n",
        "ax.spines['right'].set_visible(False)\n",
        "ax.spines['left'].set_visible(False)\n",
        "\n",
        "ax.text(0, 1.2,'Média Móvel de novos Casos em 7 dias',transform=ax.transAxes, fontsize=24, fontweight='bold',color='#58555A')\n",
        "ax.text(0, 1.12,'Média móvel dos 3 países com mais Casos em 7 dias',transform=ax.transAxes,fontsize=12, color='#76777e')\n",
        "\n",
        "plt.text(0.97, 0.55,  \"KOR\", transform=ax.transAxes, fontsize=12, fontweight='bold', color=\"#03045e\")\n",
        "plt.text(0.97, 0.2,  \"FRA\", transform=ax.transAxes, fontsize=12, fontweight='bold', color=\"#0B5394\")\n",
        "plt.text(0.97, 0.3,  \"VIE\", transform=ax.transAxes, fontsize=12, fontweight='bold', color=\"#88A3CE\")\n",
        "\n",
        "\n",
        "\n",
        "\n",
        "plt.show()"
      ],
      "metadata": {
        "colab": {
          "base_uri": "https://localhost:8080/",
          "height": 447
        },
        "id": "ebHp35F0wm7K",
        "outputId": "fc3ccad6-8f1a-4b29-ec4f-4882359f49dc"
      },
      "execution_count": 114,
      "outputs": [
        {
          "output_type": "display_data",
          "data": {
            "text/plain": [
              "<Figure size 1296x432 with 1 Axes>"
            ],
            "image/png": "[encoded data removed]"
          },
          "metadata": {
            "needs_background": "light"
          }
        }
      ]
    },
    {
      "cell_type": "markdown",
      "source": [
        "Depois de um período de intensas flexibilizações nas medidas sanitárias de prevenção ao novo coronavírus, diversos países europeus e asiáticos estão registrando um aumento considerável de casos da doença, o que desperta novamente a preocupação sobre o ressurgimento de uma nova onda da Covid.\n",
        "\n",
        "Na Ásia, a China enfrenta surtos isolados em localidades do norte do país e o governo já age com todo o rigor para inibir a disseminação para o restante do território continental.\n",
        "\n",
        "**Coreia do Sul registra recorde de casos e é o país com mais contaminações**\n",
        "\n",
        "O país está perto do pico da onda de contágios provocada pela variante Ômicron. De acordo com os dados da análise, a Coreia do Sul é o país com mais casos registrados nos últimos sete dias no mundo.\n",
        "Porém, por conta da vacinação, os casos graves e mortes permanecem em níveis reduzidos no país de 52 milhões de habitantes, onde a maioria dos adultos está com o esquema de vacinação completo e com dose de reforço, segundo o governo.\n",
        "\n",
        "Essa pesquesa indica o avanço de uma nova onda do coronavírus provavelmente impulsionada pelo avanço da sublinhagem BA.2, já dominante nos EUA e na Europa. \n",
        "\n",
        "**Nova onda na Europa?**\n",
        "\n",
        "Com as análises gráficas preliminares, podemos observar que a Europa pode estar prestes a passar por uma nova onda de Covid-19, abaixo será realizada a análise de óbitos devido a este aumento de casos.\n",
        "\n",
        "A alta no número de casos em alguns países está sendo relacionada, principalmente, à redução das medidas de proteção aplicadas nas últimas semanas e ao avanço da variante BA.2 da ômicron, apontada como mais infecciosa por estudos científicos preliminares."
      ],
      "metadata": {
        "id": "09WYLTe87msS"
      }
    },
    {
      "cell_type": "markdown",
      "source": [
        "### **Mortes**\n",
        "Nesta etapa será realizado a análise do número de mortes mundialmente e serão mostrados os países que mais foram afetados em relação as mortes."
      ],
      "metadata": {
        "id": "1MPxisnDtuIu"
      }
    },
    {
      "cell_type": "markdown",
      "source": [
        "#### **Visão Geral**"
      ],
      "metadata": {
        "id": "B6J9J1-1t-V-"
      }
    },
    {
      "cell_type": "code",
      "source": [
        "dfp.loc[dfp.date == '2022-04-04',['location','total_deaths']].sort_values('total_deaths', ascending=False)[:1]"
      ],
      "metadata": {
        "colab": {
          "base_uri": "https://localhost:8080/",
          "height": 81
        },
        "id": "vHD7FhDjtKNU",
        "outputId": "83176fdd-cdf4-43ca-a84c-42e81a4f37c3"
      },
      "execution_count": 18,
      "outputs": [
        {
          "output_type": "execute_result",
          "data": {
            "text/plain": [
              "       location  total_deaths\n",
              "174463    World     6154903.0"
            ],
            "text/html": [
              "\n",
              "  <div id=\"df-d6709650-5a12-4afd-8d46-ee047ac7424f\">\n",
              "    <div class=\"colab-df-container\">\n",
              "      <div>\n",
              "<style scoped>\n",
              "    .dataframe tbody tr th:only-of-type {\n",
              "        vertical-align: middle;\n",
              "    }\n",
              "\n",
              "    .dataframe tbody tr th {\n",
              "        vertical-align: top;\n",
              "    }\n",
              "\n",
              "    .dataframe thead th {\n",
              "        text-align: right;\n",
              "    }\n",
              "</style>\n",
              "<table border=\"1\" class=\"dataframe\">\n",
              "  <thead>\n",
              "    <tr style=\"text-align: right;\">\n",
              "      <th></th>\n",
              "      <th>location</th>\n",
              "      <th>total_deaths</th>\n",
              "    </tr>\n",
              "  </thead>\n",
              "  <tbody>\n",
              "    <tr>\n",
              "      <th>174463</th>\n",
              "      <td>World</td>\n",
              "      <td>6154903.0</td>\n",
              "    </tr>\n",
              "  </tbody>\n",
              "</table>\n",
              "</div>\n",
              "      <button class=\"colab-df-convert\" onclick=\"convertToInteractive('df-d6709650-5a12-4afd-8d46-ee047ac7424f')\"\n",
              "              title=\"Convert this dataframe to an interactive table.\"\n",
              "              style=\"display:none;\">\n",
              "        \n",
              "  <svg xmlns=\"http://www.w3.org/2000/svg\" height=\"24px\"viewBox=\"0 0 24 24\"\n",
              "       width=\"24px\">\n",
              "    <path d=\"M0 0h24v24H0V0z\" fill=\"none\"/>\n",
              "    <path d=\"M18.56 5.44l.94 2.06.94-2.06 2.06-.94-2.06-.94-.94-2.06-.94 2.06-2.06.94zm-11 1L8.5 8.5l.94-2.06 2.06-.94-2.06-.94L8.5 2.5l-.94 2.06-2.06.94zm10 10l.94 2.06.94-2.06 2.06-.94-2.06-.94-.94-2.06-.94 2.06-2.06.94z\"/><path d=\"M17.41 7.96l-1.37-1.37c-.4-.4-.92-.59-1.43-.59-.52 0-1.04.2-1.43.59L10.3 9.45l-7.72 7.72c-.78.78-.78 2.05 0 2.83L4 21.41c.39.39.9.59 1.41.59.51 0 1.02-.2 1.41-.59l7.78-7.78 2.81-2.81c.8-.78.8-2.07 0-2.86zM5.41 20L4 18.59l7.72-7.72 1.47 1.35L5.41 20z\"/>\n",
              "  </svg>\n",
              "      </button>\n",
              "      \n",
              "  <style>\n",
              "    .colab-df-container {\n",
              "      display:flex;\n",
              "      flex-wrap:wrap;\n",
              "      gap: 12px;\n",
              "    }\n",
              "\n",
              "    .colab-df-convert {\n",
              "      background-color: #E8F0FE;\n",
              "      border: none;\n",
              "      border-radius: 50%;\n",
              "      cursor: pointer;\n",
              "      display: none;\n",
              "      fill: #1967D2;\n",
              "      height: 32px;\n",
              "      padding: 0 0 0 0;\n",
              "      width: 32px;\n",
              "    }\n",
              "\n",
              "    .colab-df-convert:hover {\n",
              "      background-color: #E2EBFA;\n",
              "      box-shadow: 0px 1px 2px rgba(60, 64, 67, 0.3), 0px 1px 3px 1px rgba(60, 64, 67, 0.15);\n",
              "      fill: #174EA6;\n",
              "    }\n",
              "\n",
              "    [theme=dark] .colab-df-convert {\n",
              "      background-color: #3B4455;\n",
              "      fill: #D2E3FC;\n",
              "    }\n",
              "\n",
              "    [theme=dark] .colab-df-convert:hover {\n",
              "      background-color: #434B5C;\n",
              "      box-shadow: 0px 1px 3px 1px rgba(0, 0, 0, 0.15);\n",
              "      filter: drop-shadow(0px 1px 2px rgba(0, 0, 0, 0.3));\n",
              "      fill: #FFFFFF;\n",
              "    }\n",
              "  </style>\n",
              "\n",
              "      <script>\n",
              "        const buttonEl =\n",
              "          document.querySelector('#df-d6709650-5a12-4afd-8d46-ee047ac7424f button.colab-df-convert');\n",
              "        buttonEl.style.display =\n",
              "          google.colab.kernel.accessAllowed ? 'block' : 'none';\n",
              "\n",
              "        async function convertToInteractive(key) {\n",
              "          const element = document.querySelector('#df-d6709650-5a12-4afd-8d46-ee047ac7424f');\n",
              "          const dataTable =\n",
              "            await google.colab.kernel.invokeFunction('convertToInteractive',\n",
              "                                                     [key], {});\n",
              "          if (!dataTable) return;\n",
              "\n",
              "          const docLinkHtml = 'Like what you see? Visit the ' +\n",
              "            '<a target=\"_blank\" href=https://colab.research.google.com/notebooks/data_table.ipynb>data table notebook</a>'\n",
              "            + ' to learn more about interactive tables.';\n",
              "          element.innerHTML = '';\n",
              "          dataTable['output_type'] = 'display_data';\n",
              "          await google.colab.output.renderOutput(dataTable, element);\n",
              "          const docLink = document.createElement('div');\n",
              "          docLink.innerHTML = docLinkHtml;\n",
              "          element.appendChild(docLink);\n",
              "        }\n",
              "      </script>\n",
              "    </div>\n",
              "  </div>\n",
              "  "
            ]
          },
          "metadata": {},
          "execution_count": 18
        }
      ]
    },
    {
      "cell_type": "markdown",
      "source": [
        "Com o código acima, podemos observar que no mundo o total de mortes até a respectiva data (04-04-2022) foi de aproximadamente **6,15 Milhões**."
      ],
      "metadata": {
        "id": "lhWh5IYSuIKU"
      }
    },
    {
      "cell_type": "markdown",
      "source": [
        "#### **Países com Mais Mortes**"
      ],
      "metadata": {
        "id": "sL1BBS22uJbu"
      }
    },
    {
      "cell_type": "code",
      "source": [
        "dfp.loc[dfp.date == '2022-04-04',['location','total_deaths']].sort_values('total_deaths', ascending=False)[1:6]"
      ],
      "metadata": {
        "colab": {
          "base_uri": "https://localhost:8080/",
          "height": 206
        },
        "id": "-hg6713uuRrk",
        "outputId": "1e96d46c-3979-43f3-ffd5-3f886cc6cacc"
      },
      "execution_count": 19,
      "outputs": [
        {
          "output_type": "execute_result",
          "data": {
            "text/plain": [
              "             location  total_deaths\n",
              "167245  United States      982099.0\n",
              "22971          Brazil      660570.0\n",
              "74186           India      521416.0\n",
              "132300         Russia      362581.0\n",
              "103948         Mexico      323235.0"
            ],
            "text/html": [
              "\n",
              "  <div id=\"df-3f2c8926-dd10-4ee1-95d3-1c18603f88d9\">\n",
              "    <div class=\"colab-df-container\">\n",
              "      <div>\n",
              "<style scoped>\n",
              "    .dataframe tbody tr th:only-of-type {\n",
              "        vertical-align: middle;\n",
              "    }\n",
              "\n",
              "    .dataframe tbody tr th {\n",
              "        vertical-align: top;\n",
              "    }\n",
              "\n",
              "    .dataframe thead th {\n",
              "        text-align: right;\n",
              "    }\n",
              "</style>\n",
              "<table border=\"1\" class=\"dataframe\">\n",
              "  <thead>\n",
              "    <tr style=\"text-align: right;\">\n",
              "      <th></th>\n",
              "      <th>location</th>\n",
              "      <th>total_deaths</th>\n",
              "    </tr>\n",
              "  </thead>\n",
              "  <tbody>\n",
              "    <tr>\n",
              "      <th>167245</th>\n",
              "      <td>United States</td>\n",
              "      <td>982099.0</td>\n",
              "    </tr>\n",
              "    <tr>\n",
              "      <th>22971</th>\n",
              "      <td>Brazil</td>\n",
              "      <td>660570.0</td>\n",
              "    </tr>\n",
              "    <tr>\n",
              "      <th>74186</th>\n",
              "      <td>India</td>\n",
              "      <td>521416.0</td>\n",
              "    </tr>\n",
              "    <tr>\n",
              "      <th>132300</th>\n",
              "      <td>Russia</td>\n",
              "      <td>362581.0</td>\n",
              "    </tr>\n",
              "    <tr>\n",
              "      <th>103948</th>\n",
              "      <td>Mexico</td>\n",
              "      <td>323235.0</td>\n",
              "    </tr>\n",
              "  </tbody>\n",
              "</table>\n",
              "</div>\n",
              "      <button class=\"colab-df-convert\" onclick=\"convertToInteractive('df-3f2c8926-dd10-4ee1-95d3-1c18603f88d9')\"\n",
              "              title=\"Convert this dataframe to an interactive table.\"\n",
              "              style=\"display:none;\">\n",
              "        \n",
              "  <svg xmlns=\"http://www.w3.org/2000/svg\" height=\"24px\"viewBox=\"0 0 24 24\"\n",
              "       width=\"24px\">\n",
              "    <path d=\"M0 0h24v24H0V0z\" fill=\"none\"/>\n",
              "    <path d=\"M18.56 5.44l.94 2.06.94-2.06 2.06-.94-2.06-.94-.94-2.06-.94 2.06-2.06.94zm-11 1L8.5 8.5l.94-2.06 2.06-.94-2.06-.94L8.5 2.5l-.94 2.06-2.06.94zm10 10l.94 2.06.94-2.06 2.06-.94-2.06-.94-.94-2.06-.94 2.06-2.06.94z\"/><path d=\"M17.41 7.96l-1.37-1.37c-.4-.4-.92-.59-1.43-.59-.52 0-1.04.2-1.43.59L10.3 9.45l-7.72 7.72c-.78.78-.78 2.05 0 2.83L4 21.41c.39.39.9.59 1.41.59.51 0 1.02-.2 1.41-.59l7.78-7.78 2.81-2.81c.8-.78.8-2.07 0-2.86zM5.41 20L4 18.59l7.72-7.72 1.47 1.35L5.41 20z\"/>\n",
              "  </svg>\n",
              "      </button>\n",
              "      \n",
              "  <style>\n",
              "    .colab-df-container {\n",
              "      display:flex;\n",
              "      flex-wrap:wrap;\n",
              "      gap: 12px;\n",
              "    }\n",
              "\n",
              "    .colab-df-convert {\n",
              "      background-color: #E8F0FE;\n",
              "      border: none;\n",
              "      border-radius: 50%;\n",
              "      cursor: pointer;\n",
              "      display: none;\n",
              "      fill: #1967D2;\n",
              "      height: 32px;\n",
              "      padding: 0 0 0 0;\n",
              "      width: 32px;\n",
              "    }\n",
              "\n",
              "    .colab-df-convert:hover {\n",
              "      background-color: #E2EBFA;\n",
              "      box-shadow: 0px 1px 2px rgba(60, 64, 67, 0.3), 0px 1px 3px 1px rgba(60, 64, 67, 0.15);\n",
              "      fill: #174EA6;\n",
              "    }\n",
              "\n",
              "    [theme=dark] .colab-df-convert {\n",
              "      background-color: #3B4455;\n",
              "      fill: #D2E3FC;\n",
              "    }\n",
              "\n",
              "    [theme=dark] .colab-df-convert:hover {\n",
              "      background-color: #434B5C;\n",
              "      box-shadow: 0px 1px 3px 1px rgba(0, 0, 0, 0.15);\n",
              "      filter: drop-shadow(0px 1px 2px rgba(0, 0, 0, 0.3));\n",
              "      fill: #FFFFFF;\n",
              "    }\n",
              "  </style>\n",
              "\n",
              "      <script>\n",
              "        const buttonEl =\n",
              "          document.querySelector('#df-3f2c8926-dd10-4ee1-95d3-1c18603f88d9 button.colab-df-convert');\n",
              "        buttonEl.style.display =\n",
              "          google.colab.kernel.accessAllowed ? 'block' : 'none';\n",
              "\n",
              "        async function convertToInteractive(key) {\n",
              "          const element = document.querySelector('#df-3f2c8926-dd10-4ee1-95d3-1c18603f88d9');\n",
              "          const dataTable =\n",
              "            await google.colab.kernel.invokeFunction('convertToInteractive',\n",
              "                                                     [key], {});\n",
              "          if (!dataTable) return;\n",
              "\n",
              "          const docLinkHtml = 'Like what you see? Visit the ' +\n",
              "            '<a target=\"_blank\" href=https://colab.research.google.com/notebooks/data_table.ipynb>data table notebook</a>'\n",
              "            + ' to learn more about interactive tables.';\n",
              "          element.innerHTML = '';\n",
              "          dataTable['output_type'] = 'display_data';\n",
              "          await google.colab.output.renderOutput(dataTable, element);\n",
              "          const docLink = document.createElement('div');\n",
              "          docLink.innerHTML = docLinkHtml;\n",
              "          element.appendChild(docLink);\n",
              "        }\n",
              "      </script>\n",
              "    </div>\n",
              "  </div>\n",
              "  "
            ]
          },
          "metadata": {},
          "execution_count": 19
        }
      ]
    },
    {
      "cell_type": "markdown",
      "source": [
        "Aqui acima, temos os **5 países com o maior número de mortes do mundo.** Os Estados Unidos lidera essa lista com aproximadamente **982 Mil** mortes, enquanto o Brasil está com **660 Mil**, ficando em segundo lugar dessa lista até a respectiva data. "
      ],
      "metadata": {
        "id": "cnXtCs-1uZAS"
      }
    },
    {
      "cell_type": "code",
      "source": [
        "top_mortes = dfp.loc[dfp.date == '2022-04-04',['location','total_deaths']].sort_values('total_deaths', ascending=False)[1:6]\n",
        "\n",
        "\n",
        "mycolor = ['#162942','#D9D9D9','#D9D9D9','#D9D9D9','#D9D9D9']\n",
        "\n",
        "fig, ax = plt.subplots(figsize=(8,6), dpi=70)\n",
        "\n",
        "ax.spines['bottom'].set_visible(False)\n",
        "ax.spines['top'].set_visible(False)\n",
        "ax.spines['right'].set_visible(False)\n",
        "ax.spines['left'].set_visible(False)\n",
        "\n",
        "ax.set_yticklabels(labels=[], set_visible=False)\n",
        "ax.set_yticks(ticks=[])\n",
        "\n",
        "ax.bar('location', 'total_deaths', data = top_mortes, color=mycolor);\n",
        "\n",
        "ax.text(-0.45, 1200000,'Ranking de Mortes',fontsize=20, fontweight='bold',color='#58555A')\n",
        "ax.text(-0.45, 1050000,'Países com maior numero de mortes por COVID-19 no mundo.',fontsize=12, color='#76777e')\n",
        "\n",
        "ax.text(-0.31, 550000,'982 Mil',fontsize=16, fontweight='bold', color='w')\n",
        "ax.text(0.78, 280000,'660 Mil',fontsize=12, fontweight='semibold', color='#58555A')\n",
        "ax.text(1.78, 240000,'521 Mil',fontsize=12, fontweight='semibold', color='#58555A')\n",
        "ax.text(2.78, 150000,'362 Mil',fontsize=12, fontweight='semibold', color='#58555A')\n",
        "ax.text(3.78, 120000,'323 Mil',fontsize=12, fontweight='semibold', color='#58555A')\n",
        "\n",
        "plt.tight_layout()"
      ],
      "metadata": {
        "colab": {
          "base_uri": "https://localhost:8080/",
          "height": 429
        },
        "id": "cZWDRTkFuYgy",
        "outputId": "28dacf7a-8e50-4df4-94f9-9970a2065748"
      },
      "execution_count": 96,
      "outputs": [
        {
          "output_type": "display_data",
          "data": {
            "text/plain": [
              "<Figure size 560x420 with 1 Axes>"
            ],
            "image/png": "[encoded data removed]"
          },
          "metadata": {
            "needs_background": "light"
          }
        }
      ]
    },
    {
      "cell_type": "markdown",
      "source": [
        "#### **Média Móvel de Mortes**\n",
        "\n",
        "Estados Unidos, índia e Brasil lideram ranking de mortes por Covid-19."
      ],
      "metadata": {
        "id": "Q4q1-FfLu1O0"
      }
    },
    {
      "cell_type": "code",
      "source": [
        "dev = pd.read_csv('https://covid.ourworldindata.org/data/owid-covid-data.csv', index_col=\"date\", parse_dates=True)\n",
        "\n",
        "df_br = dev.loc[dev.location == 'Brazil'].sort_values(by=\"new_deaths_smoothed\")\n",
        "df_us = dev.loc[dev.location == 'United States'].sort_values(by=\"new_deaths_smoothed\")\n",
        "df_ind = dev.loc[dev.location == 'India'].sort_values(by=\"new_deaths_smoothed\")\n",
        "\n",
        "fig, ax = plt.subplots(nrows=1, ncols=1, figsize=(18,6), dpi=72)\n",
        "df_br.loc['2020-03-26':'2022-04-04',\"new_deaths_smoothed\"].plot(kind=\"line\", ax=ax, label=\"BRA\",color=\"#88A3CE\", linewidth=2)\n",
        "df_us.loc['2020-02-26':'2022-04-04',\"new_deaths_smoothed\"].plot(kind='line', ax=ax, linewidth=2, label=\"USA\",color=\"#162942\")\n",
        "df_ind.loc['2020-02-26':'2022-04-04',\"new_deaths_smoothed\"].plot(kind='line', ax=ax,linewidth=2, label=\"IND\",color=\"#0B5394\")\n",
        "\n",
        "ax.set_xlabel(\"\")\n",
        "\n",
        "ax.spines['top'].set_visible(False)\n",
        "ax.spines['right'].set_visible(False)\n",
        "ax.spines['left'].set_visible(False)\n",
        "\n",
        "ax.text(0, 1.2,'Média Móvel de Mortos',transform=ax.transAxes, fontsize=24, fontweight='bold',color='#58555A')\n",
        "ax.text(0, 1.12,'Média móvel dos 3 países com mais mortes por COVID-19',transform=ax.transAxes,fontsize=12, color='#76777e')\n",
        "\n",
        "\n",
        "plt.text(0.97, 0.2,  \"BRA\", transform=ax.transAxes, fontsize=12, fontweight='bold', color=\"#88A3CE\")\n",
        "plt.text(0.97, 0.55,  \"USA\", transform=ax.transAxes, fontsize=12, fontweight='bold', color=\"#162942\")\n",
        "plt.text(0.97, 0.3,  \"IND\", transform=ax.transAxes, fontsize=12, fontweight='bold', color=\"#0B5394\")\n",
        "\n",
        "\n",
        "\n",
        "\n",
        "plt.show()"
      ],
      "metadata": {
        "colab": {
          "base_uri": "https://localhost:8080/",
          "height": 439
        },
        "id": "At7LjmSyu2FE",
        "outputId": "088b993a-8c71-4c07-b13b-92479c940008"
      },
      "execution_count": 28,
      "outputs": [
        {
          "output_type": "display_data",
          "data": {
            "text/plain": [
              "<Figure size 1296x432 with 1 Axes>"
            ],
            "image/png": "[encoded data removed]"
          },
          "metadata": {
            "needs_background": "light"
          }
        }
      ]
    },
    {
      "cell_type": "markdown",
      "source": [
        "#### **Relação entre Mortes e Casos**\n",
        "\n",
        "Essa seção é apenas uma curiosidade para mostrar quantos % dos casos de COVID-19 terminaram em mortes até a respectiva data."
      ],
      "metadata": {
        "id": "oxcRC9fOzK4s"
      }
    },
    {
      "cell_type": "code",
      "source": [
        "print(f'{(6154903.0 / 492342018.0 * 100):2f}%')"
      ],
      "metadata": {
        "colab": {
          "base_uri": "https://localhost:8080/"
        },
        "id": "DHb0NNKrzOiO",
        "outputId": "5ea25161-1454-40ad-bd2e-87753f99b3ef"
      },
      "execution_count": 29,
      "outputs": [
        {
          "output_type": "stream",
          "name": "stdout",
          "text": [
            "1.250128%\n"
          ]
        }
      ]
    },
    {
      "cell_type": "markdown",
      "source": [
        "#### **Mortes no período de 7 dias**\n",
        "\n",
        "Os estados unidos lideram a lista de mortes no período de 7 dias, seguidos pela Coréia do Sul, Rússia e Brasil."
      ],
      "metadata": {
        "id": "LAJdHHgENeUY"
      }
    },
    {
      "cell_type": "code",
      "source": [
        "# países com o maior numero de casos\n",
        "dfp.loc[dfp.date == '2022-04-04',['location','new_deaths_smoothed']].sort_values('new_deaths_smoothed', ascending=False)[1:6]"
      ],
      "metadata": {
        "colab": {
          "base_uri": "https://localhost:8080/",
          "height": 206
        },
        "id": "mDuagmzEOxT4",
        "outputId": "3bf5c9d9-b481-427e-de5f-7f2476513bca"
      },
      "execution_count": 92,
      "outputs": [
        {
          "output_type": "execute_result",
          "data": {
            "text/plain": [
              "              location  new_deaths_smoothed\n",
              "167245   United States              593.000\n",
              "148749     South Korea              319.857\n",
              "132300          Russia              319.143\n",
              "22971           Brazil              191.857\n",
              "166440  United Kingdom              158.571"
            ],
            "text/html": [
              "\n",
              "  <div id=\"df-97fe715f-15f0-453b-815b-01e0c28e936e\">\n",
              "    <div class=\"colab-df-container\">\n",
              "      <div>\n",
              "<style scoped>\n",
              "    .dataframe tbody tr th:only-of-type {\n",
              "        vertical-align: middle;\n",
              "    }\n",
              "\n",
              "    .dataframe tbody tr th {\n",
              "        vertical-align: top;\n",
              "    }\n",
              "\n",
              "    .dataframe thead th {\n",
              "        text-align: right;\n",
              "    }\n",
              "</style>\n",
              "<table border=\"1\" class=\"dataframe\">\n",
              "  <thead>\n",
              "    <tr style=\"text-align: right;\">\n",
              "      <th></th>\n",
              "      <th>location</th>\n",
              "      <th>new_deaths_smoothed</th>\n",
              "    </tr>\n",
              "  </thead>\n",
              "  <tbody>\n",
              "    <tr>\n",
              "      <th>167245</th>\n",
              "      <td>United States</td>\n",
              "      <td>593.000</td>\n",
              "    </tr>\n",
              "    <tr>\n",
              "      <th>148749</th>\n",
              "      <td>South Korea</td>\n",
              "      <td>319.857</td>\n",
              "    </tr>\n",
              "    <tr>\n",
              "      <th>132300</th>\n",
              "      <td>Russia</td>\n",
              "      <td>319.143</td>\n",
              "    </tr>\n",
              "    <tr>\n",
              "      <th>22971</th>\n",
              "      <td>Brazil</td>\n",
              "      <td>191.857</td>\n",
              "    </tr>\n",
              "    <tr>\n",
              "      <th>166440</th>\n",
              "      <td>United Kingdom</td>\n",
              "      <td>158.571</td>\n",
              "    </tr>\n",
              "  </tbody>\n",
              "</table>\n",
              "</div>\n",
              "      <button class=\"colab-df-convert\" onclick=\"convertToInteractive('df-97fe715f-15f0-453b-815b-01e0c28e936e')\"\n",
              "              title=\"Convert this dataframe to an interactive table.\"\n",
              "              style=\"display:none;\">\n",
              "        \n",
              "  <svg xmlns=\"http://www.w3.org/2000/svg\" height=\"24px\"viewBox=\"0 0 24 24\"\n",
              "       width=\"24px\">\n",
              "    <path d=\"M0 0h24v24H0V0z\" fill=\"none\"/>\n",
              "    <path d=\"M18.56 5.44l.94 2.06.94-2.06 2.06-.94-2.06-.94-.94-2.06-.94 2.06-2.06.94zm-11 1L8.5 8.5l.94-2.06 2.06-.94-2.06-.94L8.5 2.5l-.94 2.06-2.06.94zm10 10l.94 2.06.94-2.06 2.06-.94-2.06-.94-.94-2.06-.94 2.06-2.06.94z\"/><path d=\"M17.41 7.96l-1.37-1.37c-.4-.4-.92-.59-1.43-.59-.52 0-1.04.2-1.43.59L10.3 9.45l-7.72 7.72c-.78.78-.78 2.05 0 2.83L4 21.41c.39.39.9.59 1.41.59.51 0 1.02-.2 1.41-.59l7.78-7.78 2.81-2.81c.8-.78.8-2.07 0-2.86zM5.41 20L4 18.59l7.72-7.72 1.47 1.35L5.41 20z\"/>\n",
              "  </svg>\n",
              "      </button>\n",
              "      \n",
              "  <style>\n",
              "    .colab-df-container {\n",
              "      display:flex;\n",
              "      flex-wrap:wrap;\n",
              "      gap: 12px;\n",
              "    }\n",
              "\n",
              "    .colab-df-convert {\n",
              "      background-color: #E8F0FE;\n",
              "      border: none;\n",
              "      border-radius: 50%;\n",
              "      cursor: pointer;\n",
              "      display: none;\n",
              "      fill: #1967D2;\n",
              "      height: 32px;\n",
              "      padding: 0 0 0 0;\n",
              "      width: 32px;\n",
              "    }\n",
              "\n",
              "    .colab-df-convert:hover {\n",
              "      background-color: #E2EBFA;\n",
              "      box-shadow: 0px 1px 2px rgba(60, 64, 67, 0.3), 0px 1px 3px 1px rgba(60, 64, 67, 0.15);\n",
              "      fill: #174EA6;\n",
              "    }\n",
              "\n",
              "    [theme=dark] .colab-df-convert {\n",
              "      background-color: #3B4455;\n",
              "      fill: #D2E3FC;\n",
              "    }\n",
              "\n",
              "    [theme=dark] .colab-df-convert:hover {\n",
              "      background-color: #434B5C;\n",
              "      box-shadow: 0px 1px 3px 1px rgba(0, 0, 0, 0.15);\n",
              "      filter: drop-shadow(0px 1px 2px rgba(0, 0, 0, 0.3));\n",
              "      fill: #FFFFFF;\n",
              "    }\n",
              "  </style>\n",
              "\n",
              "      <script>\n",
              "        const buttonEl =\n",
              "          document.querySelector('#df-97fe715f-15f0-453b-815b-01e0c28e936e button.colab-df-convert');\n",
              "        buttonEl.style.display =\n",
              "          google.colab.kernel.accessAllowed ? 'block' : 'none';\n",
              "\n",
              "        async function convertToInteractive(key) {\n",
              "          const element = document.querySelector('#df-97fe715f-15f0-453b-815b-01e0c28e936e');\n",
              "          const dataTable =\n",
              "            await google.colab.kernel.invokeFunction('convertToInteractive',\n",
              "                                                     [key], {});\n",
              "          if (!dataTable) return;\n",
              "\n",
              "          const docLinkHtml = 'Like what you see? Visit the ' +\n",
              "            '<a target=\"_blank\" href=https://colab.research.google.com/notebooks/data_table.ipynb>data table notebook</a>'\n",
              "            + ' to learn more about interactive tables.';\n",
              "          element.innerHTML = '';\n",
              "          dataTable['output_type'] = 'display_data';\n",
              "          await google.colab.output.renderOutput(dataTable, element);\n",
              "          const docLink = document.createElement('div');\n",
              "          docLink.innerHTML = docLinkHtml;\n",
              "          element.appendChild(docLink);\n",
              "        }\n",
              "      </script>\n",
              "    </div>\n",
              "  </div>\n",
              "  "
            ]
          },
          "metadata": {},
          "execution_count": 92
        }
      ]
    },
    {
      "cell_type": "code",
      "source": [
        "dev = pd.read_csv('https://covid.ourworldindata.org/data/owid-covid-data.csv', index_col=\"date\", parse_dates=True)\n",
        "\n",
        "df_usa = dev.loc[dev.location == 'United States'].sort_values(by='new_deaths_smoothed')\n",
        "df_kor = dev.loc[dev.location == 'South Korea'].sort_values(by='new_deaths_smoothed')\n",
        "df_rus = dev.loc[dev.location == 'Russia'].sort_values(by='new_deaths_smoothed')\n",
        "\n",
        "fig, ax = plt.subplots(nrows=1, ncols=1, figsize=(18,6), dpi=72)\n",
        "df_usa.loc['2022-03-28':'2022-04-04','new_deaths_smoothed'].plot(kind=\"line\", ax=ax, label=\"KOR\",color=\"#162942\", linewidth=2)\n",
        "df_kor.loc['2022-03-28':'2022-04-04','new_deaths_smoothed'].plot(kind='line', ax=ax, linewidth=2, label=\"FRA\",color=\"#0B5394\")\n",
        "df_rus.loc['2022-03-28':'2022-04-04','new_deaths_smoothed'].plot(kind='line', ax=ax,linewidth=2, label=\"VIE\",color=\"#88A3CE\")\n",
        "\n",
        "ax.set_xlabel(\"\")\n",
        "\n",
        "ax.spines['top'].set_visible(False)\n",
        "ax.spines['right'].set_visible(False)\n",
        "ax.spines['left'].set_visible(False)\n",
        "\n",
        "ax.text(0, 1.2,'Média Móvel de Mortes em 7 dias',transform=ax.transAxes, fontsize=24, fontweight='bold',color='#58555A')\n",
        "ax.text(0, 1.12,'Média móvel dos 3 países com mais Mortes em 7 dias',transform=ax.transAxes,fontsize=12, color='#76777e')\n",
        "\n",
        "plt.text(0.97, 0.55,  \"USA\", transform=ax.transAxes, fontsize=12, fontweight='bold', color=\"#162942\")\n",
        "plt.text(0.97, 0.2,  \"KOR\", transform=ax.transAxes, fontsize=12, fontweight='bold', color=\"#0B5394\")\n",
        "plt.text(0.97, 0.3,  \"RUS\", transform=ax.transAxes, fontsize=12, fontweight='bold', color=\"#88A3CE\")\n",
        "\n",
        "\n",
        "\n",
        "\n",
        "plt.show()"
      ],
      "metadata": {
        "colab": {
          "base_uri": "https://localhost:8080/",
          "height": 447
        },
        "id": "SK4XOGT-Na13",
        "outputId": "7b7c975b-92ab-4e82-cf54-01f3ae414743"
      },
      "execution_count": 91,
      "outputs": [
        {
          "output_type": "display_data",
          "data": {
            "text/plain": [
              "<Figure size 1296x432 with 1 Axes>"
            ],
            "image/png": "[encoded data removed]"
          },
          "metadata": {
            "needs_background": "light"
          }
        }
      ]
    },
    {
      "cell_type": "markdown",
      "source": [
        "**Apenas 1,25% dos casos terminaram em mortes por COVID-19.**"
      ],
      "metadata": {
        "id": "q57fAzMxzVSA"
      }
    },
    {
      "cell_type": "markdown",
      "source": [
        "## **Vacinação**\n",
        "\n"
      ],
      "metadata": {
        "id": "9jPOpcmIi5dK"
      }
    },
    {
      "cell_type": "markdown",
      "source": [
        "### **Visão Geral**\n",
        "\n",
        "Nessa seção será abordada uma análise da vacinação pelo mundo. encontrando dados em relação ao número total de vacinas aplicadas, o ranking dos países que mais aplicaram a primeira dose e os que mais tem pessoas completamentes vacinadas. "
      ],
      "metadata": {
        "id": "hjRm9Lmgi_gY"
      }
    },
    {
      "cell_type": "code",
      "source": [
        "df.loc[df.date == '2022-04-04',['location','total_vaccinations','population','people_fully_vaccinated']].sort_values('total_vaccinations', ascending=False)[:1]"
      ],
      "metadata": {
        "colab": {
          "base_uri": "https://localhost:8080/",
          "height": 81
        },
        "id": "I7atuz8QjUPy",
        "outputId": "7ba3ea05-11e8-4508-9a24-0ad0e6385e69"
      },
      "execution_count": 30,
      "outputs": [
        {
          "output_type": "execute_result",
          "data": {
            "text/plain": [
              "       location  total_vaccinations    population  people_fully_vaccinated\n",
              "174463    World        1.133031e+10  7.874966e+09             4.578958e+09"
            ],
            "text/html": [
              "\n",
              "  <div id=\"df-107c6b8f-9a54-4082-9a4c-f8ad967e6445\">\n",
              "    <div class=\"colab-df-container\">\n",
              "      <div>\n",
              "<style scoped>\n",
              "    .dataframe tbody tr th:only-of-type {\n",
              "        vertical-align: middle;\n",
              "    }\n",
              "\n",
              "    .dataframe tbody tr th {\n",
              "        vertical-align: top;\n",
              "    }\n",
              "\n",
              "    .dataframe thead th {\n",
              "        text-align: right;\n",
              "    }\n",
              "</style>\n",
              "<table border=\"1\" class=\"dataframe\">\n",
              "  <thead>\n",
              "    <tr style=\"text-align: right;\">\n",
              "      <th></th>\n",
              "      <th>location</th>\n",
              "      <th>total_vaccinations</th>\n",
              "      <th>population</th>\n",
              "      <th>people_fully_vaccinated</th>\n",
              "    </tr>\n",
              "  </thead>\n",
              "  <tbody>\n",
              "    <tr>\n",
              "      <th>174463</th>\n",
              "      <td>World</td>\n",
              "      <td>1.133031e+10</td>\n",
              "      <td>7.874966e+09</td>\n",
              "      <td>4.578958e+09</td>\n",
              "    </tr>\n",
              "  </tbody>\n",
              "</table>\n",
              "</div>\n",
              "      <button class=\"colab-df-convert\" onclick=\"convertToInteractive('df-107c6b8f-9a54-4082-9a4c-f8ad967e6445')\"\n",
              "              title=\"Convert this dataframe to an interactive table.\"\n",
              "              style=\"display:none;\">\n",
              "        \n",
              "  <svg xmlns=\"http://www.w3.org/2000/svg\" height=\"24px\"viewBox=\"0 0 24 24\"\n",
              "       width=\"24px\">\n",
              "    <path d=\"M0 0h24v24H0V0z\" fill=\"none\"/>\n",
              "    <path d=\"M18.56 5.44l.94 2.06.94-2.06 2.06-.94-2.06-.94-.94-2.06-.94 2.06-2.06.94zm-11 1L8.5 8.5l.94-2.06 2.06-.94-2.06-.94L8.5 2.5l-.94 2.06-2.06.94zm10 10l.94 2.06.94-2.06 2.06-.94-2.06-.94-.94-2.06-.94 2.06-2.06.94z\"/><path d=\"M17.41 7.96l-1.37-1.37c-.4-.4-.92-.59-1.43-.59-.52 0-1.04.2-1.43.59L10.3 9.45l-7.72 7.72c-.78.78-.78 2.05 0 2.83L4 21.41c.39.39.9.59 1.41.59.51 0 1.02-.2 1.41-.59l7.78-7.78 2.81-2.81c.8-.78.8-2.07 0-2.86zM5.41 20L4 18.59l7.72-7.72 1.47 1.35L5.41 20z\"/>\n",
              "  </svg>\n",
              "      </button>\n",
              "      \n",
              "  <style>\n",
              "    .colab-df-container {\n",
              "      display:flex;\n",
              "      flex-wrap:wrap;\n",
              "      gap: 12px;\n",
              "    }\n",
              "\n",
              "    .colab-df-convert {\n",
              "      background-color: #E8F0FE;\n",
              "      border: none;\n",
              "      border-radius: 50%;\n",
              "      cursor: pointer;\n",
              "      display: none;\n",
              "      fill: #1967D2;\n",
              "      height: 32px;\n",
              "      padding: 0 0 0 0;\n",
              "      width: 32px;\n",
              "    }\n",
              "\n",
              "    .colab-df-convert:hover {\n",
              "      background-color: #E2EBFA;\n",
              "      box-shadow: 0px 1px 2px rgba(60, 64, 67, 0.3), 0px 1px 3px 1px rgba(60, 64, 67, 0.15);\n",
              "      fill: #174EA6;\n",
              "    }\n",
              "\n",
              "    [theme=dark] .colab-df-convert {\n",
              "      background-color: #3B4455;\n",
              "      fill: #D2E3FC;\n",
              "    }\n",
              "\n",
              "    [theme=dark] .colab-df-convert:hover {\n",
              "      background-color: #434B5C;\n",
              "      box-shadow: 0px 1px 3px 1px rgba(0, 0, 0, 0.15);\n",
              "      filter: drop-shadow(0px 1px 2px rgba(0, 0, 0, 0.3));\n",
              "      fill: #FFFFFF;\n",
              "    }\n",
              "  </style>\n",
              "\n",
              "      <script>\n",
              "        const buttonEl =\n",
              "          document.querySelector('#df-107c6b8f-9a54-4082-9a4c-f8ad967e6445 button.colab-df-convert');\n",
              "        buttonEl.style.display =\n",
              "          google.colab.kernel.accessAllowed ? 'block' : 'none';\n",
              "\n",
              "        async function convertToInteractive(key) {\n",
              "          const element = document.querySelector('#df-107c6b8f-9a54-4082-9a4c-f8ad967e6445');\n",
              "          const dataTable =\n",
              "            await google.colab.kernel.invokeFunction('convertToInteractive',\n",
              "                                                     [key], {});\n",
              "          if (!dataTable) return;\n",
              "\n",
              "          const docLinkHtml = 'Like what you see? Visit the ' +\n",
              "            '<a target=\"_blank\" href=https://colab.research.google.com/notebooks/data_table.ipynb>data table notebook</a>'\n",
              "            + ' to learn more about interactive tables.';\n",
              "          element.innerHTML = '';\n",
              "          dataTable['output_type'] = 'display_data';\n",
              "          await google.colab.output.renderOutput(dataTable, element);\n",
              "          const docLink = document.createElement('div');\n",
              "          docLink.innerHTML = docLinkHtml;\n",
              "          element.appendChild(docLink);\n",
              "        }\n",
              "      </script>\n",
              "    </div>\n",
              "  </div>\n",
              "  "
            ]
          },
          "metadata": {},
          "execution_count": 30
        }
      ]
    },
    {
      "cell_type": "code",
      "source": [
        "print('Ranking Vacinação - Completamente Vacinados')\t\n",
        "print(f'Mundo - {(4.578958e+09 /7.874966e+09* 100):.2f}%')\t"
      ],
      "metadata": {
        "colab": {
          "base_uri": "https://localhost:8080/"
        },
        "id": "niaw9GHnjZFg",
        "outputId": "63ae84d8-3d23-481c-93ce-38d0e98daa7d"
      },
      "execution_count": 40,
      "outputs": [
        {
          "output_type": "stream",
          "name": "stdout",
          "text": [
            "Ranking Vacinação - Completamente Vacinados\n",
            "Mundo - 58.15%\n"
          ]
        }
      ]
    },
    {
      "cell_type": "markdown",
      "source": [
        "No mundo foram aplicadas ao todo, incluindo primeira, segunda e terceira dose, aproximadamente **10 Bilhões de vacinas** contra a COVID-19."
      ],
      "metadata": {
        "id": "WlPf22qajxQC"
      }
    },
    {
      "cell_type": "markdown",
      "source": [
        "### **Primeira Dose**"
      ],
      "metadata": {
        "id": "_mDM2Rblj3ef"
      }
    },
    {
      "cell_type": "code",
      "source": [
        "dfp.loc[dfp.date == '2022-04-04',['location','people_vaccinated','population']].sort_values('people_vaccinated', ascending=False)[1:6]"
      ],
      "metadata": {
        "colab": {
          "base_uri": "https://localhost:8080/",
          "height": 206
        },
        "id": "MvTUXpWbkHcN",
        "outputId": "82ed1afa-ed54-4cfd-8ef3-c5b599424266"
      },
      "execution_count": 56,
      "outputs": [
        {
          "output_type": "execute_result",
          "data": {
            "text/plain": [
              "         location  people_vaccinated    population\n",
              "74186       India        991037275.0  1.393409e+09\n",
              "74951   Indonesia        196880116.0  2.763618e+08\n",
              "22971      Brazil        181374540.0  2.139934e+08\n",
              "81936       Japan        102663073.0  1.260508e+08\n",
              "132300     Russia         79938974.0  1.459120e+08"
            ],
            "text/html": [
              "\n",
              "  <div id=\"df-341c3ba8-c81e-410c-8efd-249da1b9f9b4\">\n",
              "    <div class=\"colab-df-container\">\n",
              "      <div>\n",
              "<style scoped>\n",
              "    .dataframe tbody tr th:only-of-type {\n",
              "        vertical-align: middle;\n",
              "    }\n",
              "\n",
              "    .dataframe tbody tr th {\n",
              "        vertical-align: top;\n",
              "    }\n",
              "\n",
              "    .dataframe thead th {\n",
              "        text-align: right;\n",
              "    }\n",
              "</style>\n",
              "<table border=\"1\" class=\"dataframe\">\n",
              "  <thead>\n",
              "    <tr style=\"text-align: right;\">\n",
              "      <th></th>\n",
              "      <th>location</th>\n",
              "      <th>people_vaccinated</th>\n",
              "      <th>population</th>\n",
              "    </tr>\n",
              "  </thead>\n",
              "  <tbody>\n",
              "    <tr>\n",
              "      <th>74186</th>\n",
              "      <td>India</td>\n",
              "      <td>991037275.0</td>\n",
              "      <td>1.393409e+09</td>\n",
              "    </tr>\n",
              "    <tr>\n",
              "      <th>74951</th>\n",
              "      <td>Indonesia</td>\n",
              "      <td>196880116.0</td>\n",
              "      <td>2.763618e+08</td>\n",
              "    </tr>\n",
              "    <tr>\n",
              "      <th>22971</th>\n",
              "      <td>Brazil</td>\n",
              "      <td>181374540.0</td>\n",
              "      <td>2.139934e+08</td>\n",
              "    </tr>\n",
              "    <tr>\n",
              "      <th>81936</th>\n",
              "      <td>Japan</td>\n",
              "      <td>102663073.0</td>\n",
              "      <td>1.260508e+08</td>\n",
              "    </tr>\n",
              "    <tr>\n",
              "      <th>132300</th>\n",
              "      <td>Russia</td>\n",
              "      <td>79938974.0</td>\n",
              "      <td>1.459120e+08</td>\n",
              "    </tr>\n",
              "  </tbody>\n",
              "</table>\n",
              "</div>\n",
              "      <button class=\"colab-df-convert\" onclick=\"convertToInteractive('df-341c3ba8-c81e-410c-8efd-249da1b9f9b4')\"\n",
              "              title=\"Convert this dataframe to an interactive table.\"\n",
              "              style=\"display:none;\">\n",
              "        \n",
              "  <svg xmlns=\"http://www.w3.org/2000/svg\" height=\"24px\"viewBox=\"0 0 24 24\"\n",
              "       width=\"24px\">\n",
              "    <path d=\"M0 0h24v24H0V0z\" fill=\"none\"/>\n",
              "    <path d=\"M18.56 5.44l.94 2.06.94-2.06 2.06-.94-2.06-.94-.94-2.06-.94 2.06-2.06.94zm-11 1L8.5 8.5l.94-2.06 2.06-.94-2.06-.94L8.5 2.5l-.94 2.06-2.06.94zm10 10l.94 2.06.94-2.06 2.06-.94-2.06-.94-.94-2.06-.94 2.06-2.06.94z\"/><path d=\"M17.41 7.96l-1.37-1.37c-.4-.4-.92-.59-1.43-.59-.52 0-1.04.2-1.43.59L10.3 9.45l-7.72 7.72c-.78.78-.78 2.05 0 2.83L4 21.41c.39.39.9.59 1.41.59.51 0 1.02-.2 1.41-.59l7.78-7.78 2.81-2.81c.8-.78.8-2.07 0-2.86zM5.41 20L4 18.59l7.72-7.72 1.47 1.35L5.41 20z\"/>\n",
              "  </svg>\n",
              "      </button>\n",
              "      \n",
              "  <style>\n",
              "    .colab-df-container {\n",
              "      display:flex;\n",
              "      flex-wrap:wrap;\n",
              "      gap: 12px;\n",
              "    }\n",
              "\n",
              "    .colab-df-convert {\n",
              "      background-color: #E8F0FE;\n",
              "      border: none;\n",
              "      border-radius: 50%;\n",
              "      cursor: pointer;\n",
              "      display: none;\n",
              "      fill: #1967D2;\n",
              "      height: 32px;\n",
              "      padding: 0 0 0 0;\n",
              "      width: 32px;\n",
              "    }\n",
              "\n",
              "    .colab-df-convert:hover {\n",
              "      background-color: #E2EBFA;\n",
              "      box-shadow: 0px 1px 2px rgba(60, 64, 67, 0.3), 0px 1px 3px 1px rgba(60, 64, 67, 0.15);\n",
              "      fill: #174EA6;\n",
              "    }\n",
              "\n",
              "    [theme=dark] .colab-df-convert {\n",
              "      background-color: #3B4455;\n",
              "      fill: #D2E3FC;\n",
              "    }\n",
              "\n",
              "    [theme=dark] .colab-df-convert:hover {\n",
              "      background-color: #434B5C;\n",
              "      box-shadow: 0px 1px 3px 1px rgba(0, 0, 0, 0.15);\n",
              "      filter: drop-shadow(0px 1px 2px rgba(0, 0, 0, 0.3));\n",
              "      fill: #FFFFFF;\n",
              "    }\n",
              "  </style>\n",
              "\n",
              "      <script>\n",
              "        const buttonEl =\n",
              "          document.querySelector('#df-341c3ba8-c81e-410c-8efd-249da1b9f9b4 button.colab-df-convert');\n",
              "        buttonEl.style.display =\n",
              "          google.colab.kernel.accessAllowed ? 'block' : 'none';\n",
              "\n",
              "        async function convertToInteractive(key) {\n",
              "          const element = document.querySelector('#df-341c3ba8-c81e-410c-8efd-249da1b9f9b4');\n",
              "          const dataTable =\n",
              "            await google.colab.kernel.invokeFunction('convertToInteractive',\n",
              "                                                     [key], {});\n",
              "          if (!dataTable) return;\n",
              "\n",
              "          const docLinkHtml = 'Like what you see? Visit the ' +\n",
              "            '<a target=\"_blank\" href=https://colab.research.google.com/notebooks/data_table.ipynb>data table notebook</a>'\n",
              "            + ' to learn more about interactive tables.';\n",
              "          element.innerHTML = '';\n",
              "          dataTable['output_type'] = 'display_data';\n",
              "          await google.colab.output.renderOutput(dataTable, element);\n",
              "          const docLink = document.createElement('div');\n",
              "          docLink.innerHTML = docLinkHtml;\n",
              "          element.appendChild(docLink);\n",
              "        }\n",
              "      </script>\n",
              "    </div>\n",
              "  </div>\n",
              "  "
            ]
          },
          "metadata": {},
          "execution_count": 56
        }
      ]
    },
    {
      "cell_type": "markdown",
      "source": [
        "EsserRanking é por número de vacinação, não por porcentagem da população vacinada. O dado abaixo é apenas uma curiosidade, para informar a porcentagem da população dos países que mais aplicaram vacinas está vacinada com a primeira dose."
      ],
      "metadata": {
        "id": "F1a7MVAHkaZ2"
      }
    },
    {
      "cell_type": "code",
      "source": [
        "print('Ranking Vacinação - Primeira Dose')\t\n",
        "print(f'Brasil - {(181374540.0 /213993441.0* 100):.2f}%')\n",
        "print(f'India - {991037275.0 /1393409033.0* 100:.2f}%')\t\n",
        "print(f'Indonesia - {(196880116.0\t /276361788.0* 100):.2f}%')\t\n",
        "print(f'Japan - {(102663073.0 /1.260508e+08* 100):.2f}%')\t\n"
      ],
      "metadata": {
        "colab": {
          "base_uri": "https://localhost:8080/"
        },
        "id": "OfZALua8kiw1",
        "outputId": "00a9f4ac-fe02-4675-9bdc-42306b190446"
      },
      "execution_count": 60,
      "outputs": [
        {
          "output_type": "stream",
          "name": "stdout",
          "text": [
            "Ranking Vacinação - Primeira Dose\n",
            "Brasil - 84.76%\n",
            "India - 71.12%\n",
            "Indonesia - 71.24%\n",
            "Japan - 81.45%\n"
          ]
        }
      ]
    },
    {
      "cell_type": "markdown",
      "source": [
        "### **Completamente Vacinados**"
      ],
      "metadata": {
        "id": "XEP6hkKnkmzq"
      }
    },
    {
      "cell_type": "code",
      "source": [
        "dfp.loc[dfp.date == '2022-04-04',['location','people_fully_vaccinated','population']].sort_values('people_fully_vaccinated', ascending=False)[1:6]"
      ],
      "metadata": {
        "colab": {
          "base_uri": "https://localhost:8080/",
          "height": 206
        },
        "id": "9YEp9YZIkpmT",
        "outputId": "92b74cb1-4d6a-4798-f00b-c31184c4f591"
      },
      "execution_count": 69,
      "outputs": [
        {
          "output_type": "execute_result",
          "data": {
            "text/plain": [
              "         location  people_fully_vaccinated    population\n",
              "74186       India              833703203.0  1.393409e+09\n",
              "22971      Brazil              161109802.0  2.139934e+08\n",
              "74951   Indonesia              160107111.0  2.763618e+08\n",
              "81936       Japan              100768887.0  1.260508e+08\n",
              "132300     Russia               72913790.0  1.459120e+08"
            ],
            "text/html": [
              "\n",
              "  <div id=\"df-d0666c47-d0d9-499e-8a83-9c7e56aeb658\">\n",
              "    <div class=\"colab-df-container\">\n",
              "      <div>\n",
              "<style scoped>\n",
              "    .dataframe tbody tr th:only-of-type {\n",
              "        vertical-align: middle;\n",
              "    }\n",
              "\n",
              "    .dataframe tbody tr th {\n",
              "        vertical-align: top;\n",
              "    }\n",
              "\n",
              "    .dataframe thead th {\n",
              "        text-align: right;\n",
              "    }\n",
              "</style>\n",
              "<table border=\"1\" class=\"dataframe\">\n",
              "  <thead>\n",
              "    <tr style=\"text-align: right;\">\n",
              "      <th></th>\n",
              "      <th>location</th>\n",
              "      <th>people_fully_vaccinated</th>\n",
              "      <th>population</th>\n",
              "    </tr>\n",
              "  </thead>\n",
              "  <tbody>\n",
              "    <tr>\n",
              "      <th>74186</th>\n",
              "      <td>India</td>\n",
              "      <td>833703203.0</td>\n",
              "      <td>1.393409e+09</td>\n",
              "    </tr>\n",
              "    <tr>\n",
              "      <th>22971</th>\n",
              "      <td>Brazil</td>\n",
              "      <td>161109802.0</td>\n",
              "      <td>2.139934e+08</td>\n",
              "    </tr>\n",
              "    <tr>\n",
              "      <th>74951</th>\n",
              "      <td>Indonesia</td>\n",
              "      <td>160107111.0</td>\n",
              "      <td>2.763618e+08</td>\n",
              "    </tr>\n",
              "    <tr>\n",
              "      <th>81936</th>\n",
              "      <td>Japan</td>\n",
              "      <td>100768887.0</td>\n",
              "      <td>1.260508e+08</td>\n",
              "    </tr>\n",
              "    <tr>\n",
              "      <th>132300</th>\n",
              "      <td>Russia</td>\n",
              "      <td>72913790.0</td>\n",
              "      <td>1.459120e+08</td>\n",
              "    </tr>\n",
              "  </tbody>\n",
              "</table>\n",
              "</div>\n",
              "      <button class=\"colab-df-convert\" onclick=\"convertToInteractive('df-d0666c47-d0d9-499e-8a83-9c7e56aeb658')\"\n",
              "              title=\"Convert this dataframe to an interactive table.\"\n",
              "              style=\"display:none;\">\n",
              "        \n",
              "  <svg xmlns=\"http://www.w3.org/2000/svg\" height=\"24px\"viewBox=\"0 0 24 24\"\n",
              "       width=\"24px\">\n",
              "    <path d=\"M0 0h24v24H0V0z\" fill=\"none\"/>\n",
              "    <path d=\"M18.56 5.44l.94 2.06.94-2.06 2.06-.94-2.06-.94-.94-2.06-.94 2.06-2.06.94zm-11 1L8.5 8.5l.94-2.06 2.06-.94-2.06-.94L8.5 2.5l-.94 2.06-2.06.94zm10 10l.94 2.06.94-2.06 2.06-.94-2.06-.94-.94-2.06-.94 2.06-2.06.94z\"/><path d=\"M17.41 7.96l-1.37-1.37c-.4-.4-.92-.59-1.43-.59-.52 0-1.04.2-1.43.59L10.3 9.45l-7.72 7.72c-.78.78-.78 2.05 0 2.83L4 21.41c.39.39.9.59 1.41.59.51 0 1.02-.2 1.41-.59l7.78-7.78 2.81-2.81c.8-.78.8-2.07 0-2.86zM5.41 20L4 18.59l7.72-7.72 1.47 1.35L5.41 20z\"/>\n",
              "  </svg>\n",
              "      </button>\n",
              "      \n",
              "  <style>\n",
              "    .colab-df-container {\n",
              "      display:flex;\n",
              "      flex-wrap:wrap;\n",
              "      gap: 12px;\n",
              "    }\n",
              "\n",
              "    .colab-df-convert {\n",
              "      background-color: #E8F0FE;\n",
              "      border: none;\n",
              "      border-radius: 50%;\n",
              "      cursor: pointer;\n",
              "      display: none;\n",
              "      fill: #1967D2;\n",
              "      height: 32px;\n",
              "      padding: 0 0 0 0;\n",
              "      width: 32px;\n",
              "    }\n",
              "\n",
              "    .colab-df-convert:hover {\n",
              "      background-color: #E2EBFA;\n",
              "      box-shadow: 0px 1px 2px rgba(60, 64, 67, 0.3), 0px 1px 3px 1px rgba(60, 64, 67, 0.15);\n",
              "      fill: #174EA6;\n",
              "    }\n",
              "\n",
              "    [theme=dark] .colab-df-convert {\n",
              "      background-color: #3B4455;\n",
              "      fill: #D2E3FC;\n",
              "    }\n",
              "\n",
              "    [theme=dark] .colab-df-convert:hover {\n",
              "      background-color: #434B5C;\n",
              "      box-shadow: 0px 1px 3px 1px rgba(0, 0, 0, 0.15);\n",
              "      filter: drop-shadow(0px 1px 2px rgba(0, 0, 0, 0.3));\n",
              "      fill: #FFFFFF;\n",
              "    }\n",
              "  </style>\n",
              "\n",
              "      <script>\n",
              "        const buttonEl =\n",
              "          document.querySelector('#df-d0666c47-d0d9-499e-8a83-9c7e56aeb658 button.colab-df-convert');\n",
              "        buttonEl.style.display =\n",
              "          google.colab.kernel.accessAllowed ? 'block' : 'none';\n",
              "\n",
              "        async function convertToInteractive(key) {\n",
              "          const element = document.querySelector('#df-d0666c47-d0d9-499e-8a83-9c7e56aeb658');\n",
              "          const dataTable =\n",
              "            await google.colab.kernel.invokeFunction('convertToInteractive',\n",
              "                                                     [key], {});\n",
              "          if (!dataTable) return;\n",
              "\n",
              "          const docLinkHtml = 'Like what you see? Visit the ' +\n",
              "            '<a target=\"_blank\" href=https://colab.research.google.com/notebooks/data_table.ipynb>data table notebook</a>'\n",
              "            + ' to learn more about interactive tables.';\n",
              "          element.innerHTML = '';\n",
              "          dataTable['output_type'] = 'display_data';\n",
              "          await google.colab.output.renderOutput(dataTable, element);\n",
              "          const docLink = document.createElement('div');\n",
              "          docLink.innerHTML = docLinkHtml;\n",
              "          element.appendChild(docLink);\n",
              "        }\n",
              "      </script>\n",
              "    </div>\n",
              "  </div>\n",
              "  "
            ]
          },
          "metadata": {},
          "execution_count": 69
        }
      ]
    },
    {
      "cell_type": "code",
      "source": [
        "print('Ranking Vacinação - Completamente Vacinados')\t\n",
        "print(f'Japão - {(100768887.0 /126050796.0* 100):.2f}%')\t\n",
        "print(f'Brasil - {(161109802.0 /213993441.0* 100):.2f}%')\t\t\n",
        "print(f'India - {(833703203.0 /1393409033.0* 100):.2f}%')\t\n"
      ],
      "metadata": {
        "colab": {
          "base_uri": "https://localhost:8080/"
        },
        "id": "SpFk1bRakvUl",
        "outputId": "087ba846-fa83-4b58-822c-ed0a6e3b8fac"
      },
      "execution_count": 70,
      "outputs": [
        {
          "output_type": "stream",
          "name": "stdout",
          "text": [
            "Ranking Vacinação - Completamente Vacinados\n",
            "Japão - 79.94%\n",
            "Brasil - 75.29%\n",
            "India - 59.83%\n"
          ]
        }
      ]
    },
    {
      "cell_type": "markdown",
      "metadata": {
        "id": "SViA5VZ7DYLA"
      },
      "source": [
        "## **Análise epidemiológica da Covid-19 no Brasil**\n",
        "\n",
        "Nessa etapa será realizado a análise dos dados da COVID-19 em relação ao Brasil. Para isso, serão exibidos estatísticas como o 1º Caso no país, a 1ª Morte e dados sobre a vacinação."
      ]
    },
    {
      "cell_type": "code",
      "metadata": {
        "id": "UDQA502_hAwI",
        "colab": {
          "base_uri": "https://localhost:8080/",
          "height": 386
        },
        "outputId": "4210718f-68c3-49c3-ea51-e68e88ada44c"
      },
      "source": [
        "# Criar uma cópia do DataFrame apenas com o Brasil\n",
        "df_brasil = df.loc[df.location == \"Brazil\"].copy()\n",
        "\n",
        "df_brasil.head()"
      ],
      "execution_count": 74,
      "outputs": [
        {
          "output_type": "execute_result",
          "data": {
            "text/plain": [
              "      iso_code      continent location       date  total_cases  new_cases  \\\n",
              "22203      BRA  South America   Brazil 2020-02-26          1.0        1.0   \n",
              "22204      BRA  South America   Brazil 2020-02-27          1.0        0.0   \n",
              "22205      BRA  South America   Brazil 2020-02-28          1.0        0.0   \n",
              "22206      BRA  South America   Brazil 2020-02-29          2.0        1.0   \n",
              "22207      BRA  South America   Brazil 2020-03-01          2.0        0.0   \n",
              "\n",
              "       new_cases_smoothed  total_deaths  new_deaths  new_deaths_smoothed  ...  \\\n",
              "22203                 NaN           NaN         NaN                  NaN  ...   \n",
              "22204                 NaN           NaN         NaN                  NaN  ...   \n",
              "22205                 NaN           NaN         NaN                  NaN  ...   \n",
              "22206                 NaN           NaN         NaN                  NaN  ...   \n",
              "22207                 NaN           NaN         NaN                  NaN  ...   \n",
              "\n",
              "       gdp_per_capita  extreme_poverty  cardiovasc_death_rate  \\\n",
              "22203       14103.452              3.4                177.961   \n",
              "22204       14103.452              3.4                177.961   \n",
              "22205       14103.452              3.4                177.961   \n",
              "22206       14103.452              3.4                177.961   \n",
              "22207       14103.452              3.4                177.961   \n",
              "\n",
              "       diabetes_prevalence  female_smokers  male_smokers  \\\n",
              "22203                 8.11            10.1          17.9   \n",
              "22204                 8.11            10.1          17.9   \n",
              "22205                 8.11            10.1          17.9   \n",
              "22206                 8.11            10.1          17.9   \n",
              "22207                 8.11            10.1          17.9   \n",
              "\n",
              "       handwashing_facilities  hospital_beds_per_thousand  life_expectancy  \\\n",
              "22203                     NaN                         2.2            75.88   \n",
              "22204                     NaN                         2.2            75.88   \n",
              "22205                     NaN                         2.2            75.88   \n",
              "22206                     NaN                         2.2            75.88   \n",
              "22207                     NaN                         2.2            75.88   \n",
              "\n",
              "       human_development_index  \n",
              "22203                    0.765  \n",
              "22204                    0.765  \n",
              "22205                    0.765  \n",
              "22206                    0.765  \n",
              "22207                    0.765  \n",
              "\n",
              "[5 rows x 53 columns]"
            ],
            "text/html": [
              "\n",
              "  <div id=\"df-d6a9c201-a33f-493f-be33-ff0b6d282c0c\">\n",
              "    <div class=\"colab-df-container\">\n",
              "      <div>\n",
              "<style scoped>\n",
              "    .dataframe tbody tr th:only-of-type {\n",
              "        vertical-align: middle;\n",
              "    }\n",
              "\n",
              "    .dataframe tbody tr th {\n",
              "        vertical-align: top;\n",
              "    }\n",
              "\n",
              "    .dataframe thead th {\n",
              "        text-align: right;\n",
              "    }\n",
              "</style>\n",
              "<table border=\"1\" class=\"dataframe\">\n",
              "  <thead>\n",
              "    <tr style=\"text-align: right;\">\n",
              "      <th></th>\n",
              "      <th>iso_code</th>\n",
              "      <th>continent</th>\n",
              "      <th>location</th>\n",
              "      <th>date</th>\n",
              "      <th>total_cases</th>\n",
              "      <th>new_cases</th>\n",
              "      <th>new_cases_smoothed</th>\n",
              "      <th>total_deaths</th>\n",
              "      <th>new_deaths</th>\n",
              "      <th>new_deaths_smoothed</th>\n",
              "      <th>...</th>\n",
              "      <th>gdp_per_capita</th>\n",
              "      <th>extreme_poverty</th>\n",
              "      <th>cardiovasc_death_rate</th>\n",
              "      <th>diabetes_prevalence</th>\n",
              "      <th>female_smokers</th>\n",
              "      <th>male_smokers</th>\n",
              "      <th>handwashing_facilities</th>\n",
              "      <th>hospital_beds_per_thousand</th>\n",
              "      <th>life_expectancy</th>\n",
              "      <th>human_development_index</th>\n",
              "    </tr>\n",
              "  </thead>\n",
              "  <tbody>\n",
              "    <tr>\n",
              "      <th>22203</th>\n",
              "      <td>BRA</td>\n",
              "      <td>South America</td>\n",
              "      <td>Brazil</td>\n",
              "      <td>2020-02-26</td>\n",
              "      <td>1.0</td>\n",
              "      <td>1.0</td>\n",
              "      <td>NaN</td>\n",
              "      <td>NaN</td>\n",
              "      <td>NaN</td>\n",
              "      <td>NaN</td>\n",
              "      <td>...</td>\n",
              "      <td>14103.452</td>\n",
              "      <td>3.4</td>\n",
              "      <td>177.961</td>\n",
              "      <td>8.11</td>\n",
              "      <td>10.1</td>\n",
              "      <td>17.9</td>\n",
              "      <td>NaN</td>\n",
              "      <td>2.2</td>\n",
              "      <td>75.88</td>\n",
              "      <td>0.765</td>\n",
              "    </tr>\n",
              "    <tr>\n",
              "      <th>22204</th>\n",
              "      <td>BRA</td>\n",
              "      <td>South America</td>\n",
              "      <td>Brazil</td>\n",
              "      <td>2020-02-27</td>\n",
              "      <td>1.0</td>\n",
              "      <td>0.0</td>\n",
              "      <td>NaN</td>\n",
              "      <td>NaN</td>\n",
              "      <td>NaN</td>\n",
              "      <td>NaN</td>\n",
              "      <td>...</td>\n",
              "      <td>14103.452</td>\n",
              "      <td>3.4</td>\n",
              "      <td>177.961</td>\n",
              "      <td>8.11</td>\n",
              "      <td>10.1</td>\n",
              "      <td>17.9</td>\n",
              "      <td>NaN</td>\n",
              "      <td>2.2</td>\n",
              "      <td>75.88</td>\n",
              "      <td>0.765</td>\n",
              "    </tr>\n",
              "    <tr>\n",
              "      <th>22205</th>\n",
              "      <td>BRA</td>\n",
              "      <td>South America</td>\n",
              "      <td>Brazil</td>\n",
              "      <td>2020-02-28</td>\n",
              "      <td>1.0</td>\n",
              "      <td>0.0</td>\n",
              "      <td>NaN</td>\n",
              "      <td>NaN</td>\n",
              "      <td>NaN</td>\n",
              "      <td>NaN</td>\n",
              "      <td>...</td>\n",
              "      <td>14103.452</td>\n",
              "      <td>3.4</td>\n",
              "      <td>177.961</td>\n",
              "      <td>8.11</td>\n",
              "      <td>10.1</td>\n",
              "      <td>17.9</td>\n",
              "      <td>NaN</td>\n",
              "      <td>2.2</td>\n",
              "      <td>75.88</td>\n",
              "      <td>0.765</td>\n",
              "    </tr>\n",
              "    <tr>\n",
              "      <th>22206</th>\n",
              "      <td>BRA</td>\n",
              "      <td>South America</td>\n",
              "      <td>Brazil</td>\n",
              "      <td>2020-02-29</td>\n",
              "      <td>2.0</td>\n",
              "      <td>1.0</td>\n",
              "      <td>NaN</td>\n",
              "      <td>NaN</td>\n",
              "      <td>NaN</td>\n",
              "      <td>NaN</td>\n",
              "      <td>...</td>\n",
              "      <td>14103.452</td>\n",
              "      <td>3.4</td>\n",
              "      <td>177.961</td>\n",
              "      <td>8.11</td>\n",
              "      <td>10.1</td>\n",
              "      <td>17.9</td>\n",
              "      <td>NaN</td>\n",
              "      <td>2.2</td>\n",
              "      <td>75.88</td>\n",
              "      <td>0.765</td>\n",
              "    </tr>\n",
              "    <tr>\n",
              "      <th>22207</th>\n",
              "      <td>BRA</td>\n",
              "      <td>South America</td>\n",
              "      <td>Brazil</td>\n",
              "      <td>2020-03-01</td>\n",
              "      <td>2.0</td>\n",
              "      <td>0.0</td>\n",
              "      <td>NaN</td>\n",
              "      <td>NaN</td>\n",
              "      <td>NaN</td>\n",
              "      <td>NaN</td>\n",
              "      <td>...</td>\n",
              "      <td>14103.452</td>\n",
              "      <td>3.4</td>\n",
              "      <td>177.961</td>\n",
              "      <td>8.11</td>\n",
              "      <td>10.1</td>\n",
              "      <td>17.9</td>\n",
              "      <td>NaN</td>\n",
              "      <td>2.2</td>\n",
              "      <td>75.88</td>\n",
              "      <td>0.765</td>\n",
              "    </tr>\n",
              "  </tbody>\n",
              "</table>\n",
              "<p>5 rows × 53 columns</p>\n",
              "</div>\n",
              "      <button class=\"colab-df-convert\" onclick=\"convertToInteractive('df-d6a9c201-a33f-493f-be33-ff0b6d282c0c')\"\n",
              "              title=\"Convert this dataframe to an interactive table.\"\n",
              "              style=\"display:none;\">\n",
              "        \n",
              "  <svg xmlns=\"http://www.w3.org/2000/svg\" height=\"24px\"viewBox=\"0 0 24 24\"\n",
              "       width=\"24px\">\n",
              "    <path d=\"M0 0h24v24H0V0z\" fill=\"none\"/>\n",
              "    <path d=\"M18.56 5.44l.94 2.06.94-2.06 2.06-.94-2.06-.94-.94-2.06-.94 2.06-2.06.94zm-11 1L8.5 8.5l.94-2.06 2.06-.94-2.06-.94L8.5 2.5l-.94 2.06-2.06.94zm10 10l.94 2.06.94-2.06 2.06-.94-2.06-.94-.94-2.06-.94 2.06-2.06.94z\"/><path d=\"M17.41 7.96l-1.37-1.37c-.4-.4-.92-.59-1.43-.59-.52 0-1.04.2-1.43.59L10.3 9.45l-7.72 7.72c-.78.78-.78 2.05 0 2.83L4 21.41c.39.39.9.59 1.41.59.51 0 1.02-.2 1.41-.59l7.78-7.78 2.81-2.81c.8-.78.8-2.07 0-2.86zM5.41 20L4 18.59l7.72-7.72 1.47 1.35L5.41 20z\"/>\n",
              "  </svg>\n",
              "      </button>\n",
              "      \n",
              "  <style>\n",
              "    .colab-df-container {\n",
              "      display:flex;\n",
              "      flex-wrap:wrap;\n",
              "      gap: 12px;\n",
              "    }\n",
              "\n",
              "    .colab-df-convert {\n",
              "      background-color: #E8F0FE;\n",
              "      border: none;\n",
              "      border-radius: 50%;\n",
              "      cursor: pointer;\n",
              "      display: none;\n",
              "      fill: #1967D2;\n",
              "      height: 32px;\n",
              "      padding: 0 0 0 0;\n",
              "      width: 32px;\n",
              "    }\n",
              "\n",
              "    .colab-df-convert:hover {\n",
              "      background-color: #E2EBFA;\n",
              "      box-shadow: 0px 1px 2px rgba(60, 64, 67, 0.3), 0px 1px 3px 1px rgba(60, 64, 67, 0.15);\n",
              "      fill: #174EA6;\n",
              "    }\n",
              "\n",
              "    [theme=dark] .colab-df-convert {\n",
              "      background-color: #3B4455;\n",
              "      fill: #D2E3FC;\n",
              "    }\n",
              "\n",
              "    [theme=dark] .colab-df-convert:hover {\n",
              "      background-color: #434B5C;\n",
              "      box-shadow: 0px 1px 3px 1px rgba(0, 0, 0, 0.15);\n",
              "      filter: drop-shadow(0px 1px 2px rgba(0, 0, 0, 0.3));\n",
              "      fill: #FFFFFF;\n",
              "    }\n",
              "  </style>\n",
              "\n",
              "      <script>\n",
              "        const buttonEl =\n",
              "          document.querySelector('#df-d6a9c201-a33f-493f-be33-ff0b6d282c0c button.colab-df-convert');\n",
              "        buttonEl.style.display =\n",
              "          google.colab.kernel.accessAllowed ? 'block' : 'none';\n",
              "\n",
              "        async function convertToInteractive(key) {\n",
              "          const element = document.querySelector('#df-d6a9c201-a33f-493f-be33-ff0b6d282c0c');\n",
              "          const dataTable =\n",
              "            await google.colab.kernel.invokeFunction('convertToInteractive',\n",
              "                                                     [key], {});\n",
              "          if (!dataTable) return;\n",
              "\n",
              "          const docLinkHtml = 'Like what you see? Visit the ' +\n",
              "            '<a target=\"_blank\" href=https://colab.research.google.com/notebooks/data_table.ipynb>data table notebook</a>'\n",
              "            + ' to learn more about interactive tables.';\n",
              "          element.innerHTML = '';\n",
              "          dataTable['output_type'] = 'display_data';\n",
              "          await google.colab.output.renderOutput(dataTable, element);\n",
              "          const docLink = document.createElement('div');\n",
              "          docLink.innerHTML = docLinkHtml;\n",
              "          element.appendChild(docLink);\n",
              "        }\n",
              "      </script>\n",
              "    </div>\n",
              "  </div>\n",
              "  "
            ]
          },
          "metadata": {},
          "execution_count": 74
        }
      ]
    },
    {
      "cell_type": "markdown",
      "source": [
        "### **1° Caso no Brasil**\n",
        "\n",
        "O Brasil identificou a primeira contaminação pelo novo coronavírus no final de fevereiro de 2020, enquanto a Europa já registrava centenas de casos de covid-19. A declaração de transmissão comunitária no país veio em março, mês em que também foi registrada a primeira morte pela doença."
      ],
      "metadata": {
        "id": "LMVOToLtilny"
      }
    },
    {
      "cell_type": "code",
      "source": [
        "df_brasil.loc[df_brasil.new_cases == 1][:1]"
      ],
      "metadata": {
        "colab": {
          "base_uri": "https://localhost:8080/",
          "height": 191
        },
        "id": "S6y7bjcoiaA-",
        "outputId": "0a721c37-01b7-4893-8d25-c19f39003795"
      },
      "execution_count": 76,
      "outputs": [
        {
          "output_type": "execute_result",
          "data": {
            "text/plain": [
              "      iso_code      continent location       date  total_cases  new_cases  \\\n",
              "22203      BRA  South America   Brazil 2020-02-26          1.0        1.0   \n",
              "\n",
              "       new_cases_smoothed  total_deaths  new_deaths  new_deaths_smoothed  ...  \\\n",
              "22203                 NaN           NaN         NaN                  NaN  ...   \n",
              "\n",
              "       gdp_per_capita  extreme_poverty  cardiovasc_death_rate  \\\n",
              "22203       14103.452              3.4                177.961   \n",
              "\n",
              "       diabetes_prevalence  female_smokers  male_smokers  \\\n",
              "22203                 8.11            10.1          17.9   \n",
              "\n",
              "       handwashing_facilities  hospital_beds_per_thousand  life_expectancy  \\\n",
              "22203                     NaN                         2.2            75.88   \n",
              "\n",
              "       human_development_index  \n",
              "22203                    0.765  \n",
              "\n",
              "[1 rows x 53 columns]"
            ],
            "text/html": [
              "\n",
              "  <div id=\"df-54cc52c3-ebdd-47d9-b3df-e137a13506d2\">\n",
              "    <div class=\"colab-df-container\">\n",
              "      <div>\n",
              "<style scoped>\n",
              "    .dataframe tbody tr th:only-of-type {\n",
              "        vertical-align: middle;\n",
              "    }\n",
              "\n",
              "    .dataframe tbody tr th {\n",
              "        vertical-align: top;\n",
              "    }\n",
              "\n",
              "    .dataframe thead th {\n",
              "        text-align: right;\n",
              "    }\n",
              "</style>\n",
              "<table border=\"1\" class=\"dataframe\">\n",
              "  <thead>\n",
              "    <tr style=\"text-align: right;\">\n",
              "      <th></th>\n",
              "      <th>iso_code</th>\n",
              "      <th>continent</th>\n",
              "      <th>location</th>\n",
              "      <th>date</th>\n",
              "      <th>total_cases</th>\n",
              "      <th>new_cases</th>\n",
              "      <th>new_cases_smoothed</th>\n",
              "      <th>total_deaths</th>\n",
              "      <th>new_deaths</th>\n",
              "      <th>new_deaths_smoothed</th>\n",
              "      <th>...</th>\n",
              "      <th>gdp_per_capita</th>\n",
              "      <th>extreme_poverty</th>\n",
              "      <th>cardiovasc_death_rate</th>\n",
              "      <th>diabetes_prevalence</th>\n",
              "      <th>female_smokers</th>\n",
              "      <th>male_smokers</th>\n",
              "      <th>handwashing_facilities</th>\n",
              "      <th>hospital_beds_per_thousand</th>\n",
              "      <th>life_expectancy</th>\n",
              "      <th>human_development_index</th>\n",
              "    </tr>\n",
              "  </thead>\n",
              "  <tbody>\n",
              "    <tr>\n",
              "      <th>22203</th>\n",
              "      <td>BRA</td>\n",
              "      <td>South America</td>\n",
              "      <td>Brazil</td>\n",
              "      <td>2020-02-26</td>\n",
              "      <td>1.0</td>\n",
              "      <td>1.0</td>\n",
              "      <td>NaN</td>\n",
              "      <td>NaN</td>\n",
              "      <td>NaN</td>\n",
              "      <td>NaN</td>\n",
              "      <td>...</td>\n",
              "      <td>14103.452</td>\n",
              "      <td>3.4</td>\n",
              "      <td>177.961</td>\n",
              "      <td>8.11</td>\n",
              "      <td>10.1</td>\n",
              "      <td>17.9</td>\n",
              "      <td>NaN</td>\n",
              "      <td>2.2</td>\n",
              "      <td>75.88</td>\n",
              "      <td>0.765</td>\n",
              "    </tr>\n",
              "  </tbody>\n",
              "</table>\n",
              "<p>1 rows × 53 columns</p>\n",
              "</div>\n",
              "      <button class=\"colab-df-convert\" onclick=\"convertToInteractive('df-54cc52c3-ebdd-47d9-b3df-e137a13506d2')\"\n",
              "              title=\"Convert this dataframe to an interactive table.\"\n",
              "              style=\"display:none;\">\n",
              "        \n",
              "  <svg xmlns=\"http://www.w3.org/2000/svg\" height=\"24px\"viewBox=\"0 0 24 24\"\n",
              "       width=\"24px\">\n",
              "    <path d=\"M0 0h24v24H0V0z\" fill=\"none\"/>\n",
              "    <path d=\"M18.56 5.44l.94 2.06.94-2.06 2.06-.94-2.06-.94-.94-2.06-.94 2.06-2.06.94zm-11 1L8.5 8.5l.94-2.06 2.06-.94-2.06-.94L8.5 2.5l-.94 2.06-2.06.94zm10 10l.94 2.06.94-2.06 2.06-.94-2.06-.94-.94-2.06-.94 2.06-2.06.94z\"/><path d=\"M17.41 7.96l-1.37-1.37c-.4-.4-.92-.59-1.43-.59-.52 0-1.04.2-1.43.59L10.3 9.45l-7.72 7.72c-.78.78-.78 2.05 0 2.83L4 21.41c.39.39.9.59 1.41.59.51 0 1.02-.2 1.41-.59l7.78-7.78 2.81-2.81c.8-.78.8-2.07 0-2.86zM5.41 20L4 18.59l7.72-7.72 1.47 1.35L5.41 20z\"/>\n",
              "  </svg>\n",
              "      </button>\n",
              "      \n",
              "  <style>\n",
              "    .colab-df-container {\n",
              "      display:flex;\n",
              "      flex-wrap:wrap;\n",
              "      gap: 12px;\n",
              "    }\n",
              "\n",
              "    .colab-df-convert {\n",
              "      background-color: #E8F0FE;\n",
              "      border: none;\n",
              "      border-radius: 50%;\n",
              "      cursor: pointer;\n",
              "      display: none;\n",
              "      fill: #1967D2;\n",
              "      height: 32px;\n",
              "      padding: 0 0 0 0;\n",
              "      width: 32px;\n",
              "    }\n",
              "\n",
              "    .colab-df-convert:hover {\n",
              "      background-color: #E2EBFA;\n",
              "      box-shadow: 0px 1px 2px rgba(60, 64, 67, 0.3), 0px 1px 3px 1px rgba(60, 64, 67, 0.15);\n",
              "      fill: #174EA6;\n",
              "    }\n",
              "\n",
              "    [theme=dark] .colab-df-convert {\n",
              "      background-color: #3B4455;\n",
              "      fill: #D2E3FC;\n",
              "    }\n",
              "\n",
              "    [theme=dark] .colab-df-convert:hover {\n",
              "      background-color: #434B5C;\n",
              "      box-shadow: 0px 1px 3px 1px rgba(0, 0, 0, 0.15);\n",
              "      filter: drop-shadow(0px 1px 2px rgba(0, 0, 0, 0.3));\n",
              "      fill: #FFFFFF;\n",
              "    }\n",
              "  </style>\n",
              "\n",
              "      <script>\n",
              "        const buttonEl =\n",
              "          document.querySelector('#df-54cc52c3-ebdd-47d9-b3df-e137a13506d2 button.colab-df-convert');\n",
              "        buttonEl.style.display =\n",
              "          google.colab.kernel.accessAllowed ? 'block' : 'none';\n",
              "\n",
              "        async function convertToInteractive(key) {\n",
              "          const element = document.querySelector('#df-54cc52c3-ebdd-47d9-b3df-e137a13506d2');\n",
              "          const dataTable =\n",
              "            await google.colab.kernel.invokeFunction('convertToInteractive',\n",
              "                                                     [key], {});\n",
              "          if (!dataTable) return;\n",
              "\n",
              "          const docLinkHtml = 'Like what you see? Visit the ' +\n",
              "            '<a target=\"_blank\" href=https://colab.research.google.com/notebooks/data_table.ipynb>data table notebook</a>'\n",
              "            + ' to learn more about interactive tables.';\n",
              "          element.innerHTML = '';\n",
              "          dataTable['output_type'] = 'display_data';\n",
              "          await google.colab.output.renderOutput(dataTable, element);\n",
              "          const docLink = document.createElement('div');\n",
              "          docLink.innerHTML = docLinkHtml;\n",
              "          element.appendChild(docLink);\n",
              "        }\n",
              "      </script>\n",
              "    </div>\n",
              "  </div>\n",
              "  "
            ]
          },
          "metadata": {},
          "execution_count": 76
        }
      ]
    },
    {
      "cell_type": "markdown",
      "source": [
        "### **1ª Morte no Brasil**\n",
        "\n",
        "A primeira morte por conta do novo coronavírus no Brasil aconteceu em 12 de março – e não em 16 de março, como se acreditava –, segundo o Ministério da Saúde. A informação foi revista pela pasta após resultados de exames laboratoriais.\n",
        "\n",
        "O ministério da saúde informou, por meio de um comunicado, que a vítima foi uma paciente de 57 anos em São Paulo. Ela foi internada no Hospital Municipal Doutor Carmino Cariccio, na Zona Leste da cidade, um dia antes."
      ],
      "metadata": {
        "id": "pDWKcDbUkj9_"
      }
    },
    {
      "cell_type": "code",
      "source": [
        "df_brasil.loc[df_brasil.new_deaths == 1][:1]"
      ],
      "metadata": {
        "colab": {
          "base_uri": "https://localhost:8080/",
          "height": 191
        },
        "id": "vlwf7fLIkkaW",
        "outputId": "d6f8b8c7-b8b2-4cb8-f552-bbb2be894123"
      },
      "execution_count": 78,
      "outputs": [
        {
          "output_type": "execute_result",
          "data": {
            "text/plain": [
              "      iso_code      continent location       date  total_cases  new_cases  \\\n",
              "22223      BRA  South America   Brazil 2020-03-17        321.0      121.0   \n",
              "\n",
              "       new_cases_smoothed  total_deaths  new_deaths  new_deaths_smoothed  ...  \\\n",
              "22223              41.429           1.0         1.0                  NaN  ...   \n",
              "\n",
              "       gdp_per_capita  extreme_poverty  cardiovasc_death_rate  \\\n",
              "22223       14103.452              3.4                177.961   \n",
              "\n",
              "       diabetes_prevalence  female_smokers  male_smokers  \\\n",
              "22223                 8.11            10.1          17.9   \n",
              "\n",
              "       handwashing_facilities  hospital_beds_per_thousand  life_expectancy  \\\n",
              "22223                     NaN                         2.2            75.88   \n",
              "\n",
              "       human_development_index  \n",
              "22223                    0.765  \n",
              "\n",
              "[1 rows x 53 columns]"
            ],
            "text/html": [
              "\n",
              "  <div id=\"df-4e579b27-3b35-4c64-8f86-766bdc0a3481\">\n",
              "    <div class=\"colab-df-container\">\n",
              "      <div>\n",
              "<style scoped>\n",
              "    .dataframe tbody tr th:only-of-type {\n",
              "        vertical-align: middle;\n",
              "    }\n",
              "\n",
              "    .dataframe tbody tr th {\n",
              "        vertical-align: top;\n",
              "    }\n",
              "\n",
              "    .dataframe thead th {\n",
              "        text-align: right;\n",
              "    }\n",
              "</style>\n",
              "<table border=\"1\" class=\"dataframe\">\n",
              "  <thead>\n",
              "    <tr style=\"text-align: right;\">\n",
              "      <th></th>\n",
              "      <th>iso_code</th>\n",
              "      <th>continent</th>\n",
              "      <th>location</th>\n",
              "      <th>date</th>\n",
              "      <th>total_cases</th>\n",
              "      <th>new_cases</th>\n",
              "      <th>new_cases_smoothed</th>\n",
              "      <th>total_deaths</th>\n",
              "      <th>new_deaths</th>\n",
              "      <th>new_deaths_smoothed</th>\n",
              "      <th>...</th>\n",
              "      <th>gdp_per_capita</th>\n",
              "      <th>extreme_poverty</th>\n",
              "      <th>cardiovasc_death_rate</th>\n",
              "      <th>diabetes_prevalence</th>\n",
              "      <th>female_smokers</th>\n",
              "      <th>male_smokers</th>\n",
              "      <th>handwashing_facilities</th>\n",
              "      <th>hospital_beds_per_thousand</th>\n",
              "      <th>life_expectancy</th>\n",
              "      <th>human_development_index</th>\n",
              "    </tr>\n",
              "  </thead>\n",
              "  <tbody>\n",
              "    <tr>\n",
              "      <th>22223</th>\n",
              "      <td>BRA</td>\n",
              "      <td>South America</td>\n",
              "      <td>Brazil</td>\n",
              "      <td>2020-03-17</td>\n",
              "      <td>321.0</td>\n",
              "      <td>121.0</td>\n",
              "      <td>41.429</td>\n",
              "      <td>1.0</td>\n",
              "      <td>1.0</td>\n",
              "      <td>NaN</td>\n",
              "      <td>...</td>\n",
              "      <td>14103.452</td>\n",
              "      <td>3.4</td>\n",
              "      <td>177.961</td>\n",
              "      <td>8.11</td>\n",
              "      <td>10.1</td>\n",
              "      <td>17.9</td>\n",
              "      <td>NaN</td>\n",
              "      <td>2.2</td>\n",
              "      <td>75.88</td>\n",
              "      <td>0.765</td>\n",
              "    </tr>\n",
              "  </tbody>\n",
              "</table>\n",
              "<p>1 rows × 53 columns</p>\n",
              "</div>\n",
              "      <button class=\"colab-df-convert\" onclick=\"convertToInteractive('df-4e579b27-3b35-4c64-8f86-766bdc0a3481')\"\n",
              "              title=\"Convert this dataframe to an interactive table.\"\n",
              "              style=\"display:none;\">\n",
              "        \n",
              "  <svg xmlns=\"http://www.w3.org/2000/svg\" height=\"24px\"viewBox=\"0 0 24 24\"\n",
              "       width=\"24px\">\n",
              "    <path d=\"M0 0h24v24H0V0z\" fill=\"none\"/>\n",
              "    <path d=\"M18.56 5.44l.94 2.06.94-2.06 2.06-.94-2.06-.94-.94-2.06-.94 2.06-2.06.94zm-11 1L8.5 8.5l.94-2.06 2.06-.94-2.06-.94L8.5 2.5l-.94 2.06-2.06.94zm10 10l.94 2.06.94-2.06 2.06-.94-2.06-.94-.94-2.06-.94 2.06-2.06.94z\"/><path d=\"M17.41 7.96l-1.37-1.37c-.4-.4-.92-.59-1.43-.59-.52 0-1.04.2-1.43.59L10.3 9.45l-7.72 7.72c-.78.78-.78 2.05 0 2.83L4 21.41c.39.39.9.59 1.41.59.51 0 1.02-.2 1.41-.59l7.78-7.78 2.81-2.81c.8-.78.8-2.07 0-2.86zM5.41 20L4 18.59l7.72-7.72 1.47 1.35L5.41 20z\"/>\n",
              "  </svg>\n",
              "      </button>\n",
              "      \n",
              "  <style>\n",
              "    .colab-df-container {\n",
              "      display:flex;\n",
              "      flex-wrap:wrap;\n",
              "      gap: 12px;\n",
              "    }\n",
              "\n",
              "    .colab-df-convert {\n",
              "      background-color: #E8F0FE;\n",
              "      border: none;\n",
              "      border-radius: 50%;\n",
              "      cursor: pointer;\n",
              "      display: none;\n",
              "      fill: #1967D2;\n",
              "      height: 32px;\n",
              "      padding: 0 0 0 0;\n",
              "      width: 32px;\n",
              "    }\n",
              "\n",
              "    .colab-df-convert:hover {\n",
              "      background-color: #E2EBFA;\n",
              "      box-shadow: 0px 1px 2px rgba(60, 64, 67, 0.3), 0px 1px 3px 1px rgba(60, 64, 67, 0.15);\n",
              "      fill: #174EA6;\n",
              "    }\n",
              "\n",
              "    [theme=dark] .colab-df-convert {\n",
              "      background-color: #3B4455;\n",
              "      fill: #D2E3FC;\n",
              "    }\n",
              "\n",
              "    [theme=dark] .colab-df-convert:hover {\n",
              "      background-color: #434B5C;\n",
              "      box-shadow: 0px 1px 3px 1px rgba(0, 0, 0, 0.15);\n",
              "      filter: drop-shadow(0px 1px 2px rgba(0, 0, 0, 0.3));\n",
              "      fill: #FFFFFF;\n",
              "    }\n",
              "  </style>\n",
              "\n",
              "      <script>\n",
              "        const buttonEl =\n",
              "          document.querySelector('#df-4e579b27-3b35-4c64-8f86-766bdc0a3481 button.colab-df-convert');\n",
              "        buttonEl.style.display =\n",
              "          google.colab.kernel.accessAllowed ? 'block' : 'none';\n",
              "\n",
              "        async function convertToInteractive(key) {\n",
              "          const element = document.querySelector('#df-4e579b27-3b35-4c64-8f86-766bdc0a3481');\n",
              "          const dataTable =\n",
              "            await google.colab.kernel.invokeFunction('convertToInteractive',\n",
              "                                                     [key], {});\n",
              "          if (!dataTable) return;\n",
              "\n",
              "          const docLinkHtml = 'Like what you see? Visit the ' +\n",
              "            '<a target=\"_blank\" href=https://colab.research.google.com/notebooks/data_table.ipynb>data table notebook</a>'\n",
              "            + ' to learn more about interactive tables.';\n",
              "          element.innerHTML = '';\n",
              "          dataTable['output_type'] = 'display_data';\n",
              "          await google.colab.output.renderOutput(dataTable, element);\n",
              "          const docLink = document.createElement('div');\n",
              "          docLink.innerHTML = docLinkHtml;\n",
              "          element.appendChild(docLink);\n",
              "        }\n",
              "      </script>\n",
              "    </div>\n",
              "  </div>\n",
              "  "
            ]
          },
          "metadata": {},
          "execution_count": 78
        }
      ]
    },
    {
      "cell_type": "markdown",
      "source": [
        "### **1° Dose no Brasil**\n",
        "\n",
        "A profissional do Hospital das Clínicas foi imunizada com a primeira dose de CoronaVac no dia 17 de janeiro, minutos após a Agência Nacional de Vigilância Sanitária (Anvisa) aprovar o uso emergencial da vacina no país."
      ],
      "metadata": {
        "id": "STLVbP5CluMK"
      }
    },
    {
      "cell_type": "markdown",
      "source": [
        "### **Total de pessoas que receberam a primeira dose no Brasil**\n",
        "\n",
        "\n",
        "O Brasil possui cerca de 84% de sua população vacinada ao menos com a primeira dose da vacina."
      ],
      "metadata": {
        "id": "LI5MtxpjnbnV"
      }
    },
    {
      "cell_type": "code",
      "source": [
        "df_brasil.loc[df_brasil.date == '2022-04-04',['location','people_vaccinated','population']]"
      ],
      "metadata": {
        "colab": {
          "base_uri": "https://localhost:8080/",
          "height": 81
        },
        "id": "psBQeJ6NnO-L",
        "outputId": "2fa427cb-bc57-4cbf-c88f-f628603d5171"
      },
      "execution_count": 81,
      "outputs": [
        {
          "output_type": "execute_result",
          "data": {
            "text/plain": [
              "      location  people_vaccinated   population\n",
              "22971   Brazil        181374540.0  213993441.0"
            ],
            "text/html": [
              "\n",
              "  <div id=\"df-59353fa6-4ea6-48a3-8042-fc37576bbd67\">\n",
              "    <div class=\"colab-df-container\">\n",
              "      <div>\n",
              "<style scoped>\n",
              "    .dataframe tbody tr th:only-of-type {\n",
              "        vertical-align: middle;\n",
              "    }\n",
              "\n",
              "    .dataframe tbody tr th {\n",
              "        vertical-align: top;\n",
              "    }\n",
              "\n",
              "    .dataframe thead th {\n",
              "        text-align: right;\n",
              "    }\n",
              "</style>\n",
              "<table border=\"1\" class=\"dataframe\">\n",
              "  <thead>\n",
              "    <tr style=\"text-align: right;\">\n",
              "      <th></th>\n",
              "      <th>location</th>\n",
              "      <th>people_vaccinated</th>\n",
              "      <th>population</th>\n",
              "    </tr>\n",
              "  </thead>\n",
              "  <tbody>\n",
              "    <tr>\n",
              "      <th>22971</th>\n",
              "      <td>Brazil</td>\n",
              "      <td>181374540.0</td>\n",
              "      <td>213993441.0</td>\n",
              "    </tr>\n",
              "  </tbody>\n",
              "</table>\n",
              "</div>\n",
              "      <button class=\"colab-df-convert\" onclick=\"convertToInteractive('df-59353fa6-4ea6-48a3-8042-fc37576bbd67')\"\n",
              "              title=\"Convert this dataframe to an interactive table.\"\n",
              "              style=\"display:none;\">\n",
              "        \n",
              "  <svg xmlns=\"http://www.w3.org/2000/svg\" height=\"24px\"viewBox=\"0 0 24 24\"\n",
              "       width=\"24px\">\n",
              "    <path d=\"M0 0h24v24H0V0z\" fill=\"none\"/>\n",
              "    <path d=\"M18.56 5.44l.94 2.06.94-2.06 2.06-.94-2.06-.94-.94-2.06-.94 2.06-2.06.94zm-11 1L8.5 8.5l.94-2.06 2.06-.94-2.06-.94L8.5 2.5l-.94 2.06-2.06.94zm10 10l.94 2.06.94-2.06 2.06-.94-2.06-.94-.94-2.06-.94 2.06-2.06.94z\"/><path d=\"M17.41 7.96l-1.37-1.37c-.4-.4-.92-.59-1.43-.59-.52 0-1.04.2-1.43.59L10.3 9.45l-7.72 7.72c-.78.78-.78 2.05 0 2.83L4 21.41c.39.39.9.59 1.41.59.51 0 1.02-.2 1.41-.59l7.78-7.78 2.81-2.81c.8-.78.8-2.07 0-2.86zM5.41 20L4 18.59l7.72-7.72 1.47 1.35L5.41 20z\"/>\n",
              "  </svg>\n",
              "      </button>\n",
              "      \n",
              "  <style>\n",
              "    .colab-df-container {\n",
              "      display:flex;\n",
              "      flex-wrap:wrap;\n",
              "      gap: 12px;\n",
              "    }\n",
              "\n",
              "    .colab-df-convert {\n",
              "      background-color: #E8F0FE;\n",
              "      border: none;\n",
              "      border-radius: 50%;\n",
              "      cursor: pointer;\n",
              "      display: none;\n",
              "      fill: #1967D2;\n",
              "      height: 32px;\n",
              "      padding: 0 0 0 0;\n",
              "      width: 32px;\n",
              "    }\n",
              "\n",
              "    .colab-df-convert:hover {\n",
              "      background-color: #E2EBFA;\n",
              "      box-shadow: 0px 1px 2px rgba(60, 64, 67, 0.3), 0px 1px 3px 1px rgba(60, 64, 67, 0.15);\n",
              "      fill: #174EA6;\n",
              "    }\n",
              "\n",
              "    [theme=dark] .colab-df-convert {\n",
              "      background-color: #3B4455;\n",
              "      fill: #D2E3FC;\n",
              "    }\n",
              "\n",
              "    [theme=dark] .colab-df-convert:hover {\n",
              "      background-color: #434B5C;\n",
              "      box-shadow: 0px 1px 3px 1px rgba(0, 0, 0, 0.15);\n",
              "      filter: drop-shadow(0px 1px 2px rgba(0, 0, 0, 0.3));\n",
              "      fill: #FFFFFF;\n",
              "    }\n",
              "  </style>\n",
              "\n",
              "      <script>\n",
              "        const buttonEl =\n",
              "          document.querySelector('#df-59353fa6-4ea6-48a3-8042-fc37576bbd67 button.colab-df-convert');\n",
              "        buttonEl.style.display =\n",
              "          google.colab.kernel.accessAllowed ? 'block' : 'none';\n",
              "\n",
              "        async function convertToInteractive(key) {\n",
              "          const element = document.querySelector('#df-59353fa6-4ea6-48a3-8042-fc37576bbd67');\n",
              "          const dataTable =\n",
              "            await google.colab.kernel.invokeFunction('convertToInteractive',\n",
              "                                                     [key], {});\n",
              "          if (!dataTable) return;\n",
              "\n",
              "          const docLinkHtml = 'Like what you see? Visit the ' +\n",
              "            '<a target=\"_blank\" href=https://colab.research.google.com/notebooks/data_table.ipynb>data table notebook</a>'\n",
              "            + ' to learn more about interactive tables.';\n",
              "          element.innerHTML = '';\n",
              "          dataTable['output_type'] = 'display_data';\n",
              "          await google.colab.output.renderOutput(dataTable, element);\n",
              "          const docLink = document.createElement('div');\n",
              "          docLink.innerHTML = docLinkHtml;\n",
              "          element.appendChild(docLink);\n",
              "        }\n",
              "      </script>\n",
              "    </div>\n",
              "  </div>\n",
              "  "
            ]
          },
          "metadata": {},
          "execution_count": 81
        }
      ]
    },
    {
      "cell_type": "code",
      "source": [
        "print('Porcentagem de Vacinados - Primeira Dose')\t\n",
        "print(f'Brasil - {(181374540.0 /213993441.0* 100):.2f}%')\t"
      ],
      "metadata": {
        "colab": {
          "base_uri": "https://localhost:8080/"
        },
        "id": "hzuVGid3oSOP",
        "outputId": "31a88a23-3e79-4ceb-9f86-e1bc16da6dc0"
      },
      "execution_count": 82,
      "outputs": [
        {
          "output_type": "stream",
          "name": "stdout",
          "text": [
            "Porcentagem de Vacinados - Primeira Dose\n",
            "Brasil - 84.76%\n"
          ]
        }
      ]
    },
    {
      "cell_type": "markdown",
      "source": [
        "### **População com seu quadro vacinal completo no Brasil**\n",
        "\n",
        "O Brasil possui cerca de 75% de sua população vacinada ao menos com a primeira dose da vacina.\n",
        "\n"
      ],
      "metadata": {
        "id": "SUNxkTteoh4b"
      }
    },
    {
      "cell_type": "code",
      "source": [
        "df_brasil.loc[df_brasil.date == '2022-04-04',['location','people_fully_vaccinated','population']]"
      ],
      "metadata": {
        "colab": {
          "base_uri": "https://localhost:8080/",
          "height": 81
        },
        "id": "TkfzG8EYpFi6",
        "outputId": "56843890-a2e4-4932-eaa9-b5683c1db242"
      },
      "execution_count": 85,
      "outputs": [
        {
          "output_type": "execute_result",
          "data": {
            "text/plain": [
              "      location  people_fully_vaccinated   population\n",
              "22971   Brazil              161109802.0  213993441.0"
            ],
            "text/html": [
              "\n",
              "  <div id=\"df-50e78b93-9285-4ca4-9d4a-4c84319725be\">\n",
              "    <div class=\"colab-df-container\">\n",
              "      <div>\n",
              "<style scoped>\n",
              "    .dataframe tbody tr th:only-of-type {\n",
              "        vertical-align: middle;\n",
              "    }\n",
              "\n",
              "    .dataframe tbody tr th {\n",
              "        vertical-align: top;\n",
              "    }\n",
              "\n",
              "    .dataframe thead th {\n",
              "        text-align: right;\n",
              "    }\n",
              "</style>\n",
              "<table border=\"1\" class=\"dataframe\">\n",
              "  <thead>\n",
              "    <tr style=\"text-align: right;\">\n",
              "      <th></th>\n",
              "      <th>location</th>\n",
              "      <th>people_fully_vaccinated</th>\n",
              "      <th>population</th>\n",
              "    </tr>\n",
              "  </thead>\n",
              "  <tbody>\n",
              "    <tr>\n",
              "      <th>22971</th>\n",
              "      <td>Brazil</td>\n",
              "      <td>161109802.0</td>\n",
              "      <td>213993441.0</td>\n",
              "    </tr>\n",
              "  </tbody>\n",
              "</table>\n",
              "</div>\n",
              "      <button class=\"colab-df-convert\" onclick=\"convertToInteractive('df-50e78b93-9285-4ca4-9d4a-4c84319725be')\"\n",
              "              title=\"Convert this dataframe to an interactive table.\"\n",
              "              style=\"display:none;\">\n",
              "        \n",
              "  <svg xmlns=\"http://www.w3.org/2000/svg\" height=\"24px\"viewBox=\"0 0 24 24\"\n",
              "       width=\"24px\">\n",
              "    <path d=\"M0 0h24v24H0V0z\" fill=\"none\"/>\n",
              "    <path d=\"M18.56 5.44l.94 2.06.94-2.06 2.06-.94-2.06-.94-.94-2.06-.94 2.06-2.06.94zm-11 1L8.5 8.5l.94-2.06 2.06-.94-2.06-.94L8.5 2.5l-.94 2.06-2.06.94zm10 10l.94 2.06.94-2.06 2.06-.94-2.06-.94-.94-2.06-.94 2.06-2.06.94z\"/><path d=\"M17.41 7.96l-1.37-1.37c-.4-.4-.92-.59-1.43-.59-.52 0-1.04.2-1.43.59L10.3 9.45l-7.72 7.72c-.78.78-.78 2.05 0 2.83L4 21.41c.39.39.9.59 1.41.59.51 0 1.02-.2 1.41-.59l7.78-7.78 2.81-2.81c.8-.78.8-2.07 0-2.86zM5.41 20L4 18.59l7.72-7.72 1.47 1.35L5.41 20z\"/>\n",
              "  </svg>\n",
              "      </button>\n",
              "      \n",
              "  <style>\n",
              "    .colab-df-container {\n",
              "      display:flex;\n",
              "      flex-wrap:wrap;\n",
              "      gap: 12px;\n",
              "    }\n",
              "\n",
              "    .colab-df-convert {\n",
              "      background-color: #E8F0FE;\n",
              "      border: none;\n",
              "      border-radius: 50%;\n",
              "      cursor: pointer;\n",
              "      display: none;\n",
              "      fill: #1967D2;\n",
              "      height: 32px;\n",
              "      padding: 0 0 0 0;\n",
              "      width: 32px;\n",
              "    }\n",
              "\n",
              "    .colab-df-convert:hover {\n",
              "      background-color: #E2EBFA;\n",
              "      box-shadow: 0px 1px 2px rgba(60, 64, 67, 0.3), 0px 1px 3px 1px rgba(60, 64, 67, 0.15);\n",
              "      fill: #174EA6;\n",
              "    }\n",
              "\n",
              "    [theme=dark] .colab-df-convert {\n",
              "      background-color: #3B4455;\n",
              "      fill: #D2E3FC;\n",
              "    }\n",
              "\n",
              "    [theme=dark] .colab-df-convert:hover {\n",
              "      background-color: #434B5C;\n",
              "      box-shadow: 0px 1px 3px 1px rgba(0, 0, 0, 0.15);\n",
              "      filter: drop-shadow(0px 1px 2px rgba(0, 0, 0, 0.3));\n",
              "      fill: #FFFFFF;\n",
              "    }\n",
              "  </style>\n",
              "\n",
              "      <script>\n",
              "        const buttonEl =\n",
              "          document.querySelector('#df-50e78b93-9285-4ca4-9d4a-4c84319725be button.colab-df-convert');\n",
              "        buttonEl.style.display =\n",
              "          google.colab.kernel.accessAllowed ? 'block' : 'none';\n",
              "\n",
              "        async function convertToInteractive(key) {\n",
              "          const element = document.querySelector('#df-50e78b93-9285-4ca4-9d4a-4c84319725be');\n",
              "          const dataTable =\n",
              "            await google.colab.kernel.invokeFunction('convertToInteractive',\n",
              "                                                     [key], {});\n",
              "          if (!dataTable) return;\n",
              "\n",
              "          const docLinkHtml = 'Like what you see? Visit the ' +\n",
              "            '<a target=\"_blank\" href=https://colab.research.google.com/notebooks/data_table.ipynb>data table notebook</a>'\n",
              "            + ' to learn more about interactive tables.';\n",
              "          element.innerHTML = '';\n",
              "          dataTable['output_type'] = 'display_data';\n",
              "          await google.colab.output.renderOutput(dataTable, element);\n",
              "          const docLink = document.createElement('div');\n",
              "          docLink.innerHTML = docLinkHtml;\n",
              "          element.appendChild(docLink);\n",
              "        }\n",
              "      </script>\n",
              "    </div>\n",
              "  </div>\n",
              "  "
            ]
          },
          "metadata": {},
          "execution_count": 85
        }
      ]
    },
    {
      "cell_type": "code",
      "source": [
        "print('Completamente Vacinados no Brasil')\t\n",
        "print(f'Brazil - {(161109802.0 /\t213993441.0* 100):.2f}%')\t"
      ],
      "metadata": {
        "colab": {
          "base_uri": "https://localhost:8080/"
        },
        "id": "S-ThnwVHpNCb",
        "outputId": "01d9c4c8-c02e-4724-a4ab-0576b8779605"
      },
      "execution_count": 87,
      "outputs": [
        {
          "output_type": "stream",
          "name": "stdout",
          "text": [
            "Completamente Vacinados no Brasil\n",
            "Brazil - 75.29%\n"
          ]
        }
      ]
    },
    {
      "cell_type": "markdown",
      "source": [
        "## **Considerações finais**\n",
        "\n",
        "A coronavírus 2019 (COVID-19) é uma patologia com alto potencial de transmissão e, atualmente, com o status de pandemia. Assim, o objetivo deste artigo foi traçar o perfil epidemiológico de casos de COVID-19 no Brasil e no mundo. Para tal, foi adotada pesquisa documental, retrospectiva, epidemiológica, descritiva com abordagem quantitativa, a partir de fontes secundárias. Os achados basearam-se nos registros de casos da enfermidade procedentes dos países analisados. \n",
        "\n",
        "Abaixo, segue os insights retirados da análise:\n",
        "\n",
        "**Casos pelo mundo**\n",
        "\n",
        "*   **Países com mais casos:**\n",
        "Os Estados Unidos lidera essa lista com aproximadamente **80 Milhões** de casos,seguido pela Índia com **43 milhões de casos** enquanto o Brasil está com **30 Milhões**, ficando em terceiro lugar dessa lista até a respectiva data.\n",
        "\n",
        "*   **Países com mais casos no período de 7 dias:**  De acordo com os dados da análise, a Coreia do Sul é o país com mais casos registrados nos últimos sete dias no mundo, seguido pela França e Vietnã.\n",
        "\n",
        "*    Essa pesquesa mostra indícios de uma possível nova onda do coronavírus provavelmente impulsionada pelo avanço da sublinhagem BA.2, já dominante nos EUA e na Europa. \n",
        "\n",
        "\n",
        "**Mortes pelo mundo**\n",
        "\n",
        "*   Os Estados Unidos lidera essa lista com aproximadamente **982 Mil** mortes, enquanto o Brasil está com **660 Mil**, ficando em segundo lugar dessa lista até a respectiva data. \n",
        "\n",
        "*   Estados Unidos, índia e Brasil lideram ranking de mortes por Covid-19.\n",
        "\n",
        "*   Os Estados Unidos lideram a lista de mortes no período de 7 dias, seguidos pela Coréia do Sul, Rússia e Brasil.\n",
        "\n",
        "**Nova onda na Europa?**\n",
        "\n",
        "Com as análises gráficas preliminares, podemos observar que a Europa pode estar prestes a passar por uma nova onda de Covid-19, abaixo será realizada a análise de óbitos devido a este aumento de casos.\n",
        "\n",
        "A alta no número de casos em alguns países está sendo relacionada, principalmente, à redução das medidas de proteção aplicadas nas últimas semanas e ao avanço da variante BA.2 da ômicron, apontada como mais infecciosa por estudos científicos preliminares.\n",
        "\n",
        "\n"
      ],
      "metadata": {
        "id": "GHprNaa-DI_8"
      }
    }
  ]
}