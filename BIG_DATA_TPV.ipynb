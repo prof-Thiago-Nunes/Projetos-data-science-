{
  "cells": [
    {
      "cell_type": "markdown",
      "metadata": {
        "id": "view-in-github",
        "colab_type": "text"
      },
      "source": [
        "<a href=\"https://colab.research.google.com/github/prof-Thiago-Nunes/Projetos-data-science-/blob/main/BIG_DATA_TPV.ipynb\" target=\"_parent\"><img src=\"https://colab.research.google.com/assets/colab-badge.svg\" alt=\"Open In Colab\"/></a>"
      ]
    },
    {
      "cell_type": "markdown",
      "metadata": {
        "id": "ty6X8Clfont0"
      },
      "source": [
        "# Oficina Big Data"
      ]
    },
    {
      "cell_type": "markdown",
      "metadata": {
        "id": "ThN1mvCFNCNq"
      },
      "source": [
        "A instalação do PySpark no ambiente virtual do Google Colab é uma dúvida pertinente para aqueles que estão começando seus projetos de Data Science para ambientes na nuvem.\n",
        "\n",
        "A definição de Big Data está cada vez mais presente em todos os seguimentos industriais, comerciais, e mesmo projetos pessoais podem assumir uma grande dimensionalidade devido à quantidade de dados disponíveis."
      ]
    },
    {
      "cell_type": "markdown",
      "metadata": {
        "id": "_BcGGqfhiqg3"
      },
      "source": [
        "Para analisar grandes volumes de dados, Big Data, com velocidade, o Apache Spark é uma ferramenta muito utilizada, dada a sua capacidade de processamento de dados e computação paralela."
      ]
    },
    {
      "cell_type": "markdown",
      "metadata": {
        "id": "Yhk15TROiwrZ"
      },
      "source": [
        "PySpark é a interface de alto nível que permite acessar e usar o Spark por meio da linguagem Python. Usando o PySpark, você consegue escrever todo o seu código usando apenas o estilo Python de escrever código."
      ]
    },
    {
      "cell_type": "markdown",
      "metadata": {
        "id": "zVpwmbHljSWz"
      },
      "source": [
        "Já o Google Colab é uma ferramenta maravilhosa, poderosa e gratuita – com suporte de GPU inclusive. Uma vez que roda 100% na nuvem, você não tem a necessidade de instalar qualquer coisa na sua própria máquina."
      ]
    },
    {
      "cell_type": "markdown",
      "metadata": {
        "id": "IEwCQfLXjfB6"
      },
      "source": [
        "Entretanto, apesar da maioria das bibliotecas de Data Science estarem previamente instaladas no ambiente Colab, o mesmo não acontece com o PySpark. Para conseguir usar o PySpark é necessário alguns passos intermediários, que não são triviais para aqueles que estão começando.\n",
        "\n",
        "Dessa maneira, a equipe preparou um material que permite a utilização das ferramentas com o colab."
      ]
    },
    {
      "cell_type": "markdown",
      "metadata": {
        "id": "AITFyk3Fj6sd"
      },
      "source": [
        "#Instalando o PySpark no Google Colab"
      ]
    },
    {
      "cell_type": "markdown",
      "metadata": {
        "id": "JTaIpmCykCIl"
      },
      "source": [
        "Instalar o PySpark não é um processo direto como de costume em Python, Não basta usar \"um pip install\" apenas. Na verdade, antes de tudo é necessário instalar dependências como o Java 8, Apache Spark 2.4.4 (ou a nova versão) junto com o Hadoop 2.7. (ou nova versão). Utilizando os comandos abaixo para realizar a instalação no colab."
      ]
    },
    {
      "cell_type": "code",
      "execution_count": null,
      "metadata": {
        "id": "G6SgzhcdAvbU"
      },
      "outputs": [],
      "source": [
        "# instalar as dependências do pyspark no colab\n",
        "!apt-get install openjdk-8-jdk-headless -qq > /dev/null\n",
        "!wget -q https://archive.apache.org/dist/spark/spark-2.4.4/spark-2.4.4-bin-hadoop2.7.tgz\n",
        "!tar xf spark-2.4.4-bin-hadoop2.7.tgz\n",
        "!pip install -q findspark\n"
      ]
    },
    {
      "cell_type": "markdown",
      "metadata": {
        "id": "4YtB7UUZlCM5"
      },
      "source": [
        "A próxima etapa é configurar as variáveis de ambiente, pois isso habilitará o ambiente do Colab a identificar corretamente onde as dependências do spark estão rodando."
      ]
    },
    {
      "cell_type": "code",
      "execution_count": null,
      "metadata": {
        "id": "TgKK7Qoe0Qhz"
      },
      "outputs": [],
      "source": [
        "# configurar as variáveis de ambiente \n",
        "import os # Para conseguir “manipular” o terminal e interagir como ele, você pode usar a biblioteca 'os'.\n",
        "os.environ[\"JAVA_HOME\"] = \"/usr/lib/jvm/java-8-openjdk-amd64\"\n",
        "os.environ[\"SPARK_HOME\"] = \"/content/spark-2.4.4-bin-hadoop2.7\"\n",
        " "
      ]
    },
    {
      "cell_type": "code",
      "execution_count": null,
      "metadata": {
        "id": "0Ir6QAT7ABZ8"
      },
      "outputs": [],
      "source": [
        "# tornar o pyspark \"importável\"\n",
        "import findspark\n",
        "findspark.init('spark-2.4.4-bin-hadoop2.7')\n"
      ]
    },
    {
      "cell_type": "markdown",
      "metadata": {
        "id": "FvT9zvA7lnR0"
      },
      "source": [
        "Com tudo pronto, é necessário rodar uma sessão local para testar se a instalação funcionou corretamente, aproveitando e instalando as bibliotecas necessárias para a manipulação do arquivo, essas bibliotecas serão explicadas no decorrer da análise."
      ]
    },
    {
      "cell_type": "code",
      "execution_count": null,
      "metadata": {
        "id": "M5eTY3bpz1RQ"
      },
      "outputs": [],
      "source": [
        "# Importar as bibliotecas de trabalho do pyspark\n",
        "from pyspark.sql import SparkSession\n",
        "from pyspark.sql.functions import *\n",
        "import pyspark.sql.functions as F\n",
        "import pyspark.sql.types as T\n",
        "from pyspark.sql.functions import explode, explode_outer\n",
        "from pyspark import SparkConf, SparkContext\n",
        "sc = SparkSession.builder.master('local[*]').getOrCreate()"
      ]
    },
    {
      "cell_type": "markdown",
      "metadata": {
        "id": "5gHWoJrXmFel"
      },
      "source": [
        "#Carregando os dados do arquivo que está em uma pasta no Google Drive"
      ]
    },
    {
      "cell_type": "code",
      "execution_count": null,
      "metadata": {
        "colab": {
          "background_save": true
        },
        "id": "VsyEfPcPfOom"
      },
      "outputs": [],
      "source": [
        "df = sc.read.json('/content/drive/MyDrive/BIG_DATA_TPV/tpv_transformers_meters/tpv_transformers_meters.json')"
      ]
    },
    {
      "cell_type": "markdown",
      "metadata": {
        "id": "yK5N0UvxmZAV"
      },
      "source": [
        "Visualizando como os dados estão organizados para realizar a análise exploratória."
      ]
    },
    {
      "cell_type": "markdown",
      "metadata": {
        "id": "KOrW0P1JmunJ"
      },
      "source": [
        "Como resultado, o schema abaixo, o que significa que os nossos dados estão rodando corretamente junto ao PySpark, porém os dados estão organizados de forma bastante complexa, é necessário a utilização de algum método para alinhar esses dados."
      ]
    },
    {
      "cell_type": "markdown",
      "metadata": {
        "id": "t5EnU16nDPur"
      },
      "source": [
        "# O que são esses dados?\n",
        "Esses dados são referentes a medição da qualidade de energia distribuida para a manufatura da empresa."
      ]
    },
    {
      "cell_type": "code",
      "execution_count": null,
      "metadata": {
        "colab": {
          "background_save": true
        },
        "id": "e33g5qywGeHC",
        "outputId": "12160fb8-71c3-4610-dae9-cea079e0baf6"
      },
      "outputs": [
        {
          "name": "stdout",
          "output_type": "stream",
          "text": [
            "root\n",
            " |-- _id: struct (nullable = true)\n",
            " |    |-- $oid: string (nullable = true)\n",
            " |-- content: struct (nullable = true)\n",
            " |    |-- 0: struct (nullable = true)\n",
            " |    |    |-- afreq: double (nullable = true)\n",
            " |    |    |-- airms: double (nullable = true)\n",
            " |    |    |-- apf: double (nullable = true)\n",
            " |    |    |-- ava: double (nullable = true)\n",
            " |    |    |-- avah: double (nullable = true)\n",
            " |    |    |-- avar: double (nullable = true)\n",
            " |    |    |-- avarh: double (nullable = true)\n",
            " |    |    |-- avrms: double (nullable = true)\n",
            " |    |    |-- awatt: double (nullable = true)\n",
            " |    |    |-- awatth: double (nullable = true)\n",
            " |    |    |-- bfreq: double (nullable = true)\n",
            " |    |    |-- birms: double (nullable = true)\n",
            " |    |    |-- bpf: double (nullable = true)\n",
            " |    |    |-- bva: double (nullable = true)\n",
            " |    |    |-- bvah: double (nullable = true)\n",
            " |    |    |-- bvar: double (nullable = true)\n",
            " |    |    |-- bvarh: double (nullable = true)\n",
            " |    |    |-- bvrms: double (nullable = true)\n",
            " |    |    |-- bwatt: double (nullable = true)\n",
            " |    |    |-- bwatth: double (nullable = true)\n",
            " |    |    |-- cfreq: double (nullable = true)\n",
            " |    |    |-- cirms: double (nullable = true)\n",
            " |    |    |-- cpf: double (nullable = true)\n",
            " |    |    |-- cva: double (nullable = true)\n",
            " |    |    |-- cvah: double (nullable = true)\n",
            " |    |    |-- cvar: double (nullable = true)\n",
            " |    |    |-- cvarh: double (nullable = true)\n",
            " |    |    |-- cvrms: double (nullable = true)\n",
            " |    |    |-- cwatt: double (nullable = true)\n",
            " |    |    |-- cwatth: double (nullable = true)\n",
            " |    |    |-- events: struct (nullable = true)\n",
            " |    |    |    |-- a: struct (nullable = true)\n",
            " |    |    |    |    |-- event: string (nullable = true)\n",
            " |    |    |    |    |-- line_voltage: double (nullable = true)\n",
            " |    |    |    |    |-- percentage: double (nullable = true)\n",
            " |    |    |    |-- b: struct (nullable = true)\n",
            " |    |    |    |    |-- event: string (nullable = true)\n",
            " |    |    |    |    |-- line_voltage: double (nullable = true)\n",
            " |    |    |    |    |-- percentage: double (nullable = true)\n",
            " |    |    |    |-- c: struct (nullable = true)\n",
            " |    |    |    |    |-- event: string (nullable = true)\n",
            " |    |    |    |    |-- line_voltage: double (nullable = true)\n",
            " |    |    |    |    |-- percentage: double (nullable = true)\n",
            " |    |    |-- voltageLine: string (nullable = true)\n",
            " |    |-- 1: struct (nullable = true)\n",
            " |    |    |-- afreq: double (nullable = true)\n",
            " |    |    |-- airms: double (nullable = true)\n",
            " |    |    |-- apf: double (nullable = true)\n",
            " |    |    |-- ava: double (nullable = true)\n",
            " |    |    |-- avah: double (nullable = true)\n",
            " |    |    |-- avar: double (nullable = true)\n",
            " |    |    |-- avarh: double (nullable = true)\n",
            " |    |    |-- avrms: double (nullable = true)\n",
            " |    |    |-- awatt: double (nullable = true)\n",
            " |    |    |-- awatth: double (nullable = true)\n",
            " |    |    |-- bfreq: double (nullable = true)\n",
            " |    |    |-- birms: double (nullable = true)\n",
            " |    |    |-- bpf: double (nullable = true)\n",
            " |    |    |-- bva: double (nullable = true)\n",
            " |    |    |-- bvah: double (nullable = true)\n",
            " |    |    |-- bvar: double (nullable = true)\n",
            " |    |    |-- bvarh: double (nullable = true)\n",
            " |    |    |-- bvrms: double (nullable = true)\n",
            " |    |    |-- bwatt: double (nullable = true)\n",
            " |    |    |-- bwatth: double (nullable = true)\n",
            " |    |    |-- cfreq: double (nullable = true)\n",
            " |    |    |-- cirms: double (nullable = true)\n",
            " |    |    |-- cpf: double (nullable = true)\n",
            " |    |    |-- cva: double (nullable = true)\n",
            " |    |    |-- cvah: double (nullable = true)\n",
            " |    |    |-- cvar: double (nullable = true)\n",
            " |    |    |-- cvarh: double (nullable = true)\n",
            " |    |    |-- cvrms: double (nullable = true)\n",
            " |    |    |-- cwatt: double (nullable = true)\n",
            " |    |    |-- cwatth: double (nullable = true)\n",
            " |    |    |-- events: struct (nullable = true)\n",
            " |    |    |    |-- a: struct (nullable = true)\n",
            " |    |    |    |    |-- event: string (nullable = true)\n",
            " |    |    |    |    |-- line_voltage: double (nullable = true)\n",
            " |    |    |    |    |-- percentage: double (nullable = true)\n",
            " |    |    |    |-- b: struct (nullable = true)\n",
            " |    |    |    |    |-- event: string (nullable = true)\n",
            " |    |    |    |    |-- line_voltage: double (nullable = true)\n",
            " |    |    |    |    |-- percentage: double (nullable = true)\n",
            " |    |    |    |-- c: struct (nullable = true)\n",
            " |    |    |    |    |-- event: string (nullable = true)\n",
            " |    |    |    |    |-- line_voltage: double (nullable = true)\n",
            " |    |    |    |    |-- percentage: double (nullable = true)\n",
            " |    |    |-- voltageLine: string (nullable = true)\n",
            " |    |-- 2: struct (nullable = true)\n",
            " |    |    |-- afreq: double (nullable = true)\n",
            " |    |    |-- airms: double (nullable = true)\n",
            " |    |    |-- apf: double (nullable = true)\n",
            " |    |    |-- ava: double (nullable = true)\n",
            " |    |    |-- avah: double (nullable = true)\n",
            " |    |    |-- avar: double (nullable = true)\n",
            " |    |    |-- avarh: double (nullable = true)\n",
            " |    |    |-- avrms: double (nullable = true)\n",
            " |    |    |-- awatt: double (nullable = true)\n",
            " |    |    |-- awatth: double (nullable = true)\n",
            " |    |    |-- bfreq: double (nullable = true)\n",
            " |    |    |-- birms: double (nullable = true)\n",
            " |    |    |-- bpf: double (nullable = true)\n",
            " |    |    |-- bva: double (nullable = true)\n",
            " |    |    |-- bvah: double (nullable = true)\n",
            " |    |    |-- bvar: double (nullable = true)\n",
            " |    |    |-- bvarh: double (nullable = true)\n",
            " |    |    |-- bvrms: double (nullable = true)\n",
            " |    |    |-- bwatt: double (nullable = true)\n",
            " |    |    |-- bwatth: double (nullable = true)\n",
            " |    |    |-- cfreq: double (nullable = true)\n",
            " |    |    |-- cirms: double (nullable = true)\n",
            " |    |    |-- cpf: double (nullable = true)\n",
            " |    |    |-- cva: double (nullable = true)\n",
            " |    |    |-- cvah: double (nullable = true)\n",
            " |    |    |-- cvar: double (nullable = true)\n",
            " |    |    |-- cvarh: double (nullable = true)\n",
            " |    |    |-- cvrms: double (nullable = true)\n",
            " |    |    |-- cwatt: double (nullable = true)\n",
            " |    |    |-- cwatth: double (nullable = true)\n",
            " |    |    |-- events: struct (nullable = true)\n",
            " |    |    |    |-- a: struct (nullable = true)\n",
            " |    |    |    |    |-- event: string (nullable = true)\n",
            " |    |    |    |    |-- line_voltage: double (nullable = true)\n",
            " |    |    |    |    |-- percentage: double (nullable = true)\n",
            " |    |    |    |-- b: struct (nullable = true)\n",
            " |    |    |    |    |-- event: string (nullable = true)\n",
            " |    |    |    |    |-- line_voltage: double (nullable = true)\n",
            " |    |    |    |    |-- percentage: double (nullable = true)\n",
            " |    |    |    |-- c: struct (nullable = true)\n",
            " |    |    |    |    |-- event: string (nullable = true)\n",
            " |    |    |    |    |-- line_voltage: double (nullable = true)\n",
            " |    |    |    |    |-- percentage: double (nullable = true)\n",
            " |    |    |-- voltageLine: string (nullable = true)\n",
            " |    |-- 3: struct (nullable = true)\n",
            " |    |    |-- airms: string (nullable = true)\n",
            " |    |    |-- apf: string (nullable = true)\n",
            " |    |    |-- ava: string (nullable = true)\n",
            " |    |    |-- avah: string (nullable = true)\n",
            " |    |    |-- avar: string (nullable = true)\n",
            " |    |    |-- avarh: string (nullable = true)\n",
            " |    |    |-- avrms: string (nullable = true)\n",
            " |    |    |-- awatt: string (nullable = true)\n",
            " |    |    |-- awatth: string (nullable = true)\n",
            " |    |    |-- birms: string (nullable = true)\n",
            " |    |    |-- bpf: string (nullable = true)\n",
            " |    |    |-- bva: string (nullable = true)\n",
            " |    |    |-- bvah: string (nullable = true)\n",
            " |    |    |-- bvar: string (nullable = true)\n",
            " |    |    |-- bvarh: string (nullable = true)\n",
            " |    |    |-- bvrms: string (nullable = true)\n",
            " |    |    |-- bwatt: string (nullable = true)\n",
            " |    |    |-- bwatth: string (nullable = true)\n",
            " |    |    |-- cirms: string (nullable = true)\n",
            " |    |    |-- cpf: string (nullable = true)\n",
            " |    |    |-- cva: string (nullable = true)\n",
            " |    |    |-- cvah: string (nullable = true)\n",
            " |    |    |-- cvar: string (nullable = true)\n",
            " |    |    |-- cvarh: string (nullable = true)\n",
            " |    |    |-- cvrms: string (nullable = true)\n",
            " |    |    |-- cwatt: string (nullable = true)\n",
            " |    |    |-- cwatth: string (nullable = true)\n",
            " |    |    |-- events: struct (nullable = true)\n",
            " |    |    |    |-- a: struct (nullable = true)\n",
            " |    |    |    |    |-- event: string (nullable = true)\n",
            " |    |    |    |    |-- line_voltage: string (nullable = true)\n",
            " |    |    |    |    |-- percentage: string (nullable = true)\n",
            " |    |    |    |-- b: struct (nullable = true)\n",
            " |    |    |    |    |-- event: string (nullable = true)\n",
            " |    |    |    |    |-- line_voltage: string (nullable = true)\n",
            " |    |    |    |    |-- percentage: string (nullable = true)\n",
            " |    |    |    |-- c: struct (nullable = true)\n",
            " |    |    |    |    |-- event: string (nullable = true)\n",
            " |    |    |    |    |-- line_voltage: string (nullable = true)\n",
            " |    |    |    |    |-- percentage: string (nullable = true)\n",
            " |    |    |-- voltageLine: string (nullable = true)\n",
            " |    |-- datetime: string (nullable = true)\n",
            " |    |-- demand: struct (nullable = true)\n",
            " |    |    |-- notification: string (nullable = true)\n",
            " |    |    |-- percentageDemand: double (nullable = true)\n",
            " |    |-- meters: struct (nullable = true)\n",
            " |    |    |-- Substation: struct (nullable = true)\n",
            " |    |    |    |-- idx: string (nullable = true)\n",
            " |    |    |    |-- isOnline: string (nullable = true)\n",
            " |    |    |-- Transformer001: struct (nullable = true)\n",
            " |    |    |    |-- idx: long (nullable = true)\n",
            " |    |    |    |-- isOnline: boolean (nullable = true)\n",
            " |    |    |-- Transformer002: struct (nullable = true)\n",
            " |    |    |    |-- idx: long (nullable = true)\n",
            " |    |    |    |-- isOnline: boolean (nullable = true)\n",
            " |    |    |-- Transformer003: struct (nullable = true)\n",
            " |    |    |    |-- idx: long (nullable = true)\n",
            " |    |    |    |-- isOnline: boolean (nullable = true)\n",
            " |    |    |-- Transformer004: struct (nullable = true)\n",
            " |    |    |    |-- idx: long (nullable = true)\n",
            " |    |    |    |-- isOnline: boolean (nullable = true)\n",
            " |    |-- offline: boolean (nullable = true)\n",
            " |    |-- sum: struct (nullable = true)\n",
            " |    |    |-- acc_watth: double (nullable = true)\n",
            " |    |    |-- demmand: long (nullable = true)\n",
            " |    |    |-- pf: double (nullable = true)\n",
            " |    |    |-- va: double (nullable = true)\n",
            " |    |    |-- vah: double (nullable = true)\n",
            " |    |    |-- var: double (nullable = true)\n",
            " |    |    |-- varh: double (nullable = true)\n",
            " |    |    |-- watt: double (nullable = true)\n",
            " |    |    |-- watth: double (nullable = true)\n",
            " |    |-- time_average: double (nullable = true)\n",
            " |-- time_stamp: struct (nullable = true)\n",
            " |    |-- $date: string (nullable = true)\n",
            "\n"
          ]
        }
      ],
      "source": [
        "# visualizar as colunas aninhadas\n",
        "df.printSchema()\n",
        "  "
      ]
    },
    {
      "cell_type": "markdown",
      "metadata": {
        "id": "sKuX64pZ-szO"
      },
      "source": [
        "# Verificando se todas as dependencias do pyspark estão instaladas e operando, assim como nossa massa de dados."
      ]
    },
    {
      "cell_type": "code",
      "execution_count": null,
      "metadata": {
        "colab": {
          "background_save": true
        },
        "id": "cJrNPRtj7vkj",
        "outputId": "b0b00e15-9e2a-42b4-f42a-ae98307116d4"
      },
      "outputs": [
        {
          "name": "stdout",
          "output_type": "stream",
          "text": [
            "drive\t     spark-2.4.4-bin-hadoop2.7\t    spark-2.4.4-bin-hadoop2.7.tgz.1\n",
            "sample_data  spark-2.4.4-bin-hadoop2.7.tgz  spark-warehouse\n"
          ]
        }
      ],
      "source": [
        "!ls"
      ]
    },
    {
      "cell_type": "markdown",
      "metadata": {
        "id": "rz-qRFcSMSLG"
      },
      "source": [
        "Agora que carregamos o conjunto de dados, podemos começar a analisar. Para o nosso modelo de regressão linear precisamos importar dois módulos de Pyspark, ou seja, Vector Assembler e Regression Linear. Vector Assembler é um transformador que reúne todas as características em um vetor de várias colunas que contêm tipo duplo. Poderíamos ter usado o StringIndexer se alguma de nossas colunas contiver valores de string para convertê-lo em valores numéricos. Nosso dataframe possui muitos valores nulos, então faremos um tratamento antes de aplicarmos a técnica de Regressão Linear."
      ]
    },
    {
      "cell_type": "markdown",
      "metadata": {
        "id": "qwQVEH85nKma"
      },
      "source": [
        "Nivelando os dados, renomeando as colunas para uma melhor visualização e organizar para realizar a análise exploratória."
      ]
    },
    {
      "cell_type": "code",
      "execution_count": null,
      "metadata": {
        "colab": {
          "background_save": true
        },
        "id": "LLRO_jt7JJhn",
        "outputId": "209e6edf-31af-43fd-89af-52f9547dd58d"
      },
      "outputs": [
        {
          "name": "stdout",
          "output_type": "stream",
          "text": [
            "+--------------------+------------------+-----------------+------------------+------------------+------------------+------------------+------------------+------------------+------------------+------------------+------------------+-----------------+------------------+------------------+------------------+------------------+------------------+------------------+------------------+------------------+------------------+-----------------+------------------+------------------+------------------+------------------+------------------+------------------+------------------+------------------+------------------+-------------------------+-----------------------+------------------+-------------------------+-----------------------+------------------+-------------------------+-----------------------+----------------+--------------+--------------+---------------+---------------+----------------+----------------+----------------+-----------------+----------------+--------------+--------------+---------------+---------------+----------------+----------------+----------------+-----------------+----------------+--------------+--------------+---------------+---------------+----------------+----------------+----------------+-----------------+------------------+-------------------------+-----------------------+------------------+-------------------------+-----------------------+------------------+-------------------------+-----------------------+----------------------+------------------+------------------+------------------+------------------+------------------+------------------+------------------+------------------+-----------------+------------------+------------------+------------------+------------------+-----------------+------------------+------------------+------------------+------------------+-----------------+------------------+------------------+------------------+------------------+------------------+------------------+------------------+------------------+------------------+-----------------+------------------+----------------+--------------+--------------+---------------+---------------+----------------+----------------+----------------+-----------------+----------------+--------------+--------------+---------------+---------------+----------------+----------------+----------------+-----------------+----------------+--------------+--------------+---------------+---------------+----------------+----------------+----------------+-----------------+--------------------+-------------------+-----------------+---------------+--------------------+------------------------+-----------------------------+------------------------+-----------------------------+------------------------+-----------------------------+------------------------+-----------------------------+-------+--------------------+-----------+------+---------+-------+---------+--------+---------+------------------+--------------------+\n",
            "|                  id|  afreq_transfor01| airms_transfor01|    apf_transfor01|    ava_transfor01|   avah_transfor01|   avar_transfor01|  avarh_transfor01|  avrms_transfor01|  awatt_transfor01| awatth_transfor01|  bfreq_transfor01| birms_transfor01|    bpf_transfor01|    bva_transfor01|   bvah_transfor01|   bvar_transfor01|  bvarh_transfor01|  bvrms_transfor01|  bwatt_transfor01| bwatth_transfor01|  cfreq_transfor01| cirms_transfor01|    cpf_transfor01|    cva_transfor01|   cvah_transfor01|   cvar_transfor01|  cvarh_transfor01|  cvrms_transfor01|  cwatt_transfor01| cwatth_transfor01|event_a_transfor01|line_voltage_a_transfor01|percentage_a_transfor01|event_b_transfor01|line_voltage_b_transfor01|percentage_b_transfor01|event_c_transfor01|line_voltage_c_transfor01|percentage_c_transfor01|airms_transfor02|apf_transfor02|ava_transfor02|avah_transfor02|avar_transfor02|avarh_transfor02|avrms_transfor02|awatt_transfor02|awatth_transfor02|birms_transfor02|bpf_transfor02|bva_transfor02|bvah_transfor02|bvar_transfor02|bvarh_transfor02|bvrms_transfor02|bwatt_transfor02|bwatth_transfor02|cirms_transfor02|cpf_transfor02|cva_transfor02|cvah_transfor02|cvar_transfor02|cvarh_transfor02|cvrms_transfor02|cwatt_transfor02|cwatth_transfor02|event_a_transfor02|line_voltage_a_transfor02|percentage_a_transfor02|event_b_transfor02|line_voltage_b_transfor02|percentage_b_transfor02|event_c_transfor02|line_voltage_c_transfor02|percentage_c_transfor02|voltageline_transfor02|  afreq_transfor03|  airms_transfor03|    apf_transfor03|    ava_transfor03|   avah_transfor03|   avar_transfor03|  avarh_transfor03|  avrms_transfor03| awatt_transfor03| awatth_transfor03|  bfreq_transfor03|  birms_transfor03|    bpf_transfor03|   bva_transfor03|   bvah_transfor03|   bvar_transfor03|  bvarh.transfor03|  bvrms_transfor03| bwatt_transfor03| bwatth_transfor03|  cfreq_transfor03|  cirms_transfor03|    cpf_transfor03|    cva_transfor03|   cvah_transfor03|   cvar_transfor03|  cvarh_transfor03|  cvrms_transfor03| cwatt_transfor03| cwatth_transfor03|airms_transfor04|apf_transfor04|ava_transfor04|avah_transfor04|avar_transfor04|avarh_transfor04|avrms_transfor04|awatt_transfor04|awatth_transfor04|birms_transfor04|bpf_transfor04|bva_transfor04|bvah_transfor04|bvar_transfor04|bvarh_transfor04|bvrms_transfor04|bwatt_transfor04|bwatth_transfor04|cirms_transfor04|cpf_transfor04|cva_transfor04|cvah_transfor04|cvar_transfor04|cvarh_transfor04|cvrms_transfor04|cwatt_transfor04|cwatth_transfor04|           date_time|demand_notification|percentage_Demand|meters_subs_idx|meters_subs_isOnline|meters_Transformer01_idx|meters_Transformer01_isOnline|meters_Transformer02_idx|meters_Transformer02_isOnline|meters_Transformer03_idx|meters_Transformer03_isOnline|meters_Transformer04_idx|meters_Transformer04_isOnline|offline|       sum_acc_watth|sum_demmand|sum_pf|   sum_va|sum_vah|  sum_var|sum_varh|sum_watth|      time_average|                date|\n",
            "+--------------------+------------------+-----------------+------------------+------------------+------------------+------------------+------------------+------------------+------------------+------------------+------------------+-----------------+------------------+------------------+------------------+------------------+------------------+------------------+------------------+------------------+------------------+-----------------+------------------+------------------+------------------+------------------+------------------+------------------+------------------+------------------+------------------+-------------------------+-----------------------+------------------+-------------------------+-----------------------+------------------+-------------------------+-----------------------+----------------+--------------+--------------+---------------+---------------+----------------+----------------+----------------+-----------------+----------------+--------------+--------------+---------------+---------------+----------------+----------------+----------------+-----------------+----------------+--------------+--------------+---------------+---------------+----------------+----------------+----------------+-----------------+------------------+-------------------------+-----------------------+------------------+-------------------------+-----------------------+------------------+-------------------------+-----------------------+----------------------+------------------+------------------+------------------+------------------+------------------+------------------+------------------+------------------+-----------------+------------------+------------------+------------------+------------------+-----------------+------------------+------------------+------------------+------------------+-----------------+------------------+------------------+------------------+------------------+------------------+------------------+------------------+------------------+------------------+-----------------+------------------+----------------+--------------+--------------+---------------+---------------+----------------+----------------+----------------+-----------------+----------------+--------------+--------------+---------------+---------------+----------------+----------------+----------------+-----------------+----------------+--------------+--------------+---------------+---------------+----------------+----------------+----------------+-----------------+--------------------+-------------------+-----------------+---------------+--------------------+------------------------+-----------------------------+------------------------+-----------------------------+------------------------+-----------------------------+------------------------+-----------------------------+-------+--------------------+-----------+------+---------+-------+---------+--------+---------+------------------+--------------------+\n",
            "|6089864aa56aaa19f...| 59.98194894427409|716.6789508090116|0.9681929124012061|170676.49247856849| 94.09621787080019| 41954.63569121699| 23.26953683408982|236.12278427201713|165313.91172715888|136.60337495711596| 59.97086147832301|734.4708631300633|0.9729281810889256| 173211.1321187436| 96.33351870201285| 39301.22287229585| 21.90127685545347| 234.8009581858724| 168446.4618987878|140.56159934881902| 59.97506682288224|727.1162594456403|0.9604565349255243| 172365.0634921141| 95.74420385311561| 47315.43332276992|26.277915037287322| 235.5598312871527|165628.26271067272|137.93835778424443|              null|                    127.0|     1.8592345218269066|              null|                    127.0|      1.848826442408444|              null|                    127.0|     1.8548018211586825|            null|          null|          null|           null|           null|            null|            null|            null|             null|            null|          null|          null|           null|           null|            null|            null|            null|             null|            null|          null|          null|           null|           null|            null|            null|            null|             null|              null|                     null|                   null|              null|                     null|                   null|              null|                     null|                   null|                  null|59.972103125552636| 392.8062855645275|0.8386911216280692|  102724.621637913| 56.49528813213736|55861.970286554606|30.666033217856985|  260.018503629799|84900.12064328005|47.356961724664814| 59.96975707288728|369.25864347092715|0.8559402067656829|96572.03180853874| 53.93022591460427| 50453.02841887138| 27.77549819133766|259.27768673774847|82666.78476815527| 46.13609849703838| 59.97914238502572|411.76080828062766|0.8664221381129483|  107295.149247132|59.989710678362954| 54431.42976348872|29.827510853299252|260.88988649634626| 90740.5775162793| 51.95732380427579|            null|          null|          null|           null|           null|            null|            null|            null|             null|            null|          null|          null|           null|           null|            null|            null|            null|             null|            null|          null|          null|           null|           null|            null|            null|            null|             null|2021-04-28T15:59:...|               null|             0.84|            sum|                null|                       0|                         true|                       1|                        false|                       2|                         true|                       3|                        false|   null|1.8953789020000067E7|     900000|  0.93|811053.73| 456.59|289317.72|  159.72|757696.12| 3.341653347015381|2021-04-28T15:59:...|\n",
            "|6089864ca56aaa19f...| 59.97411319386335|713.1209895804516|0.9683041719220888|169883.56952181362| 94.85116386525107| 42899.16732651766|23.339109585049098|236.10104509703334|164116.95990531778| 91.87669371866443|59.978826749315715|730.0141899490442| 0.972784057056785|172107.98979765503| 96.33230637456015|40013.166093120606|21.946751505618174|234.70140995541504|167123.16951149184| 93.74073377201537|59.978744410111624|  724.24178152169| 0.960215165914708|171639.59465481553| 95.82795341285856|48034.900439575285|26.371387958028482| 235.5609014533996| 164672.0320694831|  92.0497596478821|              null|                    127.0|      1.859063347220735|              null|                    127.0|     1.8480425980741342|              null|                    127.0|     1.8548102476645638|            null|          null|          null|           null|           null|            null|            null|            null|             null|            null|          null|          null|           null|           null|            null|            null|            null|             null|            null|          null|          null|           null|           null|            null|            null|            null|             null|              null|                     null|                   null|              null|                     null|                   null|              null|                     null|                   null|                  null| 59.96970905618237| 397.9133693592277|0.8385855990542888| 102600.6730625098|56.510986535581054| 55489.99408816034|30.676919423554736| 260.0662284905123|84865.28456998253|47.362404827513686| 59.96895451806013|374.14224467597984|0.8553366128752873|97042.64497851703|  53.9315619489399| 50780.20916720764| 27.80678366203041| 259.1958987130909|83637.32385892651| 46.10345225063342|59.971417126252156| 421.9805543962088|0.8664911304897899|107356.99306264897| 59.94607926075389|54644.490840997605|  29.8162782683293| 260.8366058789469|90764.97581480604| 51.91437277452283|            null|          null|          null|           null|           null|            null|            null|            null|             null|            null|          null|          null|           null|           null|            null|            null|            null|             null|            null|          null|          null|           null|           null|            null|            null|            null|             null|2021-04-28T15:59:...|               null|             0.84|            sum|                null|                       0|                         true|                       1|                        false|                       2|                         true|                       3|                        false|   null|1.8954212070000067E7|     900000|  0.93|809617.08|  457.4|291861.92|  159.96|755179.74| 2.704364776611328|2021-04-28T15:59:...|\n",
            "|6089864ea56aaa19f...| 59.97722117561247|712.3088586312665|0.9670345259236881|169512.68059162467| 94.58069113641508|  42581.3370847469|23.723182344478804|235.97289838133938|163908.50884499933|  91.4102074338274|59.976246895017084|730.3115595487178|0.9715982151895628|172048.45099073328| 95.94797383067629| 40064.61562459499| 22.33055210990544|234.61880222895135|167137.04305379136|  93.1875784449983| 59.97661739235878|723.0113749564249|0.9587133374714354|171287.27626557293| 95.48330603701834| 48143.54027864799| 26.71191589466718|235.44058744385327|164381.77494939853| 91.52791453293435|              null|                    127.0|     1.8580543179633022|              null|                    127.0|       1.84739214353505|              null|                    127.0|     1.8538628932586871|            null|          null|          null|           null|           null|            null|            null|            null|             null|            null|          null|          null|           null|           null|            null|            null|            null|             null|            null|          null|          null|           null|           null|            null|            null|            null|             null|              null|                     null|                   null|              null|                     null|                   null|              null|                     null|                   null|                  null| 59.97446308300276|384.73410125730874|0.8378473955232455|101160.99948651946| 56.54245756659819|56376.465601298456|30.665526019636975| 260.1030410709313|84812.70427957464|  47.4068279691735| 59.97617828490058|373.22127554253444|0.8557124425151381|96460.78252577332| 53.98496621030036| 48933.85379171014| 27.76973345059317| 259.0529062869079|83344.10936932355| 46.19384486998965|  59.9785660092783| 405.1273144906658|0.8661018749036034|109521.48311501471|60.033045199452985| 53468.32758724167|29.833263223355452|  260.791653204203|95986.16820879956| 52.00105418739119|            null|          null|          null|           null|           null|            null|            null|            null|             null|            null|          null|          null|           null|           null|            null|            null|            null|             null|            null|          null|          null|           null|           null|            null|            null|            null|             null|2021-04-28T15:59:...|               null|             0.84|            sum|                null|                       0|                         true|                       1|                        false|                       2|                         true|                       3|                        false|   null|1.8954633800000068E7|     900000|  0.93|812894.07| 456.57|289568.14|  161.04|759570.31|2.7059526443481445|2021-04-28T15:59:...|\n",
            "|60898650a56aaa19f...| 59.97207568527929|712.9522676253536|0.9670472887683457|169683.51217204003|47.110314941480944| 42704.24188267303|11.840715635745132|236.02502344688708|164039.19848327534| 45.54604140684358| 59.97831899449189|730.4364502266817|0.9715051797889558| 172206.4528063262| 47.81246283829773| 40124.19792224495|11.137924463137114|234.76320067142686|167230.67859163103| 46.45518803086548| 59.98344496824855|723.5462303849342|0.9585932043089955| 171393.2196794965|47.580017605274115| 48167.37319770798|13.362186588889065|235.54047152435618|164414.65393992653|45.623135536284934|              null|                    127.0|      1.858464751550292|              null|                    127.0|     1.8485291391450933|              null|                    127.0|     1.8546493820815446|            null|          null|          null|           null|           null|            null|            null|            null|             null|            null|          null|          null|           null|           null|            null|            null|            null|             null|            null|          null|          null|           null|           null|            null|            null|            null|             null|              null|                     null|                   null|              null|                     null|                   null|              null|                     null|                   null|                  null| 59.97214428600973|  390.650242119421|0.8386844235560627|101248.67679459415| 56.48588640903475|52777.259915958515|  30.5966460272221| 260.0734578050526|85373.73467350495|47.384313316480416| 59.98251166013266|  376.677798672584| 0.856787613457349|99293.29016347004| 54.02982232605042|50138.764416813974|27.727598886267547|  259.237544118742|84352.74633800819| 46.27382136980325| 59.97478553347151|421.27020308795335|0.8653423180084103|107981.30246612724| 60.06348946334182| 53992.91275093063|29.861888996065225|260.74014860738356|93293.74420667258| 52.02579556397699|            null|          null|          null|           null|           null|            null|            null|            null|             null|            null|          null|          null|           null|           null|            null|            null|            null|             null|            null|          null|          null|           null|           null|            null|            null|            null|             null|2021-04-28T15:59:...|               null|             0.84|            sum|                null|                       0|                         true|                       1|                        false|                       2|                         true|                       3|                        false|   null| 1.895491710000007E7|     900000|  0.93|811493.72| 313.08|287904.75|  124.53|758704.76| 2.700935125350952|2021-04-28T15:59:...|\n",
            "|60898652a56aaa19f...| 59.97519031662775|707.7087376341722| 0.966054878876022|168521.17896985542|  94.1821075596178| 42746.86279632045|23.677175754717503|  236.092056839034|162884.82408435346|  91.0498245424786|  59.9723638094018|730.4484611350912|0.9715187770986465|172239.94066704917|  95.6356510633454|  40309.1204986009| 22.32389667960386|234.73914470036596|167293.78363826615| 92.91751394887595|59.977406429729704|722.7487288360394|0.9587098207973674|171315.71920182335| 95.13540517015707|48049.687287167246|26.742817874022847|235.54543527418227|164253.30333826132| 91.20273862046716|              null|                    127.0|     1.8589925735357007|              null|                    127.0|     1.8483397220501256|              null|                    127.0|     1.8546884667258445|            null|          null|          null|           null|           null|            null|            null|            null|             null|            null|          null|          null|           null|           null|            null|            null|            null|             null|            null|          null|          null|           null|           null|            null|            null|            null|             null|              null|                     null|                   null|              null|                     null|                   null|              null|                     null|                   null|                  null| 59.98368516253628|395.81345271834755|0.8389671879929839| 103343.4077189084|  28.2645980943741|56105.822799637346|15.285284308150333|259.95362195489315|86602.52170839698| 23.73159441251798|59.959606679765145|365.84999320330587|0.8566938553504188|97259.44625865211|27.165784077445434| 49715.12123330427|13.812244599673107|259.36293003321384|82880.06329930521| 23.35626772971135| 59.97426412593259|411.96100906203117|0.8657198240289079|108626.70487278816|30.203171544689788|54229.545803130226|15.044352782957786| 260.8906606591632|92686.43967792505| 26.17361776428987|            null|          null|          null|           null|           null|            null|            null|            null|             null|            null|          null|          null|           null|           null|            null|            null|            null|             null|            null|          null|          null|           null|           null|            null|            null|            null|             null|2021-04-28T15:59:...|               null|             0.84|            sum|                null|                       0|                         true|                       1|                        false|                       2|                         true|                       3|                        false|   null| 1.895526553000007E7|     900000|  0.93|810689.14| 370.58|291156.16|  116.88|756600.93|2.7047648429870605|2021-04-28T15:59:...|\n",
            "|60898653a56aaa19f...| 59.96872130102734|723.5799861607012|0.9649508741866861| 172048.1030649076| 94.09312519872697| 45036.47567375111| 24.13554686803438|235.77066542254147|165930.82770684117| 90.88747162932256| 59.98081668216464|745.8866338740405|0.9703128857188886| 175604.7313273283|  96.1260746300292| 42506.40256003822| 22.78042456036509|234.33604495244705|170153.42949036695| 93.35840527963495| 59.97587640225276|738.2264635718825|0.9575682204780595|174626.18994256612| 95.61209727283573|50096.839354817945|27.075750208049698|235.10798774363644| 167118.9944015835| 91.64768753698623|              null|                    127.0|     1.8564619324609564|              null|                    127.0|     1.8451657082869848|              null|                    127.0|     1.8512439979813893|            null|          null|          null|           null|           null|            null|            null|            null|             null|            null|          null|          null|           null|           null|            null|            null|            null|             null|            null|          null|          null|           null|           null|            null|            null|            null|             null|              null|                     null|                   null|              null|                     null|                   null|              null|                     null|                   null|                  null| 59.98395280986574|381.62970836148213|0.8397091391660954|100535.77677774875| 84.89948944389684|55887.020946004515| 45.97259510987111| 259.9983753965592|84092.84574621536|  71.2230750016798| 59.98244989812017| 376.3072820714593|0.8561431605826553|96254.85392769115| 81.19628679135197| 48774.63423572728| 41.66171950700232| 258.7856834981048|82257.31956204257| 69.52856286069476| 59.98763148696186|401.93616982035553|0.8652931665278462|108409.46868537096| 90.26658678390184| 53083.08671674286| 44.85028915587422|260.45346928543177|95627.32621032522| 78.16146005658425|            null|          null|          null|           null|           null|            null|            null|            null|             null|            null|          null|          null|           null|           null|            null|            null|            null|             null|            null|          null|          null|           null|           null|            null|            null|            null|             null|2021-04-28T15:59:...|               null|             0.85|            sum|                null|                       0|                         true|                       1|                        false|                       2|                         true|                       3|                        false|   null| 1.895576033000007E7|     900000|  0.93|820215.55| 542.19|295384.46|  206.47|765180.74| 2.703489065170288|2021-04-28T15:59:...|\n",
            "|60898655a56aaa19f...| 59.97782497102283|723.4616417124391|0.9640342590513398| 172166.5283178279|47.766604696795945| 44957.01811330842|12.482395608186216| 235.8137566911006|166121.79549441853| 46.05980846233606| 59.98371947616299|746.9186612174713| 0.969461977254316|175941.95843388146| 48.81285565916808|42705.720567432225|11.840777489186596| 234.5446761392318|170481.87146982134|47.317907461724126|59.970312700351236|738.3155492195642|0.9568802636629362|174784.45270252833| 48.51688694176041| 50227.78993746323|13.980411736326808|235.26338385201103|167223.28516783507| 46.40689286376999|              null|                    127.0|     1.8568012337881936|              null|                    127.0|     1.8468084735372583|              null|                    127.0|     1.8524675893859137|            null|          null|          null|           null|           null|            null|            null|            null|             null|            null|          null|          null|           null|           null|            null|            null|            null|             null|            null|          null|          null|           null|           null|            null|            null|            null|             null|              null|                     null|                   null|              null|                     null|                   null|              null|                     null|                   null|                  null| 59.97924531043202| 398.9447705415565|0.8392598691527535|102567.66359979716| 56.54991709163881| 55149.67913990416|30.591264777814686| 259.8930721763379|85032.68038286918| 47.47035145355754|59.970072613146776| 375.7847790937787|0.8555620301929268|97404.70529087904| 54.04287340219943| 50939.99410265725| 27.76098737397009| 259.1467336818432|83928.32032139068| 46.26151253495182|59.984961655883694|421.72815454840014|0.8665181537458162|107070.08472863669| 60.00083192713827|54564.163465990685| 29.79548314130893|260.69412007401905|90629.58917788316|51.990897852302716|            null|          null|          null|           null|           null|            null|            null|            null|             null|            null|          null|          null|           null|           null|            null|            null|            null|             null|            null|          null|          null|           null|           null|            null|            null|            null|             null|2021-04-28T15:59:...|               null|             0.85|            sum|                null|                       0|                         true|                       1|                        false|                       2|                         true|                       3|                        false|   null| 1.895604583000007E7|     900000|  0.93|819716.46| 315.69|298544.37|  126.45|763417.54|  2.70308518409729|2021-04-28T15:59:...|\n",
            "|60898657a56aaa19f...|59.981729350705514|720.8223157441265|0.9638839584878381|171484.76766238204|  143.492116439901| 45044.43447701384|37.620994995073914|235.85520855604744| 165263.6364453462|138.34278032591595|59.985194999250595|751.2022862394153|  0.96993628121865|176802.07456572333|146.53361097565858| 42813.66455485355| 35.50681962444049| 234.5021484156644|171513.42805227352|142.08023741434386|59.979787390067905|738.7086645440944|0.9570129212514529|174795.93425477622|145.72084438412668| 50184.60364434906| 41.86696159646984|235.27970957965007|167204.19273815016| 139.4473343422125|              null|                    127.0|     1.8571276264255705|              null|                    127.0|     1.8464736095721608|              null|                    127.0|     1.8525961384224414|            null|          null|          null|           null|           null|            null|            null|            null|             null|            null|          null|          null|           null|           null|            null|            null|            null|             null|            null|          null|          null|           null|           null|            null|            null|            null|             null|              null|                     null|                   null|              null|                     null|                   null|              null|                     null|                   null|                  null|59.973015528939676|387.88545623577903|0.8393520775389081|102969.99632648315|28.294213522147306| 55758.67980705193| 15.29487159157733| 260.0735773448993|86959.62407774286|23.756818245947205|59.974668902050645|375.65704222898785|0.8561521608840834|97604.54518701158|27.063441373198263| 49794.57879374696|13.885342996795861|259.17515001112287|83670.94219183412| 23.17769684420332|59.976246895017084| 421.3550194553947|0.8667760108916164|109254.58051597979|30.038282640433707|53418.922119993236|14.918295469253122| 260.7108898068031| 94707.9757066591|26.026975625265816|            null|          null|          null|           null|           null|            null|            null|            null|             null|            null|          null|          null|           null|           null|            null|            null|            null|             null|            null|          null|          null|           null|           null|            null|            null|            null|             null|2021-04-28T15:59:...|               null|             0.85|            sum|                null|                       0|                         true|                       1|                        false|                       2|                         true|                       3|                        false|   null|1.8956538660000067E7|     900000|  0.93|824664.05| 521.15|297014.88|  159.09| 769319.8|2.7008731365203857|2021-04-28T15:59:...|\n",
            "|60898659a56aaa19f...|59.993376890841596|717.8537998074156|0.9629598406177746|170810.40043073217|  95.2036418867807| 45490.12745972686| 25.17430119330101| 235.9563335740069| 164395.0831122313| 91.69524046278414| 59.99372700478668|750.7791151819932|0.9696777386194299|176757.36609712176| 98.13840212394716|42760.997282989236|23.712234285339587|234.45449186343495| 171440.4941010626| 95.15166025457394|59.987906033196055|739.0102465002718|0.9571161862992956| 174933.6259002943| 97.18237059129515|  50111.9741282356| 27.85363145859563|235.33200541640738|167324.83601820926| 93.01234764532934|              null|                    127.0|     1.8579238864095031|              null|                    127.0|      1.846098361129409|              null|                    127.0|     1.8530079166646252|            null|          null|          null|           null|           null|            null|            null|            null|             null|            null|          null|          null|           null|           null|            null|            null|            null|             null|            null|          null|          null|           null|           null|            null|            null|            null|             null|              null|                     null|                   null|              null|                     null|                   null|              null|                     null|                   null|                  null|59.998931140867505|387.99674214071047|0.8380201968403175|100424.26655061408| 56.58052217447545|54350.537009015046|30.615931930270733| 260.1671713525148|84089.49696014306|47.483340676265094|59.993294511683686|  371.567242529955|0.8564192940027959| 97045.1239500251|  54.0485020653727|49459.917640158295| 27.73109979105444|259.13754049839235|81844.50556985756| 46.28788684239228|60.007048099559725|408.60444401334206|0.8671590079900549|107433.36278138863| 60.07472204831177| 53633.46188226132| 29.81428658751414|260.79023011078954|94579.89551207577| 52.06497353380061|            null|          null|          null|           null|           null|            null|            null|            null|             null|            null|          null|          null|           null|           null|            null|            null|            null|             null|            null|          null|          null|           null|           null|            null|            null|            null|             null|2021-04-28T15:59:...|               null|             0.85|            sum|                null|                       0|                         true|                       1|                        false|                       2|                         true|                       3|                        false|   null|1.8956964360000066E7|     900000|  0.93|818962.91| 461.22|295807.02|   164.9|763674.31| 2.702075481414795|2021-04-28T15:59:...|\n",
            "|6089865ba56aaa19f...|59.988887556534785|725.7010215078369|0.9632613134627142|172656.71231550144| 47.44245555145705| 45531.57412371256|12.629582057495156|235.89740612194294|166280.01476365252| 45.69055578748125| 59.98576463921278| 758.352362938458|0.9696633589987707|178491.73284747425| 49.08129959512404| 42755.51745123457| 11.88249145011026| 234.3915114413295| 173249.1430152006|47.584347346176635| 59.99006817261241|746.8697637277853|0.9575504210408807|176884.70694932545| 48.59492124351203|  50097.7961508386|13.923939544269713|235.27215579981151|169555.04056090282| 93.30555769924769|              null|                    127.0|     1.8574598907239601|              null|                    127.0|     1.8456024522939332|              null|                    127.0|     1.8525366598410355|            null|          null|          null|           null|           null|            null|            null|            null|             null|            null|          null|          null|           null|           null|            null|            null|            null|             null|            null|          null|          null|           null|           null|            null|            null|            null|             null|              null|                     null|                   null|              null|                     null|                   null|              null|                     null|                   null|                  null| 60.00436280500436| 397.0436885124029|0.8392655017917268|103300.74331453277|56.573087390811416| 56138.91924380641|30.677636923475724|259.91117961693055|86311.61222738924| 47.44005563792823| 59.98564110191671| 370.3201573098844|0.8584891100115262| 97709.8797307402|53.975193366548964| 49157.57009763089|27.729516342952948| 259.1693893289853|83782.66987260985| 46.20636400654206|59.979135523344524|413.92778108314945|0.8679420416648838|109586.50175369113|60.062969894433515| 54641.96837876133|29.810538268961395|260.74804392964137|93172.40507496207| 52.04819888047544|            null|          null|          null|           null|           null|            null|            null|            null|             null|            null|          null|          null|           null|           null|            null|            null|            null|             null|            null|          null|          null|           null|           null|            null|            null|            null|             null|2021-04-28T15:59:...|               null|             0.86|            sum|                null|                       0|                         true|                       1|                        false|                       2|                         true|                       3|                        false|   null|1.8957296630000066E7|     900000|  0.93|827962.99| 315.73|298323.35|  126.66|772350.89|  2.70403790473938|2021-04-28T15:59:...|\n",
            "|6089865ca56aaa19f...| 59.98124213321655|725.4402538707571|0.9637775120420569|172565.33829552878| 95.66692416334988| 45382.87932395692|25.261551657830843| 235.8368164967721|166368.51839556324|  92.2059148462034|59.981262719710855|757.8769928146306|0.9700360370430055|178404.53393740987| 98.87450756012797| 42649.22611148529|23.744744454173333|234.28199586460437|173065.35119777813| 95.94379253803329| 59.98961514001826|747.1905859069125|0.9581326913694492| 176767.6733997079| 97.94459055046227|  50054.8708020937| 41.74973695420631|235.19263333986817|169489.80446858532|47.051294387635515|              null|                    127.0|     1.8569828070611976|              null|                    127.0|     1.8447401249181445|              null|                    127.0|     1.8519104987391195|            null|          null|          null|           null|           null|            null|            null|            null|             null|            null|          null|          null|           null|           null|            null|            null|            null|             null|            null|          null|          null|           null|           null|            null|            null|            null|             null|              null|                     null|                   null|              null|                     null|                   null|              null|                     null|                   null|                  null| 59.99275218787464|396.91942399554085|0.8395995932787625| 102790.2491467844| 56.63126673785293| 55750.85147597383| 30.64359278929366|259.81073199143594|86990.80692987061| 47.52058881871502| 59.98537343952082| 367.3209594791797|0.8565049756802989|97306.54671730533|54.160605242682976| 49600.82759956404|27.638022732338648| 259.0355047006483|83486.06310620639|46.467336046769105| 59.99044570500113|422.02837033490056|0.8670057569966149|109338.30016778722| 60.30722913477685| 53199.72884980651|29.906782223880164| 260.5765896351894|95014.84628492051| 52.26991872674911|            null|          null|          null|           null|           null|            null|            null|            null|             null|            null|          null|          null|           null|           null|            null|            null|            null|             null|            null|          null|          null|           null|           null|            null|            null|            null|             null|2021-04-28T15:59:...|               null|             0.86|            sum|                null|                       0|                         true|                       1|                        false|                       2|                         true|                       3|                        false|   null|1.8957678090000067E7|     900000|  0.93|829284.95| 463.59|296638.39|  178.95|774415.39| 2.702402114868164|2021-04-28T15:59:...|\n",
            "|6089865ea56aaa19f...|59.991358666598316|725.4693988238646|  0.96375973495662|172676.45710610953| 95.92711685021446| 45587.76414456202|25.227111661623404|235.90731085210052|166388.30667689955| 92.45238843975116|59.988098217055246|758.0727535445842|0.9701557678740901|178398.22778181918|  99.2346306670226| 42520.27610233774|23.740748721854725| 234.3191784493109| 173082.7039983346| 96.28675750026568| 59.98796094274446|747.7145689017431|0.9583105516307842| 177083.3725957963| 98.21000366778648|50054.479385539795|27.755395822861697|235.26674804484043| 169740.1805908998| 94.11192864493216|              null|                    127.0|      1.857537880725201|              null|                    127.0|     1.8450329011756763|              null|                    127.0|     1.8524940790932316|            null|          null|          null|           null|           null|            null|            null|            null|             null|            null|          null|          null|           null|           null|            null|            null|            null|             null|            null|          null|          null|           null|           null|            null|            null|            null|             null|              null|                     null|                   null|              null|                     null|                   null|              null|                     null|                   null|                  null| 59.99022604921508| 399.7921372836585|0.8394819113573574|101072.23491023948| 28.28565300584862| 53044.72789446018|15.329398182602818|259.96616225405245|84949.48261980028|23.725087430475913| 59.98943667451135|  375.196756895343|0.8571096424543085|97945.03409818061|26.960987332756453|50693.923562435724|13.829378002958777| 258.8900474766732|82887.28276018835|23.097497672000443| 59.98712358305352|401.95905316244375| 0.867314397300142| 106419.9418326007|30.028682986318415|53294.103730025796|14.877410344445083| 260.6796443678175|92302.19909417511| 26.04135036506217|            null|          null|          null|           null|           null|            null|            null|            null|             null|            null|          null|          null|           null|           null|            null|            null|            null|             null|            null|          null|          null|           null|           null|            null|            null|            null|             null|2021-04-28T15:59:...|               null|             0.85|            sum|                null|                       0|                         true|                       1|                        false|                       2|                         true|                       3|                        false|   null|1.8958033800000068E7|     900000|  0.93|824038.78| 378.65|295195.28|  120.76|769350.15| 2.704177141189575|2021-04-28T15:59:...|\n",
            "|60898660a56aaa19f...| 59.99046629781354|726.7060670001488|0.9637942609473635|172831.45806145587|47.988151353433516| 45566.71463210758|25.281221052216555| 235.8375394282261| 166489.5965829045| 92.47727826459648| 59.99242267946275| 759.632520849457|0.9703307447607126|178768.94274909532| 99.27481066259794| 42591.29646150737|23.705319070583855|234.29011888180833|173470.38034961326| 96.31227823021393| 59.98750107838096| 748.855320581961| 0.958373643147749|  177154.001538412| 98.30082926123295|50120.541801693296|27.779766078798712| 235.2259564952374| 169686.7739766559| 94.19853583367077|              null|                    127.0|     1.8569884994348513|              null|                    127.0|     1.8448040856835302|              null|                    127.0|     1.8521728857892708|            null|          null|          null|           null|           null|            null|            null|            null|             null|            null|          null|          null|           null|           null|            null|            null|            null|             null|            null|          null|          null|           null|           null|            null|            null|            null|             null|              null|                     null|                   null|              null|                     null|                   null|              null|                     null|                   null|                  null| 60.00228203869601| 389.6600537223456| 0.838906264594989|103046.23557303818| 56.63766238370036|  55885.4552797889|30.653155331344074| 259.9699989138951|87121.67053105948| 47.52848131784589| 59.99126942852517| 368.3757563172255|0.8565447468798215|97382.74247313215|54.027682196975746|  49670.4562554309|27.689719838714684|258.97217135137635| 83520.4642722218|  46.2859446443303| 60.00323656373982|419.06526215316086|0.8669749935491009|109566.36554652914| 60.13369311940403| 52994.67006628856| 29.78213516864089|260.67723649376194|95377.68943039032| 52.14540774908105|            null|          null|          null|           null|           null|            null|            null|            null|             null|            null|          null|          null|           null|           null|            null|            null|            null|             null|            null|          null|          null|           null|           null|            null|            null|            null|             null|2021-04-28T15:59:...|               null|             0.86|            sum|                null|                       0|                         true|                       1|                        false|                       2|                         true|                       3|                        false|   null|1.8958462750000067E7|     900000|  0.93|830521.62| 416.36|296829.13|   164.9|775666.57|2.7069742679595947|2021-04-28T15:59:...|\n",
            "|60898662a56aaa19f...| 59.98923761808327| 726.131478803536|0.9636956450618479|172685.11176102367|  95.9698946903313| 45456.81356191673| 12.63642304812113| 235.9137660038239|166391.17706496152| 46.25027994998186|  59.9894023543433|758.7584568749188|  0.97013486899536| 178704.7069435267| 49.62523875936291|42682.496518567204|11.833627231353299| 234.3508565086942|173498.04045275587| 48.15730814515065| 59.98520872538754|748.1971114163741| 0.958037860378905|177080.93711501645| 49.18311035977461|50204.565888598205|13.906942218555267|235.25901210904493| 169542.2977775368| 47.13109769781302|              null|                    127.0|     1.8575887086915268|              null|                    127.0|     1.8452823347141274|              null|                    127.0|     1.8524331662129523|            null|          null|          null|           null|           null|            null|            null|            null|             null|            null|          null|          null|           null|           null|            null|            null|            null|             null|            null|          null|          null|           null|           null|            null|            null|            null|             null|              null|                     null|                   null|              null|                     null|                   null|              null|                     null|                   null|                  null| 59.98577150241081|389.89127794016224|0.8388155388743843|101565.37627743141| 56.64703936542638|56537.250823496935| 30.67155054483562| 259.9812868908505|85040.11729739337| 47.53222963639864| 59.98663627792881|367.13738042884523|0.8564851049816988|96439.25461530856|54.010907543650575|48902.670939582385| 27.68172837407747| 259.0504357967422|83319.84154298145| 46.27666662811062|59.986842180536726|413.44484010236255|0.8674789061209478|109676.96246837136| 60.14723902308476| 53169.67675661226|29.781009436006237| 260.7125462875364|95776.67337100403| 52.17179442720982|            null|          null|          null|           null|           null|            null|            null|            null|             null|            null|          null|          null|           null|           null|            null|            null|            null|             null|            null|          null|          null|           null|           null|            null|            null|            null|             null|2021-04-28T15:59:...|               null|             0.86|            sum|                null|                       0|                         true|                       1|                        false|                       2|                         true|                       3|                        false|   null|1.8958750270000067E7|     900000|  0.93|828606.69| 365.59|296953.48|  126.51|773568.15|2.7051994800567627|2021-04-28T15:59:...|\n",
            "|60898664a56aaa19f...| 59.99198334054405|725.4709926884876|0.9638835636070635|172589.73659405552| 95.96969675931862| 45427.93571838419|25.250789159016016|235.89671734473083|166296.54124037296| 92.48971080633085| 59.98678040960593|756.5453758458013|0.9700622928892246|  177927.223195287|  99.2025658429674| 42486.48380651729|23.776858760981703| 234.3797225354925|172566.07763790837| 96.23525832490233| 59.99260116273654|748.6729938538303|0.9580021348446766|177204.84219969143| 98.36326412504721| 50275.19483121393|27.854509777464422| 235.2917375651805| 169768.4930549656| 94.23971785499785|              null|                    127.0|     1.8574544672813451|              null|                    127.0|     1.8455096262637205|              null|                    127.0|     1.8526908469699253|            null|          null|          null|           null|           null|            null|            null|            null|             null|            null|          null|          null|           null|           null|            null|            null|            null|             null|            null|          null|          null|           null|           null|            null|            null|            null|             null|              null|                     null|                   null|              null|                     null|                   null|              null|                     null|                   null|                  null|59.990040715896775|387.51898121994856|0.8384504306200924|101738.64333862663|56.671718888570716|53477.765075263604|15.360943437749716| 259.9357137473784|85215.21096917348| 23.79636733641961|59.987041221068004|371.94293919110464|0.8570657212813624|97981.43583769376|54.001740863625535|51237.905590907074|13.854775026024102| 259.0499064059924|84566.80770226596|23.134906633398177| 59.97812001183803| 409.9490395941019|0.8667274182046012|106802.26882430934| 60.16021587510401|54318.179907225574| 14.87671758590068|260.77322699068566|90884.35786374702|26.112630271005866|            null|          null|          null|           null|           null|            null|            null|            null|             null|            null|          null|          null|           null|           null|            null|            null|            null|             null|            null|          null|          null|           null|           null|            null|            null|            null|             null|2021-04-28T15:59:...|               null|             0.85|            sum|                null|                       0|                         true|                       1|                        false|                       2|                         true|                       3|                        false|   null|1.8959106270000067E7|     900000|  0.93|824718.38| 464.37|297223.46|  120.97|769297.49|2.7047746181488037|2021-04-28T15:59:...|\n",
            "|60898666a56aaa19f...| 59.98691081505348|718.9277799446747|0.9638311338710124|170639.43837813215|143.86058976139333| 44213.89204035592|25.218452179818375|235.93195313764772|163917.25048136988|   92.454070853359|59.989766150122705| 754.916332353562|0.9701530856650552| 177682.3703954554|148.48513653661695| 42783.48198947466|23.700754286603775| 234.2984240549692|172201.62533549473| 96.08848010830707| 59.99083697085452|747.3712618466835|0.9577539187502407| 176920.6302908283|147.56674900844024| 49843.54935371328|27.920618735701687|235.21423020551063|  169566.174187325| 94.25800173229474|              null|                    127.0|     1.8577319144696671|              null|                    127.0|     1.8448694807477888|              null|                    127.0|     1.8520805527992963|            null|          null|          null|           null|           null|            null|            null|            null|             null|            null|          null|          null|           null|           null|            null|            null|            null|             null|            null|          null|          null|           null|           null|            null|            null|            null|             null|              null|                     null|                   null|              null|                     null|                   null|              null|                     null|                   null|                  null| 59.98048044286125| 383.6744089779207|0.8385777088893779|102419.49068878006| 56.64168285739555| 56141.78963186838|46.051408764985176| 260.1666305770177|86221.10802198079| 71.23512405207708| 60.00528305791083|371.12841744498496|0.8571182031714781|97059.91079761705|53.993205088703434|49586.736603623474|41.495197671891574|259.06216208646896|83952.84909210206| 69.39145852234454|60.000029754653426| 422.6048370148191|0.8668926422811496|  109689.835723922| 60.22403625600709| 52922.25800381616| 44.71150240391616|260.65372129819815|95969.94616717662|  78.3112319797464|            null|          null|          null|           null|           null|            null|            null|            null|             null|            null|          null|          null|           null|           null|            null|            null|            null|             null|            null|          null|          null|           null|           null|            null|            null|            null|             null|2021-04-28T15:59:...|               null|             0.86|            sum|                null|                       0|                         true|                       1|                        false|                       2|                         true|                       3|                        false|   null|1.8959608010000065E7|     900000|  0.93|826459.48| 610.77| 295491.7|   209.1|771828.95|2.7048726081848145|2021-04-28T15:59:...|\n",
            "|60898667a56aaa19f...|  59.9889699235904|704.2525560465418|0.9639983323514336|167779.74903530316|47.108273777912615|44016.748569372496|24.819151103100104|236.08496983383506| 161714.5755696343| 91.57920340659672|  59.9847351772931| 747.446571950123|0.9688496363822343|176053.46866101614| 49.32936900746159|43137.887933671416|23.713038380078626|234.43043589237405|170548.58624689802|  95.7843096245612| 59.98423418527464|738.5685183047383|0.9575071629696128|174886.39496945645| 49.13183385680053| 49670.97814416944|27.791122370651596|235.25628546206477|167534.24387454838| 94.18648678327348|              null|                    127.0|      1.858936770345158|              null|                    127.0|     1.8459089440344414|              null|                    127.0|      1.852411696551691|            null|          null|          null|           null|           null|            null|            null|            null|             null|            null|          null|          null|           null|           null|            null|            null|            null|             null|            null|          null|          null|           null|           null|            null|            null|            null|             null|              null|                     null|                   null|              null|                     null|                   null|              null|                     null|                   null|                  null|59.994386053886785|  383.917985646566|0.8385689693582725|101112.85525038917| 56.63495320296421| 56007.66422606364|30.722629116797005| 260.2398572716999|84662.26985069053| 47.48092839204798| 60.00504955823232| 375.9310730966809|0.8562895421407337|96491.87839644466| 53.93513707785655| 48700.22159975715| 27.66850410829236|259.00728191207287|82395.83753139668| 46.19403043031404| 59.99433799773382| 402.2363286831195|0.8668590327118264|108747.52211576013|60.140967084120255|  53262.7904057134|29.768502670142112| 260.6552411619637|96254.20156676798|52.163493695365275|            null|          null|          null|           null|           null|            null|            null|            null|             null|            null|          null|          null|           null|           null|            null|            null|            null|             null|            null|          null|          null|           null|           null|            null|            null|            null|             null|2021-04-28T15:59:...|               null|             0.85|            sum|                null|                       0|                         true|                       1|                        false|                       2|                         true|                       3|                        false|   null|1.8960035400000066E7|     900000|  0.93|818071.69| 316.28|294796.29|  164.48|763109.72|2.7052321434020996|2021-04-28T15:59:...|\n",
            "|60898669a56aaa19f...| 59.98385673106241|684.4138938545362|0.9633670521033335|163044.43505689022|  92.8060787887335|  40664.4397480901|23.953091586402376|236.16972358516622| 157683.6809160655| 89.44462877096831| 59.97995207442947|728.7191749428088|0.9682190266863928|171561.35483476278| 97.45046814797891| 39851.25011198862|23.435798884746415|234.60680839766283| 166738.2330760905|  94.3943762000357|59.978250379634524|719.4358812170113|0.9575130638294895|170489.48234725837| 96.89762208816916| 46613.14504360815|27.187408040581424|235.47167349637658|163760.68385980793| 92.79315141946742|              null|                    127.0|     1.8596041227178444|              null|                    127.0|      1.847297703918605|              null|                    127.0|        1.8541076653258|            null|          null|          null|           null|           null|            null|            null|            null|             null|            null|          null|          null|           null|           null|            null|            null|            null|             null|            null|          null|          null|           null|           null|            null|            null|            null|             null|              null|                     null|                   null|              null|                     null|                   null|              null|                     null|                   null|                  null| 59.98255283487831| 397.0200651617397|0.8406159940407871|102723.96927698984| 28.42816333498284| 55659.56443745758|15.270773490782759| 259.9812868908505|85032.59340141276|23.953437965674578|59.973660402213646|373.26681453176474|0.8544521395448754|97040.33996992181|27.161380112413163|50554.274834148106|13.963562858871876|259.15628548483426| 83543.9927561843| 23.29234838330193| 59.98866791215893|416.08086449395597|0.8669430156569407|106697.02126203715|30.064248715160506|54193.578970899194| 29.76575637734109| 260.7479528516629|90530.64777120165|52.130129949039315|            null|          null|          null|           null|           null|            null|            null|            null|             null|            null|          null|          null|           null|           null|            null|            null|            null|             null|            null|          null|          null|           null|           null|            null|            null|            null|             null|2021-04-28T15:59:...|               null|             0.83|            sum|                null|                       0|                         true|                       1|                        false|                       2|                         true|                       3|                        false|   null|1.8960411410000067E7|     900000|  0.93|800699.19|  372.8|287536.25|  133.58|747289.83| 2.702160120010376|2021-04-28T15:59:...|\n",
            "|6089866ba56aaa19f...| 59.98137937677886|684.2529135276072|0.9670622420837152|163022.21129477405| 90.62800881306725| 40525.92177873599|22.637332808881098|236.29172822968772|  157689.334710733|  87.6509160805625| 59.97511484816729|725.0593771495826|0.9715105218552836| 170970.3158383664| 95.20221925762702| 39783.31759452202|22.131161356000455|234.65476664569596|166234.87138776883|  92.5098379161834|  59.9808509925096|719.7866452815574|0.9609706771446069|170432.24854893185| 94.70880198437636| 46752.66329971113|25.885776589090643|235.53459130237184| 163680.3129940728| 91.00653950414173|              null|                    127.0|     1.8605647892101396|              null|                    127.0|     1.8476753279188658|              null|                    127.0|      1.854603081121038|            null|          null|          null|           null|           null|            null|            null|            null|             null|            null|          null|          null|           null|           null|            null|            null|            null|             null|            null|          null|          null|           null|           null|            null|            null|            null|             null|              null|                     null|                   null|              null|                     null|                   null|              null|                     null|                   null|                  null| 59.98097451007647| 388.9696826456149|0.8380412819835639|101338.87656490512| 56.73729590721139| 56407.38750905694| 30.64325878070975| 259.9989617110455|84888.94352612966| 47.62549225543882|  59.9741063333328| 364.7122584811245|0.8557748187763603|96582.55656476595| 54.17773864596864| 49331.96791775961|27.813389609578817| 259.2650439758634|83517.02850469308| 46.34391368967083|59.981118614547455| 415.1930818989121|0.8673714016927138|109387.57516285103|60.098609847405356|53573.227223688176|14.890869653307758| 260.7103205694377|95653.29017506757|26.058421914906372|            null|          null|          null|           null|           null|            null|            null|            null|             null|            null|          null|          null|           null|           null|            null|            null|            null|             null|            null|          null|          null|           null|           null|            null|            null|            null|             null|2021-04-28T15:59:...|               null|             0.84|            sum|                null|                       0|                         true|                       1|                        false|                       2|                         true|                       3|                        false|   null|1.8960802610000066E7|     900000|  0.93|804368.56| 451.55|286374.48|   144.0|751663.78| 2.700767993927002|2021-04-28T15:59:...|\n",
            "|6089866da56aaa19f...| 59.98589504024399|684.3992075305094|0.9669111145057612| 162973.8496050027| 90.62678411492625| 40653.13215875507| 22.64152647221239|236.24946804768206|157492.49567484707| 87.64485444329898|59.983046936235404|725.3633499026946|0.9716615823780117|170871.63537605418| 94.91479868582977| 39667.32782238154|22.072808819322837| 234.6377635255921| 166126.7969281629|  92.2294315246482| 59.97743387488144|720.1128182919191|0.9609472897719389| 170495.2231233823|  94.7324671110807| 46747.09648650004|25.929408006699703|235.53910535467926|  163772.208902784| 91.01916997688879|              null|                    127.0|     1.8602320318715122|              null|                    127.0|     1.8475414450834025|              null|                    127.0|     1.8546386248399942|            null|          null|          null|           null|           null|            null|            null|            null|             null|            null|          null|          null|           null|           null|            null|            null|            null|             null|            null|          null|          null|           null|           null|            null|            null|            null|             null|              null|                     null|                   null|              null|                     null|                   null|              null|                     null|                   null|                  null|59.997276429788535|387.13878758361244|0.8387578937318764|100792.54603711034|  56.6534473819621|  53991.3035939868|30.720402392904283| 260.1856374126477|84851.67197205228| 47.49973183825318|    59.98095392378| 374.3364115413104|0.8559679974315166|97537.61295629384| 54.00746849230515|50077.790415861244| 27.74840638397621| 259.0977508065524|82209.82768683544| 46.22774055591219|59.971135871075234|408.01220945840254|0.8673968305244806|106919.34586465512| 60.09355023589357| 53325.15610996891| 29.78898852995516|260.75285967775244| 93643.9315502328|52.102011374549555|            null|          null|          null|           null|           null|            null|            null|            null|             null|            null|          null|          null|           null|           null|            null|            null|            null|             null|            null|          null|          null|           null|           null|            null|            null|            null|             null|2021-04-28T15:59:...|               null|             0.83|            sum|                null|                       0|                         true|                       1|                        false|                       2|                         true|                       3|                        false|   null|1.8961219330000065E7|     900000|  0.93|800354.63| 451.02|284461.81|   158.9|748096.93| 2.703731060028076|2021-04-28T15:59:...|\n",
            "+--------------------+------------------+-----------------+------------------+------------------+------------------+------------------+------------------+------------------+------------------+------------------+------------------+-----------------+------------------+------------------+------------------+------------------+------------------+------------------+------------------+------------------+------------------+-----------------+------------------+------------------+------------------+------------------+------------------+------------------+------------------+------------------+------------------+-------------------------+-----------------------+------------------+-------------------------+-----------------------+------------------+-------------------------+-----------------------+----------------+--------------+--------------+---------------+---------------+----------------+----------------+----------------+-----------------+----------------+--------------+--------------+---------------+---------------+----------------+----------------+----------------+-----------------+----------------+--------------+--------------+---------------+---------------+----------------+----------------+----------------+-----------------+------------------+-------------------------+-----------------------+------------------+-------------------------+-----------------------+------------------+-------------------------+-----------------------+----------------------+------------------+------------------+------------------+------------------+------------------+------------------+------------------+------------------+-----------------+------------------+------------------+------------------+------------------+-----------------+------------------+------------------+------------------+------------------+-----------------+------------------+------------------+------------------+------------------+------------------+------------------+------------------+------------------+------------------+-----------------+------------------+----------------+--------------+--------------+---------------+---------------+----------------+----------------+----------------+-----------------+----------------+--------------+--------------+---------------+---------------+----------------+----------------+----------------+-----------------+----------------+--------------+--------------+---------------+---------------+----------------+----------------+----------------+-----------------+--------------------+-------------------+-----------------+---------------+--------------------+------------------------+-----------------------------+------------------------+-----------------------------+------------------------+-----------------------------+------------------------+-----------------------------+-------+--------------------+-----------+------+---------+-------+---------+--------+---------+------------------+--------------------+\n",
            "only showing top 20 rows\n",
            "\n"
          ]
        }
      ],
      "source": [
        "# Nivelando as colunas\n",
        "data = df.select(\n",
        "    ### Content\n",
        "    ### 0\n",
        "    ### A\n",
        "    col(\"_id.$oid\").alias(\"id\"), col(\"content.0.afreq\").alias(\"afreq_transfor01\"), col(\"content.0.airms\").alias(\"airms_transfor01\"), col(\"content.0.apf\").alias(\"apf_transfor01\"),\n",
        "                 col(\"content.0.ava\").alias(\"ava_transfor01\"), col(\"content.0.avah\").alias(\"avah_transfor01\"), col(\"content.0.avar\").alias(\"avar_transfor01\"), col(\"content.0.avarh\").alias(\"avarh_transfor01\"),\n",
        "                 col(\"content.0.avrms\").alias(\"avrms_transfor01\"), col(\"content.0.awatt\").alias(\"awatt_transfor01\"), col(\"content.0.awatth\").alias(\"awatth_transfor01\"),\n",
        "                 ### B\n",
        "                 col(\"content.0.bfreq\").alias(\"bfreq_transfor01\"), col(\"content.0.birms\").alias(\"birms_transfor01\"), col(\"content.0.bpf\").alias(\"bpf_transfor01\"),\n",
        "                 col(\"content.0.bva\").alias(\"bva_transfor01\"), col(\"content.0.bvah\").alias(\"bvah_transfor01\"), col(\"content.0.bvar\").alias(\"bvar_transfor01\"), col(\"content.0.bvarh\").alias(\"bvarh_transfor01\"),\n",
        "                 col(\"content.0.bvrms\").alias(\"bvrms_transfor01\"), col(\"content.0.bwatt\").alias(\"bwatt_transfor01\"), col(\"content.0.bwatth\").alias(\"bwatth_transfor01\"),\n",
        "                 ### C\n",
        "                 col(\"content.0.cfreq\").alias(\"cfreq_transfor01\"), col(\"content.0.cirms\").alias(\"cirms_transfor01\"), col(\"content.0.cpf\").alias(\"cpf_transfor01\"),\n",
        "                 col(\"content.0.cva\").alias(\"cva_transfor01\"), col(\"content.0.cvah\").alias(\"cvah_transfor01\"), col(\"content.0.cvar\").alias(\"cvar_transfor01\"), col(\"content.0.cvarh\").alias(\"cvarh_transfor01\"),\n",
        "                 col(\"content.0.cvrms\").alias(\"cvrms_transfor01\"), col(\"content.0.cwatt\").alias(\"cwatt_transfor01\"), col(\"content.0.cwatth\").alias(\"cwatth_transfor01\"),\n",
        "                 ### events\n",
        "                 col(\"content.0.events.a.event\").alias(\"event_a_transfor01\"), col(\"content.0.events.a.line_voltage\").alias(\"line_voltage_a_transfor01\"), col(\"content.0.events.a.percentage\").alias(\"percentage_a_transfor01\"),\n",
        "                 col(\"content.0.events.b.event\").alias(\"event_b_transfor01\"), col(\"content.0.events.b.line_voltage\").alias(\"line_voltage_b_transfor01\"), col(\"content.0.events.b.percentage\").alias(\"percentage_b_transfor01\"),\n",
        "                 col(\"content.0.events.c.event\").alias(\"event_c_transfor01\"), col(\"content.0.events.c.line_voltage\").alias(\"line_voltage_c_transfor01\"), col(\"content.0.events.c.percentage\").alias(\"percentage_c_transfor01\"),\n",
        "                 ### 1\n",
        "                 ### A\n",
        "                 col(\"content.1.airms\").alias(\"airms_transfor02\"), col(\"content.1.apf\").alias(\"apf_transfor02\"),\n",
        "                 col(\"content.1.ava\").alias(\"ava_transfor02\"), col(\"content.1.avah\").alias(\"avah_transfor02\"), col(\"content.1.avar\").alias(\"avar_transfor02\"), col(\"content.1.avarh\").alias(\"avarh_transfor02\"),\n",
        "                 col(\"content.1.avrms\").alias(\"avrms_transfor02\"), col(\"content.1.awatt\").alias(\"awatt_transfor02\"), col(\"content.1.awatth\").alias(\"awatth_transfor02\"),\n",
        "                 ### B\n",
        "                 col(\"content.1.birms\").alias(\"birms_transfor02\"), col(\"content.1.bpf\").alias(\"bpf_transfor02\"),\n",
        "                 col(\"content.1.bva\").alias(\"bva_transfor02\"), col(\"content.1.bvah\").alias(\"bvah_transfor02\"), col(\"content.1.bvar\").alias(\"bvar_transfor02\"), col(\"content.1.bvarh\").alias(\"bvarh_transfor02\"),\n",
        "                 col(\"content.1.bvrms\").alias(\"bvrms_transfor02\"), col(\"content.1.bwatt\").alias(\"bwatt_transfor02\"), col(\"content.1.bwatth\").alias(\"bwatth_transfor02\"),\n",
        "                 ### C\n",
        "                 col(\"content.1.cirms\").alias(\"cirms_transfor02\"), col(\"content.1.cpf\").alias(\"cpf_transfor02\"),\n",
        "                 col(\"content.1.cva\").alias(\"cva_transfor02\"), col(\"content.1.cvah\").alias(\"cvah_transfor02\"), col(\"content.1.cvar\").alias(\"cvar_transfor02\"), col(\"content.1.cvarh\").alias(\"cvarh_transfor02\"),\n",
        "                 col(\"content.1.cvrms\").alias(\"cvrms_transfor02\"), col(\"content.1.cwatt\").alias(\"cwatt_transfor02\"), col(\"content.1.cwatth\").alias(\"cwatth_transfor02\"),\n",
        "                 ### events\n",
        "                 col(\"content.1.events.a.event\").alias(\"event_a_transfor02\"), col(\"content.1.events.a.line_voltage\").alias(\"line_voltage_a_transfor02\"), col(\"content.1.events.a.percentage\").alias(\"percentage_a_transfor02\"),\n",
        "                 col(\"content.1.events.b.event\").alias(\"event_b_transfor02\"), col(\"content.1.events.b.line_voltage\").alias(\"line_voltage_b_transfor02\"), col(\"content.1.events.b.percentage\").alias(\"percentage_b_transfor02\"),\n",
        "                 col(\"content.1.events.c.event\").alias(\"event_c_transfor02\"), col(\"content.1.events.c.line_voltage\").alias(\"line_voltage_c_transfor02\"), col(\"content.1.events.c.percentage\").alias(\"percentage_c_transfor02\"),\n",
        "                 ### voltage_line\n",
        "                 col(\"content.1.voltageline\").alias(\"voltageline_transfor02\"),\n",
        "\n",
        "                 ### 2\n",
        "                 ### A\n",
        "                 col(\"content.2.afreq\").alias(\"afreq_transfor03\"), col(\"content.2.airms\").alias(\"airms_transfor03\"), col(\"content.2.apf\").alias(\"apf_transfor03\"),\n",
        "                 col(\"content.2.ava\").alias(\"ava_transfor03\"), col(\"content.2.avah\").alias(\"avah_transfor03\"), col(\"content.2.avar\").alias(\"avar_transfor03\"), col(\"content.2.avarh\").alias(\"avarh_transfor03\"),\n",
        "                 col(\"content.2.avrms\").alias(\"avrms_transfor03\"), col(\"content.2.awatt\").alias(\"awatt_transfor03\"), col(\"content.2.awatth\").alias(\"awatth_transfor03\"),\n",
        "                 ### B\n",
        "                 col(\"content.2.bfreq\").alias(\"bfreq_transfor03\"), col(\"content.2.birms\").alias(\"birms_transfor03\"), col(\"content.2.bpf\").alias(\"bpf_transfor03\"),\n",
        "                 col(\"content.2.bva\").alias(\"bva_transfor03\"), col(\"content.2.bvah\").alias(\"bvah_transfor03\"), col(\"content.2.bvar\").alias(\"bvar_transfor03\"), col(\"content.2.bvarh\").alias(\"bvarh.transfor03\"),\n",
        "                 col(\"content.2.bvrms\").alias(\"bvrms_transfor03\"), col(\"content.2.bwatt\").alias(\"bwatt_transfor03\"), col(\"content.2.bwatth\").alias(\"bwatth_transfor03\"),\n",
        "                 ### C\n",
        "                 col(\"content.2.cfreq\").alias(\"cfreq_transfor03\"), col(\"content.2.cirms\").alias(\"cirms_transfor03\"), col(\"content.2.cpf\").alias(\"cpf_transfor03\"),\n",
        "                 col(\"content.2.cva\").alias(\"cva_transfor03\"), col(\"content.2.cvah\").alias(\"cvah_transfor03\"), col(\"content.2.cvar\").alias(\"cvar_transfor03\"), col(\"content.2.cvarh\").alias(\"cvarh_transfor03\"),\n",
        "                 col(\"content.2.cvrms\").alias(\"cvrms_transfor03\"), col(\"content.2.cwatt\").alias(\"cwatt_transfor03\"), col(\"content.2.cwatth\").alias(\"cwatth_transfor03\"),\n",
        "                 ### 3\n",
        "                 ### A\n",
        "                 col(\"content.3.airms\").alias(\"airms_transfor04\"), col(\"content.3.apf\").alias(\"apf_transfor04\"),\n",
        "                 col(\"content.3.ava\").alias(\"ava_transfor04\"), col(\"content.3.avah\").alias(\"avah_transfor04\"), col(\"content.3.avar\").alias(\"avar_transfor04\"), col(\"content.3.avarh\").alias(\"avarh_transfor04\"),\n",
        "                 col(\"content.3.avrms\").alias(\"avrms_transfor04\"), col(\"content.3.awatt\").alias(\"awatt_transfor04\"), col(\"content.3.awatth\").alias(\"awatth_transfor04\"),\n",
        "                 ### 3\n",
        "                 ### B\n",
        "                 col(\"content.3.birms\").alias(\"birms_transfor04\"), col(\"content.3.bpf\").alias(\"bpf_transfor04\"),\n",
        "                 col(\"content.3.bva\").alias(\"bva_transfor04\"), col(\"content.3.bvah\").alias(\"bvah_transfor04\"), col(\"content.3.bvar\").alias(\"bvar_transfor04\"), col(\"content.3.bvarh\").alias(\"bvarh_transfor04\"),\n",
        "                 col(\"content.3.bvrms\").alias(\"bvrms_transfor04\"), col(\"content.3.bwatt\").alias(\"bwatt_transfor04\"), col(\"content.3.bwatth\").alias(\"bwatth_transfor04\"),\n",
        "                 ### 3\n",
        "                 ### C\n",
        "                 col(\"content.3.cirms\").alias(\"cirms_transfor04\"), col(\"content.3.cpf\").alias(\"cpf_transfor04\"),\n",
        "                 col(\"content.3.cva\").alias(\"cva_transfor04\"), col(\"content.3.cvah\").alias(\"cvah_transfor04\"), col(\"content.3.cvar\").alias(\"cvar_transfor04\"), col(\"content.3.cvarh\").alias(\"cvarh_transfor04\"),\n",
        "                 col(\"content.3.cvrms\").alias(\"cvrms_transfor04\"), col(\"content.3.cwatt\").alias(\"cwatt_transfor04\"), col(\"content.3.cwatth\").alias(\"cwatth_transfor04\"),\n",
        "                 ### date_time\n",
        "                 col(\"content.datetime\").alias(\"date_time\"),\n",
        "                 ### demand\n",
        "                 col(\"content.demand.notification\").alias(\"demand_notification\"), col(\"content.demand.percentageDemand\").alias(\"percentage_Demand\"),\n",
        "                 ### meters_substation\n",
        "                 col(\"content.meters.Substation.idx\").alias(\"meters_subs_idx\"), col(\"content.meters.Substation.isOnline\").alias(\"meters_subs_isOnline\"),\n",
        "                 \n",
        "                 ### meters_substation\n",
        "                 col(\"content.meters.Transformer001.idx\").alias(\"meters_Transformer01_idx\"), col(\"content.meters.Transformer001.isOnline\").alias(\"meters_Transformer01_isOnline\"),\n",
        "                 col(\"content.meters.Transformer002.idx\").alias(\"meters_Transformer02_idx\"), col(\"content.meters.Transformer002.isOnline\").alias(\"meters_Transformer02_isOnline\"),\n",
        "                 col(\"content.meters.Transformer003.idx\").alias(\"meters_Transformer03_idx\"), col(\"content.meters.Transformer003.isOnline\").alias(\"meters_Transformer03_isOnline\"),\n",
        "                 col(\"content.meters.Transformer004.idx\").alias(\"meters_Transformer04_idx\"), col(\"content.meters.Transformer004.isOnline\").alias(\"meters_Transformer04_isOnline\"),\n",
        "                ### offline\n",
        "                col(\"content.offline\").alias(\"offline\"), \n",
        "                 ### sum\n",
        "                 col(\"content.sum.acc_watth\").alias(\"sum_acc_watth\"), col(\"content.sum.demmand\").alias(\"sum_demmand\"), col(\"content.sum.pf\").alias(\"sum_pf\"), col(\"content.sum.va\").alias(\"sum_va\"),\n",
        "                 col(\"content.sum.vah\").alias(\"sum_vah\"), col(\"content.sum.var\").alias(\"sum_var\"), col(\"content.sum.varh\").alias(\"sum_varh\"), col(\"content.sum.watt\").alias(\"sum_watth\"),\n",
        "                 ### time_average\n",
        "                 col(\"content.time_average\").alias(\"time_average\"),\n",
        "                 ### time_stamp\n",
        "                 col(\"time_stamp.$date\").alias(\"date\")\n",
        "                 \n",
        "                 )\n",
        "                 \n",
        "\n",
        "data.show()"
      ]
    },
    {
      "cell_type": "markdown",
      "metadata": {
        "id": "q7kar7eRMpq3"
      },
      "source": [
        "A empresa possui 4 transformadores mas apenas dois funcionam por vez, isso explica a grande quantidade de valores nulos, mas para iniciarmos vamos realizar a análise de apenas 1 transformador. Com isso, retiramos do dataframe todas as colunas que não utilizaremos."
      ]
    },
    {
      "cell_type": "code",
      "execution_count": null,
      "metadata": {
        "colab": {
          "background_save": true
        },
        "id": "f7E89vx9s4Gb",
        "outputId": "44ad7ab6-97f5-459d-f8d8-f9cad6601d4f"
      },
      "outputs": [
        {
          "name": "stdout",
          "output_type": "stream",
          "text": [
            "+------------------+-----------------+------------------+------------------+------------------+------------------+------------------+------------------+------------------+------------------+--------------------+\n",
            "|  afreq_transfor01| airms_transfor01|    apf_transfor01|    ava_transfor01|   avah_transfor01|   avar_transfor01|  avarh_transfor01|  avrms_transfor01|  awatt_transfor01| awatth_transfor01|                date|\n",
            "+------------------+-----------------+------------------+------------------+------------------+------------------+------------------+------------------+------------------+------------------+--------------------+\n",
            "| 59.98194894427409|716.6789508090116|0.9681929124012061|170676.49247856849| 94.09621787080019| 41954.63569121699| 23.26953683408982|236.12278427201713|165313.91172715888|136.60337495711596|2021-04-28T15:59:...|\n",
            "| 59.97411319386335|713.1209895804516|0.9683041719220888|169883.56952181362| 94.85116386525107| 42899.16732651766|23.339109585049098|236.10104509703334|164116.95990531778| 91.87669371866443|2021-04-28T15:59:...|\n",
            "| 59.97722117561247|712.3088586312665|0.9670345259236881|169512.68059162467| 94.58069113641508|  42581.3370847469|23.723182344478804|235.97289838133938|163908.50884499933|  91.4102074338274|2021-04-28T15:59:...|\n",
            "| 59.97207568527929|712.9522676253536|0.9670472887683457|169683.51217204003|47.110314941480944| 42704.24188267303|11.840715635745132|236.02502344688708|164039.19848327534| 45.54604140684358|2021-04-28T15:59:...|\n",
            "| 59.97519031662775|707.7087376341722| 0.966054878876022|168521.17896985542|  94.1821075596178| 42746.86279632045|23.677175754717503|  236.092056839034|162884.82408435346|  91.0498245424786|2021-04-28T15:59:...|\n",
            "| 59.96872130102734|723.5799861607012|0.9649508741866861| 172048.1030649076| 94.09312519872697| 45036.47567375111| 24.13554686803438|235.77066542254147|165930.82770684117| 90.88747162932256|2021-04-28T15:59:...|\n",
            "| 59.97782497102283|723.4616417124391|0.9640342590513398| 172166.5283178279|47.766604696795945| 44957.01811330842|12.482395608186216| 235.8137566911006|166121.79549441853| 46.05980846233606|2021-04-28T15:59:...|\n",
            "|59.981729350705514|720.8223157441265|0.9638839584878381|171484.76766238204|  143.492116439901| 45044.43447701384|37.620994995073914|235.85520855604744| 165263.6364453462|138.34278032591595|2021-04-28T15:59:...|\n",
            "|59.993376890841596|717.8537998074156|0.9629598406177746|170810.40043073217|  95.2036418867807| 45490.12745972686| 25.17430119330101| 235.9563335740069| 164395.0831122313| 91.69524046278414|2021-04-28T15:59:...|\n",
            "|59.988887556534785|725.7010215078369|0.9632613134627142|172656.71231550144| 47.44245555145705| 45531.57412371256|12.629582057495156|235.89740612194294|166280.01476365252| 45.69055578748125|2021-04-28T15:59:...|\n",
            "| 59.98124213321655|725.4402538707571|0.9637775120420569|172565.33829552878| 95.66692416334988| 45382.87932395692|25.261551657830843| 235.8368164967721|166368.51839556324|  92.2059148462034|2021-04-28T15:59:...|\n",
            "|59.991358666598316|725.4693988238646|  0.96375973495662|172676.45710610953| 95.92711685021446| 45587.76414456202|25.227111661623404|235.90731085210052|166388.30667689955| 92.45238843975116|2021-04-28T15:59:...|\n",
            "| 59.99046629781354|726.7060670001488|0.9637942609473635|172831.45806145587|47.988151353433516| 45566.71463210758|25.281221052216555| 235.8375394282261| 166489.5965829045| 92.47727826459648|2021-04-28T15:59:...|\n",
            "| 59.98923761808327| 726.131478803536|0.9636956450618479|172685.11176102367|  95.9698946903313| 45456.81356191673| 12.63642304812113| 235.9137660038239|166391.17706496152| 46.25027994998186|2021-04-28T15:59:...|\n",
            "| 59.99198334054405|725.4709926884876|0.9638835636070635|172589.73659405552| 95.96969675931862| 45427.93571838419|25.250789159016016|235.89671734473083|166296.54124037296| 92.48971080633085|2021-04-28T15:59:...|\n",
            "| 59.98691081505348|718.9277799446747|0.9638311338710124|170639.43837813215|143.86058976139333| 44213.89204035592|25.218452179818375|235.93195313764772|163917.25048136988|   92.454070853359|2021-04-28T15:59:...|\n",
            "|  59.9889699235904|704.2525560465418|0.9639983323514336|167779.74903530316|47.108273777912615|44016.748569372496|24.819151103100104|236.08496983383506| 161714.5755696343| 91.57920340659672|2021-04-28T15:59:...|\n",
            "| 59.98385673106241|684.4138938545362|0.9633670521033335|163044.43505689022|  92.8060787887335|  40664.4397480901|23.953091586402376|236.16972358516622| 157683.6809160655| 89.44462877096831|2021-04-28T15:59:...|\n",
            "| 59.98137937677886|684.2529135276072|0.9670622420837152|163022.21129477405| 90.62800881306725| 40525.92177873599|22.637332808881098|236.29172822968772|  157689.334710733|  87.6509160805625|2021-04-28T15:59:...|\n",
            "| 59.98589504024399|684.3992075305094|0.9669111145057612| 162973.8496050027| 90.62678411492625| 40653.13215875507| 22.64152647221239|236.24946804768206|157492.49567484707| 87.64485444329898|2021-04-28T15:59:...|\n",
            "+------------------+-----------------+------------------+------------------+------------------+------------------+------------------+------------------+------------------+------------------+--------------------+\n",
            "only showing top 20 rows\n",
            "\n"
          ]
        }
      ],
      "source": [
        "dataframe=data.drop('id',  'bfreq_transfor01', 'birms_transfor01', 'bpf_transfor01', 'bva_transfor01', 'bvah_transfor01', 'bvar_transfor01', 'bvarh_transfor01', \n",
        "                    'bvrms_transfor01', 'bwatt_transfor01', 'bwatth_transfor01', 'cfreq_transfor01', 'cirms_transfor01', 'cpf_transfor01', 'cva_transfor01'\n",
        "                    'cvah_transfor01', 'cvar_transfor01', 'cvarh_transfor01', 'cvrms_transfor01', 'cwatt_transfor01' 'cwatth_transfor01', 'event_a_transfor01', \n",
        "                    'line_voltage_a_transfor01', 'percentage_a_transfor01', 'event_b_transfor01', 'line_voltage_b_transfor01', 'percentage_b_transfor01', \n",
        "                    'event_c_transfor01', 'line_voltage_c_transfor01', 'percentage_c_transfor01', 'airms_transfor02', 'apf_transfor02', 'ava_transfor02', \n",
        "                    'avah_transfor02', 'avar_transfor02', 'avarh_transfor02', 'avrms_transfor02', 'awatt_transfor02', 'awatth_transfor02', 'birms_transfor02', \n",
        "                    'bpf_transfor02', 'bva_transfor02', 'bvah_transfor02', 'bvar_transfor02', 'bvarh_transfor02', 'bvrms_transfor02', 'bwatt_transfor02', \n",
        "                    'bwatth_transfor02', 'cirms_transfor02', 'cpf_transfor02', 'cva_transfor02', 'cvah_transfor02', 'cvar_transfor02', 'cvarh_transfor02', \n",
        "                    'cvrms_transfor02', 'cwatt_transfor02', 'cwatth_transfor02', 'event_a_transfor02', 'line_voltage_a_transfor02', 'percentage_a_transfor02', \n",
        "                    'event_b_transfor02', 'line_voltage_b_transfor02', 'percentage_b_transfor02', 'event_c_transfor02', 'line_voltage_c_transfor02', 'percentage_c_transfor02', \n",
        "                    'voltageline_transfor02', 'afreq_transfor03', 'airms_transfor03', 'apf_transfor03', 'ava_transfor03', 'avah_transfor03', 'avar_transfor03', 'avarh_transfor03', \n",
        "                    'avrms_transfor03', 'awatt_transfor03', 'awatth_transfor03', 'bfreq_transfor03', 'birms_transfor03', 'bpf_transfor03', 'bva_transfor03', 'bvah_transfor03', \n",
        "                    'bvar_transfor03', 'bvarh.transfor03', 'bvrms_transfor03', 'bwatt_transfor03', 'bwatth_transfor03', 'cfreq_transfor03', 'cirms_transfor03', 'cpf_transfor03', \n",
        "                    'cva_transfor03', 'cvah_transfor03', 'cvar_transfor03', 'cvarh_transfor03', 'cvrms_transfor03', 'cwatt_transfor03', 'cwatth_transfor03', 'airms_transfor04', \n",
        "                    'apf_transfor04', 'ava_transfor04', 'avah_transfor04', 'avar_transfor04', 'avarh_transfor04', 'avrms_transfor04', 'awatt_transfor04', 'awatth_transfor04', \n",
        "                    'birms_transfor04', 'bpf_transfor04', 'bva_transfor04', 'bvah_transfor04', 'bvar_transfor04', 'bvarh_transfor04', 'bvrms_transfor04', 'bwatt_transfor04', \n",
        "                    'bwatth_transfor04', 'cirms_transfor04', 'cpf_transfor04', 'cva_transfor04', 'cvah_transfor04', 'cvar_transfor04', 'cvarh_transfor04', 'cvrms_transfor04', \n",
        "                    'cwatt_transfor04', 'cwatth_transfor04', 'date_time', 'demand_notification', 'percentage_Demand', 'meters_subs_idx', 'meters_subs_isOnline', 'meters_Transformer01_idx', \n",
        "                    'meters_Transformer01_isOnline', 'meters_Transformer02_idx', 'meters_Transformer02_isOnline', 'meters_Transformer03_idx', 'meters_Transformer03_isOnline', 'meters_Transformer04_idx', \n",
        "                    'meters_Transformer04_isOnline', 'offline', 'sum_acc_watth', 'sum_demmand', 'sum_pf', 'sum_va', 'sum_vah', 'sum_var', 'sum_varh', 'sum_watth', 'time_average', \n",
        "                    'cva_transfor01', 'cvah_transfor01', 'cwatt_transfor01', 'cwatth_transfor01')\n",
        "dataframe.show()"
      ]
    },
    {
      "cell_type": "markdown",
      "metadata": {
        "id": "TQtZ7zspmOWQ"
      },
      "source": [
        "## Removendo valores nulos"
      ]
    },
    {
      "cell_type": "code",
      "execution_count": null,
      "metadata": {
        "colab": {
          "base_uri": "https://localhost:8080/"
        },
        "id": "rq0sAJ6-_nHC",
        "outputId": "bd1519e5-d972-4eaa-9fa0-8dea4685fdb0"
      },
      "outputs": [
        {
          "name": "stdout",
          "output_type": "stream",
          "text": [
            "+----------------+----------------+--------------+--------------+---------------+---------------+----------------+----------------+----------------+-----------------+----+\n",
            "|afreq_transfor01|airms_transfor01|apf_transfor01|ava_transfor01|avah_transfor01|avar_transfor01|avarh_transfor01|avrms_transfor01|awatt_transfor01|awatth_transfor01|date|\n",
            "+----------------+----------------+--------------+--------------+---------------+---------------+----------------+----------------+----------------+-----------------+----+\n",
            "|          287946|          287946|        287946|        287946|         287946|         287946|          287946|          287946|          287946|           287946|   0|\n",
            "+----------------+----------------+--------------+--------------+---------------+---------------+----------------+----------------+----------------+-----------------+----+\n",
            "\n"
          ]
        }
      ],
      "source": [
        "# Conferindo a quantidade de valores nulos\n",
        "\n",
        "from pyspark.sql.functions import isnull, when, count, col\n",
        "dataframe.select([count(when(isnull(c), c)).alias(c) for c in dataframe.columns]).show()"
      ]
    },
    {
      "cell_type": "code",
      "execution_count": null,
      "metadata": {
        "id": "ClgJaj9z7AJW"
      },
      "outputs": [],
      "source": [
        "# Removendo valores nulos\n",
        "dataframe = dataframe.dropna()"
      ]
    },
    {
      "cell_type": "code",
      "execution_count": null,
      "metadata": {
        "colab": {
          "base_uri": "https://localhost:8080/"
        },
        "id": "d0JzJC5W7EJF",
        "outputId": "24ab4d56-b236-47c9-e96e-4489557342f7"
      },
      "outputs": [
        {
          "name": "stdout",
          "output_type": "stream",
          "text": [
            "+----------------+----------------+--------------+--------------+---------------+---------------+----------------+----------------+----------------+-----------------+----+\n",
            "|afreq_transfor01|airms_transfor01|apf_transfor01|ava_transfor01|avah_transfor01|avar_transfor01|avarh_transfor01|avrms_transfor01|awatt_transfor01|awatth_transfor01|date|\n",
            "+----------------+----------------+--------------+--------------+---------------+---------------+----------------+----------------+----------------+-----------------+----+\n",
            "|               0|               0|             0|             0|              0|              0|               0|               0|               0|                0|   0|\n",
            "+----------------+----------------+--------------+--------------+---------------+---------------+----------------+----------------+----------------+-----------------+----+\n",
            "\n"
          ]
        }
      ],
      "source": [
        "# Conferindo novamente a quantidade de valores nulos\n",
        "\n",
        "from pyspark.sql.functions import isnull, when, count, col\n",
        "dataframe.select([count(when(isnull(c), c)).alias(c) for c in dataframe.columns]).show()"
      ]
    },
    {
      "cell_type": "code",
      "execution_count": null,
      "metadata": {
        "colab": {
          "base_uri": "https://localhost:8080/"
        },
        "id": "4BVj5Kk7kbSz",
        "outputId": "8450ee5c-ce5b-4ccd-a416-1ce48ff4deed"
      },
      "outputs": [
        {
          "name": "stdout",
          "output_type": "stream",
          "text": [
            "Requirement already satisfied: plotly in /usr/local/lib/python3.7/dist-packages (4.4.1)\n",
            "Collecting plotly\n",
            "  Downloading plotly-5.4.0-py2.py3-none-any.whl (25.3 MB)\n",
            "\u001b[K     |████████████████████████████████| 25.3 MB 61.5 MB/s \n",
            "\u001b[?25hCollecting tenacity>=6.2.0\n",
            "  Downloading tenacity-8.0.1-py3-none-any.whl (24 kB)\n",
            "Requirement already satisfied: six in /usr/local/lib/python3.7/dist-packages (from plotly) (1.15.0)\n",
            "Installing collected packages: tenacity, plotly\n",
            "  Attempting uninstall: plotly\n",
            "    Found existing installation: plotly 4.4.1\n",
            "    Uninstalling plotly-4.4.1:\n",
            "      Successfully uninstalled plotly-4.4.1\n",
            "Successfully installed plotly-5.4.0 tenacity-8.0.1\n",
            "Collecting jupyter-dash\n",
            "  Downloading jupyter_dash-0.4.0-py3-none-any.whl (20 kB)\n",
            "Collecting dash\n",
            "  Downloading dash-2.0.0-py3-none-any.whl (7.3 MB)\n",
            "\u001b[K     |████████████████████████████████| 7.3 MB 4.2 MB/s \n",
            "\u001b[?25hRequirement already satisfied: ipython in /usr/local/lib/python3.7/dist-packages (from jupyter-dash) (5.5.0)\n",
            "Collecting ansi2html\n",
            "  Downloading ansi2html-1.6.0-py3-none-any.whl (14 kB)\n",
            "Requirement already satisfied: retrying in /usr/local/lib/python3.7/dist-packages (from jupyter-dash) (1.3.3)\n",
            "Requirement already satisfied: requests in /usr/local/lib/python3.7/dist-packages (from jupyter-dash) (2.23.0)\n",
            "Requirement already satisfied: flask in /usr/local/lib/python3.7/dist-packages (from jupyter-dash) (1.1.4)\n",
            "Requirement already satisfied: ipykernel in /usr/local/lib/python3.7/dist-packages (from jupyter-dash) (4.10.1)\n",
            "Collecting dash-html-components==2.0.0\n",
            "  Downloading dash_html_components-2.0.0.tar.gz (3.8 kB)\n",
            "Collecting dash-table==5.0.0\n",
            "  Downloading dash_table-5.0.0.tar.gz (3.4 kB)\n",
            "Requirement already satisfied: plotly>=5.0.0 in /usr/local/lib/python3.7/dist-packages (from dash->jupyter-dash) (5.4.0)\n",
            "Collecting flask-compress\n",
            "  Downloading Flask_Compress-1.10.1-py3-none-any.whl (7.9 kB)\n",
            "Collecting dash-core-components==2.0.0\n",
            "  Downloading dash_core_components-2.0.0.tar.gz (3.4 kB)\n",
            "Requirement already satisfied: Werkzeug<2.0,>=0.15 in /usr/local/lib/python3.7/dist-packages (from flask->jupyter-dash) (1.0.1)\n",
            "Requirement already satisfied: Jinja2<3.0,>=2.10.1 in /usr/local/lib/python3.7/dist-packages (from flask->jupyter-dash) (2.11.3)\n",
            "Requirement already satisfied: itsdangerous<2.0,>=0.24 in /usr/local/lib/python3.7/dist-packages (from flask->jupyter-dash) (1.1.0)\n",
            "Requirement already satisfied: click<8.0,>=5.1 in /usr/local/lib/python3.7/dist-packages (from flask->jupyter-dash) (7.1.2)\n",
            "Requirement already satisfied: MarkupSafe>=0.23 in /usr/local/lib/python3.7/dist-packages (from Jinja2<3.0,>=2.10.1->flask->jupyter-dash) (2.0.1)\n",
            "Requirement already satisfied: six in /usr/local/lib/python3.7/dist-packages (from plotly>=5.0.0->dash->jupyter-dash) (1.15.0)\n",
            "Requirement already satisfied: tenacity>=6.2.0 in /usr/local/lib/python3.7/dist-packages (from plotly>=5.0.0->dash->jupyter-dash) (8.0.1)\n",
            "Collecting brotli\n",
            "  Downloading Brotli-1.0.9-cp37-cp37m-manylinux1_x86_64.whl (357 kB)\n",
            "\u001b[K     |████████████████████████████████| 357 kB 60.0 MB/s \n",
            "\u001b[?25hRequirement already satisfied: tornado>=4.0 in /usr/local/lib/python3.7/dist-packages (from ipykernel->jupyter-dash) (5.1.1)\n",
            "Requirement already satisfied: traitlets>=4.1.0 in /usr/local/lib/python3.7/dist-packages (from ipykernel->jupyter-dash) (5.1.1)\n",
            "Requirement already satisfied: jupyter-client in /usr/local/lib/python3.7/dist-packages (from ipykernel->jupyter-dash) (5.3.5)\n",
            "Requirement already satisfied: pygments in /usr/local/lib/python3.7/dist-packages (from ipython->jupyter-dash) (2.6.1)\n",
            "Requirement already satisfied: setuptools>=18.5 in /usr/local/lib/python3.7/dist-packages (from ipython->jupyter-dash) (57.4.0)\n",
            "Requirement already satisfied: decorator in /usr/local/lib/python3.7/dist-packages (from ipython->jupyter-dash) (4.4.2)\n",
            "Requirement already satisfied: pickleshare in /usr/local/lib/python3.7/dist-packages (from ipython->jupyter-dash) (0.7.5)\n",
            "Requirement already satisfied: prompt-toolkit<2.0.0,>=1.0.4 in /usr/local/lib/python3.7/dist-packages (from ipython->jupyter-dash) (1.0.18)\n",
            "Requirement already satisfied: simplegeneric>0.8 in /usr/local/lib/python3.7/dist-packages (from ipython->jupyter-dash) (0.8.1)\n",
            "Requirement already satisfied: pexpect in /usr/local/lib/python3.7/dist-packages (from ipython->jupyter-dash) (4.8.0)\n",
            "Requirement already satisfied: wcwidth in /usr/local/lib/python3.7/dist-packages (from prompt-toolkit<2.0.0,>=1.0.4->ipython->jupyter-dash) (0.2.5)\n",
            "Requirement already satisfied: pyzmq>=13 in /usr/local/lib/python3.7/dist-packages (from jupyter-client->ipykernel->jupyter-dash) (22.3.0)\n",
            "Requirement already satisfied: jupyter-core>=4.6.0 in /usr/local/lib/python3.7/dist-packages (from jupyter-client->ipykernel->jupyter-dash) (4.9.1)\n",
            "Requirement already satisfied: python-dateutil>=2.1 in /usr/local/lib/python3.7/dist-packages (from jupyter-client->ipykernel->jupyter-dash) (2.8.2)\n",
            "Requirement already satisfied: ptyprocess>=0.5 in /usr/local/lib/python3.7/dist-packages (from pexpect->ipython->jupyter-dash) (0.7.0)\n",
            "Requirement already satisfied: idna<3,>=2.5 in /usr/local/lib/python3.7/dist-packages (from requests->jupyter-dash) (2.10)\n",
            "Requirement already satisfied: urllib3!=1.25.0,!=1.25.1,<1.26,>=1.21.1 in /usr/local/lib/python3.7/dist-packages (from requests->jupyter-dash) (1.24.3)\n",
            "Requirement already satisfied: chardet<4,>=3.0.2 in /usr/local/lib/python3.7/dist-packages (from requests->jupyter-dash) (3.0.4)\n",
            "Requirement already satisfied: certifi>=2017.4.17 in /usr/local/lib/python3.7/dist-packages (from requests->jupyter-dash) (2021.10.8)\n",
            "Building wheels for collected packages: dash-core-components, dash-html-components, dash-table\n",
            "  Building wheel for dash-core-components (setup.py) ... \u001b[?25l\u001b[?25hdone\n",
            "  Created wheel for dash-core-components: filename=dash_core_components-2.0.0-py3-none-any.whl size=3821 sha256=9e5f9e31acfae0acfd080774deebb0850293cd131375bf3f2b1e380978114eec\n",
            "  Stored in directory: /root/.cache/pip/wheels/00/f9/c7/1a6437d794ed753ea9bc9079e761d4fc803a1f1f5d3697b9ec\n",
            "  Building wheel for dash-html-components (setup.py) ... \u001b[?25l\u001b[?25hdone\n",
            "  Created wheel for dash-html-components: filename=dash_html_components-2.0.0-py3-none-any.whl size=4089 sha256=4e97262edbff60399e506f8ff5058bb353eb6605367c71af45892761e3a79b45\n",
            "  Stored in directory: /root/.cache/pip/wheels/ec/6b/81/05aceabd8b27f724e2c96784016287cc1bfbc349ebfda451de\n",
            "  Building wheel for dash-table (setup.py) ... \u001b[?25l\u001b[?25hdone\n",
            "  Created wheel for dash-table: filename=dash_table-5.0.0-py3-none-any.whl size=3911 sha256=384f5a3301e557f8c8e3282607334e2930aa0cedec69b77330766ff02c35f79f\n",
            "  Stored in directory: /root/.cache/pip/wheels/85/5d/4e/7c276b57992951dbe770bf5caad6448d0539c510663aefd2e2\n",
            "Successfully built dash-core-components dash-html-components dash-table\n",
            "Installing collected packages: brotli, flask-compress, dash-table, dash-html-components, dash-core-components, dash, ansi2html, jupyter-dash\n",
            "Successfully installed ansi2html-1.6.0 brotli-1.0.9 dash-2.0.0 dash-core-components-2.0.0 dash-html-components-2.0.0 dash-table-5.0.0 flask-compress-1.10.1 jupyter-dash-0.4.0\n"
          ]
        }
      ],
      "source": [
        "!pip install --upgrade plotly\n",
        "!pip install jupyter-dash"
      ]
    },
    {
      "cell_type": "code",
      "execution_count": null,
      "metadata": {
        "colab": {
          "base_uri": "https://localhost:8080/"
        },
        "id": "2F_4QNq8Tbib",
        "outputId": "409e976d-f863-44e0-9dbb-e15d14cba9bf"
      },
      "outputs": [
        {
          "name": "stdout",
          "output_type": "stream",
          "text": [
            "Collecting databricks_dash\n",
            "  Downloading databricks_dash-0.0.1-py2.py3-none-any.whl (2.8 kB)\n",
            "Installing collected packages: databricks-dash\n",
            "Successfully installed databricks-dash-0.0.1\n"
          ]
        }
      ],
      "source": [
        "!pip install databricks_dash"
      ]
    },
    {
      "cell_type": "code",
      "execution_count": null,
      "metadata": {
        "colab": {
          "base_uri": "https://localhost:8080/"
        },
        "id": "frUDffH_bd5K",
        "outputId": "8409d2ba-6031-44e4-9bce-29ff2a78293e"
      },
      "outputs": [
        {
          "name": "stdout",
          "output_type": "stream",
          "text": [
            "+------------------+--------------------+\n",
            "| awatth_transfor01|                date|\n",
            "+------------------+--------------------+\n",
            "|136.60337495711596|2021-04-28T15:59:...|\n",
            "| 91.87669371866443|2021-04-28T15:59:...|\n",
            "|  91.4102074338274|2021-04-28T15:59:...|\n",
            "| 45.54604140684358|2021-04-28T15:59:...|\n",
            "|  91.0498245424786|2021-04-28T15:59:...|\n",
            "| 90.88747162932256|2021-04-28T15:59:...|\n",
            "| 46.05980846233606|2021-04-28T15:59:...|\n",
            "|138.34278032591595|2021-04-28T15:59:...|\n",
            "| 91.69524046278414|2021-04-28T15:59:...|\n",
            "| 45.69055578748125|2021-04-28T15:59:...|\n",
            "+------------------+--------------------+\n",
            "only showing top 10 rows\n",
            "\n"
          ]
        }
      ],
      "source": [
        "data_=dataframe.select('awatth_transfor01', 'date')\n",
        "data_.show(10)"
      ]
    },
    {
      "cell_type": "markdown",
      "metadata": {
        "id": "jwWsAQly_vaC"
      },
      "source": [
        "# Realizando a descrição técnica de cada coluna (variável)\n",
        "### O transformador possui 3 fases (a, b e c), para delimitar ainda mais a equipe está analizando apenas a fase (a) do transformador.\n",
        "# descrição das variáveis:\n",
        "### freq: Frequência da fase\n",
        "### irms: Corrente eficaz\n",
        "### pf: Fator de potência\n",
        "### va: Potência aparente\n",
        "### vah: Potência aparente por unidade de tempo\n",
        "### var: Potência reativa\n",
        "### varh Potência ativa por unidade de tempo\n",
        "### vrms - Tensão da corrente alternada\n",
        "### watt - potência ativa\n",
        "### watth - Potência por unidade de tempo.\n"
      ]
    },
    {
      "cell_type": "code",
      "execution_count": null,
      "metadata": {
        "id": "RNPjTZ4ClAMA"
      },
      "outputs": [],
      "source": [
        "dataframe.describe().toPandas().transpose()"
      ]
    },
    {
      "cell_type": "markdown",
      "metadata": {
        "id": "JE97Xig2G2CQ"
      },
      "source": [
        "# Plotando os gráficos"
      ]
    },
    {
      "cell_type": "markdown",
      "metadata": {
        "id": "aaLy3UzUwboz"
      },
      "source": [
        "# O modelo de machine Learning:\n",
        "## Regressão linear\n",
        "\n",
        "O campo de Machine Learning oferece tantas opções de algoritmos que é muito difícil alguém conhecer todos e se manter atualizado a cada dia.\n",
        "\n",
        "A escolha do algoritmo correto tem um enorme impacto na qualidade da solução, por isso é importante não apenas usar uma biblioteca pronta (sem ter a mínima ideia do que está por trás), mas ter pelo menos uma noção da teoria por trás dos modelos e algoritmos que você implementa."
      ]
    },
    {
      "cell_type": "markdown",
      "metadata": {
        "id": "-7tXCKqsw0Du"
      },
      "source": [
        "Uma das primeiras técnicas que a(o) cientista de dados costuma ter contato no começo dos seus estudos é a Análise de Regressão, como abordado neste projeto."
      ]
    },
    {
      "cell_type": "markdown",
      "metadata": {
        "id": "vGTI5bDCBpj0"
      },
      "source": [
        "### Vector Assember\n",
        "\n",
        "VectorAssember da biblioteca Spark ML é um módulo que permite converter recursos numéricos em um único vetor que é usado pelos modelos de aprendizado de máquina. Como uma visão geral, o que é fazer é uma lista de colunas (características) e combiná-la em uma única coluna vetorial (vetor de características)."
      ]
    },
    {
      "cell_type": "code",
      "execution_count": null,
      "metadata": {
        "id": "8lbaFq6VhyS4"
      },
      "outputs": [],
      "source": [
        "# Vector Assember\n",
        "from pyspark.ml.feature import VectorAssembler\n",
        "from pyspark.ml.evaluation import RegressionEvaluator\n",
        "from pyspark.ml.regression import LinearRegression, RandomForestRegressor"
      ]
    },
    {
      "cell_type": "code",
      "execution_count": null,
      "metadata": {
        "id": "hqjQO8DEh5Ir"
      },
      "outputs": [],
      "source": [
        "# Transformando em um único vetor\n",
        "assembler = VectorAssembler(inputCols=['apf_transfor01', 'ava_transfor01', 'avah_transfor01', 'avarh_transfor01', 'awatt_transfor01'], outputCol = 'Attributes')\n"
      ]
    },
    {
      "cell_type": "code",
      "execution_count": null,
      "metadata": {
        "id": "UNJBNrORiPba"
      },
      "outputs": [],
      "source": [
        "output = assembler.transform(dataframe)\n"
      ]
    },
    {
      "cell_type": "code",
      "execution_count": null,
      "metadata": {
        "id": "LrRLFwGeiWDe"
      },
      "outputs": [],
      "source": [
        "# Visualizando os atributos destacados com a varável que queremos realizar a predição (watt/h do transformador 1)\n",
        "finalized_data = output.select(\"Attributes\",\"awatth_transfor01\")\n",
        "\n",
        "finalized_data.show()"
      ]
    },
    {
      "cell_type": "markdown",
      "metadata": {
        "id": "Wk-7hlRBOqFb"
      },
      "source": [
        "Aqui, 'Attributes' estão nos recursos de entrada de todas as colunas e 'awatth_transfor01' é a coluna-alvo. Em seguida, devemos dividir os dados de treinamento e teste de acordo com nosso conjunto de dados (0,7 para treino e 0,3 para teste)."
      ]
    },
    {
      "cell_type": "code",
      "execution_count": null,
      "metadata": {
        "id": "2A_1QrLXieOz"
      },
      "outputs": [],
      "source": [
        "# Dividindo as variáveis em treino e teste\n",
        "train_data,test_data = finalized_data.randomSplit([0.7,0.3])"
      ]
    },
    {
      "cell_type": "code",
      "execution_count": null,
      "metadata": {
        "id": "A0ewTcUUilzA"
      },
      "outputs": [],
      "source": [
        "regressor = LinearRegression(featuresCol = 'Attributes', labelCol = 'awatth_transfor01')"
      ]
    },
    {
      "cell_type": "code",
      "execution_count": null,
      "metadata": {
        "id": "zlORgJgGir5i"
      },
      "outputs": [],
      "source": [
        "# Treinando o modelo, pois temos a maior proporção de dados\n",
        "regressor = regressor.fit(train_data)"
      ]
    },
    {
      "cell_type": "code",
      "execution_count": null,
      "metadata": {
        "id": "FtvWP52-kI6R"
      },
      "outputs": [],
      "source": [
        "# Realizando o teste de predição\n",
        "pred = regressor.transform(test_data)"
      ]
    },
    {
      "cell_type": "code",
      "execution_count": null,
      "metadata": {
        "id": "0tayUSZ-qEq3"
      },
      "outputs": [],
      "source": [
        "# Mostrando os valores da predição\n",
        "pred.show()"
      ]
    },
    {
      "cell_type": "markdown",
      "metadata": {
        "id": "MkxG_vasPWzf"
      },
      "source": [
        "Também podemos imprimir o coeficiente e interceptação do modelo de regressão usando o seguinte comando:"
      ]
    },
    {
      "cell_type": "code",
      "execution_count": null,
      "metadata": {
        "id": "9ioVXFikyW8h"
      },
      "outputs": [],
      "source": [
        "# Coeficiente do modelo de regressão\n",
        "coeff = regressor.coefficients\n"
      ]
    },
    {
      "cell_type": "code",
      "execution_count": null,
      "metadata": {
        "id": "6hz9T62qQKJ6"
      },
      "outputs": [],
      "source": [
        "# Interciptação do eixo x e y\n",
        "intr = regressor.intercept"
      ]
    },
    {
      "cell_type": "code",
      "execution_count": null,
      "metadata": {
        "id": "gK7pQvxvQffC"
      },
      "outputs": [],
      "source": [
        "# Imprimindo o coeficiente de regressão linear e a interceptação de x e y\n",
        "print (\"O coeficiente de Regressão Linear do modelo é : %a\" %coeff)\n",
        "print (\"A interceptação de X e Y é : %f\" %intr)"
      ]
    },
    {
      "cell_type": "markdown",
      "metadata": {
        "id": "bK61o4fARKmX"
      },
      "source": [
        "# Análise estatística do modelo \n",
        "Uma vez terminado com a operação de regressão linear básica, podemos ir um pouco mais longe e analisar nosso modelo estatisticamente importando o módulo RegressionEvaluator de Pyspark."
      ]
    },
    {
      "cell_type": "code",
      "execution_count": null,
      "metadata": {
        "id": "W0tJlLcHRYFp"
      },
      "outputs": [],
      "source": [
        "from pyspark.ml.evaluation import RegressionEvaluator\n",
        "eval = RegressionEvaluator(labelCol=\"awatth_transfor01\", predictionCol=\"prediction\", metricName=\"rmse\")"
      ]
    },
    {
      "cell_type": "code",
      "execution_count": null,
      "metadata": {
        "id": "wYxRiRDgRuky"
      },
      "outputs": [],
      "source": [
        "# Erro da média quadrática (a depender do problema, podemos ter valores negativos) - rmse\n",
        "rmse = eval.evaluate(pred.predictions)\n",
        "print(\"RMSE: %.3f\" % rmse)"
      ]
    },
    {
      "cell_type": "code",
      "execution_count": null,
      "metadata": {
        "id": "3nRs1LhqSZAS"
      },
      "outputs": [],
      "source": [
        "# Erro absoluto médio - mae\n",
        "mae = eval.evaluate(pred.predictions, {eval.metricName: \"mae\"})\n",
        "print(\"MAE: %.3f\" % mae)"
      ]
    },
    {
      "cell_type": "code",
      "execution_count": null,
      "metadata": {
        "id": "0kX2H_yQSuIH"
      },
      "outputs": [],
      "source": [
        "# Coeficiente de determinação - r2\n",
        "r2 = eval.evaluate(pred.predictions, {eval.metricName: \"r2\"})\n",
        "print(\"r2: %.3f\" %r2)\n"
      ]
    },
    {
      "cell_type": "code",
      "execution_count": null,
      "metadata": {
        "id": "yr1SkQc10HjQ"
      },
      "outputs": [],
      "source": [
        "print(f'O valor do rmse da técnica de regressão linear é: {rmse}')"
      ]
    },
    {
      "cell_type": "markdown",
      "metadata": {
        "id": "aivWgdEhcnoo"
      },
      "source": [
        "# Plotando os gráficos\n"
      ]
    },
    {
      "cell_type": "markdown",
      "metadata": {
        "id": "JZaS9gZrmfnZ"
      },
      "source": [
        "# O que é Análise de Regressão?\n",
        "O objetivo da análise de regressão é explorar o relacionamento existente entre duas ou mais variáveis, visando obter informações sobre uma delas a partir dos valores conhecidas das outras.\n",
        "\n",
        " análise de regressão busca entender o relacionamento entre variáveis, e esse relacionamento pode ser representado por uma equação matemática.\n",
        "\n",
        "\n"
      ]
    },
    {
      "cell_type": "markdown",
      "metadata": {
        "id": "_-aE0tK6nNJr"
      },
      "source": [
        "![regressao_linear_ex.png](data:image/png;base64,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)"
      ]
    },
    {
      "cell_type": "markdown",
      "metadata": {
        "id": "5QFD0T-6nQlL"
      },
      "source": [
        "Supondo que você queira saber o preço de venda de uma casa sua e acredita que existe um relacionamento entre as variáveis que você está considerando (área construída, número de quartos e localização) com o preço que você pode pedir nela.\n",
        "\n",
        " Seria possível fazer uma análise de regressão, baseado nas outras casas da cidade para estimar o preço de venda da sua, após obter os pesos para os parâmetros em um modelo de Machine Learning."
      ]
    },
    {
      "cell_type": "markdown",
      "metadata": {
        "id": "x7MhCs6Wnz9T"
      },
      "source": [
        "# Relação não determinística\n",
        "\n",
        "Um ponto importante mas muito desconhecido é que nos nossos problemas do cotidiano, muitas variáveis x e y aparentam estar relacionadas uma com a outra, porém de maneira não determinística.\n",
        "\n",
        "Uma relação determínistica, por exemplo, é quando queremos saber a distância (x) percorrida por um carro, mantendo velocidade constante (V)  ao longo de intantes de tempo. Nesse exemplo, sabemos que a distância percorrida será, v = x/t, pois as variáveis estão relacionadas deterministicamente."
      ]
    }
  ],
  "metadata": {
    "colab": {
      "collapsed_sections": [],
      "name": "BIG-DATA-TPV.ipynb",
      "provenance": [],
      "mount_file_id": "13iANuCCI61EV1wJxVVVJlYecmut4IDoF",
      "authorship_tag": "ABX9TyMCMEVXbBw8LL5n6jL8EK3a",
      "include_colab_link": true
    },
    "kernelspec": {
      "display_name": "Python 3",
      "name": "python3"
    },
    "language_info": {
      "name": "python"
    }
  },
  "nbformat": 4,
  "nbformat_minor": 0
}